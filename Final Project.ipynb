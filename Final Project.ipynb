{
 "cells": [
  {
   "cell_type": "markdown",
   "metadata": {},
   "source": [
    "# Best places for new businesses in Florianópolis, Brazil (North Shore)"
   ]
  },
  {
   "cell_type": "markdown",
   "metadata": {},
   "source": [
    "## Introduction"
   ]
  },
  {
   "cell_type": "markdown",
   "metadata": {},
   "source": [
    "### The Backgound\n",
    "\n",
    "Brazil is known for Rio de Janeiro or São Paulo. But one of the most southern states os Brazil has a peculiar capital on an island. Or most of the capital is on this island. I'm talking about Florianópolis.\n",
    "\n",
    "Different from the idyllic idea of an island (rounded), the \"Isle of Saint Catherine\" is actually...lengthy.  The north shore and the south shore are 54 km distant (approximately 33 miles).\n",
    "\n",
    "\n",
    "<img src=\"https://sambatur.com.br/wp-content/uploads/2017/07/mapa-Florianopolis.jpg\"\n",
    "     alt= \"The map of the Island of Saint Catherine\"\n",
    "     >\n",
    "    \n",
    "\n",
    "The connection of this island with the main continent is near, with bridges in only one point and almost in the center of the island. \n",
    "\n",
    "The center of the island is a big city, with everything a city has: big buildings, stores, traffic. But some places are very calm, allowing an \"easy-going\" life with beautiful beaches. \n",
    "\n",
    "In the summer, lots of tourists go to enjoy the beaches, transforming this calm place in a crowded happy summer space. But to establish a business in the north shore, this movement through the year means a nightmare. Sometimes, being open during summer doesn't mean being open during winter.\n",
    "\n",
    "People who live in north shore complain about poor options for basic needs as a supermarket or a bakery. Distant from the downtown in the center of the island, this is a big problem.\n",
    "\n",
    "\n",
    "### The challenge\n",
    "\n",
    "So, I decided to analyze the Foursquare data to find what and where a new business could reach the population needs. The idea is to make a great data-driven analysis of new possibilities for business and people.\n",
    "\n",
    "\n",
    "### Data and how I will solve the problem\n",
    "\n",
    "I'll collect the data of the venues from the neighbors of Jurerê, Canasvieiras, Cachoeira do Bom Jesus, and Ponta das Canas from Foursquare. I'll categorize from the type, plotting a map to understand the different needs.\n",
    "\n",
    "I'll cluster those venues based on the kind and proximity, to conclude what is the business that already covers a good proportion of the space in those neighbors.\n",
    "\n",
    "I'll also cluster the neighbors, to identify those who don't have a uniform number of different venues.\n",
    "\n",
    "In the end, I'll list the categories of venues and places that will be differential in each neighbor, as a way to help anyone who whats to start a new business.\n",
    "\n",
    "### Who will be interested in this project?\n",
    "\n",
    "People who want to open a new business on the north shore of Florianópolis, Brazil. \n",
    "\n",
    "People who live on the north shore of Florianópolis and want to know more about the options of business in the neighborhood.\n"
   ]
  },
  {
   "cell_type": "markdown",
   "metadata": {},
   "source": [
    "### Methodology\n",
    "\n",
    "The choice is the Quantitative Methods."
   ]
  },
  {
   "cell_type": "markdown",
   "metadata": {},
   "source": [
    "## Data"
   ]
  },
  {
   "cell_type": "markdown",
   "metadata": {},
   "source": [
    "### Get geospatial infos about the places"
   ]
  },
  {
   "cell_type": "markdown",
   "metadata": {},
   "source": [
    "First of all, we need to get the coordinates of the neighbors of Jurerê (divided in Jurerê East and Jurerê West), Canasvieiras, Cachoeira do Bom Jesus, and Ponta das Canas."
   ]
  },
  {
   "cell_type": "markdown",
   "metadata": {},
   "source": [
    "_I'll import the libraries as soon they seems needed, just to help the storytelling of this project._"
   ]
  },
  {
   "cell_type": "code",
   "execution_count": 1,
   "metadata": {},
   "outputs": [
    {
     "name": "stdout",
     "output_type": "stream",
     "text": [
      "Collecting package metadata (current_repodata.json): done\n",
      "Solving environment: done\n",
      "\n",
      "\n",
      "==> WARNING: A newer version of conda exists. <==\n",
      "  current version: 4.8.3\n",
      "  latest version: 4.8.4\n",
      "\n",
      "Please update conda by running\n",
      "\n",
      "    $ conda update -n base -c defaults conda\n",
      "\n",
      "\n",
      "\n",
      "# All requested packages already installed.\n",
      "\n"
     ]
    }
   ],
   "source": [
    "!conda install -c conda-forge geocoder --yes\n",
    "import geocoder # import geocoder"
   ]
  },
  {
   "cell_type": "code",
   "execution_count": 2,
   "metadata": {},
   "outputs": [],
   "source": [
    "flpn=['Jurerê Leste', 'Jurerê Oeste', 'Canasvieiras', 'Cachoeira do Bom Jesus', 'Ponta das Canas']"
   ]
  },
  {
   "cell_type": "markdown",
   "metadata": {},
   "source": [
    "Great! I'll make a list now to define those neighbors that will be the object of our research"
   ]
  },
  {
   "cell_type": "markdown",
   "metadata": {},
   "source": [
    "I will run a function that will give me the coordinates"
   ]
  },
  {
   "cell_type": "code",
   "execution_count": 3,
   "metadata": {},
   "outputs": [],
   "source": [
    "import numpy as np\n",
    "import pandas as pd"
   ]
  },
  {
   "cell_type": "code",
   "execution_count": 4,
   "metadata": {},
   "outputs": [
    {
     "data": {
      "text/plain": [
       "[(-27.440469999999948, -48.48659999999995),\n",
       " (-27.44058999999993, -48.50066999999996),\n",
       " (-27.436909999999955, -48.45805999999993),\n",
       " (-27.422439999999938, -48.43554999999998),\n",
       " (-27.406909999999982, -48.42364999999995)]"
      ]
     },
     "execution_count": 4,
     "metadata": {},
     "output_type": "execute_result"
    }
   ],
   "source": [
    "def coord():\n",
    "    n=0 \n",
    "    lista=[]\n",
    "    lat_lng_coords = None\n",
    "    while(n<5):\n",
    "        x=flpn[n]\n",
    "        n+=1\n",
    "        g = geocoder.arcgis('{}, Florianópolis, Brasil'.format(x))\n",
    "        lat_lng_coords = g.latlng        \n",
    "        latitude = lat_lng_coords[0]\n",
    "        longitude = lat_lng_coords[1]\n",
    "        z = latitude, longitude\n",
    "        lista.append(z)\n",
    "    return lista     \n",
    "\n",
    "coord()\n"
   ]
  },
  {
   "cell_type": "markdown",
   "metadata": {},
   "source": [
    "I'll turn it on a dataframe"
   ]
  },
  {
   "cell_type": "code",
   "execution_count": 5,
   "metadata": {},
   "outputs": [
    {
     "data": {
      "text/html": [
       "<div>\n",
       "<style scoped>\n",
       "    .dataframe tbody tr th:only-of-type {\n",
       "        vertical-align: middle;\n",
       "    }\n",
       "\n",
       "    .dataframe tbody tr th {\n",
       "        vertical-align: top;\n",
       "    }\n",
       "\n",
       "    .dataframe thead th {\n",
       "        text-align: right;\n",
       "    }\n",
       "</style>\n",
       "<table border=\"1\" class=\"dataframe\">\n",
       "  <thead>\n",
       "    <tr style=\"text-align: right;\">\n",
       "      <th></th>\n",
       "      <th>Latitude</th>\n",
       "      <th>Longitude</th>\n",
       "    </tr>\n",
       "  </thead>\n",
       "  <tbody>\n",
       "    <tr>\n",
       "      <th>0</th>\n",
       "      <td>-27.44047</td>\n",
       "      <td>-48.48660</td>\n",
       "    </tr>\n",
       "    <tr>\n",
       "      <th>1</th>\n",
       "      <td>-27.44059</td>\n",
       "      <td>-48.50067</td>\n",
       "    </tr>\n",
       "    <tr>\n",
       "      <th>2</th>\n",
       "      <td>-27.43691</td>\n",
       "      <td>-48.45806</td>\n",
       "    </tr>\n",
       "    <tr>\n",
       "      <th>3</th>\n",
       "      <td>-27.42244</td>\n",
       "      <td>-48.43555</td>\n",
       "    </tr>\n",
       "    <tr>\n",
       "      <th>4</th>\n",
       "      <td>-27.40691</td>\n",
       "      <td>-48.42365</td>\n",
       "    </tr>\n",
       "  </tbody>\n",
       "</table>\n",
       "</div>"
      ],
      "text/plain": [
       "   Latitude  Longitude\n",
       "0 -27.44047  -48.48660\n",
       "1 -27.44059  -48.50067\n",
       "2 -27.43691  -48.45806\n",
       "3 -27.42244  -48.43555\n",
       "4 -27.40691  -48.42365"
      ]
     },
     "execution_count": 5,
     "metadata": {},
     "output_type": "execute_result"
    }
   ],
   "source": [
    "flpn_df=pd.DataFrame(coord(), columns = ['Latitude', 'Longitude'])\n",
    "flpn_df"
   ]
  },
  {
   "cell_type": "markdown",
   "metadata": {},
   "source": [
    "Good, but not enough. I'll need to clean and make this dataframe right to the next steps."
   ]
  },
  {
   "cell_type": "markdown",
   "metadata": {},
   "source": [
    "I must add the neighborhood to the dataframe"
   ]
  },
  {
   "cell_type": "code",
   "execution_count": 6,
   "metadata": {},
   "outputs": [
    {
     "data": {
      "text/html": [
       "<div>\n",
       "<style scoped>\n",
       "    .dataframe tbody tr th:only-of-type {\n",
       "        vertical-align: middle;\n",
       "    }\n",
       "\n",
       "    .dataframe tbody tr th {\n",
       "        vertical-align: top;\n",
       "    }\n",
       "\n",
       "    .dataframe thead th {\n",
       "        text-align: right;\n",
       "    }\n",
       "</style>\n",
       "<table border=\"1\" class=\"dataframe\">\n",
       "  <thead>\n",
       "    <tr style=\"text-align: right;\">\n",
       "      <th></th>\n",
       "      <th>Latitude</th>\n",
       "      <th>Longitude</th>\n",
       "      <th>Neighborhood</th>\n",
       "    </tr>\n",
       "  </thead>\n",
       "  <tbody>\n",
       "    <tr>\n",
       "      <th>0</th>\n",
       "      <td>-27.44047</td>\n",
       "      <td>-48.48660</td>\n",
       "      <td>Jurerê Leste</td>\n",
       "    </tr>\n",
       "    <tr>\n",
       "      <th>1</th>\n",
       "      <td>-27.44059</td>\n",
       "      <td>-48.50067</td>\n",
       "      <td>Jurerê Oeste</td>\n",
       "    </tr>\n",
       "    <tr>\n",
       "      <th>2</th>\n",
       "      <td>-27.43691</td>\n",
       "      <td>-48.45806</td>\n",
       "      <td>Canasvieiras</td>\n",
       "    </tr>\n",
       "    <tr>\n",
       "      <th>3</th>\n",
       "      <td>-27.42244</td>\n",
       "      <td>-48.43555</td>\n",
       "      <td>Cachoeira do Bom Jesus</td>\n",
       "    </tr>\n",
       "    <tr>\n",
       "      <th>4</th>\n",
       "      <td>-27.40691</td>\n",
       "      <td>-48.42365</td>\n",
       "      <td>Ponta das Canas</td>\n",
       "    </tr>\n",
       "  </tbody>\n",
       "</table>\n",
       "</div>"
      ],
      "text/plain": [
       "   Latitude  Longitude            Neighborhood\n",
       "0 -27.44047  -48.48660            Jurerê Leste\n",
       "1 -27.44059  -48.50067            Jurerê Oeste\n",
       "2 -27.43691  -48.45806            Canasvieiras\n",
       "3 -27.42244  -48.43555  Cachoeira do Bom Jesus\n",
       "4 -27.40691  -48.42365         Ponta das Canas"
      ]
     },
     "execution_count": 6,
     "metadata": {},
     "output_type": "execute_result"
    }
   ],
   "source": [
    "flpn_df['Neighborhood']=flpn\n",
    "flpn_df"
   ]
  },
  {
   "cell_type": "markdown",
   "metadata": {},
   "source": [
    "And the neighborhood must be the first column"
   ]
  },
  {
   "cell_type": "code",
   "execution_count": 7,
   "metadata": {},
   "outputs": [
    {
     "data": {
      "text/html": [
       "<div>\n",
       "<style scoped>\n",
       "    .dataframe tbody tr th:only-of-type {\n",
       "        vertical-align: middle;\n",
       "    }\n",
       "\n",
       "    .dataframe tbody tr th {\n",
       "        vertical-align: top;\n",
       "    }\n",
       "\n",
       "    .dataframe thead th {\n",
       "        text-align: right;\n",
       "    }\n",
       "</style>\n",
       "<table border=\"1\" class=\"dataframe\">\n",
       "  <thead>\n",
       "    <tr style=\"text-align: right;\">\n",
       "      <th></th>\n",
       "      <th>Neighborhood</th>\n",
       "      <th>Latitude</th>\n",
       "      <th>Longitude</th>\n",
       "    </tr>\n",
       "  </thead>\n",
       "  <tbody>\n",
       "    <tr>\n",
       "      <th>0</th>\n",
       "      <td>Jurerê Leste</td>\n",
       "      <td>-27.44047</td>\n",
       "      <td>-48.48660</td>\n",
       "    </tr>\n",
       "    <tr>\n",
       "      <th>1</th>\n",
       "      <td>Jurerê Oeste</td>\n",
       "      <td>-27.44059</td>\n",
       "      <td>-48.50067</td>\n",
       "    </tr>\n",
       "    <tr>\n",
       "      <th>2</th>\n",
       "      <td>Canasvieiras</td>\n",
       "      <td>-27.43691</td>\n",
       "      <td>-48.45806</td>\n",
       "    </tr>\n",
       "    <tr>\n",
       "      <th>3</th>\n",
       "      <td>Cachoeira do Bom Jesus</td>\n",
       "      <td>-27.42244</td>\n",
       "      <td>-48.43555</td>\n",
       "    </tr>\n",
       "    <tr>\n",
       "      <th>4</th>\n",
       "      <td>Ponta das Canas</td>\n",
       "      <td>-27.40691</td>\n",
       "      <td>-48.42365</td>\n",
       "    </tr>\n",
       "  </tbody>\n",
       "</table>\n",
       "</div>"
      ],
      "text/plain": [
       "             Neighborhood  Latitude  Longitude\n",
       "0            Jurerê Leste -27.44047  -48.48660\n",
       "1            Jurerê Oeste -27.44059  -48.50067\n",
       "2            Canasvieiras -27.43691  -48.45806\n",
       "3  Cachoeira do Bom Jesus -27.42244  -48.43555\n",
       "4         Ponta das Canas -27.40691  -48.42365"
      ]
     },
     "execution_count": 7,
     "metadata": {},
     "output_type": "execute_result"
    }
   ],
   "source": [
    "fixed_columns = [flpn_df.columns[-1]] + list(flpn_df.columns[:-1])\n",
    "flpn_df = flpn_df[fixed_columns]\n",
    "flpn_df"
   ]
  },
  {
   "cell_type": "markdown",
   "metadata": {},
   "source": [
    "Let's plot it just to understand if everything is ok - I know the place (is where I live), so it's easy to ensure everything is alright just seeing on the map"
   ]
  },
  {
   "cell_type": "code",
   "execution_count": 8,
   "metadata": {},
   "outputs": [
    {
     "data": {
      "text/plain": [
       "'Canasvieiras'"
      ]
     },
     "execution_count": 8,
     "metadata": {},
     "output_type": "execute_result"
    }
   ],
   "source": [
    "flpn_df.iloc[2, 0]"
   ]
  },
  {
   "cell_type": "code",
   "execution_count": 9,
   "metadata": {},
   "outputs": [],
   "source": [
    "import folium"
   ]
  },
  {
   "cell_type": "markdown",
   "metadata": {},
   "source": [
    "I'll set my focal point of the map - the place that are known of one of the \"accesses\" to the north shore of the Island of Saint Catherine"
   ]
  },
  {
   "cell_type": "code",
   "execution_count": 10,
   "metadata": {},
   "outputs": [],
   "source": [
    "# Access to the north shore\n",
    "latitude = -27.434759\n",
    "longitude = -48.457939"
   ]
  },
  {
   "cell_type": "code",
   "execution_count": 11,
   "metadata": {},
   "outputs": [
    {
     "data": {
      "text/html": [
       "<div style=\"width:100%;\"><div style=\"position:relative;width:100%;height:0;padding-bottom:60%;\"><span style=\"color:#565656\">Make this Notebook Trusted to load map: File -> Trust Notebook</span><iframe src=\"about:blank\" style=\"position:absolute;width:100%;height:100%;left:0;top:0;border:none !important;\" data-html=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 onload=\"this.contentDocument.open();this.contentDocument.write(atob(this.getAttribute('data-html')));this.contentDocument.close();\" allowfullscreen webkitallowfullscreen mozallowfullscreen></iframe></div></div>"
      ],
      "text/plain": [
       "<folium.folium.Map at 0x7f6fc3d72160>"
      ]
     },
     "execution_count": 11,
     "metadata": {},
     "output_type": "execute_result"
    }
   ],
   "source": [
    "flpn_map = folium.Map(location=[latitude, longitude], zoom_start=13)\n",
    "\n",
    "\n",
    "for lat, lng, neighborhood in zip(flpn_df['Latitude'], flpn_df['Longitude'],  flpn_df['Neighborhood']):\n",
    "    label = '{}'.format(neighborhood)\n",
    "    label = folium.Popup(label, parse_html=True)\n",
    "    folium.CircleMarker(\n",
    "        [lat, lng],\n",
    "        radius=5,\n",
    "        popup=label,\n",
    "        color='blue',\n",
    "        fill=True,\n",
    "        fill_color='#3186cc',\n",
    "        fill_opacity=0.7,\n",
    "        parse_html=False).add_to(flpn_map)  \n",
    "    \n",
    "flpn_map"
   ]
  },
  {
   "cell_type": "markdown",
   "metadata": {},
   "source": [
    "Nice! Everything seems alright. This is the time to start to colect the venues."
   ]
  },
  {
   "cell_type": "markdown",
   "metadata": {},
   "source": [
    "### Foursquare data"
   ]
  },
  {
   "cell_type": "markdown",
   "metadata": {},
   "source": [
    "First of all, let's implement my access to Foursquare\n"
   ]
  },
  {
   "cell_type": "code",
   "execution_count": 12,
   "metadata": {},
   "outputs": [
    {
     "name": "stdout",
     "output_type": "stream",
     "text": [
      "My credentials:\n",
      "CLIENT_ID: UOS5SO2GPBYR5KGDTN1DHIJ3E4AOMUBRNIHZFRLNTHUYL0K4\n",
      "CLIENT_SECRET:FMZH1TDQJ5OFH51OZ5WBHNWMGAPODHT2GHDARR4LKT1MVDFF\n"
     ]
    }
   ],
   "source": [
    "CLIENT_ID = 'UOS5SO2GPBYR5KGDTN1DHIJ3E4AOMUBRNIHZFRLNTHUYL0K4' \n",
    "CLIENT_SECRET = 'FMZH1TDQJ5OFH51OZ5WBHNWMGAPODHT2GHDARR4LKT1MVDFF'\n",
    "VERSION = '20180605'\n",
    "\n",
    "print('My credentials:')\n",
    "print('CLIENT_ID: ' + CLIENT_ID)\n",
    "print('CLIENT_SECRET:' + CLIENT_SECRET)"
   ]
  },
  {
   "cell_type": "markdown",
   "metadata": {},
   "source": [
    "\n",
    "And then create the url that will give me the results of the venues of Foursquare\n"
   ]
  },
  {
   "cell_type": "code",
   "execution_count": 13,
   "metadata": {},
   "outputs": [
    {
     "name": "stdout",
     "output_type": "stream",
     "text": [
      "https://api.foursquare.com/v2/venues/explore?&client_id=UOS5SO2GPBYR5KGDTN1DHIJ3E4AOMUBRNIHZFRLNTHUYL0K4&client_secret=FMZH1TDQJ5OFH51OZ5WBHNWMGAPODHT2GHDARR4LKT1MVDFF&v=20180605&ll=-27.440469999999948,-48.48659999999995&radius=1000&limit=100\n",
      "https://api.foursquare.com/v2/venues/explore?&client_id=UOS5SO2GPBYR5KGDTN1DHIJ3E4AOMUBRNIHZFRLNTHUYL0K4&client_secret=FMZH1TDQJ5OFH51OZ5WBHNWMGAPODHT2GHDARR4LKT1MVDFF&v=20180605&ll=-27.44058999999993,-48.50066999999996&radius=1000&limit=100\n",
      "https://api.foursquare.com/v2/venues/explore?&client_id=UOS5SO2GPBYR5KGDTN1DHIJ3E4AOMUBRNIHZFRLNTHUYL0K4&client_secret=FMZH1TDQJ5OFH51OZ5WBHNWMGAPODHT2GHDARR4LKT1MVDFF&v=20180605&ll=-27.436909999999955,-48.45805999999993&radius=1000&limit=100\n",
      "https://api.foursquare.com/v2/venues/explore?&client_id=UOS5SO2GPBYR5KGDTN1DHIJ3E4AOMUBRNIHZFRLNTHUYL0K4&client_secret=FMZH1TDQJ5OFH51OZ5WBHNWMGAPODHT2GHDARR4LKT1MVDFF&v=20180605&ll=-27.422439999999938,-48.43554999999998&radius=1000&limit=100\n",
      "https://api.foursquare.com/v2/venues/explore?&client_id=UOS5SO2GPBYR5KGDTN1DHIJ3E4AOMUBRNIHZFRLNTHUYL0K4&client_secret=FMZH1TDQJ5OFH51OZ5WBHNWMGAPODHT2GHDARR4LKT1MVDFF&v=20180605&ll=-27.406909999999982,-48.42364999999995&radius=1000&limit=100\n"
     ]
    }
   ],
   "source": [
    "LIMIT = 100 # limit of number of venues returned by Foursquare API\n",
    "radius = 1000 # define radius\n",
    " # create URL\n",
    "url_jurereleste = 'https://api.foursquare.com/v2/venues/explore?&client_id={}&client_secret={}&v={}&ll={},{}&radius={}&limit={}'.format(\n",
    "    CLIENT_ID, \n",
    "    CLIENT_SECRET, \n",
    "    VERSION, \n",
    "    flpn_df.iloc[0, 1], \n",
    "    flpn_df.iloc[0, 2], \n",
    "    radius, \n",
    "    LIMIT)\n",
    "\n",
    "url_jurereoeste = 'https://api.foursquare.com/v2/venues/explore?&client_id={}&client_secret={}&v={}&ll={},{}&radius={}&limit={}'.format(\n",
    "    CLIENT_ID, \n",
    "    CLIENT_SECRET, \n",
    "    VERSION, \n",
    "    flpn_df.iloc[1, 1], \n",
    "    flpn_df.iloc[1, 2], \n",
    "    radius, \n",
    "    LIMIT)\n",
    "\n",
    "url_canasvieiras = 'https://api.foursquare.com/v2/venues/explore?&client_id={}&client_secret={}&v={}&ll={},{}&radius={}&limit={}'.format(\n",
    "    CLIENT_ID, \n",
    "    CLIENT_SECRET, \n",
    "    VERSION, \n",
    "    flpn_df.iloc[2, 1], \n",
    "    flpn_df.iloc[2, 2], \n",
    "    radius, \n",
    "    LIMIT)\n",
    "\n",
    "url_cachoeira = 'https://api.foursquare.com/v2/venues/explore?&client_id={}&client_secret={}&v={}&ll={},{}&radius={}&limit={}'.format(\n",
    "    CLIENT_ID, \n",
    "    CLIENT_SECRET, \n",
    "    VERSION, \n",
    "    flpn_df.iloc[3, 1], \n",
    "    flpn_df.iloc[3, 2], \n",
    "    radius, \n",
    "    LIMIT)\n",
    "\n",
    "url_ponta = 'https://api.foursquare.com/v2/venues/explore?&client_id={}&client_secret={}&v={}&ll={},{}&radius={}&limit={}'.format(\n",
    "    CLIENT_ID, \n",
    "    CLIENT_SECRET, \n",
    "    VERSION, \n",
    "    flpn_df.iloc[4, 1], \n",
    "    flpn_df.iloc[4, 2], \n",
    "    radius, \n",
    "    LIMIT)\n",
    "\n",
    "# display URL\n",
    "print(url_jurereleste)\n",
    "print(url_jurereoeste)\n",
    "print(url_canasvieiras)\n",
    "print(url_cachoeira)\n",
    "print(url_ponta)"
   ]
  },
  {
   "cell_type": "markdown",
   "metadata": {},
   "source": [
    "Time to JSON! I'll get the results, but I'm not gonna print it - it's a long, long list!"
   ]
  },
  {
   "cell_type": "code",
   "execution_count": 14,
   "metadata": {},
   "outputs": [],
   "source": [
    "import requests\n",
    "from pandas.io.json import json_normalize "
   ]
  },
  {
   "cell_type": "code",
   "execution_count": 15,
   "metadata": {},
   "outputs": [
    {
     "name": "stdout",
     "output_type": "stream",
     "text": [
      "We got results - but I'm not gonna print it because it is long!\n"
     ]
    }
   ],
   "source": [
    "results_jurereleste = requests.get(url_jurereleste).json()\n",
    "results_jurereoeste = requests.get(url_jurereoeste).json()\n",
    "results_canasvieiras = requests.get(url_canasvieiras).json()\n",
    "results_cachoeira = requests.get(url_cachoeira).json()\n",
    "results_ponta = requests.get(url_ponta).json()\n",
    "print(\"We got results - but I'm not gonna print it because it is long!\")"
   ]
  },
  {
   "cell_type": "markdown",
   "metadata": {},
   "source": [
    "Run the function to normalize, clean and turn it into a beautiful pandas dataframe!"
   ]
  },
  {
   "cell_type": "code",
   "execution_count": 16,
   "metadata": {},
   "outputs": [
    {
     "name": "stdout",
     "output_type": "stream",
     "text": [
      "All ok here!\n"
     ]
    }
   ],
   "source": [
    "def get_category_type(row):\n",
    "    try:\n",
    "        categories_list = row['categories']\n",
    "    except:\n",
    "        categories_list = row['venue.categories']\n",
    "        \n",
    "    if len(categories_list) == 0:\n",
    "        return None\n",
    "    else:\n",
    "        return categories_list[0]['name']\n",
    "\n",
    "print(\"All ok here!\")"
   ]
  },
  {
   "cell_type": "code",
   "execution_count": 17,
   "metadata": {},
   "outputs": [
    {
     "name": "stderr",
     "output_type": "stream",
     "text": [
      "/home/jupyterlab/conda/envs/python/lib/python3.6/site-packages/ipykernel_launcher.py:8: FutureWarning: pandas.io.json.json_normalize is deprecated, use pandas.json_normalize instead\n",
      "  \n",
      "/home/jupyterlab/conda/envs/python/lib/python3.6/site-packages/ipykernel_launcher.py:9: FutureWarning: pandas.io.json.json_normalize is deprecated, use pandas.json_normalize instead\n",
      "  if __name__ == '__main__':\n",
      "/home/jupyterlab/conda/envs/python/lib/python3.6/site-packages/ipykernel_launcher.py:10: FutureWarning: pandas.io.json.json_normalize is deprecated, use pandas.json_normalize instead\n",
      "  # Remove the CWD from sys.path while we load stuff.\n",
      "/home/jupyterlab/conda/envs/python/lib/python3.6/site-packages/ipykernel_launcher.py:11: FutureWarning: pandas.io.json.json_normalize is deprecated, use pandas.json_normalize instead\n",
      "  # This is added back by InteractiveShellApp.init_path()\n",
      "/home/jupyterlab/conda/envs/python/lib/python3.6/site-packages/ipykernel_launcher.py:12: FutureWarning: pandas.io.json.json_normalize is deprecated, use pandas.json_normalize instead\n",
      "  if sys.path[0] == '':\n"
     ]
    }
   ],
   "source": [
    "venues_jurereleste = results_jurereleste['response']['groups'][0]['items']\n",
    "venues_jurereoeste = results_jurereoeste['response']['groups'][0]['items']\n",
    "venues_canasvieiras = results_canasvieiras['response']['groups'][0]['items']\n",
    "venues_cachoeira = results_cachoeira['response']['groups'][0]['items']\n",
    "venues_ponta = results_ponta['response']['groups'][0]['items']\n",
    "\n",
    "# flatten JSON\n",
    "nearby_venues_jurereleste = json_normalize(venues_jurereleste)\n",
    "nearby_venues_jurereoeste = json_normalize(venues_jurereoeste)\n",
    "nearby_venues_canasvieiras = json_normalize(venues_canasvieiras)\n",
    "nearby_venues_cachoeira = json_normalize(venues_cachoeira)\n",
    "nearby_venues_ponta = json_normalize(venues_ponta)"
   ]
  },
  {
   "cell_type": "markdown",
   "metadata": {},
   "source": [
    "Now, I'm adding the column \"Neighborhood\" in al thos dataframes, just to have this link"
   ]
  },
  {
   "cell_type": "code",
   "execution_count": 18,
   "metadata": {},
   "outputs": [],
   "source": [
    "nearby_venues_jurereleste['Neighborhood']= 'Jurerê Leste'\n",
    "nearby_venues_jurereoeste['Neighborhood']= 'Jurerê Oeste'\n",
    "nearby_venues_canasvieiras['Neighborhood']= 'Canasvieiras'\n",
    "nearby_venues_cachoeira['Neighborhood']= 'Cachoeira do Bom Jesus'\n",
    "nearby_venues_ponta['Neighborhood']= 'Ponta das Canas'"
   ]
  },
  {
   "cell_type": "markdown",
   "metadata": {},
   "source": [
    "And getting all together! "
   ]
  },
  {
   "cell_type": "code",
   "execution_count": 19,
   "metadata": {},
   "outputs": [
    {
     "data": {
      "text/html": [
       "<div>\n",
       "<style scoped>\n",
       "    .dataframe tbody tr th:only-of-type {\n",
       "        vertical-align: middle;\n",
       "    }\n",
       "\n",
       "    .dataframe tbody tr th {\n",
       "        vertical-align: top;\n",
       "    }\n",
       "\n",
       "    .dataframe thead th {\n",
       "        text-align: right;\n",
       "    }\n",
       "</style>\n",
       "<table border=\"1\" class=\"dataframe\">\n",
       "  <thead>\n",
       "    <tr style=\"text-align: right;\">\n",
       "      <th></th>\n",
       "      <th>referralId</th>\n",
       "      <th>reasons.count</th>\n",
       "      <th>reasons.items</th>\n",
       "      <th>venue.id</th>\n",
       "      <th>venue.name</th>\n",
       "      <th>venue.location.address</th>\n",
       "      <th>venue.location.lat</th>\n",
       "      <th>venue.location.lng</th>\n",
       "      <th>venue.location.labeledLatLngs</th>\n",
       "      <th>venue.location.distance</th>\n",
       "      <th>...</th>\n",
       "      <th>venue.location.state</th>\n",
       "      <th>venue.location.country</th>\n",
       "      <th>venue.location.formattedAddress</th>\n",
       "      <th>venue.categories</th>\n",
       "      <th>venue.photos.count</th>\n",
       "      <th>venue.photos.groups</th>\n",
       "      <th>venue.venuePage.id</th>\n",
       "      <th>venue.location.crossStreet</th>\n",
       "      <th>venue.location.postalCode</th>\n",
       "      <th>Neighborhood</th>\n",
       "    </tr>\n",
       "  </thead>\n",
       "  <tbody>\n",
       "    <tr>\n",
       "      <th>0</th>\n",
       "      <td>e-0-4c4c52ad5609c9b687185d92-0</td>\n",
       "      <td>0</td>\n",
       "      <td>[{'summary': 'This spot is popular', 'type': '...</td>\n",
       "      <td>4c4c52ad5609c9b687185d92</td>\n",
       "      <td>Praia de Jurerê</td>\n",
       "      <td>Pr. de Jurerê</td>\n",
       "      <td>-27.438671</td>\n",
       "      <td>-48.486323</td>\n",
       "      <td>[{'label': 'display', 'lat': -27.4386711640771...</td>\n",
       "      <td>202</td>\n",
       "      <td>...</td>\n",
       "      <td>SC</td>\n",
       "      <td>Brasil</td>\n",
       "      <td>[Pr. de Jurerê, Florianópolis, SC, Brasil]</td>\n",
       "      <td>[{'id': '4bf58dd8d48988d1e2941735', 'name': 'B...</td>\n",
       "      <td>0</td>\n",
       "      <td>[]</td>\n",
       "      <td>NaN</td>\n",
       "      <td>NaN</td>\n",
       "      <td>NaN</td>\n",
       "      <td>Jurerê Leste</td>\n",
       "    </tr>\n",
       "    <tr>\n",
       "      <th>1</th>\n",
       "      <td>e-0-54ea1053498e6e265f2c24e3-1</td>\n",
       "      <td>0</td>\n",
       "      <td>[{'summary': 'This spot is popular', 'type': '...</td>\n",
       "      <td>54ea1053498e6e265f2c24e3</td>\n",
       "      <td>That's Amore</td>\n",
       "      <td>Rodovia Maurício Sirotsky Sobrinho 5845</td>\n",
       "      <td>-27.441993</td>\n",
       "      <td>-48.486875</td>\n",
       "      <td>[{'label': 'display', 'lat': -27.4419929860082...</td>\n",
       "      <td>171</td>\n",
       "      <td>...</td>\n",
       "      <td>SC</td>\n",
       "      <td>Brasil</td>\n",
       "      <td>[Rodovia Maurício Sirotsky Sobrinho 5845, Flor...</td>\n",
       "      <td>[{'id': '4bf58dd8d48988d1c9941735', 'name': 'I...</td>\n",
       "      <td>0</td>\n",
       "      <td>[]</td>\n",
       "      <td>121712971</td>\n",
       "      <td>NaN</td>\n",
       "      <td>NaN</td>\n",
       "      <td>Jurerê Leste</td>\n",
       "    </tr>\n",
       "    <tr>\n",
       "      <th>2</th>\n",
       "      <td>e-0-4cffbda21fcef04da0f3c6b9-2</td>\n",
       "      <td>0</td>\n",
       "      <td>[{'summary': 'This spot is popular', 'type': '...</td>\n",
       "      <td>4cffbda21fcef04da0f3c6b9</td>\n",
       "      <td>Pousada dos Chás</td>\n",
       "      <td>R. Francisco Gouvêa, 54</td>\n",
       "      <td>-27.439294</td>\n",
       "      <td>-48.484597</td>\n",
       "      <td>[{'label': 'display', 'lat': -27.4392943026305...</td>\n",
       "      <td>237</td>\n",
       "      <td>...</td>\n",
       "      <td>SC</td>\n",
       "      <td>Brasil</td>\n",
       "      <td>[R. Francisco Gouvêa, 54 (Renato Barbosa, 81),...</td>\n",
       "      <td>[{'id': '4bf58dd8d48988d1fa931735', 'name': 'H...</td>\n",
       "      <td>0</td>\n",
       "      <td>[]</td>\n",
       "      <td>64358947</td>\n",
       "      <td>Renato Barbosa, 81</td>\n",
       "      <td>NaN</td>\n",
       "      <td>Jurerê Leste</td>\n",
       "    </tr>\n",
       "    <tr>\n",
       "      <th>3</th>\n",
       "      <td>e-0-52b318c411d28fa3970b8d32-3</td>\n",
       "      <td>0</td>\n",
       "      <td>[{'summary': 'This spot is popular', 'type': '...</td>\n",
       "      <td>52b318c411d28fa3970b8d32</td>\n",
       "      <td>Armazém 3</td>\n",
       "      <td>Rodovia Jorn. Maurício Sirotsky Sobrinho, 5757</td>\n",
       "      <td>-27.442586</td>\n",
       "      <td>-48.486917</td>\n",
       "      <td>[{'label': 'display', 'lat': -27.4425856496446...</td>\n",
       "      <td>237</td>\n",
       "      <td>...</td>\n",
       "      <td>SC</td>\n",
       "      <td>Brasil</td>\n",
       "      <td>[Rodovia Jorn. Maurício Sirotsky Sobrinho, 575...</td>\n",
       "      <td>[{'id': '52f2ab2ebcbc57f1066b8b46', 'name': 'S...</td>\n",
       "      <td>0</td>\n",
       "      <td>[]</td>\n",
       "      <td>75781132</td>\n",
       "      <td>Rua das Manjubas</td>\n",
       "      <td>88053-700</td>\n",
       "      <td>Jurerê Leste</td>\n",
       "    </tr>\n",
       "    <tr>\n",
       "      <th>4</th>\n",
       "      <td>e-0-4b96e2e1f964a52065eb34e3-4</td>\n",
       "      <td>0</td>\n",
       "      <td>[{'summary': 'This spot is popular', 'type': '...</td>\n",
       "      <td>4b96e2e1f964a52065eb34e3</td>\n",
       "      <td>Lucila Bistrô</td>\n",
       "      <td>Al. César Nascimento, 322</td>\n",
       "      <td>-27.439929</td>\n",
       "      <td>-48.486687</td>\n",
       "      <td>[{'label': 'display', 'lat': -27.4399288355895...</td>\n",
       "      <td>60</td>\n",
       "      <td>...</td>\n",
       "      <td>SC</td>\n",
       "      <td>Brasil</td>\n",
       "      <td>[Al. César Nascimento, 322, Florianópolis, SC,...</td>\n",
       "      <td>[{'id': '4bf58dd8d48988d16b941735', 'name': 'B...</td>\n",
       "      <td>0</td>\n",
       "      <td>[]</td>\n",
       "      <td>NaN</td>\n",
       "      <td>NaN</td>\n",
       "      <td>88053-500</td>\n",
       "      <td>Jurerê Leste</td>\n",
       "    </tr>\n",
       "  </tbody>\n",
       "</table>\n",
       "<p>5 rows × 23 columns</p>\n",
       "</div>"
      ],
      "text/plain": [
       "                       referralId  reasons.count  \\\n",
       "0  e-0-4c4c52ad5609c9b687185d92-0              0   \n",
       "1  e-0-54ea1053498e6e265f2c24e3-1              0   \n",
       "2  e-0-4cffbda21fcef04da0f3c6b9-2              0   \n",
       "3  e-0-52b318c411d28fa3970b8d32-3              0   \n",
       "4  e-0-4b96e2e1f964a52065eb34e3-4              0   \n",
       "\n",
       "                                       reasons.items  \\\n",
       "0  [{'summary': 'This spot is popular', 'type': '...   \n",
       "1  [{'summary': 'This spot is popular', 'type': '...   \n",
       "2  [{'summary': 'This spot is popular', 'type': '...   \n",
       "3  [{'summary': 'This spot is popular', 'type': '...   \n",
       "4  [{'summary': 'This spot is popular', 'type': '...   \n",
       "\n",
       "                   venue.id        venue.name  \\\n",
       "0  4c4c52ad5609c9b687185d92   Praia de Jurerê   \n",
       "1  54ea1053498e6e265f2c24e3      That's Amore   \n",
       "2  4cffbda21fcef04da0f3c6b9  Pousada dos Chás   \n",
       "3  52b318c411d28fa3970b8d32         Armazém 3   \n",
       "4  4b96e2e1f964a52065eb34e3     Lucila Bistrô   \n",
       "\n",
       "                           venue.location.address  venue.location.lat  \\\n",
       "0                                   Pr. de Jurerê          -27.438671   \n",
       "1         Rodovia Maurício Sirotsky Sobrinho 5845          -27.441993   \n",
       "2                         R. Francisco Gouvêa, 54          -27.439294   \n",
       "3  Rodovia Jorn. Maurício Sirotsky Sobrinho, 5757          -27.442586   \n",
       "4                       Al. César Nascimento, 322          -27.439929   \n",
       "\n",
       "   venue.location.lng                      venue.location.labeledLatLngs  \\\n",
       "0          -48.486323  [{'label': 'display', 'lat': -27.4386711640771...   \n",
       "1          -48.486875  [{'label': 'display', 'lat': -27.4419929860082...   \n",
       "2          -48.484597  [{'label': 'display', 'lat': -27.4392943026305...   \n",
       "3          -48.486917  [{'label': 'display', 'lat': -27.4425856496446...   \n",
       "4          -48.486687  [{'label': 'display', 'lat': -27.4399288355895...   \n",
       "\n",
       "   venue.location.distance  ... venue.location.state venue.location.country  \\\n",
       "0                      202  ...                   SC                 Brasil   \n",
       "1                      171  ...                   SC                 Brasil   \n",
       "2                      237  ...                   SC                 Brasil   \n",
       "3                      237  ...                   SC                 Brasil   \n",
       "4                       60  ...                   SC                 Brasil   \n",
       "\n",
       "                     venue.location.formattedAddress  \\\n",
       "0         [Pr. de Jurerê, Florianópolis, SC, Brasil]   \n",
       "1  [Rodovia Maurício Sirotsky Sobrinho 5845, Flor...   \n",
       "2  [R. Francisco Gouvêa, 54 (Renato Barbosa, 81),...   \n",
       "3  [Rodovia Jorn. Maurício Sirotsky Sobrinho, 575...   \n",
       "4  [Al. César Nascimento, 322, Florianópolis, SC,...   \n",
       "\n",
       "                                    venue.categories venue.photos.count  \\\n",
       "0  [{'id': '4bf58dd8d48988d1e2941735', 'name': 'B...                  0   \n",
       "1  [{'id': '4bf58dd8d48988d1c9941735', 'name': 'I...                  0   \n",
       "2  [{'id': '4bf58dd8d48988d1fa931735', 'name': 'H...                  0   \n",
       "3  [{'id': '52f2ab2ebcbc57f1066b8b46', 'name': 'S...                  0   \n",
       "4  [{'id': '4bf58dd8d48988d16b941735', 'name': 'B...                  0   \n",
       "\n",
       "  venue.photos.groups venue.venuePage.id  venue.location.crossStreet  \\\n",
       "0                  []                NaN                         NaN   \n",
       "1                  []          121712971                         NaN   \n",
       "2                  []           64358947          Renato Barbosa, 81   \n",
       "3                  []           75781132            Rua das Manjubas   \n",
       "4                  []                NaN                         NaN   \n",
       "\n",
       "  venue.location.postalCode  Neighborhood  \n",
       "0                       NaN  Jurerê Leste  \n",
       "1                       NaN  Jurerê Leste  \n",
       "2                       NaN  Jurerê Leste  \n",
       "3                 88053-700  Jurerê Leste  \n",
       "4                 88053-500  Jurerê Leste  \n",
       "\n",
       "[5 rows x 23 columns]"
      ]
     },
     "execution_count": 19,
     "metadata": {},
     "output_type": "execute_result"
    }
   ],
   "source": [
    "nearby_venues = nearby_venues_jurereleste.append([nearby_venues_jurereoeste, nearby_venues_canasvieiras, nearby_venues_cachoeira, nearby_venues_ponta])\n",
    "nearby_venues.head()"
   ]
  },
  {
   "cell_type": "markdown",
   "metadata": {},
   "source": [
    "Some ajustments"
   ]
  },
  {
   "cell_type": "code",
   "execution_count": 20,
   "metadata": {},
   "outputs": [
    {
     "data": {
      "text/html": [
       "<div>\n",
       "<style scoped>\n",
       "    .dataframe tbody tr th:only-of-type {\n",
       "        vertical-align: middle;\n",
       "    }\n",
       "\n",
       "    .dataframe tbody tr th {\n",
       "        vertical-align: top;\n",
       "    }\n",
       "\n",
       "    .dataframe thead th {\n",
       "        text-align: right;\n",
       "    }\n",
       "</style>\n",
       "<table border=\"1\" class=\"dataframe\">\n",
       "  <thead>\n",
       "    <tr style=\"text-align: right;\">\n",
       "      <th></th>\n",
       "      <th>Neighborhood</th>\n",
       "      <th>name</th>\n",
       "      <th>categories</th>\n",
       "      <th>lat</th>\n",
       "      <th>lng</th>\n",
       "    </tr>\n",
       "  </thead>\n",
       "  <tbody>\n",
       "    <tr>\n",
       "      <th>0</th>\n",
       "      <td>Jurerê Leste</td>\n",
       "      <td>Praia de Jurerê</td>\n",
       "      <td>Beach</td>\n",
       "      <td>-27.438671</td>\n",
       "      <td>-48.486323</td>\n",
       "    </tr>\n",
       "    <tr>\n",
       "      <th>1</th>\n",
       "      <td>Jurerê Leste</td>\n",
       "      <td>That's Amore</td>\n",
       "      <td>Ice Cream Shop</td>\n",
       "      <td>-27.441993</td>\n",
       "      <td>-48.486875</td>\n",
       "    </tr>\n",
       "    <tr>\n",
       "      <th>2</th>\n",
       "      <td>Jurerê Leste</td>\n",
       "      <td>Pousada dos Chás</td>\n",
       "      <td>Hotel</td>\n",
       "      <td>-27.439294</td>\n",
       "      <td>-48.484597</td>\n",
       "    </tr>\n",
       "    <tr>\n",
       "      <th>3</th>\n",
       "      <td>Jurerê Leste</td>\n",
       "      <td>Armazém 3</td>\n",
       "      <td>Supermarket</td>\n",
       "      <td>-27.442586</td>\n",
       "      <td>-48.486917</td>\n",
       "    </tr>\n",
       "    <tr>\n",
       "      <th>4</th>\n",
       "      <td>Jurerê Leste</td>\n",
       "      <td>Lucila Bistrô</td>\n",
       "      <td>Brazilian Restaurant</td>\n",
       "      <td>-27.439929</td>\n",
       "      <td>-48.486687</td>\n",
       "    </tr>\n",
       "  </tbody>\n",
       "</table>\n",
       "</div>"
      ],
      "text/plain": [
       "   Neighborhood              name            categories        lat        lng\n",
       "0  Jurerê Leste   Praia de Jurerê                 Beach -27.438671 -48.486323\n",
       "1  Jurerê Leste      That's Amore        Ice Cream Shop -27.441993 -48.486875\n",
       "2  Jurerê Leste  Pousada dos Chás                 Hotel -27.439294 -48.484597\n",
       "3  Jurerê Leste         Armazém 3           Supermarket -27.442586 -48.486917\n",
       "4  Jurerê Leste     Lucila Bistrô  Brazilian Restaurant -27.439929 -48.486687"
      ]
     },
     "execution_count": 20,
     "metadata": {},
     "output_type": "execute_result"
    }
   ],
   "source": [
    "# filter columns\n",
    "filtered_columns = ['Neighborhood', 'venue.name', 'venue.categories', 'venue.location.lat', 'venue.location.lng']\n",
    "nearby_venues =nearby_venues.loc[:, filtered_columns]\n",
    "\n",
    "# filter the category for each row\n",
    "nearby_venues['venue.categories'] = nearby_venues.apply(get_category_type, axis=1)\n",
    "\n",
    "# clean columns\n",
    "nearby_venues.columns = [col.split(\".\")[-1] for col in nearby_venues.columns]\n",
    "\n",
    "nearby_venues.head()"
   ]
  },
  {
   "cell_type": "markdown",
   "metadata": {},
   "source": [
    "I noticed that we got some categories that are not relevant for this analysis. \"Beach\", just as an example. So, I'll see the unique categories to drop some of them that are too much for us."
   ]
  },
  {
   "cell_type": "code",
   "execution_count": 21,
   "metadata": {},
   "outputs": [
    {
     "data": {
      "text/plain": [
       "array(['Beach', 'Ice Cream Shop', 'Hotel', 'Supermarket',\n",
       "       'Brazilian Restaurant', 'Bar', 'Food Truck', 'Bed & Breakfast',\n",
       "       'Resort', 'Pizza Place', 'Veterinarian', 'Restaurant',\n",
       "       'Southern Brazilian Restaurant', 'Pharmacy', 'Beach Bar', 'Café',\n",
       "       'Butcher', 'General Entertainment', 'Seafood Restaurant',\n",
       "       'Gym / Fitness Center', 'Japanese Restaurant', 'Gym',\n",
       "       'Burger Joint', 'Park', 'Creperie', 'Bakery', 'Grocery Store',\n",
       "       'Water Park', 'Dive Bar', 'Beer Garden', 'Snack Place',\n",
       "       'Steakhouse', 'Residential Building (Apartment / Condo)',\n",
       "       'Sandwich Place', 'Bistro', 'Pet Store', 'Fish & Chips Shop',\n",
       "       'Coffee Shop', 'Athletics & Sports', 'Lounge', 'Dog Run',\n",
       "       'Gastropub', 'Clothing Store', 'Liquor Store', 'Shopping Mall',\n",
       "       'Candy Store', 'Beer Bar', 'Sushi Restaurant', 'Public Art',\n",
       "       'Frozen Yogurt Shop', 'Airport Terminal', 'Playground', 'Trail',\n",
       "       'Fast Food Restaurant', 'Campground', 'Gymnastics Gym',\n",
       "       'Farmers Market', 'Italian Restaurant', 'Nightclub', 'BBQ Joint',\n",
       "       'Plaza', 'Juice Bar', 'Comfort Food Restaurant', 'Cocktail Bar',\n",
       "       'Pastelaria', 'Shoe Store', 'Hostel', 'Food Court', 'Smoke Shop',\n",
       "       'Mexican Restaurant', 'Brewery', 'Argentinian Restaurant',\n",
       "       'Fried Chicken Joint', 'Cheese Shop', 'Lottery Retailer', 'Buffet',\n",
       "       'Mediterranean Restaurant', 'Fruit & Vegetable Store',\n",
       "       'Gas Station', 'Pool', 'Convenience Store', 'Market',\n",
       "       'Breakfast Spot', 'Pier', 'Lake'], dtype=object)"
      ]
     },
     "execution_count": 21,
     "metadata": {},
     "output_type": "execute_result"
    }
   ],
   "source": [
    "nearby_venues['categories'].unique()"
   ]
  },
  {
   "cell_type": "markdown",
   "metadata": {},
   "source": [
    "I'll select those who are not useful in the analysis and I'll classify them with a good help of Lambda"
   ]
  },
  {
   "cell_type": "code",
   "execution_count": 22,
   "metadata": {},
   "outputs": [],
   "source": [
    "to_drop = ['Beach', 'Resort', 'Harbor / Marina', 'Residential Building (Apartment / Condo)', 'Dog Run', 'Park', 'Public Art', 'Airport Terminal', 'Trail', 'Hotel', 'Bed & Breakfast', 'Campground', 'Plaza', 'Hostel', 'Pier', 'Lake']\n",
    "\n",
    "nearby_venues['useful'] = nearby_venues['categories'].apply(lambda x: 1 if x in to_drop else 0)"
   ]
  },
  {
   "cell_type": "markdown",
   "metadata": {},
   "source": [
    "Drop the not useful"
   ]
  },
  {
   "cell_type": "code",
   "execution_count": 23,
   "metadata": {},
   "outputs": [],
   "source": [
    "nearby_venues.drop(nearby_venues.loc[nearby_venues['useful'] == 1].index, inplace=True)"
   ]
  },
  {
   "cell_type": "markdown",
   "metadata": {},
   "source": [
    "And drop this column \"useful\" (ironically, not useful anymore!)"
   ]
  },
  {
   "cell_type": "code",
   "execution_count": 24,
   "metadata": {},
   "outputs": [],
   "source": [
    "nearby_venues.drop('useful', axis=1, inplace=True)"
   ]
  },
  {
   "cell_type": "code",
   "execution_count": 25,
   "metadata": {},
   "outputs": [
    {
     "data": {
      "text/html": [
       "<div>\n",
       "<style scoped>\n",
       "    .dataframe tbody tr th:only-of-type {\n",
       "        vertical-align: middle;\n",
       "    }\n",
       "\n",
       "    .dataframe tbody tr th {\n",
       "        vertical-align: top;\n",
       "    }\n",
       "\n",
       "    .dataframe thead th {\n",
       "        text-align: right;\n",
       "    }\n",
       "</style>\n",
       "<table border=\"1\" class=\"dataframe\">\n",
       "  <thead>\n",
       "    <tr style=\"text-align: right;\">\n",
       "      <th></th>\n",
       "      <th>Neighborhood</th>\n",
       "      <th>name</th>\n",
       "      <th>categories</th>\n",
       "      <th>lat</th>\n",
       "      <th>lng</th>\n",
       "    </tr>\n",
       "  </thead>\n",
       "  <tbody>\n",
       "    <tr>\n",
       "      <th>6</th>\n",
       "      <td>Jurerê Leste</td>\n",
       "      <td>Vila Gastronômica Jurerê Food Park</td>\n",
       "      <td>Food Truck</td>\n",
       "      <td>-27.441925</td>\n",
       "      <td>-48.486719</td>\n",
       "    </tr>\n",
       "    <tr>\n",
       "      <th>17</th>\n",
       "      <td>Jurerê Leste</td>\n",
       "      <td>PanVel Farmácias</td>\n",
       "      <td>Pharmacy</td>\n",
       "      <td>-27.441183</td>\n",
       "      <td>-48.486775</td>\n",
       "    </tr>\n",
       "    <tr>\n",
       "      <th>19</th>\n",
       "      <td>Jurerê Leste</td>\n",
       "      <td>Acqua Plage</td>\n",
       "      <td>Beach Bar</td>\n",
       "      <td>-27.437981</td>\n",
       "      <td>-48.493860</td>\n",
       "    </tr>\n",
       "    <tr>\n",
       "      <th>26</th>\n",
       "      <td>Jurerê Leste</td>\n",
       "      <td>Supermercados Imperatriz</td>\n",
       "      <td>Supermarket</td>\n",
       "      <td>-27.445511</td>\n",
       "      <td>-48.487486</td>\n",
       "    </tr>\n",
       "    <tr>\n",
       "      <th>28</th>\n",
       "      <td>Jurerê Leste</td>\n",
       "      <td>Academia André Nascimento</td>\n",
       "      <td>Gym / Fitness Center</td>\n",
       "      <td>-27.443115</td>\n",
       "      <td>-48.486860</td>\n",
       "    </tr>\n",
       "    <tr>\n",
       "      <th>...</th>\n",
       "      <td>...</td>\n",
       "      <td>...</td>\n",
       "      <td>...</td>\n",
       "      <td>...</td>\n",
       "      <td>...</td>\n",
       "    </tr>\n",
       "    <tr>\n",
       "      <th>28</th>\n",
       "      <td>Cachoeira do Bom Jesus</td>\n",
       "      <td>Dande Agropecuária</td>\n",
       "      <td>Pet Store</td>\n",
       "      <td>-27.424990</td>\n",
       "      <td>-48.440150</td>\n",
       "    </tr>\n",
       "    <tr>\n",
       "      <th>29</th>\n",
       "      <td>Cachoeira do Bom Jesus</td>\n",
       "      <td>Soulmaki e BBQ Trucks</td>\n",
       "      <td>Food Truck</td>\n",
       "      <td>-27.418034</td>\n",
       "      <td>-48.428446</td>\n",
       "    </tr>\n",
       "    <tr>\n",
       "      <th>30</th>\n",
       "      <td>Cachoeira do Bom Jesus</td>\n",
       "      <td>Mercado do Sul</td>\n",
       "      <td>Market</td>\n",
       "      <td>-27.418944</td>\n",
       "      <td>-48.427471</td>\n",
       "    </tr>\n",
       "    <tr>\n",
       "      <th>31</th>\n",
       "      <td>Cachoeira do Bom Jesus</td>\n",
       "      <td>Franchis Meia Luas</td>\n",
       "      <td>Bakery</td>\n",
       "      <td>-27.417879</td>\n",
       "      <td>-48.426954</td>\n",
       "    </tr>\n",
       "    <tr>\n",
       "      <th>6</th>\n",
       "      <td>Ponta das Canas</td>\n",
       "      <td>Academia Bio Forma</td>\n",
       "      <td>Gym / Fitness Center</td>\n",
       "      <td>-27.414848</td>\n",
       "      <td>-48.425365</td>\n",
       "    </tr>\n",
       "  </tbody>\n",
       "</table>\n",
       "<p>121 rows × 5 columns</p>\n",
       "</div>"
      ],
      "text/plain": [
       "              Neighborhood                                name  \\\n",
       "6             Jurerê Leste  Vila Gastronômica Jurerê Food Park   \n",
       "17            Jurerê Leste                    PanVel Farmácias   \n",
       "19            Jurerê Leste                         Acqua Plage   \n",
       "26            Jurerê Leste            Supermercados Imperatriz   \n",
       "28            Jurerê Leste           Academia André Nascimento   \n",
       "..                     ...                                 ...   \n",
       "28  Cachoeira do Bom Jesus                  Dande Agropecuária   \n",
       "29  Cachoeira do Bom Jesus               Soulmaki e BBQ Trucks   \n",
       "30  Cachoeira do Bom Jesus                      Mercado do Sul   \n",
       "31  Cachoeira do Bom Jesus                  Franchis Meia Luas   \n",
       "6          Ponta das Canas                  Academia Bio Forma   \n",
       "\n",
       "              categories        lat        lng  \n",
       "6             Food Truck -27.441925 -48.486719  \n",
       "17              Pharmacy -27.441183 -48.486775  \n",
       "19             Beach Bar -27.437981 -48.493860  \n",
       "26           Supermarket -27.445511 -48.487486  \n",
       "28  Gym / Fitness Center -27.443115 -48.486860  \n",
       "..                   ...        ...        ...  \n",
       "28             Pet Store -27.424990 -48.440150  \n",
       "29            Food Truck -27.418034 -48.428446  \n",
       "30                Market -27.418944 -48.427471  \n",
       "31                Bakery -27.417879 -48.426954  \n",
       "6   Gym / Fitness Center -27.414848 -48.425365  \n",
       "\n",
       "[121 rows x 5 columns]"
      ]
     },
     "execution_count": 25,
     "metadata": {},
     "output_type": "execute_result"
    }
   ],
   "source": [
    "nearby_venues"
   ]
  },
  {
   "cell_type": "code",
   "execution_count": 26,
   "metadata": {},
   "outputs": [
    {
     "name": "stdout",
     "output_type": "stream",
     "text": [
      "121 venues were returned by Foursquare.\n"
     ]
    }
   ],
   "source": [
    "print('{} venues were returned by Foursquare.'.format(nearby_venues.shape[0]))"
   ]
  },
  {
   "cell_type": "markdown",
   "metadata": {},
   "source": [
    "Let's againg see it in a map"
   ]
  },
  {
   "cell_type": "code",
   "execution_count": 27,
   "metadata": {},
   "outputs": [
    {
     "data": {
      "text/html": [
       "<div style=\"width:100%;\"><div style=\"position:relative;width:100%;height:0;padding-bottom:60%;\"><span style=\"color:#565656\">Make this Notebook Trusted to load map: File -> Trust Notebook</span><iframe src=\"about:blank\" style=\"position:absolute;width:100%;height:100%;left:0;top:0;border:none !important;\" data-html=PCFET0NUWVBFIGh0bWw+CjxoZWFkPiAgICAKICAgIDxtZXRhIGh0dHAtZXF1aXY9ImNvbnRlbnQtdHlwZSIgY29udGVudD0idGV4dC9odG1sOyBjaGFyc2V0PVVURi04IiAvPgogICAgPHNjcmlwdD5MX1BSRUZFUl9DQU5WQVMgPSBmYWxzZTsgTF9OT19UT1VDSCA9IGZhbHNlOyBMX0RJU0FCTEVfM0QgPSBmYWxzZTs8L3NjcmlwdD4KICAgIDxzY3JpcHQgc3JjPSJodHRwczovL2Nkbi5qc2RlbGl2ci5uZXQvbnBtL2xlYWZsZXRAMS4yLjAvZGlzdC9sZWFmbGV0LmpzIj48L3NjcmlwdD4KICAgIDxzY3JpcHQgc3JjPSJodHRwczovL2FqYXguZ29vZ2xlYXBpcy5jb20vYWpheC9saWJzL2pxdWVyeS8xLjExLjEvanF1ZXJ5Lm1pbi5qcyI+PC9zY3JpcHQ+CiAgICA8c2NyaXB0IHNyYz0iaHR0cHM6Ly9tYXhjZG4uYm9vdHN0cmFwY2RuLmNvbS9ib290c3RyYXAvMy4yLjAvanMvYm9vdHN0cmFwLm1pbi5qcyI+PC9zY3JpcHQ+CiAgICA8c2NyaXB0IHNyYz0iaHR0cHM6Ly9jZG5qcy5jbG91ZGZsYXJlLmNvbS9hamF4L2xpYnMvTGVhZmxldC5hd2Vzb21lLW1hcmtlcnMvMi4wLjIvbGVhZmxldC5hd2Vzb21lLW1hcmtlcnMuanMiPjwvc2NyaXB0PgogICAgPGxpbmsgcmVsPSJzdHlsZXNoZWV0IiBocmVmPSJodHRwczovL2Nkbi5qc2RlbGl2ci5uZXQvbnBtL2xlYWZsZXRAMS4yLjAvZGlzdC9sZWFmbGV0LmNzcyIvPgogICAgPGxpbmsgcmVsPSJzdHlsZXNoZWV0IiBocmVmPSJodHRwczovL21heGNkbi5ib290c3RyYXBjZG4uY29tL2Jvb3RzdHJhcC8zLjIuMC9jc3MvYm9vdHN0cmFwLm1pbi5jc3MiLz4KICAgIDxsaW5rIHJlbD0ic3R5bGVzaGVldCIgaHJlZj0iaHR0cHM6Ly9tYXhjZG4uYm9vdHN0cmFwY2RuLmNvbS9ib290c3RyYXAvMy4yLjAvY3NzL2Jvb3RzdHJhcC10aGVtZS5taW4uY3NzIi8+CiAgICA8bGluayByZWw9InN0eWxlc2hlZXQiIGhyZWY9Imh0dHBzOi8vbWF4Y2RuLmJvb3RzdHJhcGNkbi5jb20vZm9udC1hd2Vzb21lLzQuNi4zL2Nzcy9mb250LWF3ZXNvbWUubWluLmNzcyIvPgogICAgPGxpbmsgcmVsPSJzdHlsZXNoZWV0IiBocmVmPSJodHRwczovL2NkbmpzLmNsb3VkZmxhcmUuY29tL2FqYXgvbGlicy9MZWFmbGV0LmF3ZXNvbWUtbWFya2Vycy8yLjAuMi9sZWFmbGV0LmF3ZXNvbWUtbWFya2Vycy5jc3MiLz4KICAgIDxsaW5rIHJlbD0ic3R5bGVzaGVldCIgaHJlZj0iaHR0cHM6Ly9yYXdnaXQuY29tL3B5dGhvbi12aXN1YWxpemF0aW9uL2ZvbGl1bS9tYXN0ZXIvZm9saXVtL3RlbXBsYXRlcy9sZWFmbGV0LmF3ZXNvbWUucm90YXRlLmNzcyIvPgogICAgPHN0eWxlPmh0bWwsIGJvZHkge3dpZHRoOiAxMDAlO2hlaWdodDogMTAwJTttYXJnaW46IDA7cGFkZGluZzogMDt9PC9zdHlsZT4KICAgIDxzdHlsZT4jbWFwIHtwb3NpdGlvbjphYnNvbHV0ZTt0b3A6MDtib3R0b206MDtyaWdodDowO2xlZnQ6MDt9PC9zdHlsZT4KICAgIAogICAgICAgICAgICA8c3R5bGU+ICNtYXBfZjRiNmE2OGFjZmE3NDUzZDg5ZjI4MzY3MWRiZTQ3MTAgewogICAgICAgICAgICAgICAgcG9zaXRpb24gOiByZWxhdGl2ZTsKICAgICAgICAgICAgICAgIHdpZHRoIDogMTAwLjAlOwogICAgICAgICAgICAgICAgaGVpZ2h0OiAxMDAuMCU7CiAgICAgICAgICAgICAgICBsZWZ0OiAwLjAlOwogICAgICAgICAgICAgICAgdG9wOiAwLjAlOwogICAgICAgICAgICAgICAgfQogICAgICAgICAgICA8L3N0eWxlPgogICAgICAgIAo8L2hlYWQ+Cjxib2R5PiAgICAKICAgIAogICAgICAgICAgICA8ZGl2IGNsYXNzPSJmb2xpdW0tbWFwIiBpZD0ibWFwX2Y0YjZhNjhhY2ZhNzQ1M2Q4OWYyODM2NzFkYmU0NzEwIiA+PC9kaXY+CiAgICAgICAgCjwvYm9keT4KPHNjcmlwdD4gICAgCiAgICAKCiAgICAgICAgICAgIAogICAgICAgICAgICAgICAgdmFyIGJvdW5kcyA9IG51bGw7CiAgICAgICAgICAgIAoKICAgICAgICAgICAgdmFyIG1hcF9mNGI2YTY4YWNmYTc0NTNkODlmMjgzNjcxZGJlNDcxMCA9IEwubWFwKAogICAgICAgICAgICAgICAgICAgICAgICAgICAgICAgICAgJ21hcF9mNGI2YTY4YWNmYTc0NTNkODlmMjgzNjcxZGJlNDcxMCcsCiAgICAgICAgICAgICAgICAgICAgICAgICAgICAgICAgICB7Y2VudGVyOiBbLTI3LjQzNDc1OSwtNDguNDU3OTM5XSwKICAgICAgICAgICAgICAgICAgICAgICAgICAgICAgICAgIHpvb206IDEzLAogICAgICAgICAgICAgICAgICAgICAgICAgICAgICAgICAgbWF4Qm91bmRzOiBib3VuZHMsCiAgICAgICAgICAgICAgICAgICAgICAgICAgICAgICAgICBsYXllcnM6IFtdLAogICAgICAgICAgICAgICAgICAgICAgICAgICAgICAgICAgd29ybGRDb3B5SnVtcDogZmFsc2UsCiAgICAgICAgICAgICAgICAgICAgICAgICAgICAgICAgICBjcnM6IEwuQ1JTLkVQU0czODU3CiAgICAgICAgICAgICAgICAgICAgICAgICAgICAgICAgIH0pOwogICAgICAgICAgICAKICAgICAgICAKICAgIAogICAgICAgICAgICB2YXIgdGlsZV9sYXllcl81Y2ZkODI4MWJkY2U0NmQ0YjQ2MWU1YTRlOTVkY2IwZSA9IEwudGlsZUxheWVyKAogICAgICAgICAgICAgICAgJ2h0dHBzOi8ve3N9LnRpbGUub3BlbnN0cmVldG1hcC5vcmcve3p9L3t4fS97eX0ucG5nJywKICAgICAgICAgICAgICAgIHsKICAiYXR0cmlidXRpb24iOiBudWxsLAogICJkZXRlY3RSZXRpbmEiOiBmYWxzZSwKICAibWF4Wm9vbSI6IDE4LAogICJtaW5ab29tIjogMSwKICAibm9XcmFwIjogZmFsc2UsCiAgInN1YmRvbWFpbnMiOiAiYWJjIgp9CiAgICAgICAgICAgICAgICApLmFkZFRvKG1hcF9mNGI2YTY4YWNmYTc0NTNkODlmMjgzNjcxZGJlNDcxMCk7CiAgICAgICAgCiAgICAKICAgICAgICAgICAgdmFyIGNpcmNsZV9tYXJrZXJfYzY0ZjRmYTA5MTcxNDgyOWFlYzQwNjNmMTdjMzU4Y2MgPSBMLmNpcmNsZU1hcmtlcigKICAgICAgICAgICAgICAgIFstMjcuNDQwNDY5OTk5OTk5OTQ4LC00OC40ODY1OTk5OTk5OTk5NV0sCiAgICAgICAgICAgICAgICB7CiAgImJ1YmJsaW5nTW91c2VFdmVudHMiOiB0cnVlLAogICJjb2xvciI6ICJibHVlIiwKICAiZGFzaEFycmF5IjogbnVsbCwKICAiZGFzaE9mZnNldCI6IG51bGwsCiAgImZpbGwiOiB0cnVlLAogICJmaWxsQ29sb3IiOiAiIzMxODZjYyIsCiAgImZpbGxPcGFjaXR5IjogMC43LAogICJmaWxsUnVsZSI6ICJldmVub2RkIiwKICAibGluZUNhcCI6ICJyb3VuZCIsCiAgImxpbmVKb2luIjogInJvdW5kIiwKICAib3BhY2l0eSI6IDEuMCwKICAicmFkaXVzIjogNSwKICAic3Ryb2tlIjogdHJ1ZSwKICAid2VpZ2h0IjogMwp9CiAgICAgICAgICAgICAgICApLmFkZFRvKG1hcF9mNGI2YTY4YWNmYTc0NTNkODlmMjgzNjcxZGJlNDcxMCk7CiAgICAgICAgICAgIAogICAgCiAgICAgICAgICAgIHZhciBwb3B1cF81MTAzZThiMGY5M2I0NWUwOTJhNDU2NTAxZDQzNDNlZiA9IEwucG9wdXAoe21heFdpZHRoOiAnMzAwJ30pOwoKICAgICAgICAgICAgCiAgICAgICAgICAgICAgICB2YXIgaHRtbF9iZTA1ZDBhMjQ1OWY0ZjRhOGIyMzdjOTlmOTQ1YjY3MyA9ICQoJzxkaXYgaWQ9Imh0bWxfYmUwNWQwYTI0NTlmNGY0YThiMjM3Yzk5Zjk0NWI2NzMiIHN0eWxlPSJ3aWR0aDogMTAwLjAlOyBoZWlnaHQ6IDEwMC4wJTsiPkp1cmVyw6ogTGVzdGU8L2Rpdj4nKVswXTsKICAgICAgICAgICAgICAgIHBvcHVwXzUxMDNlOGIwZjkzYjQ1ZTA5MmE0NTY1MDFkNDM0M2VmLnNldENvbnRlbnQoaHRtbF9iZTA1ZDBhMjQ1OWY0ZjRhOGIyMzdjOTlmOTQ1YjY3Myk7CiAgICAgICAgICAgIAoKICAgICAgICAgICAgY2lyY2xlX21hcmtlcl9jNjRmNGZhMDkxNzE0ODI5YWVjNDA2M2YxN2MzNThjYy5iaW5kUG9wdXAocG9wdXBfNTEwM2U4YjBmOTNiNDVlMDkyYTQ1NjUwMWQ0MzQzZWYpOwoKICAgICAgICAgICAgCiAgICAgICAgCiAgICAKICAgICAgICAgICAgdmFyIGNpcmNsZV9tYXJrZXJfZDRkMThlYjI2NTI0NDAzMGEyYmNmOWUwMDNmMmJiNzQgPSBMLmNpcmNsZU1hcmtlcigKICAgICAgICAgICAgICAgIFstMjcuNDQwNTg5OTk5OTk5OTMsLTQ4LjUwMDY2OTk5OTk5OTk2XSwKICAgICAgICAgICAgICAgIHsKICAiYnViYmxpbmdNb3VzZUV2ZW50cyI6IHRydWUsCiAgImNvbG9yIjogImJsdWUiLAogICJkYXNoQXJyYXkiOiBudWxsLAogICJkYXNoT2Zmc2V0IjogbnVsbCwKICAiZmlsbCI6IHRydWUsCiAgImZpbGxDb2xvciI6ICIjMzE4NmNjIiwKICAiZmlsbE9wYWNpdHkiOiAwLjcsCiAgImZpbGxSdWxlIjogImV2ZW5vZGQiLAogICJsaW5lQ2FwIjogInJvdW5kIiwKICAibGluZUpvaW4iOiAicm91bmQiLAogICJvcGFjaXR5IjogMS4wLAogICJyYWRpdXMiOiA1LAogICJzdHJva2UiOiB0cnVlLAogICJ3ZWlnaHQiOiAzCn0KICAgICAgICAgICAgICAgICkuYWRkVG8obWFwX2Y0YjZhNjhhY2ZhNzQ1M2Q4OWYyODM2NzFkYmU0NzEwKTsKICAgICAgICAgICAgCiAgICAKICAgICAgICAgICAgdmFyIHBvcHVwXzE3N2YxYTMzY2Q5NDQ2MGM4MTdlZjQyOGJmNDdkYmI4ID0gTC5wb3B1cCh7bWF4V2lkdGg6ICczMDAnfSk7CgogICAgICAgICAgICAKICAgICAgICAgICAgICAgIHZhciBodG1sXzA1ZGQyYzM5Y2Q1ODRmZGI5NzBhM2ZmNjQ0Yjk2NDkxID0gJCgnPGRpdiBpZD0iaHRtbF8wNWRkMmMzOWNkNTg0ZmRiOTcwYTNmZjY0NGI5NjQ5MSIgc3R5bGU9IndpZHRoOiAxMDAuMCU7IGhlaWdodDogMTAwLjAlOyI+SnVyZXLDqiBPZXN0ZTwvZGl2PicpWzBdOwogICAgICAgICAgICAgICAgcG9wdXBfMTc3ZjFhMzNjZDk0NDYwYzgxN2VmNDI4YmY0N2RiYjguc2V0Q29udGVudChodG1sXzA1ZGQyYzM5Y2Q1ODRmZGI5NzBhM2ZmNjQ0Yjk2NDkxKTsKICAgICAgICAgICAgCgogICAgICAgICAgICBjaXJjbGVfbWFya2VyX2Q0ZDE4ZWIyNjUyNDQwMzBhMmJjZjllMDAzZjJiYjc0LmJpbmRQb3B1cChwb3B1cF8xNzdmMWEzM2NkOTQ0NjBjODE3ZWY0MjhiZjQ3ZGJiOCk7CgogICAgICAgICAgICAKICAgICAgICAKICAgIAogICAgICAgICAgICB2YXIgY2lyY2xlX21hcmtlcl8xNmIyNGUwZDg1Y2U0YmUwODk3MWFiY2RjYTdjMTkxOSA9IEwuY2lyY2xlTWFya2VyKAogICAgICAgICAgICAgICAgWy0yNy40MzY5MDk5OTk5OTk5NTUsLTQ4LjQ1ODA1OTk5OTk5OTkzXSwKICAgICAgICAgICAgICAgIHsKICAiYnViYmxpbmdNb3VzZUV2ZW50cyI6IHRydWUsCiAgImNvbG9yIjogImJsdWUiLAogICJkYXNoQXJyYXkiOiBudWxsLAogICJkYXNoT2Zmc2V0IjogbnVsbCwKICAiZmlsbCI6IHRydWUsCiAgImZpbGxDb2xvciI6ICIjMzE4NmNjIiwKICAiZmlsbE9wYWNpdHkiOiAwLjcsCiAgImZpbGxSdWxlIjogImV2ZW5vZGQiLAogICJsaW5lQ2FwIjogInJvdW5kIiwKICAibGluZUpvaW4iOiAicm91bmQiLAogICJvcGFjaXR5IjogMS4wLAogICJyYWRpdXMiOiA1LAogICJzdHJva2UiOiB0cnVlLAogICJ3ZWlnaHQiOiAzCn0KICAgICAgICAgICAgICAgICkuYWRkVG8obWFwX2Y0YjZhNjhhY2ZhNzQ1M2Q4OWYyODM2NzFkYmU0NzEwKTsKICAgICAgICAgICAgCiAgICAKICAgICAgICAgICAgdmFyIHBvcHVwXzVlMzlhMzg4ZTkxNzQ3YWFhNjA0NTE3NGQxZGI2OWRmID0gTC5wb3B1cCh7bWF4V2lkdGg6ICczMDAnfSk7CgogICAgICAgICAgICAKICAgICAgICAgICAgICAgIHZhciBodG1sX2QzNTMyMTVmMmFiNDQ2YWU5N2FmY2FkYzBiYWM0YjBhID0gJCgnPGRpdiBpZD0iaHRtbF9kMzUzMjE1ZjJhYjQ0NmFlOTdhZmNhZGMwYmFjNGIwYSIgc3R5bGU9IndpZHRoOiAxMDAuMCU7IGhlaWdodDogMTAwLjAlOyI+Q2FuYXN2aWVpcmFzPC9kaXY+JylbMF07CiAgICAgICAgICAgICAgICBwb3B1cF81ZTM5YTM4OGU5MTc0N2FhYTYwNDUxNzRkMWRiNjlkZi5zZXRDb250ZW50KGh0bWxfZDM1MzIxNWYyYWI0NDZhZTk3YWZjYWRjMGJhYzRiMGEpOwogICAgICAgICAgICAKCiAgICAgICAgICAgIGNpcmNsZV9tYXJrZXJfMTZiMjRlMGQ4NWNlNGJlMDg5NzFhYmNkY2E3YzE5MTkuYmluZFBvcHVwKHBvcHVwXzVlMzlhMzg4ZTkxNzQ3YWFhNjA0NTE3NGQxZGI2OWRmKTsKCiAgICAgICAgICAgIAogICAgICAgIAogICAgCiAgICAgICAgICAgIHZhciBjaXJjbGVfbWFya2VyXzc1NGYyZjg0MmQ5MjQ1YWM5NWEzYmEyN2I3ODcyYmJlID0gTC5jaXJjbGVNYXJrZXIoCiAgICAgICAgICAgICAgICBbLTI3LjQyMjQzOTk5OTk5OTkzOCwtNDguNDM1NTQ5OTk5OTk5OThdLAogICAgICAgICAgICAgICAgewogICJidWJibGluZ01vdXNlRXZlbnRzIjogdHJ1ZSwKICAiY29sb3IiOiAiYmx1ZSIsCiAgImRhc2hBcnJheSI6IG51bGwsCiAgImRhc2hPZmZzZXQiOiBudWxsLAogICJmaWxsIjogdHJ1ZSwKICAiZmlsbENvbG9yIjogIiMzMTg2Y2MiLAogICJmaWxsT3BhY2l0eSI6IDAuNywKICAiZmlsbFJ1bGUiOiAiZXZlbm9kZCIsCiAgImxpbmVDYXAiOiAicm91bmQiLAogICJsaW5lSm9pbiI6ICJyb3VuZCIsCiAgIm9wYWNpdHkiOiAxLjAsCiAgInJhZGl1cyI6IDUsCiAgInN0cm9rZSI6IHRydWUsCiAgIndlaWdodCI6IDMKfQogICAgICAgICAgICAgICAgKS5hZGRUbyhtYXBfZjRiNmE2OGFjZmE3NDUzZDg5ZjI4MzY3MWRiZTQ3MTApOwogICAgICAgICAgICAKICAgIAogICAgICAgICAgICB2YXIgcG9wdXBfM2Q1ZmVhNjI1ZTQ1NGY0YmEzMjcxNmJjZjVmODRkMWQgPSBMLnBvcHVwKHttYXhXaWR0aDogJzMwMCd9KTsKCiAgICAgICAgICAgIAogICAgICAgICAgICAgICAgdmFyIGh0bWxfYTNkOGI5OTQxZmM1NGQ0ZmE4MGZhYTFjZjBmN2VkMTQgPSAkKCc8ZGl2IGlkPSJodG1sX2EzZDhiOTk0MWZjNTRkNGZhODBmYWExY2YwZjdlZDE0IiBzdHlsZT0id2lkdGg6IDEwMC4wJTsgaGVpZ2h0OiAxMDAuMCU7Ij5DYWNob2VpcmEgZG8gQm9tIEplc3VzPC9kaXY+JylbMF07CiAgICAgICAgICAgICAgICBwb3B1cF8zZDVmZWE2MjVlNDU0ZjRiYTMyNzE2YmNmNWY4NGQxZC5zZXRDb250ZW50KGh0bWxfYTNkOGI5OTQxZmM1NGQ0ZmE4MGZhYTFjZjBmN2VkMTQpOwogICAgICAgICAgICAKCiAgICAgICAgICAgIGNpcmNsZV9tYXJrZXJfNzU0ZjJmODQyZDkyNDVhYzk1YTNiYTI3Yjc4NzJiYmUuYmluZFBvcHVwKHBvcHVwXzNkNWZlYTYyNWU0NTRmNGJhMzI3MTZiY2Y1Zjg0ZDFkKTsKCiAgICAgICAgICAgIAogICAgICAgIAogICAgCiAgICAgICAgICAgIHZhciBjaXJjbGVfbWFya2VyXzU2ZjlhOTk5NWI3YzRhODk5MDdmODk2NDhlZGQzZGM1ID0gTC5jaXJjbGVNYXJrZXIoCiAgICAgICAgICAgICAgICBbLTI3LjQwNjkwOTk5OTk5OTk4MiwtNDguNDIzNjQ5OTk5OTk5OTVdLAogICAgICAgICAgICAgICAgewogICJidWJibGluZ01vdXNlRXZlbnRzIjogdHJ1ZSwKICAiY29sb3IiOiAiYmx1ZSIsCiAgImRhc2hBcnJheSI6IG51bGwsCiAgImRhc2hPZmZzZXQiOiBudWxsLAogICJmaWxsIjogdHJ1ZSwKICAiZmlsbENvbG9yIjogIiMzMTg2Y2MiLAogICJmaWxsT3BhY2l0eSI6IDAuNywKICAiZmlsbFJ1bGUiOiAiZXZlbm9kZCIsCiAgImxpbmVDYXAiOiAicm91bmQiLAogICJsaW5lSm9pbiI6ICJyb3VuZCIsCiAgIm9wYWNpdHkiOiAxLjAsCiAgInJhZGl1cyI6IDUsCiAgInN0cm9rZSI6IHRydWUsCiAgIndlaWdodCI6IDMKfQogICAgICAgICAgICAgICAgKS5hZGRUbyhtYXBfZjRiNmE2OGFjZmE3NDUzZDg5ZjI4MzY3MWRiZTQ3MTApOwogICAgICAgICAgICAKICAgIAogICAgICAgICAgICB2YXIgcG9wdXBfNTgzNjJkNmUzNzAxNDAxZGE2MTZhN2ZkMTZmZjFjMWQgPSBMLnBvcHVwKHttYXhXaWR0aDogJzMwMCd9KTsKCiAgICAgICAgICAgIAogICAgICAgICAgICAgICAgdmFyIGh0bWxfOWVjNzkyNmJjODQwNDM2MGE3M2VhMjU0YTZhOTI4YmQgPSAkKCc8ZGl2IGlkPSJodG1sXzllYzc5MjZiYzg0MDQzNjBhNzNlYTI1NGE2YTkyOGJkIiBzdHlsZT0id2lkdGg6IDEwMC4wJTsgaGVpZ2h0OiAxMDAuMCU7Ij5Qb250YSBkYXMgQ2FuYXM8L2Rpdj4nKVswXTsKICAgICAgICAgICAgICAgIHBvcHVwXzU4MzYyZDZlMzcwMTQwMWRhNjE2YTdmZDE2ZmYxYzFkLnNldENvbnRlbnQoaHRtbF85ZWM3OTI2YmM4NDA0MzYwYTczZWEyNTRhNmE5MjhiZCk7CiAgICAgICAgICAgIAoKICAgICAgICAgICAgY2lyY2xlX21hcmtlcl81NmY5YTk5OTViN2M0YTg5OTA3Zjg5NjQ4ZWRkM2RjNS5iaW5kUG9wdXAocG9wdXBfNTgzNjJkNmUzNzAxNDAxZGE2MTZhN2ZkMTZmZjFjMWQpOwoKICAgICAgICAgICAgCiAgICAgICAgCiAgICAKICAgICAgICAgICAgdmFyIGNpcmNsZV9tYXJrZXJfYjQzNGZmZmNlZGJjNGIyNGIxZTFlZjE0ZmYwZDVlODYgPSBMLmNpcmNsZU1hcmtlcigKICAgICAgICAgICAgICAgIFstMjcuNDQxOTI1MTI3MTM0MTcsLTQ4LjQ4NjcxODUzNzQxNzQ2XSwKICAgICAgICAgICAgICAgIHsKICAiYnViYmxpbmdNb3VzZUV2ZW50cyI6IHRydWUsCiAgImNvbG9yIjogImJsdWUiLAogICJkYXNoQXJyYXkiOiBudWxsLAogICJkYXNoT2Zmc2V0IjogbnVsbCwKICAiZmlsbCI6IHRydWUsCiAgImZpbGxDb2xvciI6ICIjMzE4NmNjIiwKICAiZmlsbE9wYWNpdHkiOiAwLjcsCiAgImZpbGxSdWxlIjogImV2ZW5vZGQiLAogICJsaW5lQ2FwIjogInJvdW5kIiwKICAibGluZUpvaW4iOiAicm91bmQiLAogICJvcGFjaXR5IjogMS4wLAogICJyYWRpdXMiOiA1LAogICJzdHJva2UiOiB0cnVlLAogICJ3ZWlnaHQiOiAzCn0KICAgICAgICAgICAgICAgICkuYWRkVG8obWFwX2Y0YjZhNjhhY2ZhNzQ1M2Q4OWYyODM2NzFkYmU0NzEwKTsKICAgICAgICAgICAgCiAgICAKICAgICAgICAgICAgdmFyIHBvcHVwXzk0MTg1Zjc2NWQyMTRjOTRhMTRmMGI1NDg4NTQ4OGJiID0gTC5wb3B1cCh7bWF4V2lkdGg6ICczMDAnfSk7CgogICAgICAgICAgICAKICAgICAgICAgICAgICAgIHZhciBodG1sX2VhOGQ3MTlmMzY5NDRhOGE5M2U4ZDkxZjVkYjg5ZGJmID0gJCgnPGRpdiBpZD0iaHRtbF9lYThkNzE5ZjM2OTQ0YThhOTNlOGQ5MWY1ZGI4OWRiZiIgc3R5bGU9IndpZHRoOiAxMDAuMCU7IGhlaWdodDogMTAwLjAlOyI+VmlsYSBHYXN0cm9uw7RtaWNhIEp1cmVyw6ogRm9vZCBQYXJrPC9kaXY+JylbMF07CiAgICAgICAgICAgICAgICBwb3B1cF85NDE4NWY3NjVkMjE0Yzk0YTE0ZjBiNTQ4ODU0ODhiYi5zZXRDb250ZW50KGh0bWxfZWE4ZDcxOWYzNjk0NGE4YTkzZThkOTFmNWRiODlkYmYpOwogICAgICAgICAgICAKCiAgICAgICAgICAgIGNpcmNsZV9tYXJrZXJfYjQzNGZmZmNlZGJjNGIyNGIxZTFlZjE0ZmYwZDVlODYuYmluZFBvcHVwKHBvcHVwXzk0MTg1Zjc2NWQyMTRjOTRhMTRmMGI1NDg4NTQ4OGJiKTsKCiAgICAgICAgICAgIAogICAgICAgIAogICAgCiAgICAgICAgICAgIHZhciBjaXJjbGVfbWFya2VyX2E0MDBiYTQ4YmIzNzRmOWFiZTMxZTRjNGEzZGE3ZmU2ID0gTC5jaXJjbGVNYXJrZXIoCiAgICAgICAgICAgICAgICBbLTI3LjQ0MTE4MjYyMzMyOTk1LC00OC40ODY3NzQ4MzYyNTg4OF0sCiAgICAgICAgICAgICAgICB7CiAgImJ1YmJsaW5nTW91c2VFdmVudHMiOiB0cnVlLAogICJjb2xvciI6ICJibHVlIiwKICAiZGFzaEFycmF5IjogbnVsbCwKICAiZGFzaE9mZnNldCI6IG51bGwsCiAgImZpbGwiOiB0cnVlLAogICJmaWxsQ29sb3IiOiAiIzMxODZjYyIsCiAgImZpbGxPcGFjaXR5IjogMC43LAogICJmaWxsUnVsZSI6ICJldmVub2RkIiwKICAibGluZUNhcCI6ICJyb3VuZCIsCiAgImxpbmVKb2luIjogInJvdW5kIiwKICAib3BhY2l0eSI6IDEuMCwKICAicmFkaXVzIjogNSwKICAic3Ryb2tlIjogdHJ1ZSwKICAid2VpZ2h0IjogMwp9CiAgICAgICAgICAgICAgICApLmFkZFRvKG1hcF9mNGI2YTY4YWNmYTc0NTNkODlmMjgzNjcxZGJlNDcxMCk7CiAgICAgICAgICAgIAogICAgCiAgICAgICAgICAgIHZhciBwb3B1cF8wYzE0MzA5NTE5ZWM0OGI2ODc4NjRhMDM1OTNlMjIwNiA9IEwucG9wdXAoe21heFdpZHRoOiAnMzAwJ30pOwoKICAgICAgICAgICAgCiAgICAgICAgICAgICAgICB2YXIgaHRtbF8xZWU4MTNlMTY3ZDQ0N2IwYmI2MTYzZmRiZmY4NTEzOCA9ICQoJzxkaXYgaWQ9Imh0bWxfMWVlODEzZTE2N2Q0NDdiMGJiNjE2M2ZkYmZmODUxMzgiIHN0eWxlPSJ3aWR0aDogMTAwLjAlOyBoZWlnaHQ6IDEwMC4wJTsiPlBhblZlbCBGYXJtw6FjaWFzPC9kaXY+JylbMF07CiAgICAgICAgICAgICAgICBwb3B1cF8wYzE0MzA5NTE5ZWM0OGI2ODc4NjRhMDM1OTNlMjIwNi5zZXRDb250ZW50KGh0bWxfMWVlODEzZTE2N2Q0NDdiMGJiNjE2M2ZkYmZmODUxMzgpOwogICAgICAgICAgICAKCiAgICAgICAgICAgIGNpcmNsZV9tYXJrZXJfYTQwMGJhNDhiYjM3NGY5YWJlMzFlNGM0YTNkYTdmZTYuYmluZFBvcHVwKHBvcHVwXzBjMTQzMDk1MTllYzQ4YjY4Nzg2NGEwMzU5M2UyMjA2KTsKCiAgICAgICAgICAgIAogICAgICAgIAogICAgCiAgICAgICAgICAgIHZhciBjaXJjbGVfbWFya2VyXzRhYzk1ZjZkYTFmMzQ3ZDE5Y2Y4YjAzNWY0ZjkxMjA5ID0gTC5jaXJjbGVNYXJrZXIoCiAgICAgICAgICAgICAgICBbLTI3LjQzNzk4MDk5MDA1NzIyLC00OC40OTM4NjA0MzkzMTc1OV0sCiAgICAgICAgICAgICAgICB7CiAgImJ1YmJsaW5nTW91c2VFdmVudHMiOiB0cnVlLAogICJjb2xvciI6ICJibHVlIiwKICAiZGFzaEFycmF5IjogbnVsbCwKICAiZGFzaE9mZnNldCI6IG51bGwsCiAgImZpbGwiOiB0cnVlLAogICJmaWxsQ29sb3IiOiAiIzMxODZjYyIsCiAgImZpbGxPcGFjaXR5IjogMC43LAogICJmaWxsUnVsZSI6ICJldmVub2RkIiwKICAibGluZUNhcCI6ICJyb3VuZCIsCiAgImxpbmVKb2luIjogInJvdW5kIiwKICAib3BhY2l0eSI6IDEuMCwKICAicmFkaXVzIjogNSwKICAic3Ryb2tlIjogdHJ1ZSwKICAid2VpZ2h0IjogMwp9CiAgICAgICAgICAgICAgICApLmFkZFRvKG1hcF9mNGI2YTY4YWNmYTc0NTNkODlmMjgzNjcxZGJlNDcxMCk7CiAgICAgICAgICAgIAogICAgCiAgICAgICAgICAgIHZhciBwb3B1cF9lMWE5YjVmNzQyNWI0OTg0OTJiZGZmMzQ2YWE1YzZhNyA9IEwucG9wdXAoe21heFdpZHRoOiAnMzAwJ30pOwoKICAgICAgICAgICAgCiAgICAgICAgICAgICAgICB2YXIgaHRtbF84OWM4M2UxNGQxYzI0YmZjYTA1NGYwMmRjOGQ3ZmUwNiA9ICQoJzxkaXYgaWQ9Imh0bWxfODljODNlMTRkMWMyNGJmY2EwNTRmMDJkYzhkN2ZlMDYiIHN0eWxlPSJ3aWR0aDogMTAwLjAlOyBoZWlnaHQ6IDEwMC4wJTsiPkFjcXVhIFBsYWdlPC9kaXY+JylbMF07CiAgICAgICAgICAgICAgICBwb3B1cF9lMWE5YjVmNzQyNWI0OTg0OTJiZGZmMzQ2YWE1YzZhNy5zZXRDb250ZW50KGh0bWxfODljODNlMTRkMWMyNGJmY2EwNTRmMDJkYzhkN2ZlMDYpOwogICAgICAgICAgICAKCiAgICAgICAgICAgIGNpcmNsZV9tYXJrZXJfNGFjOTVmNmRhMWYzNDdkMTljZjhiMDM1ZjRmOTEyMDkuYmluZFBvcHVwKHBvcHVwX2UxYTliNWY3NDI1YjQ5ODQ5MmJkZmYzNDZhYTVjNmE3KTsKCiAgICAgICAgICAgIAogICAgICAgIAogICAgCiAgICAgICAgICAgIHZhciBjaXJjbGVfbWFya2VyXzk1MzUxODliMzE1NDQ3ZTE5N2I5Nzk3YTBjZjgyNmQzID0gTC5jaXJjbGVNYXJrZXIoCiAgICAgICAgICAgICAgICBbLTI3LjQ0NTUxMDc3MjI0ODc3LC00OC40ODc0ODU4MjAzOTg0MV0sCiAgICAgICAgICAgICAgICB7CiAgImJ1YmJsaW5nTW91c2VFdmVudHMiOiB0cnVlLAogICJjb2xvciI6ICJibHVlIiwKICAiZGFzaEFycmF5IjogbnVsbCwKICAiZGFzaE9mZnNldCI6IG51bGwsCiAgImZpbGwiOiB0cnVlLAogICJmaWxsQ29sb3IiOiAiIzMxODZjYyIsCiAgImZpbGxPcGFjaXR5IjogMC43LAogICJmaWxsUnVsZSI6ICJldmVub2RkIiwKICAibGluZUNhcCI6ICJyb3VuZCIsCiAgImxpbmVKb2luIjogInJvdW5kIiwKICAib3BhY2l0eSI6IDEuMCwKICAicmFkaXVzIjogNSwKICAic3Ryb2tlIjogdHJ1ZSwKICAid2VpZ2h0IjogMwp9CiAgICAgICAgICAgICAgICApLmFkZFRvKG1hcF9mNGI2YTY4YWNmYTc0NTNkODlmMjgzNjcxZGJlNDcxMCk7CiAgICAgICAgICAgIAogICAgCiAgICAgICAgICAgIHZhciBwb3B1cF8wZjdjYjNkNDZhY2I0ZDkyODQ5ZjZhZDU4NzBjYjA5OCA9IEwucG9wdXAoe21heFdpZHRoOiAnMzAwJ30pOwoKICAgICAgICAgICAgCiAgICAgICAgICAgICAgICB2YXIgaHRtbF9mNjI3MzBhNjkzY2I0NzJhYTBiOGM3YzAzNzRmODYxNiA9ICQoJzxkaXYgaWQ9Imh0bWxfZjYyNzMwYTY5M2NiNDcyYWEwYjhjN2MwMzc0Zjg2MTYiIHN0eWxlPSJ3aWR0aDogMTAwLjAlOyBoZWlnaHQ6IDEwMC4wJTsiPlN1cGVybWVyY2Fkb3MgSW1wZXJhdHJpejwvZGl2PicpWzBdOwogICAgICAgICAgICAgICAgcG9wdXBfMGY3Y2IzZDQ2YWNiNGQ5Mjg0OWY2YWQ1ODcwY2IwOTguc2V0Q29udGVudChodG1sX2Y2MjczMGE2OTNjYjQ3MmFhMGI4YzdjMDM3NGY4NjE2KTsKICAgICAgICAgICAgCgogICAgICAgICAgICBjaXJjbGVfbWFya2VyXzk1MzUxODliMzE1NDQ3ZTE5N2I5Nzk3YTBjZjgyNmQzLmJpbmRQb3B1cChwb3B1cF8wZjdjYjNkNDZhY2I0ZDkyODQ5ZjZhZDU4NzBjYjA5OCk7CgogICAgICAgICAgICAKICAgICAgICAKICAgIAogICAgICAgICAgICB2YXIgY2lyY2xlX21hcmtlcl9lNzljNTFmZGFjZjA0ZmJiYTA3YjI0ZTQ3ZDhhMDVmNCA9IEwuY2lyY2xlTWFya2VyKAogICAgICAgICAgICAgICAgWy0yNy40NDMxMTQ5NjE1NDY2NDgsLTQ4LjQ4Njg2MDQxODczNDczXSwKICAgICAgICAgICAgICAgIHsKICAiYnViYmxpbmdNb3VzZUV2ZW50cyI6IHRydWUsCiAgImNvbG9yIjogImJsdWUiLAogICJkYXNoQXJyYXkiOiBudWxsLAogICJkYXNoT2Zmc2V0IjogbnVsbCwKICAiZmlsbCI6IHRydWUsCiAgImZpbGxDb2xvciI6ICIjMzE4NmNjIiwKICAiZmlsbE9wYWNpdHkiOiAwLjcsCiAgImZpbGxSdWxlIjogImV2ZW5vZGQiLAogICJsaW5lQ2FwIjogInJvdW5kIiwKICAibGluZUpvaW4iOiAicm91bmQiLAogICJvcGFjaXR5IjogMS4wLAogICJyYWRpdXMiOiA1LAogICJzdHJva2UiOiB0cnVlLAogICJ3ZWlnaHQiOiAzCn0KICAgICAgICAgICAgICAgICkuYWRkVG8obWFwX2Y0YjZhNjhhY2ZhNzQ1M2Q4OWYyODM2NzFkYmU0NzEwKTsKICAgICAgICAgICAgCiAgICAKICAgICAgICAgICAgdmFyIHBvcHVwXzUzN2FkMTMxOWI5ZjQ3Nzg4ZjkxN2I1MDIwM2FkYTFiID0gTC5wb3B1cCh7bWF4V2lkdGg6ICczMDAnfSk7CgogICAgICAgICAgICAKICAgICAgICAgICAgICAgIHZhciBodG1sXzQ2NDUzNmVjMDUxYjQ3N2I5NGYyYjExNDc2ZDdlMjMwID0gJCgnPGRpdiBpZD0iaHRtbF80NjQ1MzZlYzA1MWI0NzdiOTRmMmIxMTQ3NmQ3ZTIzMCIgc3R5bGU9IndpZHRoOiAxMDAuMCU7IGhlaWdodDogMTAwLjAlOyI+QWNhZGVtaWEgQW5kcsOpIE5hc2NpbWVudG88L2Rpdj4nKVswXTsKICAgICAgICAgICAgICAgIHBvcHVwXzUzN2FkMTMxOWI5ZjQ3Nzg4ZjkxN2I1MDIwM2FkYTFiLnNldENvbnRlbnQoaHRtbF80NjQ1MzZlYzA1MWI0NzdiOTRmMmIxMTQ3NmQ3ZTIzMCk7CiAgICAgICAgICAgIAoKICAgICAgICAgICAgY2lyY2xlX21hcmtlcl9lNzljNTFmZGFjZjA0ZmJiYTA3YjI0ZTQ3ZDhhMDVmNC5iaW5kUG9wdXAocG9wdXBfNTM3YWQxMzE5YjlmNDc3ODhmOTE3YjUwMjAzYWRhMWIpOwoKICAgICAgICAgICAgCiAgICAgICAgCiAgICAKICAgICAgICAgICAgdmFyIGNpcmNsZV9tYXJrZXJfMzc5NjFhMjQxMDc0NDIxN2JiNTJjNzgwYjA2YjI4ODIgPSBMLmNpcmNsZU1hcmtlcigKICAgICAgICAgICAgICAgIFstMjcuNDM5ODkyMjI5Mzk4Njk0LC00OC40ODYwNDczMjQ1Mzk0OF0sCiAgICAgICAgICAgICAgICB7CiAgImJ1YmJsaW5nTW91c2VFdmVudHMiOiB0cnVlLAogICJjb2xvciI6ICJibHVlIiwKICAiZGFzaEFycmF5IjogbnVsbCwKICAiZGFzaE9mZnNldCI6IG51bGwsCiAgImZpbGwiOiB0cnVlLAogICJmaWxsQ29sb3IiOiAiIzMxODZjYyIsCiAgImZpbGxPcGFjaXR5IjogMC43LAogICJmaWxsUnVsZSI6ICJldmVub2RkIiwKICAibGluZUNhcCI6ICJyb3VuZCIsCiAgImxpbmVKb2luIjogInJvdW5kIiwKICAib3BhY2l0eSI6IDEuMCwKICAicmFkaXVzIjogNSwKICAic3Ryb2tlIjogdHJ1ZSwKICAid2VpZ2h0IjogMwp9CiAgICAgICAgICAgICAgICApLmFkZFRvKG1hcF9mNGI2YTY4YWNmYTc0NTNkODlmMjgzNjcxZGJlNDcxMCk7CiAgICAgICAgICAgIAogICAgCiAgICAgICAgICAgIHZhciBwb3B1cF9kYTk2YTA5ZmE2Y2M0ZjNlYWQ0M2ZjOTFiZWIwY2M3ZSA9IEwucG9wdXAoe21heFdpZHRoOiAnMzAwJ30pOwoKICAgICAgICAgICAgCiAgICAgICAgICAgICAgICB2YXIgaHRtbF9lOTgyNWFlNGRmYmE0NWM4ODcyYWViNDU2MjE2OGVjYiA9ICQoJzxkaXYgaWQ9Imh0bWxfZTk4MjVhZTRkZmJhNDVjODg3MmFlYjQ1NjIxNjhlY2IiIHN0eWxlPSJ3aWR0aDogMTAwLjAlOyBoZWlnaHQ6IDEwMC4wJTsiPkJpZXIgU3VzaGk8L2Rpdj4nKVswXTsKICAgICAgICAgICAgICAgIHBvcHVwX2RhOTZhMDlmYTZjYzRmM2VhZDQzZmM5MWJlYjBjYzdlLnNldENvbnRlbnQoaHRtbF9lOTgyNWFlNGRmYmE0NWM4ODcyYWViNDU2MjE2OGVjYik7CiAgICAgICAgICAgIAoKICAgICAgICAgICAgY2lyY2xlX21hcmtlcl8zNzk2MWEyNDEwNzQ0MjE3YmI1MmM3ODBiMDZiMjg4Mi5iaW5kUG9wdXAocG9wdXBfZGE5NmEwOWZhNmNjNGYzZWFkNDNmYzkxYmViMGNjN2UpOwoKICAgICAgICAgICAgCiAgICAgICAgCiAgICAKICAgICAgICAgICAgdmFyIGNpcmNsZV9tYXJrZXJfYzljMjZjOWNhNjQ3NGM3NWFhNzg5YzgwODhhNmI3ZWQgPSBMLmNpcmNsZU1hcmtlcigKICAgICAgICAgICAgICAgIFstMjcuNDQwNzA3LC00OC40OTI5N10sCiAgICAgICAgICAgICAgICB7CiAgImJ1YmJsaW5nTW91c2VFdmVudHMiOiB0cnVlLAogICJjb2xvciI6ICJibHVlIiwKICAiZGFzaEFycmF5IjogbnVsbCwKICAiZGFzaE9mZnNldCI6IG51bGwsCiAgImZpbGwiOiB0cnVlLAogICJmaWxsQ29sb3IiOiAiIzMxODZjYyIsCiAgImZpbGxPcGFjaXR5IjogMC43LAogICJmaWxsUnVsZSI6ICJldmVub2RkIiwKICAibGluZUNhcCI6ICJyb3VuZCIsCiAgImxpbmVKb2luIjogInJvdW5kIiwKICAib3BhY2l0eSI6IDEuMCwKICAicmFkaXVzIjogNSwKICAic3Ryb2tlIjogdHJ1ZSwKICAid2VpZ2h0IjogMwp9CiAgICAgICAgICAgICAgICApLmFkZFRvKG1hcF9mNGI2YTY4YWNmYTc0NTNkODlmMjgzNjcxZGJlNDcxMCk7CiAgICAgICAgICAgIAogICAgCiAgICAgICAgICAgIHZhciBwb3B1cF8xNjEzZDEzNDg1NTI0ZjA1YTMwMDNlNDQ4OGJhOTI4OSA9IEwucG9wdXAoe21heFdpZHRoOiAnMzAwJ30pOwoKICAgICAgICAgICAgCiAgICAgICAgICAgICAgICB2YXIgaHRtbF8yMmE5MGZlZDdhNjY0MDc5OWFkMjYxNzA2ODQ4ZDUyOCA9ICQoJzxkaXYgaWQ9Imh0bWxfMjJhOTBmZWQ3YTY2NDA3OTlhZDI2MTcwNjg0OGQ1MjgiIHN0eWxlPSJ3aWR0aDogMTAwLjAlOyBoZWlnaHQ6IDEwMC4wJTsiPklndWFyaWFzIGNvemluaGEgZG8gbWFyPC9kaXY+JylbMF07CiAgICAgICAgICAgICAgICBwb3B1cF8xNjEzZDEzNDg1NTI0ZjA1YTMwMDNlNDQ4OGJhOTI4OS5zZXRDb250ZW50KGh0bWxfMjJhOTBmZWQ3YTY2NDA3OTlhZDI2MTcwNjg0OGQ1MjgpOwogICAgICAgICAgICAKCiAgICAgICAgICAgIGNpcmNsZV9tYXJrZXJfYzljMjZjOWNhNjQ3NGM3NWFhNzg5YzgwODhhNmI3ZWQuYmluZFBvcHVwKHBvcHVwXzE2MTNkMTM0ODU1MjRmMDVhMzAwM2U0NDg4YmE5Mjg5KTsKCiAgICAgICAgICAgIAogICAgICAgIAogICAgCiAgICAgICAgICAgIHZhciBjaXJjbGVfbWFya2VyXzY2MjQwMzZiMjQ5ZjQ1ZDE4ZTZmYjY3NzlhNzNkZDVjID0gTC5jaXJjbGVNYXJrZXIoCiAgICAgICAgICAgICAgICBbLTI3LjQ0MzQzNTk0OTQ1MzksLTQ4LjQ5NDA3NjE3MjM1ODIyXSwKICAgICAgICAgICAgICAgIHsKICAiYnViYmxpbmdNb3VzZUV2ZW50cyI6IHRydWUsCiAgImNvbG9yIjogImJsdWUiLAogICJkYXNoQXJyYXkiOiBudWxsLAogICJkYXNoT2Zmc2V0IjogbnVsbCwKICAiZmlsbCI6IHRydWUsCiAgImZpbGxDb2xvciI6ICIjMzE4NmNjIiwKICAiZmlsbE9wYWNpdHkiOiAwLjcsCiAgImZpbGxSdWxlIjogImV2ZW5vZGQiLAogICJsaW5lQ2FwIjogInJvdW5kIiwKICAibGluZUpvaW4iOiAicm91bmQiLAogICJvcGFjaXR5IjogMS4wLAogICJyYWRpdXMiOiA1LAogICJzdHJva2UiOiB0cnVlLAogICJ3ZWlnaHQiOiAzCn0KICAgICAgICAgICAgICAgICkuYWRkVG8obWFwX2Y0YjZhNjhhY2ZhNzQ1M2Q4OWYyODM2NzFkYmU0NzEwKTsKICAgICAgICAgICAgCiAgICAKICAgICAgICAgICAgdmFyIHBvcHVwXzAzZGM1ZDgyZDhlOTRkZjE4MGRkMDhjMmRlMzY4Zjc5ID0gTC5wb3B1cCh7bWF4V2lkdGg6ICczMDAnfSk7CgogICAgICAgICAgICAKICAgICAgICAgICAgICAgIHZhciBodG1sX2ZlM2ExM2ExYzg2YjRhZWFiYmUyN2JhN2IzYTk2YThkID0gJCgnPGRpdiBpZD0iaHRtbF9mZTNhMTNhMWM4NmI0YWVhYmJlMjdiYTdiM2E5NmE4ZCIgc3R5bGU9IndpZHRoOiAxMDAuMCU7IGhlaWdodDogMTAwLjAlOyI+QWNhZGVtaWEgQWVyb2d5bTwvZGl2PicpWzBdOwogICAgICAgICAgICAgICAgcG9wdXBfMDNkYzVkODJkOGU5NGRmMTgwZGQwOGMyZGUzNjhmNzkuc2V0Q29udGVudChodG1sX2ZlM2ExM2ExYzg2YjRhZWFiYmUyN2JhN2IzYTk2YThkKTsKICAgICAgICAgICAgCgogICAgICAgICAgICBjaXJjbGVfbWFya2VyXzY2MjQwMzZiMjQ5ZjQ1ZDE4ZTZmYjY3NzlhNzNkZDVjLmJpbmRQb3B1cChwb3B1cF8wM2RjNWQ4MmQ4ZTk0ZGYxODBkZDA4YzJkZTM2OGY3OSk7CgogICAgICAgICAgICAKICAgICAgICAKICAgIAogICAgICAgICAgICB2YXIgY2lyY2xlX21hcmtlcl9kYzVkY2YzMTVmMDI0NTk0YWEyNmRhMmU0MjliYjk1OSA9IEwuY2lyY2xlTWFya2VyKAogICAgICAgICAgICAgICAgWy0yNy40NDA4NDg5NDc2NzE1MTUsLTQ4LjQ5MTM5OTEzMDQzMzQ2XSwKICAgICAgICAgICAgICAgIHsKICAiYnViYmxpbmdNb3VzZUV2ZW50cyI6IHRydWUsCiAgImNvbG9yIjogImJsdWUiLAogICJkYXNoQXJyYXkiOiBudWxsLAogICJkYXNoT2Zmc2V0IjogbnVsbCwKICAiZmlsbCI6IHRydWUsCiAgImZpbGxDb2xvciI6ICIjMzE4NmNjIiwKICAiZmlsbE9wYWNpdHkiOiAwLjcsCiAgImZpbGxSdWxlIjogImV2ZW5vZGQiLAogICJsaW5lQ2FwIjogInJvdW5kIiwKICAibGluZUpvaW4iOiAicm91bmQiLAogICJvcGFjaXR5IjogMS4wLAogICJyYWRpdXMiOiA1LAogICJzdHJva2UiOiB0cnVlLAogICJ3ZWlnaHQiOiAzCn0KICAgICAgICAgICAgICAgICkuYWRkVG8obWFwX2Y0YjZhNjhhY2ZhNzQ1M2Q4OWYyODM2NzFkYmU0NzEwKTsKICAgICAgICAgICAgCiAgICAKICAgICAgICAgICAgdmFyIHBvcHVwX2JjMGE0NGE0NzJmNjQxNmJhMDE2YTllMjU4ZWY0M2VkID0gTC5wb3B1cCh7bWF4V2lkdGg6ICczMDAnfSk7CgogICAgICAgICAgICAKICAgICAgICAgICAgICAgIHZhciBodG1sX2MyNWVkNmFiNGQ3MDQzODBiMGQ4MWFhNWUxZWUwNWU2ID0gJCgnPGRpdiBpZD0iaHRtbF9jMjVlZDZhYjRkNzA0MzgwYjBkODFhYTVlMWVlMDVlNiIgc3R5bGU9IndpZHRoOiAxMDAuMCU7IGhlaWdodDogMTAwLjAlOyI+SnVyZXLDqiBCZWFjaCBCdXJndWVyPC9kaXY+JylbMF07CiAgICAgICAgICAgICAgICBwb3B1cF9iYzBhNDRhNDcyZjY0MTZiYTAxNmE5ZTI1OGVmNDNlZC5zZXRDb250ZW50KGh0bWxfYzI1ZWQ2YWI0ZDcwNDM4MGIwZDgxYWE1ZTFlZTA1ZTYpOwogICAgICAgICAgICAKCiAgICAgICAgICAgIGNpcmNsZV9tYXJrZXJfZGM1ZGNmMzE1ZjAyNDU5NGFhMjZkYTJlNDI5YmI5NTkuYmluZFBvcHVwKHBvcHVwX2JjMGE0NGE0NzJmNjQxNmJhMDE2YTllMjU4ZWY0M2VkKTsKCiAgICAgICAgICAgIAogICAgICAgIAogICAgCiAgICAgICAgICAgIHZhciBjaXJjbGVfbWFya2VyX2EyNDYyNTBiZmJhZTQ1NDRiNmI4NGFmMGY3OGI0ZjYwID0gTC5jaXJjbGVNYXJrZXIoCiAgICAgICAgICAgICAgICBbLTI3LjQzOTc1MDMyMzQ3NjczNywtNDguNDg2OTYwMTA0MDU4OTE2XSwKICAgICAgICAgICAgICAgIHsKICAiYnViYmxpbmdNb3VzZUV2ZW50cyI6IHRydWUsCiAgImNvbG9yIjogImJsdWUiLAogICJkYXNoQXJyYXkiOiBudWxsLAogICJkYXNoT2Zmc2V0IjogbnVsbCwKICAiZmlsbCI6IHRydWUsCiAgImZpbGxDb2xvciI6ICIjMzE4NmNjIiwKICAiZmlsbE9wYWNpdHkiOiAwLjcsCiAgImZpbGxSdWxlIjogImV2ZW5vZGQiLAogICJsaW5lQ2FwIjogInJvdW5kIiwKICAibGluZUpvaW4iOiAicm91bmQiLAogICJvcGFjaXR5IjogMS4wLAogICJyYWRpdXMiOiA1LAogICJzdHJva2UiOiB0cnVlLAogICJ3ZWlnaHQiOiAzCn0KICAgICAgICAgICAgICAgICkuYWRkVG8obWFwX2Y0YjZhNjhhY2ZhNzQ1M2Q4OWYyODM2NzFkYmU0NzEwKTsKICAgICAgICAgICAgCiAgICAKICAgICAgICAgICAgdmFyIHBvcHVwXzA5MDc5OGJiNTM0MTQ2ZGU5MDliNDhlZWQ4MDZiNmUzID0gTC5wb3B1cCh7bWF4V2lkdGg6ICczMDAnfSk7CgogICAgICAgICAgICAKICAgICAgICAgICAgICAgIHZhciBodG1sXzdmZGEzMWM2NjcxNTQ3MmI5M2IyNTIwMGMyYjRkZmYzID0gJCgnPGRpdiBpZD0iaHRtbF83ZmRhMzFjNjY3MTU0NzJiOTNiMjUyMDBjMmI0ZGZmMyIgc3R5bGU9IndpZHRoOiAxMDAuMCU7IGhlaWdodDogMTAwLjAlOyI+U29ydmV0ZXJpYSBTYWJvciBOYXR1cmFsPC9kaXY+JylbMF07CiAgICAgICAgICAgICAgICBwb3B1cF8wOTA3OThiYjUzNDE0NmRlOTA5YjQ4ZWVkODA2YjZlMy5zZXRDb250ZW50KGh0bWxfN2ZkYTMxYzY2NzE1NDcyYjkzYjI1MjAwYzJiNGRmZjMpOwogICAgICAgICAgICAKCiAgICAgICAgICAgIGNpcmNsZV9tYXJrZXJfYTI0NjI1MGJmYmFlNDU0NGI2Yjg0YWYwZjc4YjRmNjAuYmluZFBvcHVwKHBvcHVwXzA5MDc5OGJiNTM0MTQ2ZGU5MDliNDhlZWQ4MDZiNmUzKTsKCiAgICAgICAgICAgIAogICAgICAgIAogICAgCiAgICAgICAgICAgIHZhciBjaXJjbGVfbWFya2VyX2I1NTA5YWY2NzFjMDRmZTNiNzE4ZjFkODEyMWUwYTM0ID0gTC5jaXJjbGVNYXJrZXIoCiAgICAgICAgICAgICAgICBbLTI3LjQzOTg2Njg4NDk5NDM0NSwtNDguNDg2MzUyNDk0Mjg4MTldLAogICAgICAgICAgICAgICAgewogICJidWJibGluZ01vdXNlRXZlbnRzIjogdHJ1ZSwKICAiY29sb3IiOiAiYmx1ZSIsCiAgImRhc2hBcnJheSI6IG51bGwsCiAgImRhc2hPZmZzZXQiOiBudWxsLAogICJmaWxsIjogdHJ1ZSwKICAiZmlsbENvbG9yIjogIiMzMTg2Y2MiLAogICJmaWxsT3BhY2l0eSI6IDAuNywKICAiZmlsbFJ1bGUiOiAiZXZlbm9kZCIsCiAgImxpbmVDYXAiOiAicm91bmQiLAogICJsaW5lSm9pbiI6ICJyb3VuZCIsCiAgIm9wYWNpdHkiOiAxLjAsCiAgInJhZGl1cyI6IDUsCiAgInN0cm9rZSI6IHRydWUsCiAgIndlaWdodCI6IDMKfQogICAgICAgICAgICAgICAgKS5hZGRUbyhtYXBfZjRiNmE2OGFjZmE3NDUzZDg5ZjI4MzY3MWRiZTQ3MTApOwogICAgICAgICAgICAKICAgIAogICAgICAgICAgICB2YXIgcG9wdXBfYWIxNjJkMzU3NDU3NDRiMWI2MDc3ODY5MmFiMmJjZDEgPSBMLnBvcHVwKHttYXhXaWR0aDogJzMwMCd9KTsKCiAgICAgICAgICAgIAogICAgICAgICAgICAgICAgdmFyIGh0bWxfMDI2NWJlYjgwZjYzNGU4MWE0NjJkZTE5MTA3NDQ5MzkgPSAkKCc8ZGl2IGlkPSJodG1sXzAyNjViZWI4MGY2MzRlODFhNDYyZGUxOTEwNzQ0OTM5IiBzdHlsZT0id2lkdGg6IDEwMC4wJTsgaGVpZ2h0OiAxMDAuMCU7Ij5BbW9yYXR0byBTb3J2ZXRlcyBBcnRlc2FuYWlzPC9kaXY+JylbMF07CiAgICAgICAgICAgICAgICBwb3B1cF9hYjE2MmQzNTc0NTc0NGIxYjYwNzc4NjkyYWIyYmNkMS5zZXRDb250ZW50KGh0bWxfMDI2NWJlYjgwZjYzNGU4MWE0NjJkZTE5MTA3NDQ5MzkpOwogICAgICAgICAgICAKCiAgICAgICAgICAgIGNpcmNsZV9tYXJrZXJfYjU1MDlhZjY3MWMwNGZlM2I3MThmMWQ4MTIxZTBhMzQuYmluZFBvcHVwKHBvcHVwX2FiMTYyZDM1NzQ1NzQ0YjFiNjA3Nzg2OTJhYjJiY2QxKTsKCiAgICAgICAgICAgIAogICAgICAgIAogICAgCiAgICAgICAgICAgIHZhciBjaXJjbGVfbWFya2VyXzczOTFjNzIxZWQ2MjRjYTdiMzY1OWQ4NmI0MzM3NDA2ID0gTC5jaXJjbGVNYXJrZXIoCiAgICAgICAgICAgICAgICBbLTI3LjQzOTczNywtNDguNDg3MTddLAogICAgICAgICAgICAgICAgewogICJidWJibGluZ01vdXNlRXZlbnRzIjogdHJ1ZSwKICAiY29sb3IiOiAiYmx1ZSIsCiAgImRhc2hBcnJheSI6IG51bGwsCiAgImRhc2hPZmZzZXQiOiBudWxsLAogICJmaWxsIjogdHJ1ZSwKICAiZmlsbENvbG9yIjogIiMzMTg2Y2MiLAogICJmaWxsT3BhY2l0eSI6IDAuNywKICAiZmlsbFJ1bGUiOiAiZXZlbm9kZCIsCiAgImxpbmVDYXAiOiAicm91bmQiLAogICJsaW5lSm9pbiI6ICJyb3VuZCIsCiAgIm9wYWNpdHkiOiAxLjAsCiAgInJhZGl1cyI6IDUsCiAgInN0cm9rZSI6IHRydWUsCiAgIndlaWdodCI6IDMKfQogICAgICAgICAgICAgICAgKS5hZGRUbyhtYXBfZjRiNmE2OGFjZmE3NDUzZDg5ZjI4MzY3MWRiZTQ3MTApOwogICAgICAgICAgICAKICAgIAogICAgICAgICAgICB2YXIgcG9wdXBfMDMwZmQ1MmU0ZjlmNDE5Nzg1NzFhOTYxNWIxYjk1MTkgPSBMLnBvcHVwKHttYXhXaWR0aDogJzMwMCd9KTsKCiAgICAgICAgICAgIAogICAgICAgICAgICAgICAgdmFyIGh0bWxfOTUyNWI3YjQ5MTZjNGQyOTg2MDU0OTg1MjdlMDQ3YWEgPSAkKCc8ZGl2IGlkPSJodG1sXzk1MjViN2I0OTE2YzRkMjk4NjA1NDk4NTI3ZTA0N2FhIiBzdHlsZT0id2lkdGg6IDEwMC4wJTsgaGVpZ2h0OiAxMDAuMCU7Ij5BbGFtZWRhIGdvdXJtZXQ8L2Rpdj4nKVswXTsKICAgICAgICAgICAgICAgIHBvcHVwXzAzMGZkNTJlNGY5ZjQxOTc4NTcxYTk2MTViMWI5NTE5LnNldENvbnRlbnQoaHRtbF85NTI1YjdiNDkxNmM0ZDI5ODYwNTQ5ODUyN2UwNDdhYSk7CiAgICAgICAgICAgIAoKICAgICAgICAgICAgY2lyY2xlX21hcmtlcl83MzkxYzcyMWVkNjI0Y2E3YjM2NTlkODZiNDMzNzQwNi5iaW5kUG9wdXAocG9wdXBfMDMwZmQ1MmU0ZjlmNDE5Nzg1NzFhOTYxNWIxYjk1MTkpOwoKICAgICAgICAgICAgCiAgICAgICAgCiAgICAKICAgICAgICAgICAgdmFyIGNpcmNsZV9tYXJrZXJfODk1NjA1NGM4NDM0NDIzODhiMDllMDNmZDU0NTc1MjggPSBMLmNpcmNsZU1hcmtlcigKICAgICAgICAgICAgICAgIFstMjcuNDQzNzA4LC00OC40ODY5MTldLAogICAgICAgICAgICAgICAgewogICJidWJibGluZ01vdXNlRXZlbnRzIjogdHJ1ZSwKICAiY29sb3IiOiAiYmx1ZSIsCiAgImRhc2hBcnJheSI6IG51bGwsCiAgImRhc2hPZmZzZXQiOiBudWxsLAogICJmaWxsIjogdHJ1ZSwKICAiZmlsbENvbG9yIjogIiMzMTg2Y2MiLAogICJmaWxsT3BhY2l0eSI6IDAuNywKICAiZmlsbFJ1bGUiOiAiZXZlbm9kZCIsCiAgImxpbmVDYXAiOiAicm91bmQiLAogICJsaW5lSm9pbiI6ICJyb3VuZCIsCiAgIm9wYWNpdHkiOiAxLjAsCiAgInJhZGl1cyI6IDUsCiAgInN0cm9rZSI6IHRydWUsCiAgIndlaWdodCI6IDMKfQogICAgICAgICAgICAgICAgKS5hZGRUbyhtYXBfZjRiNmE2OGFjZmE3NDUzZDg5ZjI4MzY3MWRiZTQ3MTApOwogICAgICAgICAgICAKICAgIAogICAgICAgICAgICB2YXIgcG9wdXBfMWUyY2M2Mjk5Mjk3NGU3MTgyM2FlYzFjYWVhOGY3OTIgPSBMLnBvcHVwKHttYXhXaWR0aDogJzMwMCd9KTsKCiAgICAgICAgICAgIAogICAgICAgICAgICAgICAgdmFyIGh0bWxfMGNlN2E4ZGRhNjc5NGYzNGJlMjdkZjQwN2VmZDA0OWYgPSAkKCc8ZGl2IGlkPSJodG1sXzBjZTdhOGRkYTY3OTRmMzRiZTI3ZGY0MDdlZmQwNDlmIiBzdHlsZT0id2lkdGg6IDEwMC4wJTsgaGVpZ2h0OiAxMDAuMCU7Ij5MdWNpbGEgQmlzdHLDtCBJSTwvZGl2PicpWzBdOwogICAgICAgICAgICAgICAgcG9wdXBfMWUyY2M2Mjk5Mjk3NGU3MTgyM2FlYzFjYWVhOGY3OTIuc2V0Q29udGVudChodG1sXzBjZTdhOGRkYTY3OTRmMzRiZTI3ZGY0MDdlZmQwNDlmKTsKICAgICAgICAgICAgCgogICAgICAgICAgICBjaXJjbGVfbWFya2VyXzg5NTYwNTRjODQzNDQyMzg4YjA5ZTAzZmQ1NDU3NTI4LmJpbmRQb3B1cChwb3B1cF8xZTJjYzYyOTkyOTc0ZTcxODIzYWVjMWNhZWE4Zjc5Mik7CgogICAgICAgICAgICAKICAgICAgICAKICAgIAogICAgICAgICAgICB2YXIgY2lyY2xlX21hcmtlcl83ZWM3NDlmOTA3YTY0Y2YyOWMwYzdhYTExYWYzNTkwNSA9IEwuY2lyY2xlTWFya2VyKAogICAgICAgICAgICAgICAgWy0yNy40NDQ2MTU2NTg2NjMzMjcsLTQ4LjQ5NDE1MTQ2NjQzNTk0XSwKICAgICAgICAgICAgICAgIHsKICAiYnViYmxpbmdNb3VzZUV2ZW50cyI6IHRydWUsCiAgImNvbG9yIjogImJsdWUiLAogICJkYXNoQXJyYXkiOiBudWxsLAogICJkYXNoT2Zmc2V0IjogbnVsbCwKICAiZmlsbCI6IHRydWUsCiAgImZpbGxDb2xvciI6ICIjMzE4NmNjIiwKICAiZmlsbE9wYWNpdHkiOiAwLjcsCiAgImZpbGxSdWxlIjogImV2ZW5vZGQiLAogICJsaW5lQ2FwIjogInJvdW5kIiwKICAibGluZUpvaW4iOiAicm91bmQiLAogICJvcGFjaXR5IjogMS4wLAogICJyYWRpdXMiOiA1LAogICJzdHJva2UiOiB0cnVlLAogICJ3ZWlnaHQiOiAzCn0KICAgICAgICAgICAgICAgICkuYWRkVG8obWFwX2Y0YjZhNjhhY2ZhNzQ1M2Q4OWYyODM2NzFkYmU0NzEwKTsKICAgICAgICAgICAgCiAgICAKICAgICAgICAgICAgdmFyIHBvcHVwXzE3NTJiMjNkMjNkNjQwZmM4ZmUwZTAwNTI3NGRiMmI1ID0gTC5wb3B1cCh7bWF4V2lkdGg6ICczMDAnfSk7CgogICAgICAgICAgICAKICAgICAgICAgICAgICAgIHZhciBodG1sX2VkMzFlODYxMWJmYTQxNTM5MDhmZjg4OWYzNmFhZDRmID0gJCgnPGRpdiBpZD0iaHRtbF9lZDMxZTg2MTFiZmE0MTUzOTA4ZmY4ODlmMzZhYWQ0ZiIgc3R5bGU9IndpZHRoOiAxMDAuMCU7IGhlaWdodDogMTAwLjAlOyI+UG9zaCBQaHlzaWNhbCBDZW50ZXI8L2Rpdj4nKVswXTsKICAgICAgICAgICAgICAgIHBvcHVwXzE3NTJiMjNkMjNkNjQwZmM4ZmUwZTAwNTI3NGRiMmI1LnNldENvbnRlbnQoaHRtbF9lZDMxZTg2MTFiZmE0MTUzOTA4ZmY4ODlmMzZhYWQ0Zik7CiAgICAgICAgICAgIAoKICAgICAgICAgICAgY2lyY2xlX21hcmtlcl83ZWM3NDlmOTA3YTY0Y2YyOWMwYzdhYTExYWYzNTkwNS5iaW5kUG9wdXAocG9wdXBfMTc1MmIyM2QyM2Q2NDBmYzhmZTBlMDA1Mjc0ZGIyYjUpOwoKICAgICAgICAgICAgCiAgICAgICAgCiAgICAKICAgICAgICAgICAgdmFyIGNpcmNsZV9tYXJrZXJfNzdlMDQwYTJjMTRjNGQyOTg4NTBhZTYyOWZmYmM4OWIgPSBMLmNpcmNsZU1hcmtlcigKICAgICAgICAgICAgICAgIFstMjcuNDM5OTU4MDkwMDU1NDgsLTQ4LjQ4NDk2NzU2ODE3MDk0XSwKICAgICAgICAgICAgICAgIHsKICAiYnViYmxpbmdNb3VzZUV2ZW50cyI6IHRydWUsCiAgImNvbG9yIjogImJsdWUiLAogICJkYXNoQXJyYXkiOiBudWxsLAogICJkYXNoT2Zmc2V0IjogbnVsbCwKICAiZmlsbCI6IHRydWUsCiAgImZpbGxDb2xvciI6ICIjMzE4NmNjIiwKICAiZmlsbE9wYWNpdHkiOiAwLjcsCiAgImZpbGxSdWxlIjogImV2ZW5vZGQiLAogICJsaW5lQ2FwIjogInJvdW5kIiwKICAibGluZUpvaW4iOiAicm91bmQiLAogICJvcGFjaXR5IjogMS4wLAogICJyYWRpdXMiOiA1LAogICJzdHJva2UiOiB0cnVlLAogICJ3ZWlnaHQiOiAzCn0KICAgICAgICAgICAgICAgICkuYWRkVG8obWFwX2Y0YjZhNjhhY2ZhNzQ1M2Q4OWYyODM2NzFkYmU0NzEwKTsKICAgICAgICAgICAgCiAgICAKICAgICAgICAgICAgdmFyIHBvcHVwX2UyYzk1NGFlMTk1ODQ3YTg4ZjRhNTUxMjI2OWQ0YWFkID0gTC5wb3B1cCh7bWF4V2lkdGg6ICczMDAnfSk7CgogICAgICAgICAgICAKICAgICAgICAgICAgICAgIHZhciBodG1sXzNlOTdlMGU4MjJkZTQ2M2M4YzJmMDRkNWViMDc5NzlmID0gJCgnPGRpdiBpZD0iaHRtbF8zZTk3ZTBlODIyZGU0NjNjOGMyZjA0ZDVlYjA3OTc5ZiIgc3R5bGU9IndpZHRoOiAxMDAuMCU7IGhlaWdodDogMTAwLjAlOyI+U3VwZXJtZXJjYWRvIEJyYXVsaW88L2Rpdj4nKVswXTsKICAgICAgICAgICAgICAgIHBvcHVwX2UyYzk1NGFlMTk1ODQ3YTg4ZjRhNTUxMjI2OWQ0YWFkLnNldENvbnRlbnQoaHRtbF8zZTk3ZTBlODIyZGU0NjNjOGMyZjA0ZDVlYjA3OTc5Zik7CiAgICAgICAgICAgIAoKICAgICAgICAgICAgY2lyY2xlX21hcmtlcl83N2UwNDBhMmMxNGM0ZDI5ODg1MGFlNjI5ZmZiYzg5Yi5iaW5kUG9wdXAocG9wdXBfZTJjOTU0YWUxOTU4NDdhODhmNGE1NTEyMjY5ZDRhYWQpOwoKICAgICAgICAgICAgCiAgICAgICAgCiAgICAKICAgICAgICAgICAgdmFyIGNpcmNsZV9tYXJrZXJfNGU4ZjQyN2I1OTA3NGU2MTg1YTAwZTk0ZDA0NmI2YTkgPSBMLmNpcmNsZU1hcmtlcigKICAgICAgICAgICAgICAgIFstMjcuNDQ1MDYyMDU3ODQ4ODk3LC00OC40ODQxMzc5NjY4NTEyM10sCiAgICAgICAgICAgICAgICB7CiAgImJ1YmJsaW5nTW91c2VFdmVudHMiOiB0cnVlLAogICJjb2xvciI6ICJibHVlIiwKICAiZGFzaEFycmF5IjogbnVsbCwKICAiZGFzaE9mZnNldCI6IG51bGwsCiAgImZpbGwiOiB0cnVlLAogICJmaWxsQ29sb3IiOiAiIzMxODZjYyIsCiAgImZpbGxPcGFjaXR5IjogMC43LAogICJmaWxsUnVsZSI6ICJldmVub2RkIiwKICAibGluZUNhcCI6ICJyb3VuZCIsCiAgImxpbmVKb2luIjogInJvdW5kIiwKICAib3BhY2l0eSI6IDEuMCwKICAicmFkaXVzIjogNSwKICAic3Ryb2tlIjogdHJ1ZSwKICAid2VpZ2h0IjogMwp9CiAgICAgICAgICAgICAgICApLmFkZFRvKG1hcF9mNGI2YTY4YWNmYTc0NTNkODlmMjgzNjcxZGJlNDcxMCk7CiAgICAgICAgICAgIAogICAgCiAgICAgICAgICAgIHZhciBwb3B1cF9hNDU0ZjBiYTk4ZDE0ODkwODg1YjMzYjM0MWQwZDkwMyA9IEwucG9wdXAoe21heFdpZHRoOiAnMzAwJ30pOwoKICAgICAgICAgICAgCiAgICAgICAgICAgICAgICB2YXIgaHRtbF80YzJjMTMzMzRkYTc0OWYxYmIyMTBjNzllMWNjYmY2OSA9ICQoJzxkaXYgaWQ9Imh0bWxfNGMyYzEzMzM0ZGE3NDlmMWJiMjEwYzc5ZTFjY2JmNjkiIHN0eWxlPSJ3aWR0aDogMTAwLjAlOyBoZWlnaHQ6IDEwMC4wJTsiPlBhZGFyaWEgZG8gSm9jYTwvZGl2PicpWzBdOwogICAgICAgICAgICAgICAgcG9wdXBfYTQ1NGYwYmE5OGQxNDg5MDg4NWIzM2IzNDFkMGQ5MDMuc2V0Q29udGVudChodG1sXzRjMmMxMzMzNGRhNzQ5ZjFiYjIxMGM3OWUxY2NiZjY5KTsKICAgICAgICAgICAgCgogICAgICAgICAgICBjaXJjbGVfbWFya2VyXzRlOGY0MjdiNTkwNzRlNjE4NWEwMGU5NGQwNDZiNmE5LmJpbmRQb3B1cChwb3B1cF9hNDU0ZjBiYTk4ZDE0ODkwODg1YjMzYjM0MWQwZDkwMyk7CgogICAgICAgICAgICAKICAgICAgICAKICAgIAogICAgICAgICAgICB2YXIgY2lyY2xlX21hcmtlcl9lNTEwMDQ5MzI5NWE0OGE4YjQ4Yjc3Mzc5OTNlMGExZCA9IEwuY2lyY2xlTWFya2VyKAogICAgICAgICAgICAgICAgWy0yNy40Mzg2MjAxOTA3OTExODgsLTQ4LjQ4OTM2NDExNzg4MTI5NF0sCiAgICAgICAgICAgICAgICB7CiAgImJ1YmJsaW5nTW91c2VFdmVudHMiOiB0cnVlLAogICJjb2xvciI6ICJibHVlIiwKICAiZGFzaEFycmF5IjogbnVsbCwKICAiZGFzaE9mZnNldCI6IG51bGwsCiAgImZpbGwiOiB0cnVlLAogICJmaWxsQ29sb3IiOiAiIzMxODZjYyIsCiAgImZpbGxPcGFjaXR5IjogMC43LAogICJmaWxsUnVsZSI6ICJldmVub2RkIiwKICAibGluZUNhcCI6ICJyb3VuZCIsCiAgImxpbmVKb2luIjogInJvdW5kIiwKICAib3BhY2l0eSI6IDEuMCwKICAicmFkaXVzIjogNSwKICAic3Ryb2tlIjogdHJ1ZSwKICAid2VpZ2h0IjogMwp9CiAgICAgICAgICAgICAgICApLmFkZFRvKG1hcF9mNGI2YTY4YWNmYTc0NTNkODlmMjgzNjcxZGJlNDcxMCk7CiAgICAgICAgICAgIAogICAgCiAgICAgICAgICAgIHZhciBwb3B1cF8zZmU5MWVkZWU2MGE0ZDdlYmQwNTZiMTI5OTdiZjhhNiA9IEwucG9wdXAoe21heFdpZHRoOiAnMzAwJ30pOwoKICAgICAgICAgICAgCiAgICAgICAgICAgICAgICB2YXIgaHRtbF8zNTQ3NDUzOGU4YTY0NmUzYjlmNTBkOTNmZTVjZWFiYyA9ICQoJzxkaXYgaWQ9Imh0bWxfMzU0NzQ1MzhlOGE2NDZlM2I5ZjUwZDkzZmU1Y2VhYmMiIHN0eWxlPSJ3aWR0aDogMTAwLjAlOyBoZWlnaHQ6IDEwMC4wJTsiPlogUGVycnkgUmVzdGF1cmFudGU8L2Rpdj4nKVswXTsKICAgICAgICAgICAgICAgIHBvcHVwXzNmZTkxZWRlZTYwYTRkN2ViZDA1NmIxMjk5N2JmOGE2LnNldENvbnRlbnQoaHRtbF8zNTQ3NDUzOGU4YTY0NmUzYjlmNTBkOTNmZTVjZWFiYyk7CiAgICAgICAgICAgIAoKICAgICAgICAgICAgY2lyY2xlX21hcmtlcl9lNTEwMDQ5MzI5NWE0OGE4YjQ4Yjc3Mzc5OTNlMGExZC5iaW5kUG9wdXAocG9wdXBfM2ZlOTFlZGVlNjBhNGQ3ZWJkMDU2YjEyOTk3YmY4YTYpOwoKICAgICAgICAgICAgCiAgICAgICAgCiAgICAKICAgICAgICAgICAgdmFyIGNpcmNsZV9tYXJrZXJfZmViZTRhZDg3NzZlNGQ3NWIwNGFmYjg4NTVhNzU1ZTcgPSBMLmNpcmNsZU1hcmtlcigKICAgICAgICAgICAgICAgIFstMjcuNDM4ODg0NjI0MDUwMDU0LC00OC40ODk1NjM3Nzc4MTM3OF0sCiAgICAgICAgICAgICAgICB7CiAgImJ1YmJsaW5nTW91c2VFdmVudHMiOiB0cnVlLAogICJjb2xvciI6ICJibHVlIiwKICAiZGFzaEFycmF5IjogbnVsbCwKICAiZGFzaE9mZnNldCI6IG51bGwsCiAgImZpbGwiOiB0cnVlLAogICJmaWxsQ29sb3IiOiAiIzMxODZjYyIsCiAgImZpbGxPcGFjaXR5IjogMC43LAogICJmaWxsUnVsZSI6ICJldmVub2RkIiwKICAibGluZUNhcCI6ICJyb3VuZCIsCiAgImxpbmVKb2luIjogInJvdW5kIiwKICAib3BhY2l0eSI6IDEuMCwKICAicmFkaXVzIjogNSwKICAic3Ryb2tlIjogdHJ1ZSwKICAid2VpZ2h0IjogMwp9CiAgICAgICAgICAgICAgICApLmFkZFRvKG1hcF9mNGI2YTY4YWNmYTc0NTNkODlmMjgzNjcxZGJlNDcxMCk7CiAgICAgICAgICAgIAogICAgCiAgICAgICAgICAgIHZhciBwb3B1cF81MDBhMGFhZjMyMjM0YmM2OTJiYzNmNDExZmQ0NTI5MiA9IEwucG9wdXAoe21heFdpZHRoOiAnMzAwJ30pOwoKICAgICAgICAgICAgCiAgICAgICAgICAgICAgICB2YXIgaHRtbF9hNmIyMzYyN2EyODg0MTVkOTMwZDY5YmYwMjQ3NjY5ZSA9ICQoJzxkaXYgaWQ9Imh0bWxfYTZiMjM2MjdhMjg4NDE1ZDkzMGQ2OWJmMDI0NzY2OWUiIHN0eWxlPSJ3aWR0aDogMTAwLjAlOyBoZWlnaHQ6IDEwMC4wJTsiPlBpc2NpbmEgRG8gSnVyZXLDqiBCZWFjaCBWaWxsYWdlPC9kaXY+JylbMF07CiAgICAgICAgICAgICAgICBwb3B1cF81MDBhMGFhZjMyMjM0YmM2OTJiYzNmNDExZmQ0NTI5Mi5zZXRDb250ZW50KGh0bWxfYTZiMjM2MjdhMjg4NDE1ZDkzMGQ2OWJmMDI0NzY2OWUpOwogICAgICAgICAgICAKCiAgICAgICAgICAgIGNpcmNsZV9tYXJrZXJfZmViZTRhZDg3NzZlNGQ3NWIwNGFmYjg4NTVhNzU1ZTcuYmluZFBvcHVwKHBvcHVwXzUwMGEwYWFmMzIyMzRiYzY5MmJjM2Y0MTFmZDQ1MjkyKTsKCiAgICAgICAgICAgIAogICAgICAgIAogICAgCiAgICAgICAgICAgIHZhciBjaXJjbGVfbWFya2VyXzVkYjNkNjk0MzFiOTRiZjA5YzVlNWE2YjJmMGZiNGMwID0gTC5jaXJjbGVNYXJrZXIoCiAgICAgICAgICAgICAgICBbLTI3LjQzODkzNzAwODE5NDE2NiwtNDguNDk0MTQ4NTIxMTY2OTVdLAogICAgICAgICAgICAgICAgewogICJidWJibGluZ01vdXNlRXZlbnRzIjogdHJ1ZSwKICAiY29sb3IiOiAiYmx1ZSIsCiAgImRhc2hBcnJheSI6IG51bGwsCiAgImRhc2hPZmZzZXQiOiBudWxsLAogICJmaWxsIjogdHJ1ZSwKICAiZmlsbENvbG9yIjogIiMzMTg2Y2MiLAogICJmaWxsT3BhY2l0eSI6IDAuNywKICAiZmlsbFJ1bGUiOiAiZXZlbm9kZCIsCiAgImxpbmVDYXAiOiAicm91bmQiLAogICJsaW5lSm9pbiI6ICJyb3VuZCIsCiAgIm9wYWNpdHkiOiAxLjAsCiAgInJhZGl1cyI6IDUsCiAgInN0cm9rZSI6IHRydWUsCiAgIndlaWdodCI6IDMKfQogICAgICAgICAgICAgICAgKS5hZGRUbyhtYXBfZjRiNmE2OGFjZmE3NDUzZDg5ZjI4MzY3MWRiZTQ3MTApOwogICAgICAgICAgICAKICAgIAogICAgICAgICAgICB2YXIgcG9wdXBfZDBjMDJjZTZmNTFkNDVkYTllNTkxODNhYTMyMDMyZGUgPSBMLnBvcHVwKHttYXhXaWR0aDogJzMwMCd9KTsKCiAgICAgICAgICAgIAogICAgICAgICAgICAgICAgdmFyIGh0bWxfMDIzYzczYjUxZWQ4NDljMTlkZTE3NWM5M2I1ZTlhYzUgPSAkKCc8ZGl2IGlkPSJodG1sXzAyM2M3M2I1MWVkODQ5YzE5ZGUxNzVjOTNiNWU5YWM1IiBzdHlsZT0id2lkdGg6IDEwMC4wJTsgaGVpZ2h0OiAxMDAuMCU7Ij5Cb3RlY28gSnVyw6o8L2Rpdj4nKVswXTsKICAgICAgICAgICAgICAgIHBvcHVwX2QwYzAyY2U2ZjUxZDQ1ZGE5ZTU5MTgzYWEzMjAzMmRlLnNldENvbnRlbnQoaHRtbF8wMjNjNzNiNTFlZDg0OWMxOWRlMTc1YzkzYjVlOWFjNSk7CiAgICAgICAgICAgIAoKICAgICAgICAgICAgY2lyY2xlX21hcmtlcl81ZGIzZDY5NDMxYjk0YmYwOWM1ZTVhNmIyZjBmYjRjMC5iaW5kUG9wdXAocG9wdXBfZDBjMDJjZTZmNTFkNDVkYTllNTkxODNhYTMyMDMyZGUpOwoKICAgICAgICAgICAgCiAgICAgICAgCiAgICAKICAgICAgICAgICAgdmFyIGNpcmNsZV9tYXJrZXJfYjkwNTRhYTMyYjA0NGQ0N2E5MDViYTI3ZGE3MmQzOGEgPSBMLmNpcmNsZU1hcmtlcigKICAgICAgICAgICAgICAgIFstMjcuNDQxMDYzMzkxMzAyNzM4LC00OC40ODY3NTEyNDI4MTExMjRdLAogICAgICAgICAgICAgICAgewogICJidWJibGluZ01vdXNlRXZlbnRzIjogdHJ1ZSwKICAiY29sb3IiOiAiYmx1ZSIsCiAgImRhc2hBcnJheSI6IG51bGwsCiAgImRhc2hPZmZzZXQiOiBudWxsLAogICJmaWxsIjogdHJ1ZSwKICAiZmlsbENvbG9yIjogIiMzMTg2Y2MiLAogICJmaWxsT3BhY2l0eSI6IDAuNywKICAiZmlsbFJ1bGUiOiAiZXZlbm9kZCIsCiAgImxpbmVDYXAiOiAicm91bmQiLAogICJsaW5lSm9pbiI6ICJyb3VuZCIsCiAgIm9wYWNpdHkiOiAxLjAsCiAgInJhZGl1cyI6IDUsCiAgInN0cm9rZSI6IHRydWUsCiAgIndlaWdodCI6IDMKfQogICAgICAgICAgICAgICAgKS5hZGRUbyhtYXBfZjRiNmE2OGFjZmE3NDUzZDg5ZjI4MzY3MWRiZTQ3MTApOwogICAgICAgICAgICAKICAgIAogICAgICAgICAgICB2YXIgcG9wdXBfYzkzNzk4NWUzZDE0NGE2Y2JmZWJjYWY4Yzc3ODEzNzAgPSBMLnBvcHVwKHttYXhXaWR0aDogJzMwMCd9KTsKCiAgICAgICAgICAgIAogICAgICAgICAgICAgICAgdmFyIGh0bWxfYThhNzYyZjBhYzUzNGIwZTgwMjI2OWI2NTQ0OGQxNDggPSAkKCc8ZGl2IGlkPSJodG1sX2E4YTc2MmYwYWM1MzRiMGU4MDIyNjliNjU0NDhkMTQ4IiBzdHlsZT0id2lkdGg6IDEwMC4wJTsgaGVpZ2h0OiAxMDAuMCU7Ij5UaGUgQmFyIEp1cmVyw6o8L2Rpdj4nKVswXTsKICAgICAgICAgICAgICAgIHBvcHVwX2M5Mzc5ODVlM2QxNDRhNmNiZmViY2FmOGM3NzgxMzcwLnNldENvbnRlbnQoaHRtbF9hOGE3NjJmMGFjNTM0YjBlODAyMjY5YjY1NDQ4ZDE0OCk7CiAgICAgICAgICAgIAoKICAgICAgICAgICAgY2lyY2xlX21hcmtlcl9iOTA1NGFhMzJiMDQ0ZDQ3YTkwNWJhMjdkYTcyZDM4YS5iaW5kUG9wdXAocG9wdXBfYzkzNzk4NWUzZDE0NGE2Y2JmZWJjYWY4Yzc3ODEzNzApOwoKICAgICAgICAgICAgCiAgICAgICAgCiAgICAKICAgICAgICAgICAgdmFyIGNpcmNsZV9tYXJrZXJfYjNmNDI0NDA1OWEyNDQ2Yjk5OTNmMzUyNTAyYTAxYWYgPSBMLmNpcmNsZU1hcmtlcigKICAgICAgICAgICAgICAgIFstMjcuNDQwMDM1NDk0MzgzMzgsLTQ4LjQ4NDgwODY2MjM2ODg3XSwKICAgICAgICAgICAgICAgIHsKICAiYnViYmxpbmdNb3VzZUV2ZW50cyI6IHRydWUsCiAgImNvbG9yIjogImJsdWUiLAogICJkYXNoQXJyYXkiOiBudWxsLAogICJkYXNoT2Zmc2V0IjogbnVsbCwKICAiZmlsbCI6IHRydWUsCiAgImZpbGxDb2xvciI6ICIjMzE4NmNjIiwKICAiZmlsbE9wYWNpdHkiOiAwLjcsCiAgImZpbGxSdWxlIjogImV2ZW5vZGQiLAogICJsaW5lQ2FwIjogInJvdW5kIiwKICAibGluZUpvaW4iOiAicm91bmQiLAogICJvcGFjaXR5IjogMS4wLAogICJyYWRpdXMiOiA1LAogICJzdHJva2UiOiB0cnVlLAogICJ3ZWlnaHQiOiAzCn0KICAgICAgICAgICAgICAgICkuYWRkVG8obWFwX2Y0YjZhNjhhY2ZhNzQ1M2Q4OWYyODM2NzFkYmU0NzEwKTsKICAgICAgICAgICAgCiAgICAKICAgICAgICAgICAgdmFyIHBvcHVwXzY2ODdkMjMxYjFiMDQ4ZTE5ZTlhZmE2OTBiMzQwZmYyID0gTC5wb3B1cCh7bWF4V2lkdGg6ICczMDAnfSk7CgogICAgICAgICAgICAKICAgICAgICAgICAgICAgIHZhciBodG1sXzhiZTIzYjlhMTdlZjRlZDE5MzBkYzMzNGI2YzgxMjU4ID0gJCgnPGRpdiBpZD0iaHRtbF84YmUyM2I5YTE3ZWY0ZWQxOTMwZGMzMzRiNmM4MTI1OCIgc3R5bGU9IndpZHRoOiAxMDAuMCU7IGhlaWdodDogMTAwLjAlOyI+U2VyZ2lvIExhbmNoZXM8L2Rpdj4nKVswXTsKICAgICAgICAgICAgICAgIHBvcHVwXzY2ODdkMjMxYjFiMDQ4ZTE5ZTlhZmE2OTBiMzQwZmYyLnNldENvbnRlbnQoaHRtbF84YmUyM2I5YTE3ZWY0ZWQxOTMwZGMzMzRiNmM4MTI1OCk7CiAgICAgICAgICAgIAoKICAgICAgICAgICAgY2lyY2xlX21hcmtlcl9iM2Y0MjQ0MDU5YTI0NDZiOTk5M2YzNTI1MDJhMDFhZi5iaW5kUG9wdXAocG9wdXBfNjY4N2QyMzFiMWIwNDhlMTllOWFmYTY5MGIzNDBmZjIpOwoKICAgICAgICAgICAgCiAgICAgICAgCiAgICAKICAgICAgICAgICAgdmFyIGNpcmNsZV9tYXJrZXJfMmVlODIzYzIzNWJjNDRjNmJlZDdiN2ExNGFjYmRlMTUgPSBMLmNpcmNsZU1hcmtlcigKICAgICAgICAgICAgICAgIFstMjcuNDM5OTE0MzQ0NjAzNDIsLTQ4LjQ4NjAwMTI3NTkwMDQ2XSwKICAgICAgICAgICAgICAgIHsKICAiYnViYmxpbmdNb3VzZUV2ZW50cyI6IHRydWUsCiAgImNvbG9yIjogImJsdWUiLAogICJkYXNoQXJyYXkiOiBudWxsLAogICJkYXNoT2Zmc2V0IjogbnVsbCwKICAiZmlsbCI6IHRydWUsCiAgImZpbGxDb2xvciI6ICIjMzE4NmNjIiwKICAiZmlsbE9wYWNpdHkiOiAwLjcsCiAgImZpbGxSdWxlIjogImV2ZW5vZGQiLAogICJsaW5lQ2FwIjogInJvdW5kIiwKICAibGluZUpvaW4iOiAicm91bmQiLAogICJvcGFjaXR5IjogMS4wLAogICJyYWRpdXMiOiA1LAogICJzdHJva2UiOiB0cnVlLAogICJ3ZWlnaHQiOiAzCn0KICAgICAgICAgICAgICAgICkuYWRkVG8obWFwX2Y0YjZhNjhhY2ZhNzQ1M2Q4OWYyODM2NzFkYmU0NzEwKTsKICAgICAgICAgICAgCiAgICAKICAgICAgICAgICAgdmFyIHBvcHVwXzk2YTkxNGYzMTE4ODRmNDlhNGFiOTU3NTQwNjRhYjAyID0gTC5wb3B1cCh7bWF4V2lkdGg6ICczMDAnfSk7CgogICAgICAgICAgICAKICAgICAgICAgICAgICAgIHZhciBodG1sX2FiNTdjNjI3NTVkMDQzZWE5OWE5NGUyN2Q1ZjRlNGZhID0gJCgnPGRpdiBpZD0iaHRtbF9hYjU3YzYyNzU1ZDA0M2VhOTlhOTRlMjdkNWY0ZTRmYSIgc3R5bGU9IndpZHRoOiAxMDAuMCU7IGhlaWdodDogMTAwLjAlOyI+UGljYW5oYXJpYSBTYWJvciBkZSBKdXJlcsOqPC9kaXY+JylbMF07CiAgICAgICAgICAgICAgICBwb3B1cF85NmE5MTRmMzExODg0ZjQ5YTRhYjk1NzU0MDY0YWIwMi5zZXRDb250ZW50KGh0bWxfYWI1N2M2Mjc1NWQwNDNlYTk5YTk0ZTI3ZDVmNGU0ZmEpOwogICAgICAgICAgICAKCiAgICAgICAgICAgIGNpcmNsZV9tYXJrZXJfMmVlODIzYzIzNWJjNDRjNmJlZDdiN2ExNGFjYmRlMTUuYmluZFBvcHVwKHBvcHVwXzk2YTkxNGYzMTE4ODRmNDlhNGFiOTU3NTQwNjRhYjAyKTsKCiAgICAgICAgICAgIAogICAgICAgIAogICAgCiAgICAgICAgICAgIHZhciBjaXJjbGVfbWFya2VyXzZmNWYwM2E2YWQ3ZDRjYjBhZTc0ODRlNGNlNGU2OWRiID0gTC5jaXJjbGVNYXJrZXIoCiAgICAgICAgICAgICAgICBbLTI3LjQzODAxOTk5NDQ1OTc1LC00OC40OTM3NzI3ODk4NTY5MDVdLAogICAgICAgICAgICAgICAgewogICJidWJibGluZ01vdXNlRXZlbnRzIjogdHJ1ZSwKICAiY29sb3IiOiAiYmx1ZSIsCiAgImRhc2hBcnJheSI6IG51bGwsCiAgImRhc2hPZmZzZXQiOiBudWxsLAogICJmaWxsIjogdHJ1ZSwKICAiZmlsbENvbG9yIjogIiMzMTg2Y2MiLAogICJmaWxsT3BhY2l0eSI6IDAuNywKICAiZmlsbFJ1bGUiOiAiZXZlbm9kZCIsCiAgImxpbmVDYXAiOiAicm91bmQiLAogICJsaW5lSm9pbiI6ICJyb3VuZCIsCiAgIm9wYWNpdHkiOiAxLjAsCiAgInJhZGl1cyI6IDUsCiAgInN0cm9rZSI6IHRydWUsCiAgIndlaWdodCI6IDMKfQogICAgICAgICAgICAgICAgKS5hZGRUbyhtYXBfZjRiNmE2OGFjZmE3NDUzZDg5ZjI4MzY3MWRiZTQ3MTApOwogICAgICAgICAgICAKICAgIAogICAgICAgICAgICB2YXIgcG9wdXBfMWM5MjY1YTAwNDM2NDcxZThlNDJmNGZmNDE4M2ZhMzMgPSBMLnBvcHVwKHttYXhXaWR0aDogJzMwMCd9KTsKCiAgICAgICAgICAgIAogICAgICAgICAgICAgICAgdmFyIGh0bWxfNTIxNGQ0Mzc1MDIxNDNkYThjOTJmYjA0MjAxZTk4YTEgPSAkKCc8ZGl2IGlkPSJodG1sXzUyMTRkNDM3NTAyMTQzZGE4YzkyZmIwNDIwMWU5OGExIiBzdHlsZT0id2lkdGg6IDEwMC4wJTsgaGVpZ2h0OiAxMDAuMCU7Ij5LaW9za2UgZG8gUGlyYXRhPC9kaXY+JylbMF07CiAgICAgICAgICAgICAgICBwb3B1cF8xYzkyNjVhMDA0MzY0NzFlOGU0MmY0ZmY0MTgzZmEzMy5zZXRDb250ZW50KGh0bWxfNTIxNGQ0Mzc1MDIxNDNkYThjOTJmYjA0MjAxZTk4YTEpOwogICAgICAgICAgICAKCiAgICAgICAgICAgIGNpcmNsZV9tYXJrZXJfNmY1ZjAzYTZhZDdkNGNiMGFlNzQ4NGU0Y2U0ZTY5ZGIuYmluZFBvcHVwKHBvcHVwXzFjOTI2NWEwMDQzNjQ3MWU4ZTQyZjRmZjQxODNmYTMzKTsKCiAgICAgICAgICAgIAogICAgICAgIAogICAgCiAgICAgICAgICAgIHZhciBjaXJjbGVfbWFya2VyX2Q5MzdhZGRjYTJlYzQ5NjQ4MDIwODFlYTE2MDgxYThjID0gTC5jaXJjbGVNYXJrZXIoCiAgICAgICAgICAgICAgICBbLTI3LjQzOTUwMjcyMzc4NTQ1MiwtNDguNDgzMjkxODI2OTM3MTc2XSwKICAgICAgICAgICAgICAgIHsKICAiYnViYmxpbmdNb3VzZUV2ZW50cyI6IHRydWUsCiAgImNvbG9yIjogImJsdWUiLAogICJkYXNoQXJyYXkiOiBudWxsLAogICJkYXNoT2Zmc2V0IjogbnVsbCwKICAiZmlsbCI6IHRydWUsCiAgImZpbGxDb2xvciI6ICIjMzE4NmNjIiwKICAiZmlsbE9wYWNpdHkiOiAwLjcsCiAgImZpbGxSdWxlIjogImV2ZW5vZGQiLAogICJsaW5lQ2FwIjogInJvdW5kIiwKICAibGluZUpvaW4iOiAicm91bmQiLAogICJvcGFjaXR5IjogMS4wLAogICJyYWRpdXMiOiA1LAogICJzdHJva2UiOiB0cnVlLAogICJ3ZWlnaHQiOiAzCn0KICAgICAgICAgICAgICAgICkuYWRkVG8obWFwX2Y0YjZhNjhhY2ZhNzQ1M2Q4OWYyODM2NzFkYmU0NzEwKTsKICAgICAgICAgICAgCiAgICAKICAgICAgICAgICAgdmFyIHBvcHVwX2VjZWEyMDFkYTFiNzRiODg4MGQzYmJiYzgyYzlmMzE1ID0gTC5wb3B1cCh7bWF4V2lkdGg6ICczMDAnfSk7CgogICAgICAgICAgICAKICAgICAgICAgICAgICAgIHZhciBodG1sXzNjOWFlOGM3MTY3MTRlYWM4ZWE4OWU5Mjk0YjBmYTU3ID0gJCgnPGRpdiBpZD0iaHRtbF8zYzlhZThjNzE2NzE0ZWFjOGVhODllOTI5NGIwZmE1NyIgc3R5bGU9IndpZHRoOiAxMDAuMCU7IGhlaWdodDogMTAwLjAlOyI+UGFkYXJpYSBTYW50YSBMdXppYTwvZGl2PicpWzBdOwogICAgICAgICAgICAgICAgcG9wdXBfZWNlYTIwMWRhMWI3NGI4ODgwZDNiYmJjODJjOWYzMTUuc2V0Q29udGVudChodG1sXzNjOWFlOGM3MTY3MTRlYWM4ZWE4OWU5Mjk0YjBmYTU3KTsKICAgICAgICAgICAgCgogICAgICAgICAgICBjaXJjbGVfbWFya2VyX2Q5MzdhZGRjYTJlYzQ5NjQ4MDIwODFlYTE2MDgxYThjLmJpbmRQb3B1cChwb3B1cF9lY2VhMjAxZGExYjc0Yjg4ODBkM2JiYmM4MmM5ZjMxNSk7CgogICAgICAgICAgICAKICAgICAgICAKICAgIAogICAgICAgICAgICB2YXIgY2lyY2xlX21hcmtlcl9lODdlODBiNDZlOTc0M2Q0YmVlY2QyNjIzOWY4YmRkMSA9IEwuY2lyY2xlTWFya2VyKAogICAgICAgICAgICAgICAgWy0yNy40NDEwNjgsLTQ4LjQ4NjgyNV0sCiAgICAgICAgICAgICAgICB7CiAgImJ1YmJsaW5nTW91c2VFdmVudHMiOiB0cnVlLAogICJjb2xvciI6ICJibHVlIiwKICAiZGFzaEFycmF5IjogbnVsbCwKICAiZGFzaE9mZnNldCI6IG51bGwsCiAgImZpbGwiOiB0cnVlLAogICJmaWxsQ29sb3IiOiAiIzMxODZjYyIsCiAgImZpbGxPcGFjaXR5IjogMC43LAogICJmaWxsUnVsZSI6ICJldmVub2RkIiwKICAibGluZUNhcCI6ICJyb3VuZCIsCiAgImxpbmVKb2luIjogInJvdW5kIiwKICAib3BhY2l0eSI6IDEuMCwKICAicmFkaXVzIjogNSwKICAic3Ryb2tlIjogdHJ1ZSwKICAid2VpZ2h0IjogMwp9CiAgICAgICAgICAgICAgICApLmFkZFRvKG1hcF9mNGI2YTY4YWNmYTc0NTNkODlmMjgzNjcxZGJlNDcxMCk7CiAgICAgICAgICAgIAogICAgCiAgICAgICAgICAgIHZhciBwb3B1cF8wNmYzMzhiZWRlNTE0ZWE3OTVlZDBhNDQyMjlmYzIwOCA9IEwucG9wdXAoe21heFdpZHRoOiAnMzAwJ30pOwoKICAgICAgICAgICAgCiAgICAgICAgICAgICAgICB2YXIgaHRtbF8zZWJkMWI3YjkwNzU0OTRlYTBiNTY0ZTY5ODY5Y2I0MyA9ICQoJzxkaXYgaWQ9Imh0bWxfM2ViZDFiN2I5MDc1NDk0ZWEwYjU2NGU2OTg2OWNiNDMiIHN0eWxlPSJ3aWR0aDogMTAwLjAlOyBoZWlnaHQ6IDEwMC4wJTsiPkNyb3F1ZSBSZXN0b2JhcjwvZGl2PicpWzBdOwogICAgICAgICAgICAgICAgcG9wdXBfMDZmMzM4YmVkZTUxNGVhNzk1ZWQwYTQ0MjI5ZmMyMDguc2V0Q29udGVudChodG1sXzNlYmQxYjdiOTA3NTQ5NGVhMGI1NjRlNjk4NjljYjQzKTsKICAgICAgICAgICAgCgogICAgICAgICAgICBjaXJjbGVfbWFya2VyX2U4N2U4MGI0NmU5NzQzZDRiZWVjZDI2MjM5ZjhiZGQxLmJpbmRQb3B1cChwb3B1cF8wNmYzMzhiZWRlNTE0ZWE3OTVlZDBhNDQyMjlmYzIwOCk7CgogICAgICAgICAgICAKICAgICAgICAKICAgIAogICAgICAgICAgICB2YXIgY2lyY2xlX21hcmtlcl8yODMzYjhkNDZhMDc0ZjkzOTQwOGM3NGU1OTNiODg0OCA9IEwuY2lyY2xlTWFya2VyKAogICAgICAgICAgICAgICAgWy0yNy40NDU2MjUyMzQyNDEyNTUsLTQ4LjQ4NzQ4MzQ1NzM4NDMzXSwKICAgICAgICAgICAgICAgIHsKICAiYnViYmxpbmdNb3VzZUV2ZW50cyI6IHRydWUsCiAgImNvbG9yIjogImJsdWUiLAogICJkYXNoQXJyYXkiOiBudWxsLAogICJkYXNoT2Zmc2V0IjogbnVsbCwKICAiZmlsbCI6IHRydWUsCiAgImZpbGxDb2xvciI6ICIjMzE4NmNjIiwKICAiZmlsbE9wYWNpdHkiOiAwLjcsCiAgImZpbGxSdWxlIjogImV2ZW5vZGQiLAogICJsaW5lQ2FwIjogInJvdW5kIiwKICAibGluZUpvaW4iOiAicm91bmQiLAogICJvcGFjaXR5IjogMS4wLAogICJyYWRpdXMiOiA1LAogICJzdHJva2UiOiB0cnVlLAogICJ3ZWlnaHQiOiAzCn0KICAgICAgICAgICAgICAgICkuYWRkVG8obWFwX2Y0YjZhNjhhY2ZhNzQ1M2Q4OWYyODM2NzFkYmU0NzEwKTsKICAgICAgICAgICAgCiAgICAKICAgICAgICAgICAgdmFyIHBvcHVwXzI5ZGQ3YTVjZDhjYzRiMzM4NTE2Y2JmYWQ2ZTM1ZTk0ID0gTC5wb3B1cCh7bWF4V2lkdGg6ICczMDAnfSk7CgogICAgICAgICAgICAKICAgICAgICAgICAgICAgIHZhciBodG1sXzU5YzVhMzk2M2FiMTQxZDZhMzNmN2UwNzRkNjY4NjhkID0gJCgnPGRpdiBpZD0iaHRtbF81OWM1YTM5NjNhYjE0MWQ2YTMzZjdlMDc0ZDY2ODY4ZCIgc3R5bGU9IndpZHRoOiAxMDAuMCU7IGhlaWdodDogMTAwLjAlOyI+U3Vid2F5IChTdXBlcm1lcmNhZG8gSW1wZXJhdHJpeik8L2Rpdj4nKVswXTsKICAgICAgICAgICAgICAgIHBvcHVwXzI5ZGQ3YTVjZDhjYzRiMzM4NTE2Y2JmYWQ2ZTM1ZTk0LnNldENvbnRlbnQoaHRtbF81OWM1YTM5NjNhYjE0MWQ2YTMzZjdlMDc0ZDY2ODY4ZCk7CiAgICAgICAgICAgIAoKICAgICAgICAgICAgY2lyY2xlX21hcmtlcl8yODMzYjhkNDZhMDc0ZjkzOTQwOGM3NGU1OTNiODg0OC5iaW5kUG9wdXAocG9wdXBfMjlkZDdhNWNkOGNjNGIzMzg1MTZjYmZhZDZlMzVlOTQpOwoKICAgICAgICAgICAgCiAgICAgICAgCiAgICAKICAgICAgICAgICAgdmFyIGNpcmNsZV9tYXJrZXJfODIyOWRkNzI5OWUzNGJjYjllNDZlM2YyZDIzYTE5MzQgPSBMLmNpcmNsZU1hcmtlcigKICAgICAgICAgICAgICAgIFstMjcuNDQyNzM5NDc4NDQ1OTU0LC00OC40ODY4NTQxNDg4NzcxMTRdLAogICAgICAgICAgICAgICAgewogICJidWJibGluZ01vdXNlRXZlbnRzIjogdHJ1ZSwKICAiY29sb3IiOiAiYmx1ZSIsCiAgImRhc2hBcnJheSI6IG51bGwsCiAgImRhc2hPZmZzZXQiOiBudWxsLAogICJmaWxsIjogdHJ1ZSwKICAiZmlsbENvbG9yIjogIiMzMTg2Y2MiLAogICJmaWxsT3BhY2l0eSI6IDAuNywKICAiZmlsbFJ1bGUiOiAiZXZlbm9kZCIsCiAgImxpbmVDYXAiOiAicm91bmQiLAogICJsaW5lSm9pbiI6ICJyb3VuZCIsCiAgIm9wYWNpdHkiOiAxLjAsCiAgInJhZGl1cyI6IDUsCiAgInN0cm9rZSI6IHRydWUsCiAgIndlaWdodCI6IDMKfQogICAgICAgICAgICAgICAgKS5hZGRUbyhtYXBfZjRiNmE2OGFjZmE3NDUzZDg5ZjI4MzY3MWRiZTQ3MTApOwogICAgICAgICAgICAKICAgIAogICAgICAgICAgICB2YXIgcG9wdXBfNzc3NGM2ZTJjYmNiNGU3MTkyNWNjMjI5OWU1MDFjYzggPSBMLnBvcHVwKHttYXhXaWR0aDogJzMwMCd9KTsKCiAgICAgICAgICAgIAogICAgICAgICAgICAgICAgdmFyIGh0bWxfZTZkMmMyOWUxOGM1NGY4ZTk2MzRmMTFmMzk5YjhiNmMgPSAkKCc8ZGl2IGlkPSJodG1sX2U2ZDJjMjllMThjNTRmOGU5NjM0ZjExZjM5OWI4YjZjIiBzdHlsZT0id2lkdGg6IDEwMC4wJTsgaGVpZ2h0OiAxMDAuMCU7Ij5QaXp6YSBFeHByZXNzPC9kaXY+JylbMF07CiAgICAgICAgICAgICAgICBwb3B1cF83Nzc0YzZlMmNiY2I0ZTcxOTI1Y2MyMjk5ZTUwMWNjOC5zZXRDb250ZW50KGh0bWxfZTZkMmMyOWUxOGM1NGY4ZTk2MzRmMTFmMzk5YjhiNmMpOwogICAgICAgICAgICAKCiAgICAgICAgICAgIGNpcmNsZV9tYXJrZXJfODIyOWRkNzI5OWUzNGJjYjllNDZlM2YyZDIzYTE5MzQuYmluZFBvcHVwKHBvcHVwXzc3NzRjNmUyY2JjYjRlNzE5MjVjYzIyOTllNTAxY2M4KTsKCiAgICAgICAgICAgIAogICAgICAgIAogICAgCiAgICAgICAgICAgIHZhciBjaXJjbGVfbWFya2VyXzY5YjEzM2VjODM5MzQ5NmY4MDJmYmE1Yzk3NTQ5NTlmID0gTC5jaXJjbGVNYXJrZXIoCiAgICAgICAgICAgICAgICBbLTI3LjQ0MDk3MzQ2MDczOTA2NiwtNDguNDg5NjU2NDY0NjUwMjRdLAogICAgICAgICAgICAgICAgewogICJidWJibGluZ01vdXNlRXZlbnRzIjogdHJ1ZSwKICAiY29sb3IiOiAiYmx1ZSIsCiAgImRhc2hBcnJheSI6IG51bGwsCiAgImRhc2hPZmZzZXQiOiBudWxsLAogICJmaWxsIjogdHJ1ZSwKICAiZmlsbENvbG9yIjogIiMzMTg2Y2MiLAogICJmaWxsT3BhY2l0eSI6IDAuNywKICAiZmlsbFJ1bGUiOiAiZXZlbm9kZCIsCiAgImxpbmVDYXAiOiAicm91bmQiLAogICJsaW5lSm9pbiI6ICJyb3VuZCIsCiAgIm9wYWNpdHkiOiAxLjAsCiAgInJhZGl1cyI6IDUsCiAgInN0cm9rZSI6IHRydWUsCiAgIndlaWdodCI6IDMKfQogICAgICAgICAgICAgICAgKS5hZGRUbyhtYXBfZjRiNmE2OGFjZmE3NDUzZDg5ZjI4MzY3MWRiZTQ3MTApOwogICAgICAgICAgICAKICAgIAogICAgICAgICAgICB2YXIgcG9wdXBfNzVkOGIzZTk1NmRkNGI2YmFmZGQ5MjFhMzNhNTU0YzcgPSBMLnBvcHVwKHttYXhXaWR0aDogJzMwMCd9KTsKCiAgICAgICAgICAgIAogICAgICAgICAgICAgICAgdmFyIGh0bWxfMzg1NDQ3YWZkYTNmNGViZmE4ZGZkNGU1ZTBlYjExNTcgPSAkKCc8ZGl2IGlkPSJodG1sXzM4NTQ0N2FmZGEzZjRlYmZhOGRmZDRlNWUwZWIxMTU3IiBzdHlsZT0id2lkdGg6IDEwMC4wJTsgaGVpZ2h0OiAxMDAuMCU7Ij5TYXNoZW1lbCBQZXQgU2hvcDwvZGl2PicpWzBdOwogICAgICAgICAgICAgICAgcG9wdXBfNzVkOGIzZTk1NmRkNGI2YmFmZGQ5MjFhMzNhNTU0Yzcuc2V0Q29udGVudChodG1sXzM4NTQ0N2FmZGEzZjRlYmZhOGRmZDRlNWUwZWIxMTU3KTsKICAgICAgICAgICAgCgogICAgICAgICAgICBjaXJjbGVfbWFya2VyXzY5YjEzM2VjODM5MzQ5NmY4MDJmYmE1Yzk3NTQ5NTlmLmJpbmRQb3B1cChwb3B1cF83NWQ4YjNlOTU2ZGQ0YjZiYWZkZDkyMWEzM2E1NTRjNyk7CgogICAgICAgICAgICAKICAgICAgICAKICAgIAogICAgICAgICAgICB2YXIgY2lyY2xlX21hcmtlcl8wMjg5OGZmNDIxZjE0OGYyYWNmNmY5NTRiODFlZWQyOSA9IEwuY2lyY2xlTWFya2VyKAogICAgICAgICAgICAgICAgWy0yNy40Mzg5NDc2ODg4MTUyNzIsLTQ4LjQ4OTU0NDkzNzY1NjU3XSwKICAgICAgICAgICAgICAgIHsKICAiYnViYmxpbmdNb3VzZUV2ZW50cyI6IHRydWUsCiAgImNvbG9yIjogImJsdWUiLAogICJkYXNoQXJyYXkiOiBudWxsLAogICJkYXNoT2Zmc2V0IjogbnVsbCwKICAiZmlsbCI6IHRydWUsCiAgImZpbGxDb2xvciI6ICIjMzE4NmNjIiwKICAiZmlsbE9wYWNpdHkiOiAwLjcsCiAgImZpbGxSdWxlIjogImV2ZW5vZGQiLAogICJsaW5lQ2FwIjogInJvdW5kIiwKICAibGluZUpvaW4iOiAicm91bmQiLAogICJvcGFjaXR5IjogMS4wLAogICJyYWRpdXMiOiA1LAogICJzdHJva2UiOiB0cnVlLAogICJ3ZWlnaHQiOiAzCn0KICAgICAgICAgICAgICAgICkuYWRkVG8obWFwX2Y0YjZhNjhhY2ZhNzQ1M2Q4OWYyODM2NzFkYmU0NzEwKTsKICAgICAgICAgICAgCiAgICAKICAgICAgICAgICAgdmFyIHBvcHVwXzViNDA3YzlhMDI2ZjRjZDViNjkyZjg3ZmEyOWFlY2YxID0gTC5wb3B1cCh7bWF4V2lkdGg6ICczMDAnfSk7CgogICAgICAgICAgICAKICAgICAgICAgICAgICAgIHZhciBodG1sX2E4MjQ1ODE3MmViODRiNWVhNjQwNDBkMjYyNzA3ZTcyID0gJCgnPGRpdiBpZD0iaHRtbF9hODI0NTgxNzJlYjg0YjVlYTY0MDQwZDI2MjcwN2U3MiIgc3R5bGU9IndpZHRoOiAxMDAuMCU7IGhlaWdodDogMTAwLjAlOyI+UmVzdGF1cmFudGUgSnVyZXJlIEJlYWNoIFZpbGFnZTwvZGl2PicpWzBdOwogICAgICAgICAgICAgICAgcG9wdXBfNWI0MDdjOWEwMjZmNGNkNWI2OTJmODdmYTI5YWVjZjEuc2V0Q29udGVudChodG1sX2E4MjQ1ODE3MmViODRiNWVhNjQwNDBkMjYyNzA3ZTcyKTsKICAgICAgICAgICAgCgogICAgICAgICAgICBjaXJjbGVfbWFya2VyXzAyODk4ZmY0MjFmMTQ4ZjJhY2Y2Zjk1NGI4MWVlZDI5LmJpbmRQb3B1cChwb3B1cF81YjQwN2M5YTAyNmY0Y2Q1YjY5MmY4N2ZhMjlhZWNmMSk7CgogICAgICAgICAgICAKICAgICAgICAKICAgIAogICAgICAgICAgICB2YXIgY2lyY2xlX21hcmtlcl9mMTVkZDMzMjc1Yzc0ZDQ0OGIzOTRhYjY3NDgxOTI2OSA9IEwuY2lyY2xlTWFya2VyKAogICAgICAgICAgICAgICAgWy0yNy40NDMzMjc0OTA1MTQwOTMsLTQ4LjQ4MzQ5NjkxMDYxMDk5NV0sCiAgICAgICAgICAgICAgICB7CiAgImJ1YmJsaW5nTW91c2VFdmVudHMiOiB0cnVlLAogICJjb2xvciI6ICJibHVlIiwKICAiZGFzaEFycmF5IjogbnVsbCwKICAiZGFzaE9mZnNldCI6IG51bGwsCiAgImZpbGwiOiB0cnVlLAogICJmaWxsQ29sb3IiOiAiIzMxODZjYyIsCiAgImZpbGxPcGFjaXR5IjogMC43LAogICJmaWxsUnVsZSI6ICJldmVub2RkIiwKICAibGluZUNhcCI6ICJyb3VuZCIsCiAgImxpbmVKb2luIjogInJvdW5kIiwKICAib3BhY2l0eSI6IDEuMCwKICAicmFkaXVzIjogNSwKICAic3Ryb2tlIjogdHJ1ZSwKICAid2VpZ2h0IjogMwp9CiAgICAgICAgICAgICAgICApLmFkZFRvKG1hcF9mNGI2YTY4YWNmYTc0NTNkODlmMjgzNjcxZGJlNDcxMCk7CiAgICAgICAgICAgIAogICAgCiAgICAgICAgICAgIHZhciBwb3B1cF8yN2IyNjYwNGY0ZmY0MDIyYmI2NjU4MmNlMDJkNGVjMSA9IEwucG9wdXAoe21heFdpZHRoOiAnMzAwJ30pOwoKICAgICAgICAgICAgCiAgICAgICAgICAgICAgICB2YXIgaHRtbF8xZTVlYzM4MWNhYmI0NDZiYjRhZDJlOWRlMWQwYTk3OSA9ICQoJzxkaXYgaWQ9Imh0bWxfMWU1ZWMzODFjYWJiNDQ2YmI0YWQyZTlkZTFkMGE5NzkiIHN0eWxlPSJ3aWR0aDogMTAwLjAlOyBoZWlnaHQ6IDEwMC4wJTsiPlBpemFyaWEgUHVwaSYjMzk7czwvZGl2PicpWzBdOwogICAgICAgICAgICAgICAgcG9wdXBfMjdiMjY2MDRmNGZmNDAyMmJiNjY1ODJjZTAyZDRlYzEuc2V0Q29udGVudChodG1sXzFlNWVjMzgxY2FiYjQ0NmJiNGFkMmU5ZGUxZDBhOTc5KTsKICAgICAgICAgICAgCgogICAgICAgICAgICBjaXJjbGVfbWFya2VyX2YxNWRkMzMyNzVjNzRkNDQ4YjM5NGFiNjc0ODE5MjY5LmJpbmRQb3B1cChwb3B1cF8yN2IyNjYwNGY0ZmY0MDIyYmI2NjU4MmNlMDJkNGVjMSk7CgogICAgICAgICAgICAKICAgICAgICAKICAgIAogICAgICAgICAgICB2YXIgY2lyY2xlX21hcmtlcl84NTA2NjFkMGMyZmM0NmI2YjM1OGYzOGI2MmU5NTQ0MiA9IEwuY2lyY2xlTWFya2VyKAogICAgICAgICAgICAgICAgWy0yNy40NDU2MjUsLTQ4LjQ4NzQyMV0sCiAgICAgICAgICAgICAgICB7CiAgImJ1YmJsaW5nTW91c2VFdmVudHMiOiB0cnVlLAogICJjb2xvciI6ICJibHVlIiwKICAiZGFzaEFycmF5IjogbnVsbCwKICAiZGFzaE9mZnNldCI6IG51bGwsCiAgImZpbGwiOiB0cnVlLAogICJmaWxsQ29sb3IiOiAiIzMxODZjYyIsCiAgImZpbGxPcGFjaXR5IjogMC43LAogICJmaWxsUnVsZSI6ICJldmVub2RkIiwKICAibGluZUNhcCI6ICJyb3VuZCIsCiAgImxpbmVKb2luIjogInJvdW5kIiwKICAib3BhY2l0eSI6IDEuMCwKICAicmFkaXVzIjogNSwKICAic3Ryb2tlIjogdHJ1ZSwKICAid2VpZ2h0IjogMwp9CiAgICAgICAgICAgICAgICApLmFkZFRvKG1hcF9mNGI2YTY4YWNmYTc0NTNkODlmMjgzNjcxZGJlNDcxMCk7CiAgICAgICAgICAgIAogICAgCiAgICAgICAgICAgIHZhciBwb3B1cF9lMGMyNDk5MjFlMTk0NTMxOGNmNjU5OGYyYWE2NjRmMyA9IEwucG9wdXAoe21heFdpZHRoOiAnMzAwJ30pOwoKICAgICAgICAgICAgCiAgICAgICAgICAgICAgICB2YXIgaHRtbF9hNzljOTViOTY5Mjc0YzJiYjliMWMxMjI2MzljMTJkMCA9ICQoJzxkaXYgaWQ9Imh0bWxfYTc5Yzk1Yjk2OTI3NGMyYmI5YjFjMTIyNjM5YzEyZDAiIHN0eWxlPSJ3aWR0aDogMTAwLjAlOyBoZWlnaHQ6IDEwMC4wJTsiPkNhbWFyw6NvIEV4cHJlc3M8L2Rpdj4nKVswXTsKICAgICAgICAgICAgICAgIHBvcHVwX2UwYzI0OTkyMWUxOTQ1MzE4Y2Y2NTk4ZjJhYTY2NGYzLnNldENvbnRlbnQoaHRtbF9hNzljOTViOTY5Mjc0YzJiYjliMWMxMjI2MzljMTJkMCk7CiAgICAgICAgICAgIAoKICAgICAgICAgICAgY2lyY2xlX21hcmtlcl84NTA2NjFkMGMyZmM0NmI2YjM1OGYzOGI2MmU5NTQ0Mi5iaW5kUG9wdXAocG9wdXBfZTBjMjQ5OTIxZTE5NDUzMThjZjY1OThmMmFhNjY0ZjMpOwoKICAgICAgICAgICAgCiAgICAgICAgCiAgICAKICAgICAgICAgICAgdmFyIGNpcmNsZV9tYXJrZXJfMjQyZDdhMmJjMmQ4NDY5YjlhOTA1MjQ0OWZiOGUxNTEgPSBMLmNpcmNsZU1hcmtlcigKICAgICAgICAgICAgICAgIFstMjcuNDQyMzc0NDc4Nzc5NCwtNDguNDk0MDY1NTI2MzM2OTI1XSwKICAgICAgICAgICAgICAgIHsKICAiYnViYmxpbmdNb3VzZUV2ZW50cyI6IHRydWUsCiAgImNvbG9yIjogImJsdWUiLAogICJkYXNoQXJyYXkiOiBudWxsLAogICJkYXNoT2Zmc2V0IjogbnVsbCwKICAiZmlsbCI6IHRydWUsCiAgImZpbGxDb2xvciI6ICIjMzE4NmNjIiwKICAiZmlsbE9wYWNpdHkiOiAwLjcsCiAgImZpbGxSdWxlIjogImV2ZW5vZGQiLAogICJsaW5lQ2FwIjogInJvdW5kIiwKICAibGluZUpvaW4iOiAicm91bmQiLAogICJvcGFjaXR5IjogMS4wLAogICJyYWRpdXMiOiA1LAogICJzdHJva2UiOiB0cnVlLAogICJ3ZWlnaHQiOiAzCn0KICAgICAgICAgICAgICAgICkuYWRkVG8obWFwX2Y0YjZhNjhhY2ZhNzQ1M2Q4OWYyODM2NzFkYmU0NzEwKTsKICAgICAgICAgICAgCiAgICAKICAgICAgICAgICAgdmFyIHBvcHVwXzg3NTA3MTdmYWRjODQ2MDQ5NDk0YmY2ZGIzNTVmZjZlID0gTC5wb3B1cCh7bWF4V2lkdGg6ICczMDAnfSk7CgogICAgICAgICAgICAKICAgICAgICAgICAgICAgIHZhciBodG1sXzQ5YzkxYjgzZmUxZjRmMDViNDJlZTI0YTk5NWQ4NzEzID0gJCgnPGRpdiBpZD0iaHRtbF80OWM5MWI4M2ZlMWY0ZjA1YjQyZWUyNGE5OTVkODcxMyIgc3R5bGU9IndpZHRoOiAxMDAuMCU7IGhlaWdodDogMTAwLjAlOyI+Tm9uIFNvbG8gQ2FmZsOoIC0gSnVyZXLDqjwvZGl2PicpWzBdOwogICAgICAgICAgICAgICAgcG9wdXBfODc1MDcxN2ZhZGM4NDYwNDk0OTRiZjZkYjM1NWZmNmUuc2V0Q29udGVudChodG1sXzQ5YzkxYjgzZmUxZjRmMDViNDJlZTI0YTk5NWQ4NzEzKTsKICAgICAgICAgICAgCgogICAgICAgICAgICBjaXJjbGVfbWFya2VyXzI0MmQ3YTJiYzJkODQ2OWI5YTkwNTI0NDlmYjhlMTUxLmJpbmRQb3B1cChwb3B1cF84NzUwNzE3ZmFkYzg0NjA0OTQ5NGJmNmRiMzU1ZmY2ZSk7CgogICAgICAgICAgICAKICAgICAgICAKICAgIAogICAgICAgICAgICB2YXIgY2lyY2xlX21hcmtlcl84YzBiNjQyOTE2YWQ0NzRkODZiMDYxNTUzOTc4MTBiNyA9IEwuY2lyY2xlTWFya2VyKAogICAgICAgICAgICAgICAgWy0yNy40NDg2Mjk1NjA1MzkxNjcsLTQ4LjQ4OTAwMjUzNTM0NTY3XSwKICAgICAgICAgICAgICAgIHsKICAiYnViYmxpbmdNb3VzZUV2ZW50cyI6IHRydWUsCiAgImNvbG9yIjogImJsdWUiLAogICJkYXNoQXJyYXkiOiBudWxsLAogICJkYXNoT2Zmc2V0IjogbnVsbCwKICAiZmlsbCI6IHRydWUsCiAgImZpbGxDb2xvciI6ICIjMzE4NmNjIiwKICAiZmlsbE9wYWNpdHkiOiAwLjcsCiAgImZpbGxSdWxlIjogImV2ZW5vZGQiLAogICJsaW5lQ2FwIjogInJvdW5kIiwKICAibGluZUpvaW4iOiAicm91bmQiLAogICJvcGFjaXR5IjogMS4wLAogICJyYWRpdXMiOiA1LAogICJzdHJva2UiOiB0cnVlLAogICJ3ZWlnaHQiOiAzCn0KICAgICAgICAgICAgICAgICkuYWRkVG8obWFwX2Y0YjZhNjhhY2ZhNzQ1M2Q4OWYyODM2NzFkYmU0NzEwKTsKICAgICAgICAgICAgCiAgICAKICAgICAgICAgICAgdmFyIHBvcHVwXzZmY2ZkZDM5NzMwYjQ3NGE4YzA5MGU0MWI1MGVlMmY0ID0gTC5wb3B1cCh7bWF4V2lkdGg6ICczMDAnfSk7CgogICAgICAgICAgICAKICAgICAgICAgICAgICAgIHZhciBodG1sX2E1ZDAxYTliZTMwZDQ5YWFhNjA2MWRjN2NkNWE4M2Q3ID0gJCgnPGRpdiBpZD0iaHRtbF9hNWQwMWE5YmUzMGQ0OWFhYTYwNjFkYzdjZDVhODNkNyIgc3R5bGU9IndpZHRoOiAxMDAuMCU7IGhlaWdodDogMTAwLjAlOyI+VmlsbGEgT2xpbXBpYSBDZW50cm8gRXNwb3J0aXZvPC9kaXY+JylbMF07CiAgICAgICAgICAgICAgICBwb3B1cF82ZmNmZGQzOTczMGI0NzRhOGMwOTBlNDFiNTBlZTJmNC5zZXRDb250ZW50KGh0bWxfYTVkMDFhOWJlMzBkNDlhYWE2MDYxZGM3Y2Q1YTgzZDcpOwogICAgICAgICAgICAKCiAgICAgICAgICAgIGNpcmNsZV9tYXJrZXJfOGMwYjY0MjkxNmFkNDc0ZDg2YjA2MTU1Mzk3ODEwYjcuYmluZFBvcHVwKHBvcHVwXzZmY2ZkZDM5NzMwYjQ3NGE4YzA5MGU0MWI1MGVlMmY0KTsKCiAgICAgICAgICAgIAogICAgICAgIAogICAgCiAgICAgICAgICAgIHZhciBjaXJjbGVfbWFya2VyXzhmYWJjOWYyMTlmMDRmODliMjg2NGExMDI0OTZlNmYxID0gTC5jaXJjbGVNYXJrZXIoCiAgICAgICAgICAgICAgICBbLTI3LjQ0NTQ3MTAxMjAzOTUyMywtNDguNTAxNTI4MTg3Mjk2XSwKICAgICAgICAgICAgICAgIHsKICAiYnViYmxpbmdNb3VzZUV2ZW50cyI6IHRydWUsCiAgImNvbG9yIjogImJsdWUiLAogICJkYXNoQXJyYXkiOiBudWxsLAogICJkYXNoT2Zmc2V0IjogbnVsbCwKICAiZmlsbCI6IHRydWUsCiAgImZpbGxDb2xvciI6ICIjMzE4NmNjIiwKICAiZmlsbE9wYWNpdHkiOiAwLjcsCiAgImZpbGxSdWxlIjogImV2ZW5vZGQiLAogICJsaW5lQ2FwIjogInJvdW5kIiwKICAibGluZUpvaW4iOiAicm91bmQiLAogICJvcGFjaXR5IjogMS4wLAogICJyYWRpdXMiOiA1LAogICJzdHJva2UiOiB0cnVlLAogICJ3ZWlnaHQiOiAzCn0KICAgICAgICAgICAgICAgICkuYWRkVG8obWFwX2Y0YjZhNjhhY2ZhNzQ1M2Q4OWYyODM2NzFkYmU0NzEwKTsKICAgICAgICAgICAgCiAgICAKICAgICAgICAgICAgdmFyIHBvcHVwXzMzOWQxNTc3MTAzNDQyZGFhYTY0ZDg0NzI3YTBlZDU0ID0gTC5wb3B1cCh7bWF4V2lkdGg6ICczMDAnfSk7CgogICAgICAgICAgICAKICAgICAgICAgICAgICAgIHZhciBodG1sX2RiZGZjOTNjNmFlZjQ5YThhNTE4ZjJiZGRjODQ5NGZmID0gJCgnPGRpdiBpZD0iaHRtbF9kYmRmYzkzYzZhZWY0OWE4YTUxOGYyYmRkYzg0OTRmZiIgc3R5bGU9IndpZHRoOiAxMDAuMCU7IGhlaWdodDogMTAwLjAlOyI+RXNjcml0w7NyaW8gZGFzIEJlYmlkYXM8L2Rpdj4nKVswXTsKICAgICAgICAgICAgICAgIHBvcHVwXzMzOWQxNTc3MTAzNDQyZGFhYTY0ZDg0NzI3YTBlZDU0LnNldENvbnRlbnQoaHRtbF9kYmRmYzkzYzZhZWY0OWE4YTUxOGYyYmRkYzg0OTRmZik7CiAgICAgICAgICAgIAoKICAgICAgICAgICAgY2lyY2xlX21hcmtlcl84ZmFiYzlmMjE5ZjA0Zjg5YjI4NjRhMTAyNDk2ZTZmMS5iaW5kUG9wdXAocG9wdXBfMzM5ZDE1NzcxMDM0NDJkYWFhNjRkODQ3MjdhMGVkNTQpOwoKICAgICAgICAgICAgCiAgICAgICAgCiAgICAKICAgICAgICAgICAgdmFyIGNpcmNsZV9tYXJrZXJfNGZmMmRkY2E4NTdlNDNmM2IzYjhlYzVhZjZkOGMyMzUgPSBMLmNpcmNsZU1hcmtlcigKICAgICAgICAgICAgICAgIFstMjcuNDM3ODMzOTg2NjUwODMzLC00OC40OTM4ODAwMDg5MzI4XSwKICAgICAgICAgICAgICAgIHsKICAiYnViYmxpbmdNb3VzZUV2ZW50cyI6IHRydWUsCiAgImNvbG9yIjogImJsdWUiLAogICJkYXNoQXJyYXkiOiBudWxsLAogICJkYXNoT2Zmc2V0IjogbnVsbCwKICAiZmlsbCI6IHRydWUsCiAgImZpbGxDb2xvciI6ICIjMzE4NmNjIiwKICAiZmlsbE9wYWNpdHkiOiAwLjcsCiAgImZpbGxSdWxlIjogImV2ZW5vZGQiLAogICJsaW5lQ2FwIjogInJvdW5kIiwKICAibGluZUpvaW4iOiAicm91bmQiLAogICJvcGFjaXR5IjogMS4wLAogICJyYWRpdXMiOiA1LAogICJzdHJva2UiOiB0cnVlLAogICJ3ZWlnaHQiOiAzCn0KICAgICAgICAgICAgICAgICkuYWRkVG8obWFwX2Y0YjZhNjhhY2ZhNzQ1M2Q4OWYyODM2NzFkYmU0NzEwKTsKICAgICAgICAgICAgCiAgICAKICAgICAgICAgICAgdmFyIHBvcHVwX2IwNjllMzU4ZTQ0MzRjNzRhYzlhODdjMDkxZTc3OWQ3ID0gTC5wb3B1cCh7bWF4V2lkdGg6ICczMDAnfSk7CgogICAgICAgICAgICAKICAgICAgICAgICAgICAgIHZhciBodG1sX2YyMjY5ZTBmNjM2ZDRlZTliNTM1NDZmYTIwZmVmZTg4ID0gJCgnPGRpdiBpZD0iaHRtbF9mMjI2OWUwZjYzNmQ0ZWU5YjUzNTQ2ZmEyMGZlZmU4OCIgc3R5bGU9IndpZHRoOiAxMDAuMCU7IGhlaWdodDogMTAwLjAlOyI+R29TdW5zZXQ8L2Rpdj4nKVswXTsKICAgICAgICAgICAgICAgIHBvcHVwX2IwNjllMzU4ZTQ0MzRjNzRhYzlhODdjMDkxZTc3OWQ3LnNldENvbnRlbnQoaHRtbF9mMjI2OWUwZjYzNmQ0ZWU5YjUzNTQ2ZmEyMGZlZmU4OCk7CiAgICAgICAgICAgIAoKICAgICAgICAgICAgY2lyY2xlX21hcmtlcl80ZmYyZGRjYTg1N2U0M2YzYjNiOGVjNWFmNmQ4YzIzNS5iaW5kUG9wdXAocG9wdXBfYjA2OWUzNThlNDQzNGM3NGFjOWE4N2MwOTFlNzc5ZDcpOwoKICAgICAgICAgICAgCiAgICAgICAgCiAgICAKICAgICAgICAgICAgdmFyIGNpcmNsZV9tYXJrZXJfZjVlYjRjOWNmZjc0NGU0MDgyYTcxZDE1OTU1NDExNzMgPSBMLmNpcmNsZU1hcmtlcigKICAgICAgICAgICAgICAgIFstMjcuNDM5NTM5OTQyMjk3NTE1LC00OC41MDA5NTU4MjQwMDc4MjVdLAogICAgICAgICAgICAgICAgewogICJidWJibGluZ01vdXNlRXZlbnRzIjogdHJ1ZSwKICAiY29sb3IiOiAiYmx1ZSIsCiAgImRhc2hBcnJheSI6IG51bGwsCiAgImRhc2hPZmZzZXQiOiBudWxsLAogICJmaWxsIjogdHJ1ZSwKICAiZmlsbENvbG9yIjogIiMzMTg2Y2MiLAogICJmaWxsT3BhY2l0eSI6IDAuNywKICAiZmlsbFJ1bGUiOiAiZXZlbm9kZCIsCiAgImxpbmVDYXAiOiAicm91bmQiLAogICJsaW5lSm9pbiI6ICJyb3VuZCIsCiAgIm9wYWNpdHkiOiAxLjAsCiAgInJhZGl1cyI6IDUsCiAgInN0cm9rZSI6IHRydWUsCiAgIndlaWdodCI6IDMKfQogICAgICAgICAgICAgICAgKS5hZGRUbyhtYXBfZjRiNmE2OGFjZmE3NDUzZDg5ZjI4MzY3MWRiZTQ3MTApOwogICAgICAgICAgICAKICAgIAogICAgICAgICAgICB2YXIgcG9wdXBfZTlhOTMwN2Q2NTdmNGUwMjgyMDA0NzMwMjBmYzdkZDUgPSBMLnBvcHVwKHttYXhXaWR0aDogJzMwMCd9KTsKCiAgICAgICAgICAgIAogICAgICAgICAgICAgICAgdmFyIGh0bWxfZWZhNWE1M2EwY2E1NGYxM2E3ZDc3ZjQxYmFhNjcyNzMgPSAkKCc8ZGl2IGlkPSJodG1sX2VmYTVhNTNhMGNhNTRmMTNhN2Q3N2Y0MWJhYTY3MjczIiBzdHlsZT0id2lkdGg6IDEwMC4wJTsgaGVpZ2h0OiAxMDAuMCU7Ij5Qb3NpdGFubyBDYWZlPC9kaXY+JylbMF07CiAgICAgICAgICAgICAgICBwb3B1cF9lOWE5MzA3ZDY1N2Y0ZTAyODIwMDQ3MzAyMGZjN2RkNS5zZXRDb250ZW50KGh0bWxfZWZhNWE1M2EwY2E1NGYxM2E3ZDc3ZjQxYmFhNjcyNzMpOwogICAgICAgICAgICAKCiAgICAgICAgICAgIGNpcmNsZV9tYXJrZXJfZjVlYjRjOWNmZjc0NGU0MDgyYTcxZDE1OTU1NDExNzMuYmluZFBvcHVwKHBvcHVwX2U5YTkzMDdkNjU3ZjRlMDI4MjAwNDczMDIwZmM3ZGQ1KTsKCiAgICAgICAgICAgIAogICAgICAgIAogICAgCiAgICAgICAgICAgIHZhciBjaXJjbGVfbWFya2VyXzBkY2YwYjI0MWE5ZTQwNTQ5ZmQyNmE0MzU0Y2JjYWY3ID0gTC5jaXJjbGVNYXJrZXIoCiAgICAgICAgICAgICAgICBbLTI3LjQzOTczOTEyMDMwODU3MywtNDguNTAxNTU5NzQ2NTIyODldLAogICAgICAgICAgICAgICAgewogICJidWJibGluZ01vdXNlRXZlbnRzIjogdHJ1ZSwKICAiY29sb3IiOiAiYmx1ZSIsCiAgImRhc2hBcnJheSI6IG51bGwsCiAgImRhc2hPZmZzZXQiOiBudWxsLAogICJmaWxsIjogdHJ1ZSwKICAiZmlsbENvbG9yIjogIiMzMTg2Y2MiLAogICJmaWxsT3BhY2l0eSI6IDAuNywKICAiZmlsbFJ1bGUiOiAiZXZlbm9kZCIsCiAgImxpbmVDYXAiOiAicm91bmQiLAogICJsaW5lSm9pbiI6ICJyb3VuZCIsCiAgIm9wYWNpdHkiOiAxLjAsCiAgInJhZGl1cyI6IDUsCiAgInN0cm9rZSI6IHRydWUsCiAgIndlaWdodCI6IDMKfQogICAgICAgICAgICAgICAgKS5hZGRUbyhtYXBfZjRiNmE2OGFjZmE3NDUzZDg5ZjI4MzY3MWRiZTQ3MTApOwogICAgICAgICAgICAKICAgIAogICAgICAgICAgICB2YXIgcG9wdXBfYzQwN2FiMjdlMWQ1NGVjOGE5MmVhZDI0M2MyNDg0ZWQgPSBMLnBvcHVwKHttYXhXaWR0aDogJzMwMCd9KTsKCiAgICAgICAgICAgIAogICAgICAgICAgICAgICAgdmFyIGh0bWxfYzcxOWQ2ODUxNmM1NDE5Yzg1NzhhNGFkYTk5YTRhNWUgPSAkKCc8ZGl2IGlkPSJodG1sX2M3MTlkNjg1MTZjNTQxOWM4NTc4YTRhZGE5OWE0YTVlIiBzdHlsZT0id2lkdGg6IDEwMC4wJTsgaGVpZ2h0OiAxMDAuMCU7Ij5TcGF6emlvIEp1cmVyw6ogSW50ZXJuYWNpb25hbDwvZGl2PicpWzBdOwogICAgICAgICAgICAgICAgcG9wdXBfYzQwN2FiMjdlMWQ1NGVjOGE5MmVhZDI0M2MyNDg0ZWQuc2V0Q29udGVudChodG1sX2M3MTlkNjg1MTZjNTQxOWM4NTc4YTRhZGE5OWE0YTVlKTsKICAgICAgICAgICAgCgogICAgICAgICAgICBjaXJjbGVfbWFya2VyXzBkY2YwYjI0MWE5ZTQwNTQ5ZmQyNmE0MzU0Y2JjYWY3LmJpbmRQb3B1cChwb3B1cF9jNDA3YWIyN2UxZDU0ZWM4YTkyZWFkMjQzYzI0ODRlZCk7CgogICAgICAgICAgICAKICAgICAgICAKICAgIAogICAgICAgICAgICB2YXIgY2lyY2xlX21hcmtlcl85YmVkZGMxM2Q2NDA0YjViYTFiYTQxOWU2NDY3MmE2ZiA9IEwuY2lyY2xlTWFya2VyKAogICAgICAgICAgICAgICAgWy0yNy40Mzk1OTAwNzgwMDAwOTQsLTQ4LjUwMTM3NTkzNTMwMTYyXSwKICAgICAgICAgICAgICAgIHsKICAiYnViYmxpbmdNb3VzZUV2ZW50cyI6IHRydWUsCiAgImNvbG9yIjogImJsdWUiLAogICJkYXNoQXJyYXkiOiBudWxsLAogICJkYXNoT2Zmc2V0IjogbnVsbCwKICAiZmlsbCI6IHRydWUsCiAgImZpbGxDb2xvciI6ICIjMzE4NmNjIiwKICAiZmlsbE9wYWNpdHkiOiAwLjcsCiAgImZpbGxSdWxlIjogImV2ZW5vZGQiLAogICJsaW5lQ2FwIjogInJvdW5kIiwKICAibGluZUpvaW4iOiAicm91bmQiLAogICJvcGFjaXR5IjogMS4wLAogICJyYWRpdXMiOiA1LAogICJzdHJva2UiOiB0cnVlLAogICJ3ZWlnaHQiOiAzCn0KICAgICAgICAgICAgICAgICkuYWRkVG8obWFwX2Y0YjZhNjhhY2ZhNzQ1M2Q4OWYyODM2NzFkYmU0NzEwKTsKICAgICAgICAgICAgCiAgICAKICAgICAgICAgICAgdmFyIHBvcHVwXzZhN2Q1Yzk2MDg5NDRlZTdhOTAwMTRhNTcxNzU1YzMzID0gTC5wb3B1cCh7bWF4V2lkdGg6ICczMDAnfSk7CgogICAgICAgICAgICAKICAgICAgICAgICAgICAgIHZhciBodG1sX2QxNGViZTQyY2U1NzQwODlhNmZmN2UxYzE5ZGQyZjY1ID0gJCgnPGRpdiBpZD0iaHRtbF9kMTRlYmU0MmNlNTc0MDg5YTZmZjdlMWMxOWRkMmY2NSIgc3R5bGU9IndpZHRoOiAxMDAuMCU7IGhlaWdodDogMTAwLjAlOyI+U2Vjb25kPC9kaXY+JylbMF07CiAgICAgICAgICAgICAgICBwb3B1cF82YTdkNWM5NjA4OTQ0ZWU3YTkwMDE0YTU3MTc1NWMzMy5zZXRDb250ZW50KGh0bWxfZDE0ZWJlNDJjZTU3NDA4OWE2ZmY3ZTFjMTlkZDJmNjUpOwogICAgICAgICAgICAKCiAgICAgICAgICAgIGNpcmNsZV9tYXJrZXJfOWJlZGRjMTNkNjQwNGI1YmExYmE0MTllNjQ2NzJhNmYuYmluZFBvcHVwKHBvcHVwXzZhN2Q1Yzk2MDg5NDRlZTdhOTAwMTRhNTcxNzU1YzMzKTsKCiAgICAgICAgICAgIAogICAgICAgIAogICAgCiAgICAgICAgICAgIHZhciBjaXJjbGVfbWFya2VyXzZjYjdiMzdhMTQ5ZDRiODdhZTg3MzU2ZWJjZGJkNzZiID0gTC5jaXJjbGVNYXJrZXIoCiAgICAgICAgICAgICAgICBbLTI3LjQ0Mzc0NzQ5NTM0NTExLC00OC41MDYzMzM5NTYxNjUxNjVdLAogICAgICAgICAgICAgICAgewogICJidWJibGluZ01vdXNlRXZlbnRzIjogdHJ1ZSwKICAiY29sb3IiOiAiYmx1ZSIsCiAgImRhc2hBcnJheSI6IG51bGwsCiAgImRhc2hPZmZzZXQiOiBudWxsLAogICJmaWxsIjogdHJ1ZSwKICAiZmlsbENvbG9yIjogIiMzMTg2Y2MiLAogICJmaWxsT3BhY2l0eSI6IDAuNywKICAiZmlsbFJ1bGUiOiAiZXZlbm9kZCIsCiAgImxpbmVDYXAiOiAicm91bmQiLAogICJsaW5lSm9pbiI6ICJyb3VuZCIsCiAgIm9wYWNpdHkiOiAxLjAsCiAgInJhZGl1cyI6IDUsCiAgInN0cm9rZSI6IHRydWUsCiAgIndlaWdodCI6IDMKfQogICAgICAgICAgICAgICAgKS5hZGRUbyhtYXBfZjRiNmE2OGFjZmE3NDUzZDg5ZjI4MzY3MWRiZTQ3MTApOwogICAgICAgICAgICAKICAgIAogICAgICAgICAgICB2YXIgcG9wdXBfNTNlYzA2ZGM1MzFlNDdjYzk3OTNiNDlhMjZlMzZlMjAgPSBMLnBvcHVwKHttYXhXaWR0aDogJzMwMCd9KTsKCiAgICAgICAgICAgIAogICAgICAgICAgICAgICAgdmFyIGh0bWxfNWU5YTdmZGU0ZGU0NDI0Y2IwYWJlMWIxNTZlODNhYzcgPSAkKCc8ZGl2IGlkPSJodG1sXzVlOWE3ZmRlNGRlNDQyNGNiMGFiZTFiMTU2ZTgzYWM3IiBzdHlsZT0id2lkdGg6IDEwMC4wJTsgaGVpZ2h0OiAxMDAuMCU7Ij5DaXJjb2NhbiBGbG9yaXBhPC9kaXY+JylbMF07CiAgICAgICAgICAgICAgICBwb3B1cF81M2VjMDZkYzUzMWU0N2NjOTc5M2I0OWEyNmUzNmUyMC5zZXRDb250ZW50KGh0bWxfNWU5YTdmZGU0ZGU0NDI0Y2IwYWJlMWIxNTZlODNhYzcpOwogICAgICAgICAgICAKCiAgICAgICAgICAgIGNpcmNsZV9tYXJrZXJfNmNiN2IzN2ExNDlkNGI4N2FlODczNTZlYmNkYmQ3NmIuYmluZFBvcHVwKHBvcHVwXzUzZWMwNmRjNTMxZTQ3Y2M5NzkzYjQ5YTI2ZTM2ZTIwKTsKCiAgICAgICAgICAgIAogICAgICAgIAogICAgCiAgICAgICAgICAgIHZhciBjaXJjbGVfbWFya2VyXzg0MTAzNjgyODY3MjQxMDlhMDdjZTRlOThiZGQ0M2YyID0gTC5jaXJjbGVNYXJrZXIoCiAgICAgICAgICAgICAgICBbLTI3LjQ0MDcwNywtNDguNDkyOTddLAogICAgICAgICAgICAgICAgewogICJidWJibGluZ01vdXNlRXZlbnRzIjogdHJ1ZSwKICAiY29sb3IiOiAiYmx1ZSIsCiAgImRhc2hBcnJheSI6IG51bGwsCiAgImRhc2hPZmZzZXQiOiBudWxsLAogICJmaWxsIjogdHJ1ZSwKICAiZmlsbENvbG9yIjogIiMzMTg2Y2MiLAogICJmaWxsT3BhY2l0eSI6IDAuNywKICAiZmlsbFJ1bGUiOiAiZXZlbm9kZCIsCiAgImxpbmVDYXAiOiAicm91bmQiLAogICJsaW5lSm9pbiI6ICJyb3VuZCIsCiAgIm9wYWNpdHkiOiAxLjAsCiAgInJhZGl1cyI6IDUsCiAgInN0cm9rZSI6IHRydWUsCiAgIndlaWdodCI6IDMKfQogICAgICAgICAgICAgICAgKS5hZGRUbyhtYXBfZjRiNmE2OGFjZmE3NDUzZDg5ZjI4MzY3MWRiZTQ3MTApOwogICAgICAgICAgICAKICAgIAogICAgICAgICAgICB2YXIgcG9wdXBfZTI3NzZhYjYwMTg3NDVjNDk0ZDIxMjE4OTVmMjhjNDggPSBMLnBvcHVwKHttYXhXaWR0aDogJzMwMCd9KTsKCiAgICAgICAgICAgIAogICAgICAgICAgICAgICAgdmFyIGh0bWxfNDU4YjliZmYzMDQzNDNkOGJhZTRkM2VjZjdhYjdhOWUgPSAkKCc8ZGl2IGlkPSJodG1sXzQ1OGI5YmZmMzA0MzQzZDhiYWU0ZDNlY2Y3YWI3YTllIiBzdHlsZT0id2lkdGg6IDEwMC4wJTsgaGVpZ2h0OiAxMDAuMCU7Ij5JZ3VhcmlhcyBjb3ppbmhhIGRvIG1hcjwvZGl2PicpWzBdOwogICAgICAgICAgICAgICAgcG9wdXBfZTI3NzZhYjYwMTg3NDVjNDk0ZDIxMjE4OTVmMjhjNDguc2V0Q29udGVudChodG1sXzQ1OGI5YmZmMzA0MzQzZDhiYWU0ZDNlY2Y3YWI3YTllKTsKICAgICAgICAgICAgCgogICAgICAgICAgICBjaXJjbGVfbWFya2VyXzg0MTAzNjgyODY3MjQxMDlhMDdjZTRlOThiZGQ0M2YyLmJpbmRQb3B1cChwb3B1cF9lMjc3NmFiNjAxODc0NWM0OTRkMjEyMTg5NWYyOGM0OCk7CgogICAgICAgICAgICAKICAgICAgICAKICAgIAogICAgICAgICAgICB2YXIgY2lyY2xlX21hcmtlcl83NDIxMDJmNjUxYmU0MWUzOGEzMjU3YzZhYTlhNzFiNSA9IEwuY2lyY2xlTWFya2VyKAogICAgICAgICAgICAgICAgWy0yNy40NDA1OTYwODY3NjMwMzMsLTQ4LjUwMTg0MDA5NzgxNDg2XSwKICAgICAgICAgICAgICAgIHsKICAiYnViYmxpbmdNb3VzZUV2ZW50cyI6IHRydWUsCiAgImNvbG9yIjogImJsdWUiLAogICJkYXNoQXJyYXkiOiBudWxsLAogICJkYXNoT2Zmc2V0IjogbnVsbCwKICAiZmlsbCI6IHRydWUsCiAgImZpbGxDb2xvciI6ICIjMzE4NmNjIiwKICAiZmlsbE9wYWNpdHkiOiAwLjcsCiAgImZpbGxSdWxlIjogImV2ZW5vZGQiLAogICJsaW5lQ2FwIjogInJvdW5kIiwKICAibGluZUpvaW4iOiAicm91bmQiLAogICJvcGFjaXR5IjogMS4wLAogICJyYWRpdXMiOiA1LAogICJzdHJva2UiOiB0cnVlLAogICJ3ZWlnaHQiOiAzCn0KICAgICAgICAgICAgICAgICkuYWRkVG8obWFwX2Y0YjZhNjhhY2ZhNzQ1M2Q4OWYyODM2NzFkYmU0NzEwKTsKICAgICAgICAgICAgCiAgICAKICAgICAgICAgICAgdmFyIHBvcHVwXzIxOTFhZDY1NTlmNzRiNjM4NGYyMTkxNDg0NDgxYmNlID0gTC5wb3B1cCh7bWF4V2lkdGg6ICczMDAnfSk7CgogICAgICAgICAgICAKICAgICAgICAgICAgICAgIHZhciBodG1sXzljZTJlNTMwOTM3NDRjYThhMzk4YjY5Y2E3NDliMTdlID0gJCgnPGRpdiBpZD0iaHRtbF85Y2UyZTUzMDkzNzQ0Y2E4YTM5OGI2OWNhNzQ5YjE3ZSIgc3R5bGU9IndpZHRoOiAxMDAuMCU7IGhlaWdodDogMTAwLjAlOyI+TW9ybWFpaTwvZGl2PicpWzBdOwogICAgICAgICAgICAgICAgcG9wdXBfMjE5MWFkNjU1OWY3NGI2Mzg0ZjIxOTE0ODQ0ODFiY2Uuc2V0Q29udGVudChodG1sXzljZTJlNTMwOTM3NDRjYThhMzk4YjY5Y2E3NDliMTdlKTsKICAgICAgICAgICAgCgogICAgICAgICAgICBjaXJjbGVfbWFya2VyXzc0MjEwMmY2NTFiZTQxZTM4YTMyNTdjNmFhOWE3MWI1LmJpbmRQb3B1cChwb3B1cF8yMTkxYWQ2NTU5Zjc0YjYzODRmMjE5MTQ4NDQ4MWJjZSk7CgogICAgICAgICAgICAKICAgICAgICAKICAgIAogICAgICAgICAgICB2YXIgY2lyY2xlX21hcmtlcl9lNWM3YTRkYTVmZmE0NzA0YmVkNWYyNmZhNDBkOGZmMyA9IEwuY2lyY2xlTWFya2VyKAogICAgICAgICAgICAgICAgWy0yNy40NDE1NTA2MzIwNjA0MzQsLTQ4LjUwMTYxNTcyNjA0OTc2NF0sCiAgICAgICAgICAgICAgICB7CiAgImJ1YmJsaW5nTW91c2VFdmVudHMiOiB0cnVlLAogICJjb2xvciI6ICJibHVlIiwKICAiZGFzaEFycmF5IjogbnVsbCwKICAiZGFzaE9mZnNldCI6IG51bGwsCiAgImZpbGwiOiB0cnVlLAogICJmaWxsQ29sb3IiOiAiIzMxODZjYyIsCiAgImZpbGxPcGFjaXR5IjogMC43LAogICJmaWxsUnVsZSI6ICJldmVub2RkIiwKICAibGluZUNhcCI6ICJyb3VuZCIsCiAgImxpbmVKb2luIjogInJvdW5kIiwKICAib3BhY2l0eSI6IDEuMCwKICAicmFkaXVzIjogNSwKICAic3Ryb2tlIjogdHJ1ZSwKICAid2VpZ2h0IjogMwp9CiAgICAgICAgICAgICAgICApLmFkZFRvKG1hcF9mNGI2YTY4YWNmYTc0NTNkODlmMjgzNjcxZGJlNDcxMCk7CiAgICAgICAgICAgIAogICAgCiAgICAgICAgICAgIHZhciBwb3B1cF80YzVhZTVmYjBhMTI0NmEyYWMxNjRjMzY4NTQ0MGZmOSA9IEwucG9wdXAoe21heFdpZHRoOiAnMzAwJ30pOwoKICAgICAgICAgICAgCiAgICAgICAgICAgICAgICB2YXIgaHRtbF9lMDcxMjhhZjVmMmQ0NThjOWVlZGZmMDYwNmVhNzVhYiA9ICQoJzxkaXYgaWQ9Imh0bWxfZTA3MTI4YWY1ZjJkNDU4YzllZWRmZjA2MDZlYTc1YWIiIHN0eWxlPSJ3aWR0aDogMTAwLjAlOyBoZWlnaHQ6IDEwMC4wJTsiPkFybWF6w6ltIGRlIFNlY29zIGUgTW9saGFkb3M8L2Rpdj4nKVswXTsKICAgICAgICAgICAgICAgIHBvcHVwXzRjNWFlNWZiMGExMjQ2YTJhYzE2NGMzNjg1NDQwZmY5LnNldENvbnRlbnQoaHRtbF9lMDcxMjhhZjVmMmQ0NThjOWVlZGZmMDYwNmVhNzVhYik7CiAgICAgICAgICAgIAoKICAgICAgICAgICAgY2lyY2xlX21hcmtlcl9lNWM3YTRkYTVmZmE0NzA0YmVkNWYyNmZhNDBkOGZmMy5iaW5kUG9wdXAocG9wdXBfNGM1YWU1ZmIwYTEyNDZhMmFjMTY0YzM2ODU0NDBmZjkpOwoKICAgICAgICAgICAgCiAgICAgICAgCiAgICAKICAgICAgICAgICAgdmFyIGNpcmNsZV9tYXJrZXJfYmY3YTJlNWE2YjgyNGZmNmE5ZmFmYTFiYzRlZTI0ZTYgPSBMLmNpcmNsZU1hcmtlcigKICAgICAgICAgICAgICAgIFstMjcuNDM5ODkzLC00OC41MDE0NTFdLAogICAgICAgICAgICAgICAgewogICJidWJibGluZ01vdXNlRXZlbnRzIjogdHJ1ZSwKICAiY29sb3IiOiAiYmx1ZSIsCiAgImRhc2hBcnJheSI6IG51bGwsCiAgImRhc2hPZmZzZXQiOiBudWxsLAogICJmaWxsIjogdHJ1ZSwKICAiZmlsbENvbG9yIjogIiMzMTg2Y2MiLAogICJmaWxsT3BhY2l0eSI6IDAuNywKICAiZmlsbFJ1bGUiOiAiZXZlbm9kZCIsCiAgImxpbmVDYXAiOiAicm91bmQiLAogICJsaW5lSm9pbiI6ICJyb3VuZCIsCiAgIm9wYWNpdHkiOiAxLjAsCiAgInJhZGl1cyI6IDUsCiAgInN0cm9rZSI6IHRydWUsCiAgIndlaWdodCI6IDMKfQogICAgICAgICAgICAgICAgKS5hZGRUbyhtYXBfZjRiNmE2OGFjZmE3NDUzZDg5ZjI4MzY3MWRiZTQ3MTApOwogICAgICAgICAgICAKICAgIAogICAgICAgICAgICB2YXIgcG9wdXBfZTNkNjRiMDkzZmE2NDk1Njk5MmM3ODY3YjQ4NThkMWEgPSBMLnBvcHVwKHttYXhXaWR0aDogJzMwMCd9KTsKCiAgICAgICAgICAgIAogICAgICAgICAgICAgICAgdmFyIGh0bWxfMjM1MmJhNGMzZDk2NDk1OGJiNDU3NTE5OWM4OTE0NjIgPSAkKCc8ZGl2IGlkPSJodG1sXzIzNTJiYTRjM2Q5NjQ5NThiYjQ1NzUxOTljODkxNDYyIiBzdHlsZT0id2lkdGg6IDEwMC4wJTsgaGVpZ2h0OiAxMDAuMCU7Ij5Ob21hIFN1c2hpIEp1cmVyw6o8L2Rpdj4nKVswXTsKICAgICAgICAgICAgICAgIHBvcHVwX2UzZDY0YjA5M2ZhNjQ5NTY5OTJjNzg2N2I0ODU4ZDFhLnNldENvbnRlbnQoaHRtbF8yMzUyYmE0YzNkOTY0OTU4YmI0NTc1MTk5Yzg5MTQ2Mik7CiAgICAgICAgICAgIAoKICAgICAgICAgICAgY2lyY2xlX21hcmtlcl9iZjdhMmU1YTZiODI0ZmY2YTlmYWZhMWJjNGVlMjRlNi5iaW5kUG9wdXAocG9wdXBfZTNkNjRiMDkzZmE2NDk1Njk5MmM3ODY3YjQ4NThkMWEpOwoKICAgICAgICAgICAgCiAgICAgICAgCiAgICAKICAgICAgICAgICAgdmFyIGNpcmNsZV9tYXJrZXJfZDkxMGZjZTIzYTUxNDVjYjhjZmNmNjNhZTUzZmJmODAgPSBMLmNpcmNsZU1hcmtlcigKICAgICAgICAgICAgICAgIFstMjcuNDQ0NjE1NjU4NjYzMzI3LC00OC40OTQxNTE0NjY0MzU5NF0sCiAgICAgICAgICAgICAgICB7CiAgImJ1YmJsaW5nTW91c2VFdmVudHMiOiB0cnVlLAogICJjb2xvciI6ICJibHVlIiwKICAiZGFzaEFycmF5IjogbnVsbCwKICAiZGFzaE9mZnNldCI6IG51bGwsCiAgImZpbGwiOiB0cnVlLAogICJmaWxsQ29sb3IiOiAiIzMxODZjYyIsCiAgImZpbGxPcGFjaXR5IjogMC43LAogICJmaWxsUnVsZSI6ICJldmVub2RkIiwKICAibGluZUNhcCI6ICJyb3VuZCIsCiAgImxpbmVKb2luIjogInJvdW5kIiwKICAib3BhY2l0eSI6IDEuMCwKICAicmFkaXVzIjogNSwKICAic3Ryb2tlIjogdHJ1ZSwKICAid2VpZ2h0IjogMwp9CiAgICAgICAgICAgICAgICApLmFkZFRvKG1hcF9mNGI2YTY4YWNmYTc0NTNkODlmMjgzNjcxZGJlNDcxMCk7CiAgICAgICAgICAgIAogICAgCiAgICAgICAgICAgIHZhciBwb3B1cF9jYzc4ODk4MDNkOTY0MTVlOGMxMTI1ZDc2YjBhM2ZiYyA9IEwucG9wdXAoe21heFdpZHRoOiAnMzAwJ30pOwoKICAgICAgICAgICAgCiAgICAgICAgICAgICAgICB2YXIgaHRtbF84N2Y3NzQxOTBhZDU0Y2FhYjRlZDZhYmExMGNhZmE1NSA9ICQoJzxkaXYgaWQ9Imh0bWxfODdmNzc0MTkwYWQ1NGNhYWI0ZWQ2YWJhMTBjYWZhNTUiIHN0eWxlPSJ3aWR0aDogMTAwLjAlOyBoZWlnaHQ6IDEwMC4wJTsiPlBvc2ggUGh5c2ljYWwgQ2VudGVyPC9kaXY+JylbMF07CiAgICAgICAgICAgICAgICBwb3B1cF9jYzc4ODk4MDNkOTY0MTVlOGMxMTI1ZDc2YjBhM2ZiYy5zZXRDb250ZW50KGh0bWxfODdmNzc0MTkwYWQ1NGNhYWI0ZWQ2YWJhMTBjYWZhNTUpOwogICAgICAgICAgICAKCiAgICAgICAgICAgIGNpcmNsZV9tYXJrZXJfZDkxMGZjZTIzYTUxNDVjYjhjZmNmNjNhZTUzZmJmODAuYmluZFBvcHVwKHBvcHVwX2NjNzg4OTgwM2Q5NjQxNWU4YzExMjVkNzZiMGEzZmJjKTsKCiAgICAgICAgICAgIAogICAgICAgIAogICAgCiAgICAgICAgICAgIHZhciBjaXJjbGVfbWFya2VyXzlkYmZmYWE4YmZkYzRjOTFiODYzYTAzMjMyZmFmNjExID0gTC5jaXJjbGVNYXJrZXIoCiAgICAgICAgICAgICAgICBbLTI3LjQzOTc1NTU1MzQ5MzE0NiwtNDguNTAxNTY5NzEzMjk1NDhdLAogICAgICAgICAgICAgICAgewogICJidWJibGluZ01vdXNlRXZlbnRzIjogdHJ1ZSwKICAiY29sb3IiOiAiYmx1ZSIsCiAgImRhc2hBcnJheSI6IG51bGwsCiAgImRhc2hPZmZzZXQiOiBudWxsLAogICJmaWxsIjogdHJ1ZSwKICAiZmlsbENvbG9yIjogIiMzMTg2Y2MiLAogICJmaWxsT3BhY2l0eSI6IDAuNywKICAiZmlsbFJ1bGUiOiAiZXZlbm9kZCIsCiAgImxpbmVDYXAiOiAicm91bmQiLAogICJsaW5lSm9pbiI6ICJyb3VuZCIsCiAgIm9wYWNpdHkiOiAxLjAsCiAgInJhZGl1cyI6IDUsCiAgInN0cm9rZSI6IHRydWUsCiAgIndlaWdodCI6IDMKfQogICAgICAgICAgICAgICAgKS5hZGRUbyhtYXBfZjRiNmE2OGFjZmE3NDUzZDg5ZjI4MzY3MWRiZTQ3MTApOwogICAgICAgICAgICAKICAgIAogICAgICAgICAgICB2YXIgcG9wdXBfZGU2NzBjMGZjZDA0NGIyODlmYTUxOTI2OTYxMDljZWUgPSBMLnBvcHVwKHttYXhXaWR0aDogJzMwMCd9KTsKCiAgICAgICAgICAgIAogICAgICAgICAgICAgICAgdmFyIGh0bWxfZDg3MzZmMDJhMmQ3NGJiYTliYzBhNzRkNTM3NjJiY2IgPSAkKCc8ZGl2IGlkPSJodG1sX2Q4NzM2ZjAyYTJkNzRiYmE5YmMwYTc0ZDUzNzYyYmNiIiBzdHlsZT0id2lkdGg6IDEwMC4wJTsgaGVpZ2h0OiAxMDAuMCU7Ij5KdXLDqiBFaXNlbmJhaG48L2Rpdj4nKVswXTsKICAgICAgICAgICAgICAgIHBvcHVwX2RlNjcwYzBmY2QwNDRiMjg5ZmE1MTkyNjk2MTA5Y2VlLnNldENvbnRlbnQoaHRtbF9kODczNmYwMmEyZDc0YmJhOWJjMGE3NGQ1Mzc2MmJjYik7CiAgICAgICAgICAgIAoKICAgICAgICAgICAgY2lyY2xlX21hcmtlcl85ZGJmZmFhOGJmZGM0YzkxYjg2M2EwMzIzMmZhZjYxMS5iaW5kUG9wdXAocG9wdXBfZGU2NzBjMGZjZDA0NGIyODlmYTUxOTI2OTYxMDljZWUpOwoKICAgICAgICAgICAgCiAgICAgICAgCiAgICAKICAgICAgICAgICAgdmFyIGNpcmNsZV9tYXJrZXJfNDAxNzJlNWI4N2MyNGE3N2FjYzIwZGQzZWVkYjEzZWUgPSBMLmNpcmNsZU1hcmtlcigKICAgICAgICAgICAgICAgIFstMjcuNDM4OTM3MDA4MTk0MTY2LC00OC40OTQxNDg1MjExNjY5NV0sCiAgICAgICAgICAgICAgICB7CiAgImJ1YmJsaW5nTW91c2VFdmVudHMiOiB0cnVlLAogICJjb2xvciI6ICJibHVlIiwKICAiZGFzaEFycmF5IjogbnVsbCwKICAiZGFzaE9mZnNldCI6IG51bGwsCiAgImZpbGwiOiB0cnVlLAogICJmaWxsQ29sb3IiOiAiIzMxODZjYyIsCiAgImZpbGxPcGFjaXR5IjogMC43LAogICJmaWxsUnVsZSI6ICJldmVub2RkIiwKICAibGluZUNhcCI6ICJyb3VuZCIsCiAgImxpbmVKb2luIjogInJvdW5kIiwKICAib3BhY2l0eSI6IDEuMCwKICAicmFkaXVzIjogNSwKICAic3Ryb2tlIjogdHJ1ZSwKICAid2VpZ2h0IjogMwp9CiAgICAgICAgICAgICAgICApLmFkZFRvKG1hcF9mNGI2YTY4YWNmYTc0NTNkODlmMjgzNjcxZGJlNDcxMCk7CiAgICAgICAgICAgIAogICAgCiAgICAgICAgICAgIHZhciBwb3B1cF9jNTFiOTVkYTkwZDI0Y2JmYTA3OTBkZWQ5YmVkNWFhOCA9IEwucG9wdXAoe21heFdpZHRoOiAnMzAwJ30pOwoKICAgICAgICAgICAgCiAgICAgICAgICAgICAgICB2YXIgaHRtbF8xZDc1ZWIzZmU3NWY0ZGE4YjBiMmJlZDgyYmZmOTY2MyA9ICQoJzxkaXYgaWQ9Imh0bWxfMWQ3NWViM2ZlNzVmNGRhOGIwYjJiZWQ4MmJmZjk2NjMiIHN0eWxlPSJ3aWR0aDogMTAwLjAlOyBoZWlnaHQ6IDEwMC4wJTsiPkJvdGVjbyBKdXLDqjwvZGl2PicpWzBdOwogICAgICAgICAgICAgICAgcG9wdXBfYzUxYjk1ZGE5MGQyNGNiZmEwNzkwZGVkOWJlZDVhYTguc2V0Q29udGVudChodG1sXzFkNzVlYjNmZTc1ZjRkYThiMGIyYmVkODJiZmY5NjYzKTsKICAgICAgICAgICAgCgogICAgICAgICAgICBjaXJjbGVfbWFya2VyXzQwMTcyZTViODdjMjRhNzdhY2MyMGRkM2VlZGIxM2VlLmJpbmRQb3B1cChwb3B1cF9jNTFiOTVkYTkwZDI0Y2JmYTA3OTBkZWQ5YmVkNWFhOCk7CgogICAgICAgICAgICAKICAgICAgICAKICAgIAogICAgICAgICAgICB2YXIgY2lyY2xlX21hcmtlcl81MzAxY2NjNjM2YTM0OTYzOTJkY2IyMzUxOTc5ZWU2OCA9IEwuY2lyY2xlTWFya2VyKAogICAgICAgICAgICAgICAgWy0yNy40NDA4NDg5NDc2NzE1MTUsLTQ4LjQ5MTM5OTEzMDQzMzQ2XSwKICAgICAgICAgICAgICAgIHsKICAiYnViYmxpbmdNb3VzZUV2ZW50cyI6IHRydWUsCiAgImNvbG9yIjogImJsdWUiLAogICJkYXNoQXJyYXkiOiBudWxsLAogICJkYXNoT2Zmc2V0IjogbnVsbCwKICAiZmlsbCI6IHRydWUsCiAgImZpbGxDb2xvciI6ICIjMzE4NmNjIiwKICAiZmlsbE9wYWNpdHkiOiAwLjcsCiAgImZpbGxSdWxlIjogImV2ZW5vZGQiLAogICJsaW5lQ2FwIjogInJvdW5kIiwKICAibGluZUpvaW4iOiAicm91bmQiLAogICJvcGFjaXR5IjogMS4wLAogICJyYWRpdXMiOiA1LAogICJzdHJva2UiOiB0cnVlLAogICJ3ZWlnaHQiOiAzCn0KICAgICAgICAgICAgICAgICkuYWRkVG8obWFwX2Y0YjZhNjhhY2ZhNzQ1M2Q4OWYyODM2NzFkYmU0NzEwKTsKICAgICAgICAgICAgCiAgICAKICAgICAgICAgICAgdmFyIHBvcHVwX2MwNTQ2NmIzMWZmZjQ3YmRiM2E3MTdhOWI0OGY1MzdjID0gTC5wb3B1cCh7bWF4V2lkdGg6ICczMDAnfSk7CgogICAgICAgICAgICAKICAgICAgICAgICAgICAgIHZhciBodG1sXzg0OGVkZTU4ZDI1MDRmMDI4MmY5ODMyMWRhMzZlMjM1ID0gJCgnPGRpdiBpZD0iaHRtbF84NDhlZGU1OGQyNTA0ZjAyODJmOTgzMjFkYTM2ZTIzNSIgc3R5bGU9IndpZHRoOiAxMDAuMCU7IGhlaWdodDogMTAwLjAlOyI+SnVyZXLDqiBCZWFjaCBCdXJndWVyPC9kaXY+JylbMF07CiAgICAgICAgICAgICAgICBwb3B1cF9jMDU0NjZiMzFmZmY0N2JkYjNhNzE3YTliNDhmNTM3Yy5zZXRDb250ZW50KGh0bWxfODQ4ZWRlNThkMjUwNGYwMjgyZjk4MzIxZGEzNmUyMzUpOwogICAgICAgICAgICAKCiAgICAgICAgICAgIGNpcmNsZV9tYXJrZXJfNTMwMWNjYzYzNmEzNDk2MzkyZGNiMjM1MTk3OWVlNjguYmluZFBvcHVwKHBvcHVwX2MwNTQ2NmIzMWZmZjQ3YmRiM2E3MTdhOWI0OGY1MzdjKTsKCiAgICAgICAgICAgIAogICAgICAgIAogICAgCiAgICAgICAgICAgIHZhciBjaXJjbGVfbWFya2VyXzk5ODZmMGU5MDM1NzRlN2E5NzIyYmQ4YWM0MGVmMTJiID0gTC5jaXJjbGVNYXJrZXIoCiAgICAgICAgICAgICAgICBbLTI3LjQ0MTcxNjU2NDczNTE4NCwtNDguNTAxNjM3ODA3MTI1MDZdLAogICAgICAgICAgICAgICAgewogICJidWJibGluZ01vdXNlRXZlbnRzIjogdHJ1ZSwKICAiY29sb3IiOiAiYmx1ZSIsCiAgImRhc2hBcnJheSI6IG51bGwsCiAgImRhc2hPZmZzZXQiOiBudWxsLAogICJmaWxsIjogdHJ1ZSwKICAiZmlsbENvbG9yIjogIiMzMTg2Y2MiLAogICJmaWxsT3BhY2l0eSI6IDAuNywKICAiZmlsbFJ1bGUiOiAiZXZlbm9kZCIsCiAgImxpbmVDYXAiOiAicm91bmQiLAogICJsaW5lSm9pbiI6ICJyb3VuZCIsCiAgIm9wYWNpdHkiOiAxLjAsCiAgInJhZGl1cyI6IDUsCiAgInN0cm9rZSI6IHRydWUsCiAgIndlaWdodCI6IDMKfQogICAgICAgICAgICAgICAgKS5hZGRUbyhtYXBfZjRiNmE2OGFjZmE3NDUzZDg5ZjI4MzY3MWRiZTQ3MTApOwogICAgICAgICAgICAKICAgIAogICAgICAgICAgICB2YXIgcG9wdXBfNjI5OTVhY2ZhYWU5NDhlYmFlM2NmYjlmNTgxZjgxZTAgPSBMLnBvcHVwKHttYXhXaWR0aDogJzMwMCd9KTsKCiAgICAgICAgICAgIAogICAgICAgICAgICAgICAgdmFyIGh0bWxfOGFjNzM5YmNhY2ZlNGFlMDk1NzMzZTZhYzEzMjJhMjIgPSAkKCc8ZGl2IGlkPSJodG1sXzhhYzczOWJjYWNmZTRhZTA5NTczM2U2YWMxMzIyYTIyIiBzdHlsZT0id2lkdGg6IDEwMC4wJTsgaGVpZ2h0OiAxMDAuMCU7Ij5Zb2dvbGF0dGUgRnJvemVuIFlvZ3VydDwvZGl2PicpWzBdOwogICAgICAgICAgICAgICAgcG9wdXBfNjI5OTVhY2ZhYWU5NDhlYmFlM2NmYjlmNTgxZjgxZTAuc2V0Q29udGVudChodG1sXzhhYzczOWJjYWNmZTRhZTA5NTczM2U2YWMxMzIyYTIyKTsKICAgICAgICAgICAgCgogICAgICAgICAgICBjaXJjbGVfbWFya2VyXzk5ODZmMGU5MDM1NzRlN2E5NzIyYmQ4YWM0MGVmMTJiLmJpbmRQb3B1cChwb3B1cF82Mjk5NWFjZmFhZTk0OGViYWUzY2ZiOWY1ODFmODFlMCk7CgogICAgICAgICAgICAKICAgICAgICAKICAgIAogICAgICAgICAgICB2YXIgY2lyY2xlX21hcmtlcl9kYzAxYWFjNjY1YzQ0MGQ1YWI5MjVhOTJjYjE3MTc5YyA9IEwuY2lyY2xlTWFya2VyKAogICAgICAgICAgICAgICAgWy0yNy40NDEzODY3MjMyNzA2ODYsLTQ4LjUwMTYyNTYxMDExMjUyXSwKICAgICAgICAgICAgICAgIHsKICAiYnViYmxpbmdNb3VzZUV2ZW50cyI6IHRydWUsCiAgImNvbG9yIjogImJsdWUiLAogICJkYXNoQXJyYXkiOiBudWxsLAogICJkYXNoT2Zmc2V0IjogbnVsbCwKICAiZmlsbCI6IHRydWUsCiAgImZpbGxDb2xvciI6ICIjMzE4NmNjIiwKICAiZmlsbE9wYWNpdHkiOiAwLjcsCiAgImZpbGxSdWxlIjogImV2ZW5vZGQiLAogICJsaW5lQ2FwIjogInJvdW5kIiwKICAibGluZUpvaW4iOiAicm91bmQiLAogICJvcGFjaXR5IjogMS4wLAogICJyYWRpdXMiOiA1LAogICJzdHJva2UiOiB0cnVlLAogICJ3ZWlnaHQiOiAzCn0KICAgICAgICAgICAgICAgICkuYWRkVG8obWFwX2Y0YjZhNjhhY2ZhNzQ1M2Q4OWYyODM2NzFkYmU0NzEwKTsKICAgICAgICAgICAgCiAgICAKICAgICAgICAgICAgdmFyIHBvcHVwX2JkNmI0ZjQ0ZDY5OTQwNmU4M2I1ZjFkY2VhMTJlY2EzID0gTC5wb3B1cCh7bWF4V2lkdGg6ICczMDAnfSk7CgogICAgICAgICAgICAKICAgICAgICAgICAgICAgIHZhciBodG1sX2ViYmJiNGVkYmYwODQzZDBhODEzZDU2NDZmNzhjNTIyID0gJCgnPGRpdiBpZD0iaHRtbF9lYmJiYjRlZGJmMDg0M2QwYTgxM2Q1NjQ2Zjc4YzUyMiIgc3R5bGU9IndpZHRoOiAxMDAuMCU7IGhlaWdodDogMTAwLjAlOyI+Q29tcGFuaGlhIGRvcyBQw6NlczwvZGl2PicpWzBdOwogICAgICAgICAgICAgICAgcG9wdXBfYmQ2YjRmNDRkNjk5NDA2ZTgzYjVmMWRjZWExMmVjYTMuc2V0Q29udGVudChodG1sX2ViYmJiNGVkYmYwODQzZDBhODEzZDU2NDZmNzhjNTIyKTsKICAgICAgICAgICAgCgogICAgICAgICAgICBjaXJjbGVfbWFya2VyX2RjMDFhYWM2NjVjNDQwZDVhYjkyNWE5MmNiMTcxNzljLmJpbmRQb3B1cChwb3B1cF9iZDZiNGY0NGQ2OTk0MDZlODNiNWYxZGNlYTEyZWNhMyk7CgogICAgICAgICAgICAKICAgICAgICAKICAgIAogICAgICAgICAgICB2YXIgY2lyY2xlX21hcmtlcl8xYjEzZjMxNDg0MjQ0YmI5YWRmODBmZDM3YjY4NjgzMCA9IEwuY2lyY2xlTWFya2VyKAogICAgICAgICAgICAgICAgWy0yNy40MzkzNjk4NzYyNjk2NzMsLTQ4LjUwMTI0NTgyOTMyMDA1NV0sCiAgICAgICAgICAgICAgICB7CiAgImJ1YmJsaW5nTW91c2VFdmVudHMiOiB0cnVlLAogICJjb2xvciI6ICJibHVlIiwKICAiZGFzaEFycmF5IjogbnVsbCwKICAiZGFzaE9mZnNldCI6IG51bGwsCiAgImZpbGwiOiB0cnVlLAogICJmaWxsQ29sb3IiOiAiIzMxODZjYyIsCiAgImZpbGxPcGFjaXR5IjogMC43LAogICJmaWxsUnVsZSI6ICJldmVub2RkIiwKICAibGluZUNhcCI6ICJyb3VuZCIsCiAgImxpbmVKb2luIjogInJvdW5kIiwKICAib3BhY2l0eSI6IDEuMCwKICAicmFkaXVzIjogNSwKICAic3Ryb2tlIjogdHJ1ZSwKICAid2VpZ2h0IjogMwp9CiAgICAgICAgICAgICAgICApLmFkZFRvKG1hcF9mNGI2YTY4YWNmYTc0NTNkODlmMjgzNjcxZGJlNDcxMCk7CiAgICAgICAgICAgIAogICAgCiAgICAgICAgICAgIHZhciBwb3B1cF85ZTFhOTI4MzVmZGE0YzEwYmZjMGUwOWRjZjQ2ZjEyNyA9IEwucG9wdXAoe21heFdpZHRoOiAnMzAwJ30pOwoKICAgICAgICAgICAgCiAgICAgICAgICAgICAgICB2YXIgaHRtbF9kZTQ5NTI5OTQ0MmM0ZDgzOTgwZmYzNTUwODJjMDlmMSA9ICQoJzxkaXYgaWQ9Imh0bWxfZGU0OTUyOTk0NDJjNGQ4Mzk4MGZmMzU1MDgyYzA5ZjEiIHN0eWxlPSJ3aWR0aDogMTAwLjAlOyBoZWlnaHQ6IDEwMC4wJTsiPkdhcmFnZSBCdXJnZXI8L2Rpdj4nKVswXTsKICAgICAgICAgICAgICAgIHBvcHVwXzllMWE5MjgzNWZkYTRjMTBiZmMwZTA5ZGNmNDZmMTI3LnNldENvbnRlbnQoaHRtbF9kZTQ5NTI5OTQ0MmM0ZDgzOTgwZmYzNTUwODJjMDlmMSk7CiAgICAgICAgICAgIAoKICAgICAgICAgICAgY2lyY2xlX21hcmtlcl8xYjEzZjMxNDg0MjQ0YmI5YWRmODBmZDM3YjY4NjgzMC5iaW5kUG9wdXAocG9wdXBfOWUxYTkyODM1ZmRhNGMxMGJmYzBlMDlkY2Y0NmYxMjcpOwoKICAgICAgICAgICAgCiAgICAgICAgCiAgICAKICAgICAgICAgICAgdmFyIGNpcmNsZV9tYXJrZXJfYTU3MTIzNDkwMGI3NGFjYWJiMGU4ZjI1ZDcyYjY2YmMgPSBMLmNpcmNsZU1hcmtlcigKICAgICAgICAgICAgICAgIFstMjcuNDQxOTEyNTYwOTU2NzYsLTQ4LjUwMTU3NDYyMjUwNjUxXSwKICAgICAgICAgICAgICAgIHsKICAiYnViYmxpbmdNb3VzZUV2ZW50cyI6IHRydWUsCiAgImNvbG9yIjogImJsdWUiLAogICJkYXNoQXJyYXkiOiBudWxsLAogICJkYXNoT2Zmc2V0IjogbnVsbCwKICAiZmlsbCI6IHRydWUsCiAgImZpbGxDb2xvciI6ICIjMzE4NmNjIiwKICAiZmlsbE9wYWNpdHkiOiAwLjcsCiAgImZpbGxSdWxlIjogImV2ZW5vZGQiLAogICJsaW5lQ2FwIjogInJvdW5kIiwKICAibGluZUpvaW4iOiAicm91bmQiLAogICJvcGFjaXR5IjogMS4wLAogICJyYWRpdXMiOiA1LAogICJzdHJva2UiOiB0cnVlLAogICJ3ZWlnaHQiOiAzCn0KICAgICAgICAgICAgICAgICkuYWRkVG8obWFwX2Y0YjZhNjhhY2ZhNzQ1M2Q4OWYyODM2NzFkYmU0NzEwKTsKICAgICAgICAgICAgCiAgICAKICAgICAgICAgICAgdmFyIHBvcHVwXzI4NTFhYzM0ZjlmZjRhYWZiOGI4NTRjMzkxYjk5M2IyID0gTC5wb3B1cCh7bWF4V2lkdGg6ICczMDAnfSk7CgogICAgICAgICAgICAKICAgICAgICAgICAgICAgIHZhciBodG1sXzBiMzMzM2UwZDIwNDQyMTdiODBkZDk0NDUwOTY0ZDNhID0gJCgnPGRpdiBpZD0iaHRtbF8wYjMzMzNlMGQyMDQ0MjE3YjgwZGQ5NDQ1MDk2NGQzYSIgc3R5bGU9IndpZHRoOiAxMDAuMCU7IGhlaWdodDogMTAwLjAlOyI+UGl6emEgRXhwcmVzcyBKdXJlcmUgSW50ZXJuYWNpb25hbDwvZGl2PicpWzBdOwogICAgICAgICAgICAgICAgcG9wdXBfMjg1MWFjMzRmOWZmNGFhZmI4Yjg1NGMzOTFiOTkzYjIuc2V0Q29udGVudChodG1sXzBiMzMzM2UwZDIwNDQyMTdiODBkZDk0NDUwOTY0ZDNhKTsKICAgICAgICAgICAgCgogICAgICAgICAgICBjaXJjbGVfbWFya2VyX2E1NzEyMzQ5MDBiNzRhY2FiYjBlOGYyNWQ3MmI2NmJjLmJpbmRQb3B1cChwb3B1cF8yODUxYWMzNGY5ZmY0YWFmYjhiODU0YzM5MWI5OTNiMik7CgogICAgICAgICAgICAKICAgICAgICAKICAgIAogICAgICAgICAgICB2YXIgY2lyY2xlX21hcmtlcl8xOWYwOWI3NmRhNmI0NjI3YTQxZmEzNDc5MTcyMmFkMyA9IEwuY2lyY2xlTWFya2VyKAogICAgICAgICAgICAgICAgWy0yNy40MzkyNzM4NjE3NTU2OSwtNDguNTAwNTA1MzE5NDkxMzFdLAogICAgICAgICAgICAgICAgewogICJidWJibGluZ01vdXNlRXZlbnRzIjogdHJ1ZSwKICAiY29sb3IiOiAiYmx1ZSIsCiAgImRhc2hBcnJheSI6IG51bGwsCiAgImRhc2hPZmZzZXQiOiBudWxsLAogICJmaWxsIjogdHJ1ZSwKICAiZmlsbENvbG9yIjogIiMzMTg2Y2MiLAogICJmaWxsT3BhY2l0eSI6IDAuNywKICAiZmlsbFJ1bGUiOiAiZXZlbm9kZCIsCiAgImxpbmVDYXAiOiAicm91bmQiLAogICJsaW5lSm9pbiI6ICJyb3VuZCIsCiAgIm9wYWNpdHkiOiAxLjAsCiAgInJhZGl1cyI6IDUsCiAgInN0cm9rZSI6IHRydWUsCiAgIndlaWdodCI6IDMKfQogICAgICAgICAgICAgICAgKS5hZGRUbyhtYXBfZjRiNmE2OGFjZmE3NDUzZDg5ZjI4MzY3MWRiZTQ3MTApOwogICAgICAgICAgICAKICAgIAogICAgICAgICAgICB2YXIgcG9wdXBfN2E2YzA0ZTM2ZDU5NDM2M2JlYTlmNzE5ODhkNGZiZTAgPSBMLnBvcHVwKHttYXhXaWR0aDogJzMwMCd9KTsKCiAgICAgICAgICAgIAogICAgICAgICAgICAgICAgdmFyIGh0bWxfODk2OTFjZTg2NTVjNGQzYjg0NzJlZGFiM2VhMGNhYTkgPSAkKCc8ZGl2IGlkPSJodG1sXzg5NjkxY2U4NjU1YzRkM2I4NDcyZWRhYjNlYTBjYWE5IiBzdHlsZT0id2lkdGg6IDEwMC4wJTsgaGVpZ2h0OiAxMDAuMCU7Ij5DYWbDqSBkYSBNYW5ow6MgSWwgQ2FtcGFuYXJpbzwvZGl2PicpWzBdOwogICAgICAgICAgICAgICAgcG9wdXBfN2E2YzA0ZTM2ZDU5NDM2M2JlYTlmNzE5ODhkNGZiZTAuc2V0Q29udGVudChodG1sXzg5NjkxY2U4NjU1YzRkM2I4NDcyZWRhYjNlYTBjYWE5KTsKICAgICAgICAgICAgCgogICAgICAgICAgICBjaXJjbGVfbWFya2VyXzE5ZjA5Yjc2ZGE2YjQ2MjdhNDFmYTM0NzkxNzIyYWQzLmJpbmRQb3B1cChwb3B1cF83YTZjMDRlMzZkNTk0MzYzYmVhOWY3MTk4OGQ0ZmJlMCk7CgogICAgICAgICAgICAKICAgICAgICAKICAgIAogICAgICAgICAgICB2YXIgY2lyY2xlX21hcmtlcl9jZDJiOTA3MmVlNjk0NWZmYTE1ZjgxMDUzMDhiMjBlOSA9IEwuY2lyY2xlTWFya2VyKAogICAgICAgICAgICAgICAgWy0yNy40MzgwMTk5OTQ0NTk3NSwtNDguNDkzNzcyNzg5ODU2OTA1XSwKICAgICAgICAgICAgICAgIHsKICAiYnViYmxpbmdNb3VzZUV2ZW50cyI6IHRydWUsCiAgImNvbG9yIjogImJsdWUiLAogICJkYXNoQXJyYXkiOiBudWxsLAogICJkYXNoT2Zmc2V0IjogbnVsbCwKICAiZmlsbCI6IHRydWUsCiAgImZpbGxDb2xvciI6ICIjMzE4NmNjIiwKICAiZmlsbE9wYWNpdHkiOiAwLjcsCiAgImZpbGxSdWxlIjogImV2ZW5vZGQiLAogICJsaW5lQ2FwIjogInJvdW5kIiwKICAibGluZUpvaW4iOiAicm91bmQiLAogICJvcGFjaXR5IjogMS4wLAogICJyYWRpdXMiOiA1LAogICJzdHJva2UiOiB0cnVlLAogICJ3ZWlnaHQiOiAzCn0KICAgICAgICAgICAgICAgICkuYWRkVG8obWFwX2Y0YjZhNjhhY2ZhNzQ1M2Q4OWYyODM2NzFkYmU0NzEwKTsKICAgICAgICAgICAgCiAgICAKICAgICAgICAgICAgdmFyIHBvcHVwXzJjZGJlOGI2ZTIxMzQxNDU4NjM5MWJhMjBlY2NlMDk4ID0gTC5wb3B1cCh7bWF4V2lkdGg6ICczMDAnfSk7CgogICAgICAgICAgICAKICAgICAgICAgICAgICAgIHZhciBodG1sXzA5MDBlNzAzNTU5ODQ5M2ZiN2FhOWMxNzBlMjlkYWI0ID0gJCgnPGRpdiBpZD0iaHRtbF8wOTAwZTcwMzU1OTg0OTNmYjdhYTljMTcwZTI5ZGFiNCIgc3R5bGU9IndpZHRoOiAxMDAuMCU7IGhlaWdodDogMTAwLjAlOyI+S2lvc2tlIGRvIFBpcmF0YTwvZGl2PicpWzBdOwogICAgICAgICAgICAgICAgcG9wdXBfMmNkYmU4YjZlMjEzNDE0NTg2MzkxYmEyMGVjY2UwOTguc2V0Q29udGVudChodG1sXzA5MDBlNzAzNTU5ODQ5M2ZiN2FhOWMxNzBlMjlkYWI0KTsKICAgICAgICAgICAgCgogICAgICAgICAgICBjaXJjbGVfbWFya2VyX2NkMmI5MDcyZWU2OTQ1ZmZhMTVmODEwNTMwOGIyMGU5LmJpbmRQb3B1cChwb3B1cF8yY2RiZThiNmUyMTM0MTQ1ODYzOTFiYTIwZWNjZTA5OCk7CgogICAgICAgICAgICAKICAgICAgICAKICAgIAogICAgICAgICAgICB2YXIgY2lyY2xlX21hcmtlcl80OThhYmM5NzM3MzQ0Mjc1Yjc4Nzk4NTI0MzljZTE5NSA9IEwuY2lyY2xlTWFya2VyKAogICAgICAgICAgICAgICAgWy0yNy40NDE5MTcsLTQ4LjUwMTU3OF0sCiAgICAgICAgICAgICAgICB7CiAgImJ1YmJsaW5nTW91c2VFdmVudHMiOiB0cnVlLAogICJjb2xvciI6ICJibHVlIiwKICAiZGFzaEFycmF5IjogbnVsbCwKICAiZGFzaE9mZnNldCI6IG51bGwsCiAgImZpbGwiOiB0cnVlLAogICJmaWxsQ29sb3IiOiAiIzMxODZjYyIsCiAgImZpbGxPcGFjaXR5IjogMC43LAogICJmaWxsUnVsZSI6ICJldmVub2RkIiwKICAibGluZUNhcCI6ICJyb3VuZCIsCiAgImxpbmVKb2luIjogInJvdW5kIiwKICAib3BhY2l0eSI6IDEuMCwKICAicmFkaXVzIjogNSwKICAic3Ryb2tlIjogdHJ1ZSwKICAid2VpZ2h0IjogMwp9CiAgICAgICAgICAgICAgICApLmFkZFRvKG1hcF9mNGI2YTY4YWNmYTc0NTNkODlmMjgzNjcxZGJlNDcxMCk7CiAgICAgICAgICAgIAogICAgCiAgICAgICAgICAgIHZhciBwb3B1cF9jMmY2MzczM2E5ODA0MDg4ODQ3MmMzZWI2NGFmNDE3NCA9IEwucG9wdXAoe21heFdpZHRoOiAnMzAwJ30pOwoKICAgICAgICAgICAgCiAgICAgICAgICAgICAgICB2YXIgaHRtbF9mMzQ3NjlkN2RmOTY0MzliODRiNDEyYzZjZDliZmIwNyA9ICQoJzxkaXYgaWQ9Imh0bWxfZjM0NzY5ZDdkZjk2NDM5Yjg0YjQxMmM2Y2Q5YmZiMDciIHN0eWxlPSJ3aWR0aDogMTAwLjAlOyBoZWlnaHQ6IDEwMC4wJTsiPkdvIFRlbWFraTwvZGl2PicpWzBdOwogICAgICAgICAgICAgICAgcG9wdXBfYzJmNjM3MzNhOTgwNDA4ODg0NzJjM2ViNjRhZjQxNzQuc2V0Q29udGVudChodG1sX2YzNDc2OWQ3ZGY5NjQzOWI4NGI0MTJjNmNkOWJmYjA3KTsKICAgICAgICAgICAgCgogICAgICAgICAgICBjaXJjbGVfbWFya2VyXzQ5OGFiYzk3MzczNDQyNzViNzg3OTg1MjQzOWNlMTk1LmJpbmRQb3B1cChwb3B1cF9jMmY2MzczM2E5ODA0MDg4ODQ3MmMzZWI2NGFmNDE3NCk7CgogICAgICAgICAgICAKICAgICAgICAKICAgIAogICAgICAgICAgICB2YXIgY2lyY2xlX21hcmtlcl82OGYzZGUxOTEyZDA0MjJiYWIyMWJiMjIxOTAxYTA1ZiA9IEwuY2lyY2xlTWFya2VyKAogICAgICAgICAgICAgICAgWy0yNy40NDE0Mzc2NTIyNDY1NCwtNDguNTAxNTg5OTI2NzYxNTk2XSwKICAgICAgICAgICAgICAgIHsKICAiYnViYmxpbmdNb3VzZUV2ZW50cyI6IHRydWUsCiAgImNvbG9yIjogImJsdWUiLAogICJkYXNoQXJyYXkiOiBudWxsLAogICJkYXNoT2Zmc2V0IjogbnVsbCwKICAiZmlsbCI6IHRydWUsCiAgImZpbGxDb2xvciI6ICIjMzE4NmNjIiwKICAiZmlsbE9wYWNpdHkiOiAwLjcsCiAgImZpbGxSdWxlIjogImV2ZW5vZGQiLAogICJsaW5lQ2FwIjogInJvdW5kIiwKICAibGluZUpvaW4iOiAicm91bmQiLAogICJvcGFjaXR5IjogMS4wLAogICJyYWRpdXMiOiA1LAogICJzdHJva2UiOiB0cnVlLAogICJ3ZWlnaHQiOiAzCn0KICAgICAgICAgICAgICAgICkuYWRkVG8obWFwX2Y0YjZhNjhhY2ZhNzQ1M2Q4OWYyODM2NzFkYmU0NzEwKTsKICAgICAgICAgICAgCiAgICAKICAgICAgICAgICAgdmFyIHBvcHVwXzkxZDFkZmQ4YzQ1ZjQ2OTU5ZmE0YWNmNjIzMTM4MWQ5ID0gTC5wb3B1cCh7bWF4V2lkdGg6ICczMDAnfSk7CgogICAgICAgICAgICAKICAgICAgICAgICAgICAgIHZhciBodG1sX2E2NjhkMmRiM2Y4OTQzOWY5ZGVkNTdiNTFmYTZlZTQ1ID0gJCgnPGRpdiBpZD0iaHRtbF9hNjY4ZDJkYjNmODk0MzlmOWRlZDU3YjUxZmE2ZWU0NSIgc3R5bGU9IndpZHRoOiAxMDAuMCU7IGhlaWdodDogMTAwLjAlOyI+UMOjbyBkYSBDYXNhPC9kaXY+JylbMF07CiAgICAgICAgICAgICAgICBwb3B1cF85MWQxZGZkOGM0NWY0Njk1OWZhNGFjZjYyMzEzODFkOS5zZXRDb250ZW50KGh0bWxfYTY2OGQyZGIzZjg5NDM5ZjlkZWQ1N2I1MWZhNmVlNDUpOwogICAgICAgICAgICAKCiAgICAgICAgICAgIGNpcmNsZV9tYXJrZXJfNjhmM2RlMTkxMmQwNDIyYmFiMjFiYjIyMTkwMWEwNWYuYmluZFBvcHVwKHBvcHVwXzkxZDFkZmQ4YzQ1ZjQ2OTU5ZmE0YWNmNjIzMTM4MWQ5KTsKCiAgICAgICAgICAgIAogICAgICAgIAogICAgCiAgICAgICAgICAgIHZhciBjaXJjbGVfbWFya2VyXzk4N2FhOTQ5ZjJhMTQ2ZWE5OGNhOWQ4ZjliZGI5YzdmID0gTC5jaXJjbGVNYXJrZXIoCiAgICAgICAgICAgICAgICBbLTI3LjQ0MTg3OTkyODc2OTcsLTQ4LjUwMTU4Nzk1NjAzOTcxXSwKICAgICAgICAgICAgICAgIHsKICAiYnViYmxpbmdNb3VzZUV2ZW50cyI6IHRydWUsCiAgImNvbG9yIjogImJsdWUiLAogICJkYXNoQXJyYXkiOiBudWxsLAogICJkYXNoT2Zmc2V0IjogbnVsbCwKICAiZmlsbCI6IHRydWUsCiAgImZpbGxDb2xvciI6ICIjMzE4NmNjIiwKICAiZmlsbE9wYWNpdHkiOiAwLjcsCiAgImZpbGxSdWxlIjogImV2ZW5vZGQiLAogICJsaW5lQ2FwIjogInJvdW5kIiwKICAibGluZUpvaW4iOiAicm91bmQiLAogICJvcGFjaXR5IjogMS4wLAogICJyYWRpdXMiOiA1LAogICJzdHJva2UiOiB0cnVlLAogICJ3ZWlnaHQiOiAzCn0KICAgICAgICAgICAgICAgICkuYWRkVG8obWFwX2Y0YjZhNjhhY2ZhNzQ1M2Q4OWYyODM2NzFkYmU0NzEwKTsKICAgICAgICAgICAgCiAgICAKICAgICAgICAgICAgdmFyIHBvcHVwXzgzMDhkMjVkOGFlMzQ1YzY5NWE0Y2U2NjcyNzZjZDgzID0gTC5wb3B1cCh7bWF4V2lkdGg6ICczMDAnfSk7CgogICAgICAgICAgICAKICAgICAgICAgICAgICAgIHZhciBodG1sXzVkZjVkYTA4ZDZjNTQ1MTM4Mzc1MmY2NTNlNjQ3OWM0ID0gJCgnPGRpdiBpZD0iaHRtbF81ZGY1ZGEwOGQ2YzU0NTEzODM3NTJmNjUzZTY0NzljNCIgc3R5bGU9IndpZHRoOiAxMDAuMCU7IGhlaWdodDogMTAwLjAlOyI+Z28gdGVtYWtpPC9kaXY+JylbMF07CiAgICAgICAgICAgICAgICBwb3B1cF84MzA4ZDI1ZDhhZTM0NWM2OTVhNGNlNjY3Mjc2Y2Q4My5zZXRDb250ZW50KGh0bWxfNWRmNWRhMDhkNmM1NDUxMzgzNzUyZjY1M2U2NDc5YzQpOwogICAgICAgICAgICAKCiAgICAgICAgICAgIGNpcmNsZV9tYXJrZXJfOTg3YWE5NDlmMmExNDZlYTk4Y2E5ZDhmOWJkYjljN2YuYmluZFBvcHVwKHBvcHVwXzgzMDhkMjVkOGFlMzQ1YzY5NWE0Y2U2NjcyNzZjZDgzKTsKCiAgICAgICAgICAgIAogICAgICAgIAogICAgCiAgICAgICAgICAgIHZhciBjaXJjbGVfbWFya2VyXzVkMjM0MjliY2UwODQwMmZiMjY5ZmNkMTU2ZWIyYTc2ID0gTC5jaXJjbGVNYXJrZXIoCiAgICAgICAgICAgICAgICBbLTI3LjQ0MTQzNTA3MDMyOTgyOCwtNDguNTAxNjMxNDc4OTUyMzVdLAogICAgICAgICAgICAgICAgewogICJidWJibGluZ01vdXNlRXZlbnRzIjogdHJ1ZSwKICAiY29sb3IiOiAiYmx1ZSIsCiAgImRhc2hBcnJheSI6IG51bGwsCiAgImRhc2hPZmZzZXQiOiBudWxsLAogICJmaWxsIjogdHJ1ZSwKICAiZmlsbENvbG9yIjogIiMzMTg2Y2MiLAogICJmaWxsT3BhY2l0eSI6IDAuNywKICAiZmlsbFJ1bGUiOiAiZXZlbm9kZCIsCiAgImxpbmVDYXAiOiAicm91bmQiLAogICJsaW5lSm9pbiI6ICJyb3VuZCIsCiAgIm9wYWNpdHkiOiAxLjAsCiAgInJhZGl1cyI6IDUsCiAgInN0cm9rZSI6IHRydWUsCiAgIndlaWdodCI6IDMKfQogICAgICAgICAgICAgICAgKS5hZGRUbyhtYXBfZjRiNmE2OGFjZmE3NDUzZDg5ZjI4MzY3MWRiZTQ3MTApOwogICAgICAgICAgICAKICAgIAogICAgICAgICAgICB2YXIgcG9wdXBfZDkyYjNiZTRhNWNmNGNlOWE1ZjFhZmQ3ZWFjZmI3ZDYgPSBMLnBvcHVwKHttYXhXaWR0aDogJzMwMCd9KTsKCiAgICAgICAgICAgIAogICAgICAgICAgICAgICAgdmFyIGh0bWxfZTM3N2JmMTBhMGU3NDYwYThiMGFhMDkzM2NjYWQzNjYgPSAkKCc8ZGl2IGlkPSJodG1sX2UzNzdiZjEwYTBlNzQ2MGE4YjBhYTA5MzNjY2FkMzY2IiBzdHlsZT0id2lkdGg6IDEwMC4wJTsgaGVpZ2h0OiAxMDAuMCU7Ij5TYWx1dCE8L2Rpdj4nKVswXTsKICAgICAgICAgICAgICAgIHBvcHVwX2Q5MmIzYmU0YTVjZjRjZTlhNWYxYWZkN2VhY2ZiN2Q2LnNldENvbnRlbnQoaHRtbF9lMzc3YmYxMGEwZTc0NjBhOGIwYWEwOTMzY2NhZDM2Nik7CiAgICAgICAgICAgIAoKICAgICAgICAgICAgY2lyY2xlX21hcmtlcl81ZDIzNDI5YmNlMDg0MDJmYjI2OWZjZDE1NmViMmE3Ni5iaW5kUG9wdXAocG9wdXBfZDkyYjNiZTRhNWNmNGNlOWE1ZjFhZmQ3ZWFjZmI3ZDYpOwoKICAgICAgICAgICAgCiAgICAgICAgCiAgICAKICAgICAgICAgICAgdmFyIGNpcmNsZV9tYXJrZXJfMzA3ZjE5YjVhOTgzNDdkY2I5NGVmNzI4MmU1ZDYwNjggPSBMLmNpcmNsZU1hcmtlcigKICAgICAgICAgICAgICAgIFstMjcuNDM3MzYwMjA4MzkwMjMsLTQ4LjUwMTU2NDg1NzAzNzA2XSwKICAgICAgICAgICAgICAgIHsKICAiYnViYmxpbmdNb3VzZUV2ZW50cyI6IHRydWUsCiAgImNvbG9yIjogImJsdWUiLAogICJkYXNoQXJyYXkiOiBudWxsLAogICJkYXNoT2Zmc2V0IjogbnVsbCwKICAiZmlsbCI6IHRydWUsCiAgImZpbGxDb2xvciI6ICIjMzE4NmNjIiwKICAiZmlsbE9wYWNpdHkiOiAwLjcsCiAgImZpbGxSdWxlIjogImV2ZW5vZGQiLAogICJsaW5lQ2FwIjogInJvdW5kIiwKICAibGluZUpvaW4iOiAicm91bmQiLAogICJvcGFjaXR5IjogMS4wLAogICJyYWRpdXMiOiA1LAogICJzdHJva2UiOiB0cnVlLAogICJ3ZWlnaHQiOiAzCn0KICAgICAgICAgICAgICAgICkuYWRkVG8obWFwX2Y0YjZhNjhhY2ZhNzQ1M2Q4OWYyODM2NzFkYmU0NzEwKTsKICAgICAgICAgICAgCiAgICAKICAgICAgICAgICAgdmFyIHBvcHVwXzA3NWU3MDgwM2NlOTRiODFhNTU4MDI3MGI5Mjg1YjFjID0gTC5wb3B1cCh7bWF4V2lkdGg6ICczMDAnfSk7CgogICAgICAgICAgICAKICAgICAgICAgICAgICAgIHZhciBodG1sXzhmZWFiN2QxZDIyZjQ1Y2NhNWJmNWJjNDVjNzVmN2NhID0gJCgnPGRpdiBpZD0iaHRtbF84ZmVhYjdkMWQyMmY0NWNjYTViZjViYzQ1Yzc1ZjdjYSIgc3R5bGU9IndpZHRoOiAxMDAuMCU7IGhlaWdodDogMTAwLjAlOyI+MzAwIENvc21vIEJlYWNoIENsdWI8L2Rpdj4nKVswXTsKICAgICAgICAgICAgICAgIHBvcHVwXzA3NWU3MDgwM2NlOTRiODFhNTU4MDI3MGI5Mjg1YjFjLnNldENvbnRlbnQoaHRtbF84ZmVhYjdkMWQyMmY0NWNjYTViZjViYzQ1Yzc1ZjdjYSk7CiAgICAgICAgICAgIAoKICAgICAgICAgICAgY2lyY2xlX21hcmtlcl8zMDdmMTliNWE5ODM0N2RjYjk0ZWY3MjgyZTVkNjA2OC5iaW5kUG9wdXAocG9wdXBfMDc1ZTcwODAzY2U5NGI4MWE1NTgwMjcwYjkyODViMWMpOwoKICAgICAgICAgICAgCiAgICAgICAgCiAgICAKICAgICAgICAgICAgdmFyIGNpcmNsZV9tYXJrZXJfMTRhYzBlOTZjZWI3NGFhNTljN2JlMGRkZmNiNzBjOGEgPSBMLmNpcmNsZU1hcmtlcigKICAgICAgICAgICAgICAgIFstMjcuNDM3MTIzLC00OC41MDE0NjhdLAogICAgICAgICAgICAgICAgewogICJidWJibGluZ01vdXNlRXZlbnRzIjogdHJ1ZSwKICAiY29sb3IiOiAiYmx1ZSIsCiAgImRhc2hBcnJheSI6IG51bGwsCiAgImRhc2hPZmZzZXQiOiBudWxsLAogICJmaWxsIjogdHJ1ZSwKICAiZmlsbENvbG9yIjogIiMzMTg2Y2MiLAogICJmaWxsT3BhY2l0eSI6IDAuNywKICAiZmlsbFJ1bGUiOiAiZXZlbm9kZCIsCiAgImxpbmVDYXAiOiAicm91bmQiLAogICJsaW5lSm9pbiI6ICJyb3VuZCIsCiAgIm9wYWNpdHkiOiAxLjAsCiAgInJhZGl1cyI6IDUsCiAgInN0cm9rZSI6IHRydWUsCiAgIndlaWdodCI6IDMKfQogICAgICAgICAgICAgICAgKS5hZGRUbyhtYXBfZjRiNmE2OGFjZmE3NDUzZDg5ZjI4MzY3MWRiZTQ3MTApOwogICAgICAgICAgICAKICAgIAogICAgICAgICAgICB2YXIgcG9wdXBfYThmMWMyNTc2NTgyNDJlZWExY2Y4NGY0OTk1M2VjYWUgPSBMLnBvcHVwKHttYXhXaWR0aDogJzMwMCd9KTsKCiAgICAgICAgICAgIAogICAgICAgICAgICAgICAgdmFyIGh0bWxfODAzZWY2NWRmMjM4NDkxN2JhMjlhNDUyYWM1NTJlYzggPSAkKCc8ZGl2IGlkPSJodG1sXzgwM2VmNjVkZjIzODQ5MTdiYTI5YTQ1MmFjNTUyZWM4IiBzdHlsZT0id2lkdGg6IDEwMC4wJTsgaGVpZ2h0OiAxMDAuMCU7Ij5FbmNhbnRhIEp1cmVyZSBJbnRlcm5hY2lvbmFsPC9kaXY+JylbMF07CiAgICAgICAgICAgICAgICBwb3B1cF9hOGYxYzI1NzY1ODI0MmVlYTFjZjg0ZjQ5OTUzZWNhZS5zZXRDb250ZW50KGh0bWxfODAzZWY2NWRmMjM4NDkxN2JhMjlhNDUyYWM1NTJlYzgpOwogICAgICAgICAgICAKCiAgICAgICAgICAgIGNpcmNsZV9tYXJrZXJfMTRhYzBlOTZjZWI3NGFhNTljN2JlMGRkZmNiNzBjOGEuYmluZFBvcHVwKHBvcHVwX2E4ZjFjMjU3NjU4MjQyZWVhMWNmODRmNDk5NTNlY2FlKTsKCiAgICAgICAgICAgIAogICAgICAgIAogICAgCiAgICAgICAgICAgIHZhciBjaXJjbGVfbWFya2VyX2M4OWU5ZjZmMDI4MzQ4OGE4ZGIzZDVkZGJjZDUzZDRjID0gTC5jaXJjbGVNYXJrZXIoCiAgICAgICAgICAgICAgICBbLTI3LjQzNjE5MiwtNDguNTA0OTE0XSwKICAgICAgICAgICAgICAgIHsKICAiYnViYmxpbmdNb3VzZUV2ZW50cyI6IHRydWUsCiAgImNvbG9yIjogImJsdWUiLAogICJkYXNoQXJyYXkiOiBudWxsLAogICJkYXNoT2Zmc2V0IjogbnVsbCwKICAiZmlsbCI6IHRydWUsCiAgImZpbGxDb2xvciI6ICIjMzE4NmNjIiwKICAiZmlsbE9wYWNpdHkiOiAwLjcsCiAgImZpbGxSdWxlIjogImV2ZW5vZGQiLAogICJsaW5lQ2FwIjogInJvdW5kIiwKICAibGluZUpvaW4iOiAicm91bmQiLAogICJvcGFjaXR5IjogMS4wLAogICJyYWRpdXMiOiA1LAogICJzdHJva2UiOiB0cnVlLAogICJ3ZWlnaHQiOiAzCn0KICAgICAgICAgICAgICAgICkuYWRkVG8obWFwX2Y0YjZhNjhhY2ZhNzQ1M2Q4OWYyODM2NzFkYmU0NzEwKTsKICAgICAgICAgICAgCiAgICAKICAgICAgICAgICAgdmFyIHBvcHVwX2EwNDhkZjQ1ODExMjQzMjg5NWM0M2ZmZGJmZTFhYmQxID0gTC5wb3B1cCh7bWF4V2lkdGg6ICczMDAnfSk7CgogICAgICAgICAgICAKICAgICAgICAgICAgICAgIHZhciBodG1sX2Q2OTkwNjY0YThjNzRlZDViZDJmNzNjYjNjOWM3YjVhID0gJCgnPGRpdiBpZD0iaHRtbF9kNjk5MDY2NGE4Yzc0ZWQ1YmQyZjczY2IzYzljN2I1YSIgc3R5bGU9IndpZHRoOiAxMDAuMCU7IGhlaWdodDogMTAwLjAlOyI+QW1tbyBCZWFjaDwvZGl2PicpWzBdOwogICAgICAgICAgICAgICAgcG9wdXBfYTA0OGRmNDU4MTEyNDMyODk1YzQzZmZkYmZlMWFiZDEuc2V0Q29udGVudChodG1sX2Q2OTkwNjY0YThjNzRlZDViZDJmNzNjYjNjOWM3YjVhKTsKICAgICAgICAgICAgCgogICAgICAgICAgICBjaXJjbGVfbWFya2VyX2M4OWU5ZjZmMDI4MzQ4OGE4ZGIzZDVkZGJjZDUzZDRjLmJpbmRQb3B1cChwb3B1cF9hMDQ4ZGY0NTgxMTI0MzI4OTVjNDNmZmRiZmUxYWJkMSk7CgogICAgICAgICAgICAKICAgICAgICAKICAgIAogICAgICAgICAgICB2YXIgY2lyY2xlX21hcmtlcl9mN2JiYmE2N2M1MWY0ZTlmOTRjZjcyYTNkNjg3N2Q0MiA9IEwuY2lyY2xlTWFya2VyKAogICAgICAgICAgICAgICAgWy0yNy40NDIzNzQ0Nzg3Nzk0LC00OC40OTQwNjU1MjYzMzY5MjVdLAogICAgICAgICAgICAgICAgewogICJidWJibGluZ01vdXNlRXZlbnRzIjogdHJ1ZSwKICAiY29sb3IiOiAiYmx1ZSIsCiAgImRhc2hBcnJheSI6IG51bGwsCiAgImRhc2hPZmZzZXQiOiBudWxsLAogICJmaWxsIjogdHJ1ZSwKICAiZmlsbENvbG9yIjogIiMzMTg2Y2MiLAogICJmaWxsT3BhY2l0eSI6IDAuNywKICAiZmlsbFJ1bGUiOiAiZXZlbm9kZCIsCiAgImxpbmVDYXAiOiAicm91bmQiLAogICJsaW5lSm9pbiI6ICJyb3VuZCIsCiAgIm9wYWNpdHkiOiAxLjAsCiAgInJhZGl1cyI6IDUsCiAgInN0cm9rZSI6IHRydWUsCiAgIndlaWdodCI6IDMKfQogICAgICAgICAgICAgICAgKS5hZGRUbyhtYXBfZjRiNmE2OGFjZmE3NDUzZDg5ZjI4MzY3MWRiZTQ3MTApOwogICAgICAgICAgICAKICAgIAogICAgICAgICAgICB2YXIgcG9wdXBfYTZlYWFiZWEwZmFmNGNmYzg4MWNiZDAwNzhhZTFhYmYgPSBMLnBvcHVwKHttYXhXaWR0aDogJzMwMCd9KTsKCiAgICAgICAgICAgIAogICAgICAgICAgICAgICAgdmFyIGh0bWxfN2NjZjUxMjgyODE2NDhmMzllODFkZDVjOTc3ZDZjYzggPSAkKCc8ZGl2IGlkPSJodG1sXzdjY2Y1MTI4MjgxNjQ4ZjM5ZTgxZGQ1Yzk3N2Q2Y2M4IiBzdHlsZT0id2lkdGg6IDEwMC4wJTsgaGVpZ2h0OiAxMDAuMCU7Ij5Ob24gU29sbyBDYWZmw6ggLSBKdXJlcsOqPC9kaXY+JylbMF07CiAgICAgICAgICAgICAgICBwb3B1cF9hNmVhYWJlYTBmYWY0Y2ZjODgxY2JkMDA3OGFlMWFiZi5zZXRDb250ZW50KGh0bWxfN2NjZjUxMjgyODE2NDhmMzllODFkZDVjOTc3ZDZjYzgpOwogICAgICAgICAgICAKCiAgICAgICAgICAgIGNpcmNsZV9tYXJrZXJfZjdiYmJhNjdjNTFmNGU5Zjk0Y2Y3MmEzZDY4NzdkNDIuYmluZFBvcHVwKHBvcHVwX2E2ZWFhYmVhMGZhZjRjZmM4ODFjYmQwMDc4YWUxYWJmKTsKCiAgICAgICAgICAgIAogICAgICAgIAogICAgCiAgICAgICAgICAgIHZhciBjaXJjbGVfbWFya2VyX2VhMWM5NDU3MDRiMDRkN2FhMjc1NWFjNzcyZWFlZGY4ID0gTC5jaXJjbGVNYXJrZXIoCiAgICAgICAgICAgICAgICBbLTI3LjQ0NTgxNTExOTczNzUxNywtNDguNDk2OTcwNDE5NjM1OTVdLAogICAgICAgICAgICAgICAgewogICJidWJibGluZ01vdXNlRXZlbnRzIjogdHJ1ZSwKICAiY29sb3IiOiAiYmx1ZSIsCiAgImRhc2hBcnJheSI6IG51bGwsCiAgImRhc2hPZmZzZXQiOiBudWxsLAogICJmaWxsIjogdHJ1ZSwKICAiZmlsbENvbG9yIjogIiMzMTg2Y2MiLAogICJmaWxsT3BhY2l0eSI6IDAuNywKICAiZmlsbFJ1bGUiOiAiZXZlbm9kZCIsCiAgImxpbmVDYXAiOiAicm91bmQiLAogICJsaW5lSm9pbiI6ICJyb3VuZCIsCiAgIm9wYWNpdHkiOiAxLjAsCiAgInJhZGl1cyI6IDUsCiAgInN0cm9rZSI6IHRydWUsCiAgIndlaWdodCI6IDMKfQogICAgICAgICAgICAgICAgKS5hZGRUbyhtYXBfZjRiNmE2OGFjZmE3NDUzZDg5ZjI4MzY3MWRiZTQ3MTApOwogICAgICAgICAgICAKICAgIAogICAgICAgICAgICB2YXIgcG9wdXBfMjRhMjE5MDk3NzYzNGNlMGE4YmVmMGExYzNiNGE1ZDkgPSBMLnBvcHVwKHttYXhXaWR0aDogJzMwMCd9KTsKCiAgICAgICAgICAgIAogICAgICAgICAgICAgICAgdmFyIGh0bWxfNTY1MTVjYzJkNjI0NDRmNmI0MGJkMzJlY2FjMGRmNzQgPSAkKCc8ZGl2IGlkPSJodG1sXzU2NTE1Y2MyZDYyNDQ0ZjZiNDBiZDMyZWNhYzBkZjc0IiBzdHlsZT0id2lkdGg6IDEwMC4wJTsgaGVpZ2h0OiAxMDAuMCU7Ij5BbW9yZXZpbGxlPC9kaXY+JylbMF07CiAgICAgICAgICAgICAgICBwb3B1cF8yNGEyMTkwOTc3NjM0Y2UwYThiZWYwYTFjM2I0YTVkOS5zZXRDb250ZW50KGh0bWxfNTY1MTVjYzJkNjI0NDRmNmI0MGJkMzJlY2FjMGRmNzQpOwogICAgICAgICAgICAKCiAgICAgICAgICAgIGNpcmNsZV9tYXJrZXJfZWExYzk0NTcwNGIwNGQ3YWEyNzU1YWM3NzJlYWVkZjguYmluZFBvcHVwKHBvcHVwXzI0YTIxOTA5Nzc2MzRjZTBhOGJlZjBhMWMzYjRhNWQ5KTsKCiAgICAgICAgICAgIAogICAgICAgIAogICAgCiAgICAgICAgICAgIHZhciBjaXJjbGVfbWFya2VyXzdlY2FkYmIzYjcwMDQ4OGNhNjI0MzQxYzk5YWEwMWU3ID0gTC5jaXJjbGVNYXJrZXIoCiAgICAgICAgICAgICAgICBbLTI3LjQzODE4NzU2NDY0NDMsLTQ4LjUwNzczMjA2MjAwNDI4XSwKICAgICAgICAgICAgICAgIHsKICAiYnViYmxpbmdNb3VzZUV2ZW50cyI6IHRydWUsCiAgImNvbG9yIjogImJsdWUiLAogICJkYXNoQXJyYXkiOiBudWxsLAogICJkYXNoT2Zmc2V0IjogbnVsbCwKICAiZmlsbCI6IHRydWUsCiAgImZpbGxDb2xvciI6ICIjMzE4NmNjIiwKICAiZmlsbE9wYWNpdHkiOiAwLjcsCiAgImZpbGxSdWxlIjogImV2ZW5vZGQiLAogICJsaW5lQ2FwIjogInJvdW5kIiwKICAibGluZUpvaW4iOiAicm91bmQiLAogICJvcGFjaXR5IjogMS4wLAogICJyYWRpdXMiOiA1LAogICJzdHJva2UiOiB0cnVlLAogICJ3ZWlnaHQiOiAzCn0KICAgICAgICAgICAgICAgICkuYWRkVG8obWFwX2Y0YjZhNjhhY2ZhNzQ1M2Q4OWYyODM2NzFkYmU0NzEwKTsKICAgICAgICAgICAgCiAgICAKICAgICAgICAgICAgdmFyIHBvcHVwXzRhODA5MzMyZTY2ODRiYzY5YmRkYTU0Y2ZhZTdjNWIxID0gTC5wb3B1cCh7bWF4V2lkdGg6ICczMDAnfSk7CgogICAgICAgICAgICAKICAgICAgICAgICAgICAgIHZhciBodG1sXzJhMGU5MDY0NWViMjQ4ZjhhMzYyYTk0OTZkMmEwZmFhID0gJCgnPGRpdiBpZD0iaHRtbF8yYTBlOTA2NDVlYjI0OGY4YTM2MmE5NDk2ZDJhMGZhYSIgc3R5bGU9IndpZHRoOiAxMDAuMCU7IGhlaWdodDogMTAwLjAlOyI+RHVrYWvDoSBJbnRlcm5hY2lvbmFswq4gU3Vjb3MgZSBDYWlwaXJpbmhhczwvZGl2PicpWzBdOwogICAgICAgICAgICAgICAgcG9wdXBfNGE4MDkzMzJlNjY4NGJjNjliZGRhNTRjZmFlN2M1YjEuc2V0Q29udGVudChodG1sXzJhMGU5MDY0NWViMjQ4ZjhhMzYyYTk0OTZkMmEwZmFhKTsKICAgICAgICAgICAgCgogICAgICAgICAgICBjaXJjbGVfbWFya2VyXzdlY2FkYmIzYjcwMDQ4OGNhNjI0MzQxYzk5YWEwMWU3LmJpbmRQb3B1cChwb3B1cF80YTgwOTMzMmU2Njg0YmM2OWJkZGE1NGNmYWU3YzViMSk7CgogICAgICAgICAgICAKICAgICAgICAKICAgIAogICAgICAgICAgICB2YXIgY2lyY2xlX21hcmtlcl9iODVjYjQwMzA5MzQ0MjRiYWJhM2RmNTI3N2MyNTMwNiA9IEwuY2lyY2xlTWFya2VyKAogICAgICAgICAgICAgICAgWy0yNy40NDAzMDgyMzIwMDI0MTUsLTQ4LjUwODU2MjIyMTM1MTkxNl0sCiAgICAgICAgICAgICAgICB7CiAgImJ1YmJsaW5nTW91c2VFdmVudHMiOiB0cnVlLAogICJjb2xvciI6ICJibHVlIiwKICAiZGFzaEFycmF5IjogbnVsbCwKICAiZGFzaE9mZnNldCI6IG51bGwsCiAgImZpbGwiOiB0cnVlLAogICJmaWxsQ29sb3IiOiAiIzMxODZjYyIsCiAgImZpbGxPcGFjaXR5IjogMC43LAogICJmaWxsUnVsZSI6ICJldmVub2RkIiwKICAibGluZUNhcCI6ICJyb3VuZCIsCiAgImxpbmVKb2luIjogInJvdW5kIiwKICAib3BhY2l0eSI6IDEuMCwKICAicmFkaXVzIjogNSwKICAic3Ryb2tlIjogdHJ1ZSwKICAid2VpZ2h0IjogMwp9CiAgICAgICAgICAgICAgICApLmFkZFRvKG1hcF9mNGI2YTY4YWNmYTc0NTNkODlmMjgzNjcxZGJlNDcxMCk7CiAgICAgICAgICAgIAogICAgCiAgICAgICAgICAgIHZhciBwb3B1cF8wOWFlZDYyZmQyZjE0ODk4OTY4MTIwMjc2YzdjNzI5MiA9IEwucG9wdXAoe21heFdpZHRoOiAnMzAwJ30pOwoKICAgICAgICAgICAgCiAgICAgICAgICAgICAgICB2YXIgaHRtbF8wNmNlMmQ4OGFhZTM0MmMwYTRjMzMxY2NjZGQ4YzQxMCA9ICQoJzxkaXYgaWQ9Imh0bWxfMDZjZTJkODhhYWUzNDJjMGE0YzMzMWNjY2RkOGM0MTAiIHN0eWxlPSJ3aWR0aDogMTAwLjAlOyBoZWlnaHQ6IDEwMC4wJTsiPkVsIFBhbGV0ZXJvPC9kaXY+JylbMF07CiAgICAgICAgICAgICAgICBwb3B1cF8wOWFlZDYyZmQyZjE0ODk4OTY4MTIwMjc2YzdjNzI5Mi5zZXRDb250ZW50KGh0bWxfMDZjZTJkODhhYWUzNDJjMGE0YzMzMWNjY2RkOGM0MTApOwogICAgICAgICAgICAKCiAgICAgICAgICAgIGNpcmNsZV9tYXJrZXJfYjg1Y2I0MDMwOTM0NDI0YmFiYTNkZjUyNzdjMjUzMDYuYmluZFBvcHVwKHBvcHVwXzA5YWVkNjJmZDJmMTQ4OTg5NjgxMjAyNzZjN2M3MjkyKTsKCiAgICAgICAgICAgIAogICAgICAgIAogICAgCiAgICAgICAgICAgIHZhciBjaXJjbGVfbWFya2VyX2UwYTEwZTNjYTFhYzQwZDQ4OTFhNWNmMTEzZDU4YjA0ID0gTC5jaXJjbGVNYXJrZXIoCiAgICAgICAgICAgICAgICBbLTI3LjQ0MDI0Mjc3ODU5NDUzNCwtNDguNTA4NjMwNTg3OTcxODRdLAogICAgICAgICAgICAgICAgewogICJidWJibGluZ01vdXNlRXZlbnRzIjogdHJ1ZSwKICAiY29sb3IiOiAiYmx1ZSIsCiAgImRhc2hBcnJheSI6IG51bGwsCiAgImRhc2hPZmZzZXQiOiBudWxsLAogICJmaWxsIjogdHJ1ZSwKICAiZmlsbENvbG9yIjogIiMzMTg2Y2MiLAogICJmaWxsT3BhY2l0eSI6IDAuNywKICAiZmlsbFJ1bGUiOiAiZXZlbm9kZCIsCiAgImxpbmVDYXAiOiAicm91bmQiLAogICJsaW5lSm9pbiI6ICJyb3VuZCIsCiAgIm9wYWNpdHkiOiAxLjAsCiAgInJhZGl1cyI6IDUsCiAgInN0cm9rZSI6IHRydWUsCiAgIndlaWdodCI6IDMKfQogICAgICAgICAgICAgICAgKS5hZGRUbyhtYXBfZjRiNmE2OGFjZmE3NDUzZDg5ZjI4MzY3MWRiZTQ3MTApOwogICAgICAgICAgICAKICAgIAogICAgICAgICAgICB2YXIgcG9wdXBfZWEyYTEwZmFjOGRkNGY3NGIyNGIyMWY4MTFlNGNmMGIgPSBMLnBvcHVwKHttYXhXaWR0aDogJzMwMCd9KTsKCiAgICAgICAgICAgIAogICAgICAgICAgICAgICAgdmFyIGh0bWxfNjAzMjZhZTQwZTQzNGUwNWJlNWIyNDE1YjI3MDIxNjYgPSAkKCc8ZGl2IGlkPSJodG1sXzYwMzI2YWU0MGU0MzRlMDViZTViMjQxNWIyNzAyMTY2IiBzdHlsZT0id2lkdGg6IDEwMC4wJTsgaGVpZ2h0OiAxMDAuMCU7Ij5QYWRhcmlhIFDDo28gZGEgQ2FzYSBTZW5hZGluaG88L2Rpdj4nKVswXTsKICAgICAgICAgICAgICAgIHBvcHVwX2VhMmExMGZhYzhkZDRmNzRiMjRiMjFmODExZTRjZjBiLnNldENvbnRlbnQoaHRtbF82MDMyNmFlNDBlNDM0ZTA1YmU1YjI0MTViMjcwMjE2Nik7CiAgICAgICAgICAgIAoKICAgICAgICAgICAgY2lyY2xlX21hcmtlcl9lMGExMGUzY2ExYWM0MGQ0ODkxYTVjZjExM2Q1OGIwNC5iaW5kUG9wdXAocG9wdXBfZWEyYTEwZmFjOGRkNGY3NGIyNGIyMWY4MTFlNGNmMGIpOwoKICAgICAgICAgICAgCiAgICAgICAgCiAgICAKICAgICAgICAgICAgdmFyIGNpcmNsZV9tYXJrZXJfMzRiYzJmMzdkOGU4NDBlMDkyMmUxNDA3NTM0ZDkzZGMgPSBMLmNpcmNsZU1hcmtlcigKICAgICAgICAgICAgICAgIFstMjcuNDMyMjU1Mzg3MzA5NjEzLC00OC40NTc1NDg0MDMxMDY3Nl0sCiAgICAgICAgICAgICAgICB7CiAgImJ1YmJsaW5nTW91c2VFdmVudHMiOiB0cnVlLAogICJjb2xvciI6ICJibHVlIiwKICAiZGFzaEFycmF5IjogbnVsbCwKICAiZGFzaE9mZnNldCI6IG51bGwsCiAgImZpbGwiOiB0cnVlLAogICJmaWxsQ29sb3IiOiAiIzMxODZjYyIsCiAgImZpbGxPcGFjaXR5IjogMC43LAogICJmaWxsUnVsZSI6ICJldmVub2RkIiwKICAibGluZUNhcCI6ICJyb3VuZCIsCiAgImxpbmVKb2luIjogInJvdW5kIiwKICAib3BhY2l0eSI6IDEuMCwKICAicmFkaXVzIjogNSwKICAic3Ryb2tlIjogdHJ1ZSwKICAid2VpZ2h0IjogMwp9CiAgICAgICAgICAgICAgICApLmFkZFRvKG1hcF9mNGI2YTY4YWNmYTc0NTNkODlmMjgzNjcxZGJlNDcxMCk7CiAgICAgICAgICAgIAogICAgCiAgICAgICAgICAgIHZhciBwb3B1cF80ZTk1ZDcxNzQ5YmQ0OGRhOWRiYjliZWRlZDBhODM3YiA9IEwucG9wdXAoe21heFdpZHRoOiAnMzAwJ30pOwoKICAgICAgICAgICAgCiAgICAgICAgICAgICAgICB2YXIgaHRtbF8yODBiYTM3OGQwOTM0MmEzYjhjOGIzNGNhZTljMzU1MSA9ICQoJzxkaXYgaWQ9Imh0bWxfMjgwYmEzNzhkMDkzNDJhM2I4YzhiMzRjYWU5YzM1NTEiIHN0eWxlPSJ3aWR0aDogMTAwLjAlOyBoZWlnaHQ6IDEwMC4wJTsiPkRpcmV0byBkbyBDYW1wbzwvZGl2PicpWzBdOwogICAgICAgICAgICAgICAgcG9wdXBfNGU5NWQ3MTc0OWJkNDhkYTlkYmI5YmVkZWQwYTgzN2Iuc2V0Q29udGVudChodG1sXzI4MGJhMzc4ZDA5MzQyYTNiOGM4YjM0Y2FlOWMzNTUxKTsKICAgICAgICAgICAgCgogICAgICAgICAgICBjaXJjbGVfbWFya2VyXzM0YmMyZjM3ZDhlODQwZTA5MjJlMTQwNzUzNGQ5M2RjLmJpbmRQb3B1cChwb3B1cF80ZTk1ZDcxNzQ5YmQ0OGRhOWRiYjliZWRlZDBhODM3Yik7CgogICAgICAgICAgICAKICAgICAgICAKICAgIAogICAgICAgICAgICB2YXIgY2lyY2xlX21hcmtlcl84ZTBlM2ZjZTIyZTA0OGJhYTAzMWRjYzFlNGQ5ZmU5MyA9IEwuY2lyY2xlTWFya2VyKAogICAgICAgICAgICAgICAgWy0yNy40MjgzMiwtNDguNDU3NDc5XSwKICAgICAgICAgICAgICAgIHsKICAiYnViYmxpbmdNb3VzZUV2ZW50cyI6IHRydWUsCiAgImNvbG9yIjogImJsdWUiLAogICJkYXNoQXJyYXkiOiBudWxsLAogICJkYXNoT2Zmc2V0IjogbnVsbCwKICAiZmlsbCI6IHRydWUsCiAgImZpbGxDb2xvciI6ICIjMzE4NmNjIiwKICAiZmlsbE9wYWNpdHkiOiAwLjcsCiAgImZpbGxSdWxlIjogImV2ZW5vZGQiLAogICJsaW5lQ2FwIjogInJvdW5kIiwKICAibGluZUpvaW4iOiAicm91bmQiLAogICJvcGFjaXR5IjogMS4wLAogICJyYWRpdXMiOiA1LAogICJzdHJva2UiOiB0cnVlLAogICJ3ZWlnaHQiOiAzCn0KICAgICAgICAgICAgICAgICkuYWRkVG8obWFwX2Y0YjZhNjhhY2ZhNzQ1M2Q4OWYyODM2NzFkYmU0NzEwKTsKICAgICAgICAgICAgCiAgICAKICAgICAgICAgICAgdmFyIHBvcHVwXzUxM2Q1ZWVkZGYwMzRlNTA5OTk5NjFhYzE3ZDUzZGQ2ID0gTC5wb3B1cCh7bWF4V2lkdGg6ICczMDAnfSk7CgogICAgICAgICAgICAKICAgICAgICAgICAgICAgIHZhciBodG1sXzRlNDQ5NTllNmM0MTQ1NWE4MTMxNjBlYTc5ZTEzNDQ3ID0gJCgnPGRpdiBpZD0iaHRtbF80ZTQ0OTU5ZTZjNDE0NTVhODEzMTYwZWE3OWUxMzQ0NyIgc3R5bGU9IndpZHRoOiAxMDAuMCU7IGhlaWdodDogMTAwLjAlOyI+R3JpbW1wYSYjMzk7cyBHYXN0cm9ub21pYSBjYXNlaXJhIEdyaWxsPC9kaXY+JylbMF07CiAgICAgICAgICAgICAgICBwb3B1cF81MTNkNWVlZGRmMDM0ZTUwOTk5OTYxYWMxN2Q1M2RkNi5zZXRDb250ZW50KGh0bWxfNGU0NDk1OWU2YzQxNDU1YTgxMzE2MGVhNzllMTM0NDcpOwogICAgICAgICAgICAKCiAgICAgICAgICAgIGNpcmNsZV9tYXJrZXJfOGUwZTNmY2UyMmUwNDhiYWEwMzFkY2MxZTRkOWZlOTMuYmluZFBvcHVwKHBvcHVwXzUxM2Q1ZWVkZGYwMzRlNTA5OTk5NjFhYzE3ZDUzZGQ2KTsKCiAgICAgICAgICAgIAogICAgICAgIAogICAgCiAgICAgICAgICAgIHZhciBjaXJjbGVfbWFya2VyXzU4MTQ3ZmRhNTQ1NDQxYTdhYzI0MzQ4ZThhYTkyNmRlID0gTC5jaXJjbGVNYXJrZXIoCiAgICAgICAgICAgICAgICBbLTI3LjQyODcxMjU1NjA1MjQ2NywtNDguNDU4MDI1NDE2NTM1OTA0XSwKICAgICAgICAgICAgICAgIHsKICAiYnViYmxpbmdNb3VzZUV2ZW50cyI6IHRydWUsCiAgImNvbG9yIjogImJsdWUiLAogICJkYXNoQXJyYXkiOiBudWxsLAogICJkYXNoT2Zmc2V0IjogbnVsbCwKICAiZmlsbCI6IHRydWUsCiAgImZpbGxDb2xvciI6ICIjMzE4NmNjIiwKICAiZmlsbE9wYWNpdHkiOiAwLjcsCiAgImZpbGxSdWxlIjogImV2ZW5vZGQiLAogICJsaW5lQ2FwIjogInJvdW5kIiwKICAibGluZUpvaW4iOiAicm91bmQiLAogICJvcGFjaXR5IjogMS4wLAogICJyYWRpdXMiOiA1LAogICJzdHJva2UiOiB0cnVlLAogICJ3ZWlnaHQiOiAzCn0KICAgICAgICAgICAgICAgICkuYWRkVG8obWFwX2Y0YjZhNjhhY2ZhNzQ1M2Q4OWYyODM2NzFkYmU0NzEwKTsKICAgICAgICAgICAgCiAgICAKICAgICAgICAgICAgdmFyIHBvcHVwXzcyZjdkMzIyYmQ1ZDQ2NTlhY2JhOGNlNTM0MWI4ZWU5ID0gTC5wb3B1cCh7bWF4V2lkdGg6ICczMDAnfSk7CgogICAgICAgICAgICAKICAgICAgICAgICAgICAgIHZhciBodG1sXzhiZTcxM2VkZDMxZjRkYTA5YjNlYjJmYzJhZWU3OTlkID0gJCgnPGRpdiBpZD0iaHRtbF84YmU3MTNlZGQzMWY0ZGEwOWIzZWIyZmMyYWVlNzk5ZCIgc3R5bGU9IndpZHRoOiAxMDAuMCU7IGhlaWdodDogMTAwLjAlOyI+U2Fib3IgUGl6emE8L2Rpdj4nKVswXTsKICAgICAgICAgICAgICAgIHBvcHVwXzcyZjdkMzIyYmQ1ZDQ2NTlhY2JhOGNlNTM0MWI4ZWU5LnNldENvbnRlbnQoaHRtbF84YmU3MTNlZGQzMWY0ZGEwOWIzZWIyZmMyYWVlNzk5ZCk7CiAgICAgICAgICAgIAoKICAgICAgICAgICAgY2lyY2xlX21hcmtlcl81ODE0N2ZkYTU0NTQ0MWE3YWMyNDM0OGU4YWE5MjZkZS5iaW5kUG9wdXAocG9wdXBfNzJmN2QzMjJiZDVkNDY1OWFjYmE4Y2U1MzQxYjhlZTkpOwoKICAgICAgICAgICAgCiAgICAgICAgCiAgICAKICAgICAgICAgICAgdmFyIGNpcmNsZV9tYXJrZXJfZjhkOTYwY2FhZjhiNGE1YmIzNzg0YTcyMDdhMmVhYmUgPSBMLmNpcmNsZU1hcmtlcigKICAgICAgICAgICAgICAgIFstMjcuNDMwNDgwNTcxMTkwMDM1LC00OC40NTgyNjM2NTk2OTM5Nl0sCiAgICAgICAgICAgICAgICB7CiAgImJ1YmJsaW5nTW91c2VFdmVudHMiOiB0cnVlLAogICJjb2xvciI6ICJibHVlIiwKICAiZGFzaEFycmF5IjogbnVsbCwKICAiZGFzaE9mZnNldCI6IG51bGwsCiAgImZpbGwiOiB0cnVlLAogICJmaWxsQ29sb3IiOiAiIzMxODZjYyIsCiAgImZpbGxPcGFjaXR5IjogMC43LAogICJmaWxsUnVsZSI6ICJldmVub2RkIiwKICAibGluZUNhcCI6ICJyb3VuZCIsCiAgImxpbmVKb2luIjogInJvdW5kIiwKICAib3BhY2l0eSI6IDEuMCwKICAicmFkaXVzIjogNSwKICAic3Ryb2tlIjogdHJ1ZSwKICAid2VpZ2h0IjogMwp9CiAgICAgICAgICAgICAgICApLmFkZFRvKG1hcF9mNGI2YTY4YWNmYTc0NTNkODlmMjgzNjcxZGJlNDcxMCk7CiAgICAgICAgICAgIAogICAgCiAgICAgICAgICAgIHZhciBwb3B1cF8zYTg4OWZjMDU3ZDc0ZjMyOTg2YjY4NWI0MjZhMTY4YyA9IEwucG9wdXAoe21heFdpZHRoOiAnMzAwJ30pOwoKICAgICAgICAgICAgCiAgICAgICAgICAgICAgICB2YXIgaHRtbF8wYTkwNWU2YzU4N2Q0NjkxYjhjZTkxZDAzOGMwYjdhYiA9ICQoJzxkaXYgaWQ9Imh0bWxfMGE5MDVlNmM1ODdkNDY5MWI4Y2U5MWQwMzhjMGI3YWIiIHN0eWxlPSJ3aWR0aDogMTAwLjAlOyBoZWlnaHQ6IDEwMC4wJTsiPlBhblZlbCBGYXJtw6FjaWFzPC9kaXY+JylbMF07CiAgICAgICAgICAgICAgICBwb3B1cF8zYTg4OWZjMDU3ZDc0ZjMyOTg2YjY4NWI0MjZhMTY4Yy5zZXRDb250ZW50KGh0bWxfMGE5MDVlNmM1ODdkNDY5MWI4Y2U5MWQwMzhjMGI3YWIpOwogICAgICAgICAgICAKCiAgICAgICAgICAgIGNpcmNsZV9tYXJrZXJfZjhkOTYwY2FhZjhiNGE1YmIzNzg0YTcyMDdhMmVhYmUuYmluZFBvcHVwKHBvcHVwXzNhODg5ZmMwNTdkNzRmMzI5ODZiNjg1YjQyNmExNjhjKTsKCiAgICAgICAgICAgIAogICAgICAgIAogICAgCiAgICAgICAgICAgIHZhciBjaXJjbGVfbWFya2VyX2NjNTRiYjk4NDExNjQwOTViZWM4MGRjYWFmOGE3NzNjID0gTC5jaXJjbGVNYXJrZXIoCiAgICAgICAgICAgICAgICBbLTI3LjQyODkzMDI0MTA3NTE5NywtNDguNDU4MzY0OTIxMzEyM10sCiAgICAgICAgICAgICAgICB7CiAgImJ1YmJsaW5nTW91c2VFdmVudHMiOiB0cnVlLAogICJjb2xvciI6ICJibHVlIiwKICAiZGFzaEFycmF5IjogbnVsbCwKICAiZGFzaE9mZnNldCI6IG51bGwsCiAgImZpbGwiOiB0cnVlLAogICJmaWxsQ29sb3IiOiAiIzMxODZjYyIsCiAgImZpbGxPcGFjaXR5IjogMC43LAogICJmaWxsUnVsZSI6ICJldmVub2RkIiwKICAibGluZUNhcCI6ICJyb3VuZCIsCiAgImxpbmVKb2luIjogInJvdW5kIiwKICAib3BhY2l0eSI6IDEuMCwKICAicmFkaXVzIjogNSwKICAic3Ryb2tlIjogdHJ1ZSwKICAid2VpZ2h0IjogMwp9CiAgICAgICAgICAgICAgICApLmFkZFRvKG1hcF9mNGI2YTY4YWNmYTc0NTNkODlmMjgzNjcxZGJlNDcxMCk7CiAgICAgICAgICAgIAogICAgCiAgICAgICAgICAgIHZhciBwb3B1cF9mYzA1YmYyOTM0NTY0YjM2YmMwYmZkODIzMDU1OWQ1MyA9IEwucG9wdXAoe21heFdpZHRoOiAnMzAwJ30pOwoKICAgICAgICAgICAgCiAgICAgICAgICAgICAgICB2YXIgaHRtbF80Y2I0MDlmMTM5ZTY0OWE4YmU4NWRiMTEzZjUyNDU1YyA9ICQoJzxkaXYgaWQ9Imh0bWxfNGNiNDA5ZjEzOWU2NDlhOGJlODVkYjExM2Y1MjQ1NWMiIHN0eWxlPSJ3aWR0aDogMTAwLjAlOyBoZWlnaHQ6IDEwMC4wJTsiPkFtb3JhdHRvIFNvcnZldGVzIEFydGVzYW5haXM8L2Rpdj4nKVswXTsKICAgICAgICAgICAgICAgIHBvcHVwX2ZjMDViZjI5MzQ1NjRiMzZiYzBiZmQ4MjMwNTU5ZDUzLnNldENvbnRlbnQoaHRtbF80Y2I0MDlmMTM5ZTY0OWE4YmU4NWRiMTEzZjUyNDU1Yyk7CiAgICAgICAgICAgIAoKICAgICAgICAgICAgY2lyY2xlX21hcmtlcl9jYzU0YmI5ODQxMTY0MDk1YmVjODBkY2FhZjhhNzczYy5iaW5kUG9wdXAocG9wdXBfZmMwNWJmMjkzNDU2NGIzNmJjMGJmZDgyMzA1NTlkNTMpOwoKICAgICAgICAgICAgCiAgICAgICAgCiAgICAKICAgICAgICAgICAgdmFyIGNpcmNsZV9tYXJrZXJfOTU1NWZiMTg3YzNkNDBhOGFlM2ZhYjZhMWRiMTRkMDUgPSBMLmNpcmNsZU1hcmtlcigKICAgICAgICAgICAgICAgIFstMjcuNDI4NjMxMzg0MjU0NDE2LC00OC40NTc4MDY3NTc1MjAwMl0sCiAgICAgICAgICAgICAgICB7CiAgImJ1YmJsaW5nTW91c2VFdmVudHMiOiB0cnVlLAogICJjb2xvciI6ICJibHVlIiwKICAiZGFzaEFycmF5IjogbnVsbCwKICAiZGFzaE9mZnNldCI6IG51bGwsCiAgImZpbGwiOiB0cnVlLAogICJmaWxsQ29sb3IiOiAiIzMxODZjYyIsCiAgImZpbGxPcGFjaXR5IjogMC43LAogICJmaWxsUnVsZSI6ICJldmVub2RkIiwKICAibGluZUNhcCI6ICJyb3VuZCIsCiAgImxpbmVKb2luIjogInJvdW5kIiwKICAib3BhY2l0eSI6IDEuMCwKICAicmFkaXVzIjogNSwKICAic3Ryb2tlIjogdHJ1ZSwKICAid2VpZ2h0IjogMwp9CiAgICAgICAgICAgICAgICApLmFkZFRvKG1hcF9mNGI2YTY4YWNmYTc0NTNkODlmMjgzNjcxZGJlNDcxMCk7CiAgICAgICAgICAgIAogICAgCiAgICAgICAgICAgIHZhciBwb3B1cF9iOWVjMzBjZjRkZTY0YTUwYmIxYzRkZjUzY2Y5YTRhZiA9IEwucG9wdXAoe21heFdpZHRoOiAnMzAwJ30pOwoKICAgICAgICAgICAgCiAgICAgICAgICAgICAgICB2YXIgaHRtbF8zNzAyMTIwYjQzOGI0MzQyODgyZGZkMzlkMTI2YWFmMSA9ICQoJzxkaXYgaWQ9Imh0bWxfMzcwMjEyMGI0MzhiNDM0Mjg4MmRmZDM5ZDEyNmFhZjEiIHN0eWxlPSJ3aWR0aDogMTAwLjAlOyBoZWlnaHQ6IDEwMC4wJTsiPlJlc3RhdXJhbnRlIFR1dHRpIEZydXR0aTwvZGl2PicpWzBdOwogICAgICAgICAgICAgICAgcG9wdXBfYjllYzMwY2Y0ZGU2NGE1MGJiMWM0ZGY1M2NmOWE0YWYuc2V0Q29udGVudChodG1sXzM3MDIxMjBiNDM4YjQzNDI4ODJkZmQzOWQxMjZhYWYxKTsKICAgICAgICAgICAgCgogICAgICAgICAgICBjaXJjbGVfbWFya2VyXzk1NTVmYjE4N2MzZDQwYThhZTNmYWI2YTFkYjE0ZDA1LmJpbmRQb3B1cChwb3B1cF9iOWVjMzBjZjRkZTY0YTUwYmIxYzRkZjUzY2Y5YTRhZik7CgogICAgICAgICAgICAKICAgICAgICAKICAgIAogICAgICAgICAgICB2YXIgY2lyY2xlX21hcmtlcl8xMjEwYzg4MmEzMGU0YmYxYWI5Y2JhZmJlMTYyOTY0YiA9IEwuY2lyY2xlTWFya2VyKAogICAgICAgICAgICAgICAgWy0yNy40Mjg1Nzc1NDE4NTUwMTcsLTQ4LjQ1ODI5NjA5MTc5MTQ2XSwKICAgICAgICAgICAgICAgIHsKICAiYnViYmxpbmdNb3VzZUV2ZW50cyI6IHRydWUsCiAgImNvbG9yIjogImJsdWUiLAogICJkYXNoQXJyYXkiOiBudWxsLAogICJkYXNoT2Zmc2V0IjogbnVsbCwKICAiZmlsbCI6IHRydWUsCiAgImZpbGxDb2xvciI6ICIjMzE4NmNjIiwKICAiZmlsbE9wYWNpdHkiOiAwLjcsCiAgImZpbGxSdWxlIjogImV2ZW5vZGQiLAogICJsaW5lQ2FwIjogInJvdW5kIiwKICAibGluZUpvaW4iOiAicm91bmQiLAogICJvcGFjaXR5IjogMS4wLAogICJyYWRpdXMiOiA1LAogICJzdHJva2UiOiB0cnVlLAogICJ3ZWlnaHQiOiAzCn0KICAgICAgICAgICAgICAgICkuYWRkVG8obWFwX2Y0YjZhNjhhY2ZhNzQ1M2Q4OWYyODM2NzFkYmU0NzEwKTsKICAgICAgICAgICAgCiAgICAKICAgICAgICAgICAgdmFyIHBvcHVwXzFjOGNjZDA1ZTY3MTQxOTJhMTk3NGQ5YWJmMTMzYjUzID0gTC5wb3B1cCh7bWF4V2lkdGg6ICczMDAnfSk7CgogICAgICAgICAgICAKICAgICAgICAgICAgICAgIHZhciBodG1sXzU5ODRkNzEwOTVhNjRkNGY4NzhjODc4YzNlMmI1MDFjID0gJCgnPGRpdiBpZD0iaHRtbF81OTg0ZDcxMDk1YTY0ZDRmODc4Yzg3OGMzZTJiNTAxYyIgc3R5bGU9IndpZHRoOiAxMDAuMCU7IGhlaWdodDogMTAwLjAlOyI+UHJhbXAmIzM5O3M8L2Rpdj4nKVswXTsKICAgICAgICAgICAgICAgIHBvcHVwXzFjOGNjZDA1ZTY3MTQxOTJhMTk3NGQ5YWJmMTMzYjUzLnNldENvbnRlbnQoaHRtbF81OTg0ZDcxMDk1YTY0ZDRmODc4Yzg3OGMzZTJiNTAxYyk7CiAgICAgICAgICAgIAoKICAgICAgICAgICAgY2lyY2xlX21hcmtlcl8xMjEwYzg4MmEzMGU0YmYxYWI5Y2JhZmJlMTYyOTY0Yi5iaW5kUG9wdXAocG9wdXBfMWM4Y2NkMDVlNjcxNDE5MmExOTc0ZDlhYmYxMzNiNTMpOwoKICAgICAgICAgICAgCiAgICAgICAgCiAgICAKICAgICAgICAgICAgdmFyIGNpcmNsZV9tYXJrZXJfYmI5OWZmYmIxZGM0NGJjZDk0YTRmYzRiZmRlOTY0N2UgPSBMLmNpcmNsZU1hcmtlcigKICAgICAgICAgICAgICAgIFstMjcuNDI5NzQyLC00OC40NjAzMTVdLAogICAgICAgICAgICAgICAgewogICJidWJibGluZ01vdXNlRXZlbnRzIjogdHJ1ZSwKICAiY29sb3IiOiAiYmx1ZSIsCiAgImRhc2hBcnJheSI6IG51bGwsCiAgImRhc2hPZmZzZXQiOiBudWxsLAogICJmaWxsIjogdHJ1ZSwKICAiZmlsbENvbG9yIjogIiMzMTg2Y2MiLAogICJmaWxsT3BhY2l0eSI6IDAuNywKICAiZmlsbFJ1bGUiOiAiZXZlbm9kZCIsCiAgImxpbmVDYXAiOiAicm91bmQiLAogICJsaW5lSm9pbiI6ICJyb3VuZCIsCiAgIm9wYWNpdHkiOiAxLjAsCiAgInJhZGl1cyI6IDUsCiAgInN0cm9rZSI6IHRydWUsCiAgIndlaWdodCI6IDMKfQogICAgICAgICAgICAgICAgKS5hZGRUbyhtYXBfZjRiNmE2OGFjZmE3NDUzZDg5ZjI4MzY3MWRiZTQ3MTApOwogICAgICAgICAgICAKICAgIAogICAgICAgICAgICB2YXIgcG9wdXBfNjg1YTZhMjA4MDQyNDg1NDg4M2M0MmVhMjdlYzc3MDYgPSBMLnBvcHVwKHttYXhXaWR0aDogJzMwMCd9KTsKCiAgICAgICAgICAgIAogICAgICAgICAgICAgICAgdmFyIGh0bWxfODdjMGM2YWNkYWU5NDc1OGJjYzMwZTJmZmY4YmE3ZTcgPSAkKCc8ZGl2IGlkPSJodG1sXzg3YzBjNmFjZGFlOTQ3NThiY2MzMGUyZmZmOGJhN2U3IiBzdHlsZT0id2lkdGg6IDEwMC4wJTsgaGVpZ2h0OiAxMDAuMCU7Ij50YW1hc2hpaSBzdXNoaSBsb3VnZTwvZGl2PicpWzBdOwogICAgICAgICAgICAgICAgcG9wdXBfNjg1YTZhMjA4MDQyNDg1NDg4M2M0MmVhMjdlYzc3MDYuc2V0Q29udGVudChodG1sXzg3YzBjNmFjZGFlOTQ3NThiY2MzMGUyZmZmOGJhN2U3KTsKICAgICAgICAgICAgCgogICAgICAgICAgICBjaXJjbGVfbWFya2VyX2JiOTlmZmJiMWRjNDRiY2Q5NGE0ZmM0YmZkZTk2NDdlLmJpbmRQb3B1cChwb3B1cF82ODVhNmEyMDgwNDI0ODU0ODgzYzQyZWEyN2VjNzcwNik7CgogICAgICAgICAgICAKICAgICAgICAKICAgIAogICAgICAgICAgICB2YXIgY2lyY2xlX21hcmtlcl83ZGEzMWVhNjZlNmM0YWMwYmE1MTg3YTRlYmNjNDAzMCA9IEwuY2lyY2xlTWFya2VyKAogICAgICAgICAgICAgICAgWy0yNy40MjkwNjk5Njg5MDg5OTQsLTQ4LjQ2MDQ3NzUxOTIxNTI3XSwKICAgICAgICAgICAgICAgIHsKICAiYnViYmxpbmdNb3VzZUV2ZW50cyI6IHRydWUsCiAgImNvbG9yIjogImJsdWUiLAogICJkYXNoQXJyYXkiOiBudWxsLAogICJkYXNoT2Zmc2V0IjogbnVsbCwKICAiZmlsbCI6IHRydWUsCiAgImZpbGxDb2xvciI6ICIjMzE4NmNjIiwKICAiZmlsbE9wYWNpdHkiOiAwLjcsCiAgImZpbGxSdWxlIjogImV2ZW5vZGQiLAogICJsaW5lQ2FwIjogInJvdW5kIiwKICAibGluZUpvaW4iOiAicm91bmQiLAogICJvcGFjaXR5IjogMS4wLAogICJyYWRpdXMiOiA1LAogICJzdHJva2UiOiB0cnVlLAogICJ3ZWlnaHQiOiAzCn0KICAgICAgICAgICAgICAgICkuYWRkVG8obWFwX2Y0YjZhNjhhY2ZhNzQ1M2Q4OWYyODM2NzFkYmU0NzEwKTsKICAgICAgICAgICAgCiAgICAKICAgICAgICAgICAgdmFyIHBvcHVwX2IyMGY5ZjA2ZWQwNDQ0YWViYzFhZTJjZWVhMzNiMWNhID0gTC5wb3B1cCh7bWF4V2lkdGg6ICczMDAnfSk7CgogICAgICAgICAgICAKICAgICAgICAgICAgICAgIHZhciBodG1sXzdlYjdmZjRhNDc1YjRjZGQ4MGRhMzgwNWQzMTU4MTRlID0gJCgnPGRpdiBpZD0iaHRtbF83ZWI3ZmY0YTQ3NWI0Y2RkODBkYTM4MDVkMzE1ODE0ZSIgc3R5bGU9IndpZHRoOiAxMDAuMCU7IGhlaWdodDogMTAwLjAlOyI+Q2Fmw6kgJmFtcDsgUHJvc2E8L2Rpdj4nKVswXTsKICAgICAgICAgICAgICAgIHBvcHVwX2IyMGY5ZjA2ZWQwNDQ0YWViYzFhZTJjZWVhMzNiMWNhLnNldENvbnRlbnQoaHRtbF83ZWI3ZmY0YTQ3NWI0Y2RkODBkYTM4MDVkMzE1ODE0ZSk7CiAgICAgICAgICAgIAoKICAgICAgICAgICAgY2lyY2xlX21hcmtlcl83ZGEzMWVhNjZlNmM0YWMwYmE1MTg3YTRlYmNjNDAzMC5iaW5kUG9wdXAocG9wdXBfYjIwZjlmMDZlZDA0NDRhZWJjMWFlMmNlZWEzM2IxY2EpOwoKICAgICAgICAgICAgCiAgICAgICAgCiAgICAKICAgICAgICAgICAgdmFyIGNpcmNsZV9tYXJrZXJfZDM1MzE3YmY3M2IzNGY4MWI2ZDJmMGE1N2ZmMTVhNDAgPSBMLmNpcmNsZU1hcmtlcigKICAgICAgICAgICAgICAgIFstMjcuNDMwMTI4LC00OC40NjAyMzddLAogICAgICAgICAgICAgICAgewogICJidWJibGluZ01vdXNlRXZlbnRzIjogdHJ1ZSwKICAiY29sb3IiOiAiYmx1ZSIsCiAgImRhc2hBcnJheSI6IG51bGwsCiAgImRhc2hPZmZzZXQiOiBudWxsLAogICJmaWxsIjogdHJ1ZSwKICAiZmlsbENvbG9yIjogIiMzMTg2Y2MiLAogICJmaWxsT3BhY2l0eSI6IDAuNywKICAiZmlsbFJ1bGUiOiAiZXZlbm9kZCIsCiAgImxpbmVDYXAiOiAicm91bmQiLAogICJsaW5lSm9pbiI6ICJyb3VuZCIsCiAgIm9wYWNpdHkiOiAxLjAsCiAgInJhZGl1cyI6IDUsCiAgInN0cm9rZSI6IHRydWUsCiAgIndlaWdodCI6IDMKfQogICAgICAgICAgICAgICAgKS5hZGRUbyhtYXBfZjRiNmE2OGFjZmE3NDUzZDg5ZjI4MzY3MWRiZTQ3MTApOwogICAgICAgICAgICAKICAgIAogICAgICAgICAgICB2YXIgcG9wdXBfZTM5YWNmMmYzNDc3NDc5Mjk3M2ZlYjE5Mjc3NDE5MGQgPSBMLnBvcHVwKHttYXhXaWR0aDogJzMwMCd9KTsKCiAgICAgICAgICAgIAogICAgICAgICAgICAgICAgdmFyIGh0bWxfNDZhYjRkOTJjNTQ3NGU3Njg2Y2RjMjg3ZDU0NzUxNDcgPSAkKCc8ZGl2IGlkPSJodG1sXzQ2YWI0ZDkyYzU0NzRlNzY4NmNkYzI4N2Q1NDc1MTQ3IiBzdHlsZT0id2lkdGg6IDEwMC4wJTsgaGVpZ2h0OiAxMDAuMCU7Ij5TYWJvcmVzIGRhIElsaGE8L2Rpdj4nKVswXTsKICAgICAgICAgICAgICAgIHBvcHVwX2UzOWFjZjJmMzQ3NzQ3OTI5NzNmZWIxOTI3NzQxOTBkLnNldENvbnRlbnQoaHRtbF80NmFiNGQ5MmM1NDc0ZTc2ODZjZGMyODdkNTQ3NTE0Nyk7CiAgICAgICAgICAgIAoKICAgICAgICAgICAgY2lyY2xlX21hcmtlcl9kMzUzMTdiZjczYjM0ZjgxYjZkMmYwYTU3ZmYxNWE0MC5iaW5kUG9wdXAocG9wdXBfZTM5YWNmMmYzNDc3NDc5Mjk3M2ZlYjE5Mjc3NDE5MGQpOwoKICAgICAgICAgICAgCiAgICAgICAgCiAgICAKICAgICAgICAgICAgdmFyIGNpcmNsZV9tYXJrZXJfYmE1ZGE0ZTJkNmE0NDhlZTgzMzNkMmY2MzJjOWIyNjUgPSBMLmNpcmNsZU1hcmtlcigKICAgICAgICAgICAgICAgIFstMjcuNDI5MDMxNTQ2NTg3MDczLC00OC40NTgyNzIyMjI1NjY5MDRdLAogICAgICAgICAgICAgICAgewogICJidWJibGluZ01vdXNlRXZlbnRzIjogdHJ1ZSwKICAiY29sb3IiOiAiYmx1ZSIsCiAgImRhc2hBcnJheSI6IG51bGwsCiAgImRhc2hPZmZzZXQiOiBudWxsLAogICJmaWxsIjogdHJ1ZSwKICAiZmlsbENvbG9yIjogIiMzMTg2Y2MiLAogICJmaWxsT3BhY2l0eSI6IDAuNywKICAiZmlsbFJ1bGUiOiAiZXZlbm9kZCIsCiAgImxpbmVDYXAiOiAicm91bmQiLAogICJsaW5lSm9pbiI6ICJyb3VuZCIsCiAgIm9wYWNpdHkiOiAxLjAsCiAgInJhZGl1cyI6IDUsCiAgInN0cm9rZSI6IHRydWUsCiAgIndlaWdodCI6IDMKfQogICAgICAgICAgICAgICAgKS5hZGRUbyhtYXBfZjRiNmE2OGFjZmE3NDUzZDg5ZjI4MzY3MWRiZTQ3MTApOwogICAgICAgICAgICAKICAgIAogICAgICAgICAgICB2YXIgcG9wdXBfNDRlOTNjYTliYWZlNDg3Y2FhODBjNWU0OTQ5MzM4ODMgPSBMLnBvcHVwKHttYXhXaWR0aDogJzMwMCd9KTsKCiAgICAgICAgICAgIAogICAgICAgICAgICAgICAgdmFyIGh0bWxfOGFiMWJkZTc2NzRiNGU3OWI4Yjk4MmUzOTU0NDVhOTggPSAkKCc8ZGl2IGlkPSJodG1sXzhhYjFiZGU3Njc0YjRlNzliOGI5ODJlMzk1NDQ1YTk4IiBzdHlsZT0id2lkdGg6IDEwMC4wJTsgaGVpZ2h0OiAxMDAuMCU7Ij5IYXZhaWFuYXM8L2Rpdj4nKVswXTsKICAgICAgICAgICAgICAgIHBvcHVwXzQ0ZTkzY2E5YmFmZTQ4N2NhYTgwYzVlNDk0OTMzODgzLnNldENvbnRlbnQoaHRtbF84YWIxYmRlNzY3NGI0ZTc5YjhiOTgyZTM5NTQ0NWE5OCk7CiAgICAgICAgICAgIAoKICAgICAgICAgICAgY2lyY2xlX21hcmtlcl9iYTVkYTRlMmQ2YTQ0OGVlODMzM2QyZjYzMmM5YjI2NS5iaW5kUG9wdXAocG9wdXBfNDRlOTNjYTliYWZlNDg3Y2FhODBjNWU0OTQ5MzM4ODMpOwoKICAgICAgICAgICAgCiAgICAgICAgCiAgICAKICAgICAgICAgICAgdmFyIGNpcmNsZV9tYXJrZXJfMWUyZjMzYmYyOTg3NDEyYWFiNzk3OWE3ZTEzNWI5NjYgPSBMLmNpcmNsZU1hcmtlcigKICAgICAgICAgICAgICAgIFstMjcuNDMyNjY1ODE0NzI5OTA1LC00OC40NTgxNjk3NjYyNDAzMl0sCiAgICAgICAgICAgICAgICB7CiAgImJ1YmJsaW5nTW91c2VFdmVudHMiOiB0cnVlLAogICJjb2xvciI6ICJibHVlIiwKICAiZGFzaEFycmF5IjogbnVsbCwKICAiZGFzaE9mZnNldCI6IG51bGwsCiAgImZpbGwiOiB0cnVlLAogICJmaWxsQ29sb3IiOiAiIzMxODZjYyIsCiAgImZpbGxPcGFjaXR5IjogMC43LAogICJmaWxsUnVsZSI6ICJldmVub2RkIiwKICAibGluZUNhcCI6ICJyb3VuZCIsCiAgImxpbmVKb2luIjogInJvdW5kIiwKICAib3BhY2l0eSI6IDEuMCwKICAicmFkaXVzIjogNSwKICAic3Ryb2tlIjogdHJ1ZSwKICAid2VpZ2h0IjogMwp9CiAgICAgICAgICAgICAgICApLmFkZFRvKG1hcF9mNGI2YTY4YWNmYTc0NTNkODlmMjgzNjcxZGJlNDcxMCk7CiAgICAgICAgICAgIAogICAgCiAgICAgICAgICAgIHZhciBwb3B1cF8zY2EwMmYwNDE4M2I0N2YzYTM2ZDA3M2Q1ZGQwZGVhNCA9IEwucG9wdXAoe21heFdpZHRoOiAnMzAwJ30pOwoKICAgICAgICAgICAgCiAgICAgICAgICAgICAgICB2YXIgaHRtbF9kYWRjNTllZTg3Zjk0YzhiYTAyYzhlNjU4NWQzNGJjOSA9ICQoJzxkaXYgaWQ9Imh0bWxfZGFkYzU5ZWU4N2Y5NGM4YmEwMmM4ZTY1ODVkMzRiYzkiIHN0eWxlPSJ3aWR0aDogMTAwLjAlOyBoZWlnaHQ6IDEwMC4wJTsiPlN1cGVybWVyY2FkbyBJbXBlcmF0cml6PC9kaXY+JylbMF07CiAgICAgICAgICAgICAgICBwb3B1cF8zY2EwMmYwNDE4M2I0N2YzYTM2ZDA3M2Q1ZGQwZGVhNC5zZXRDb250ZW50KGh0bWxfZGFkYzU5ZWU4N2Y5NGM4YmEwMmM4ZTY1ODVkMzRiYzkpOwogICAgICAgICAgICAKCiAgICAgICAgICAgIGNpcmNsZV9tYXJrZXJfMWUyZjMzYmYyOTg3NDEyYWFiNzk3OWE3ZTEzNWI5NjYuYmluZFBvcHVwKHBvcHVwXzNjYTAyZjA0MTgzYjQ3ZjNhMzZkMDczZDVkZDBkZWE0KTsKCiAgICAgICAgICAgIAogICAgICAgIAogICAgCiAgICAgICAgICAgIHZhciBjaXJjbGVfbWFya2VyXzAxNmM1OGE3MTU0ZDQ1NmNhMDBmYWRmMzViYzUwY2Y3ID0gTC5jaXJjbGVNYXJrZXIoCiAgICAgICAgICAgICAgICBbLTI3LjQyODY4MDQyNDgzNjAyLC00OC40NTgwNjgwOTA3NTc1Ml0sCiAgICAgICAgICAgICAgICB7CiAgImJ1YmJsaW5nTW91c2VFdmVudHMiOiB0cnVlLAogICJjb2xvciI6ICJibHVlIiwKICAiZGFzaEFycmF5IjogbnVsbCwKICAiZGFzaE9mZnNldCI6IG51bGwsCiAgImZpbGwiOiB0cnVlLAogICJmaWxsQ29sb3IiOiAiIzMxODZjYyIsCiAgImZpbGxPcGFjaXR5IjogMC43LAogICJmaWxsUnVsZSI6ICJldmVub2RkIiwKICAibGluZUNhcCI6ICJyb3VuZCIsCiAgImxpbmVKb2luIjogInJvdW5kIiwKICAib3BhY2l0eSI6IDEuMCwKICAicmFkaXVzIjogNSwKICAic3Ryb2tlIjogdHJ1ZSwKICAid2VpZ2h0IjogMwp9CiAgICAgICAgICAgICAgICApLmFkZFRvKG1hcF9mNGI2YTY4YWNmYTc0NTNkODlmMjgzNjcxZGJlNDcxMCk7CiAgICAgICAgICAgIAogICAgCiAgICAgICAgICAgIHZhciBwb3B1cF83ZmIwNjBmZTdiMTY0ZWYwYThhZmU5MWUzMTcwODc3MSA9IEwucG9wdXAoe21heFdpZHRoOiAnMzAwJ30pOwoKICAgICAgICAgICAgCiAgICAgICAgICAgICAgICB2YXIgaHRtbF9hNjM5YjQzZDliZDg0MGM2YmViMDA1ZTRjZjRiZTI2MCA9ICQoJzxkaXYgaWQ9Imh0bWxfYTYzOWI0M2Q5YmQ4NDBjNmJlYjAwNWU0Y2Y0YmUyNjAiIHN0eWxlPSJ3aWR0aDogMTAwLjAlOyBoZWlnaHQ6IDEwMC4wJTsiPlNhYm9yIENhZsOpPC9kaXY+JylbMF07CiAgICAgICAgICAgICAgICBwb3B1cF83ZmIwNjBmZTdiMTY0ZWYwYThhZmU5MWUzMTcwODc3MS5zZXRDb250ZW50KGh0bWxfYTYzOWI0M2Q5YmQ4NDBjNmJlYjAwNWU0Y2Y0YmUyNjApOwogICAgICAgICAgICAKCiAgICAgICAgICAgIGNpcmNsZV9tYXJrZXJfMDE2YzU4YTcxNTRkNDU2Y2EwMGZhZGYzNWJjNTBjZjcuYmluZFBvcHVwKHBvcHVwXzdmYjA2MGZlN2IxNjRlZjBhOGFmZTkxZTMxNzA4NzcxKTsKCiAgICAgICAgICAgIAogICAgICAgIAogICAgCiAgICAgICAgICAgIHZhciBjaXJjbGVfbWFya2VyXzAxZWU0ZjQ3Yzk0ODQ3MTA4YTM5ZDEzNzY5NTYzNWMwID0gTC5jaXJjbGVNYXJrZXIoCiAgICAgICAgICAgICAgICBbLTI3LjQzNDUzMzU2NDI3ODc0LC00OC40NjA0NDQ1MzY3ODI3M10sCiAgICAgICAgICAgICAgICB7CiAgImJ1YmJsaW5nTW91c2VFdmVudHMiOiB0cnVlLAogICJjb2xvciI6ICJibHVlIiwKICAiZGFzaEFycmF5IjogbnVsbCwKICAiZGFzaE9mZnNldCI6IG51bGwsCiAgImZpbGwiOiB0cnVlLAogICJmaWxsQ29sb3IiOiAiIzMxODZjYyIsCiAgImZpbGxPcGFjaXR5IjogMC43LAogICJmaWxsUnVsZSI6ICJldmVub2RkIiwKICAibGluZUNhcCI6ICJyb3VuZCIsCiAgImxpbmVKb2luIjogInJvdW5kIiwKICAib3BhY2l0eSI6IDEuMCwKICAicmFkaXVzIjogNSwKICAic3Ryb2tlIjogdHJ1ZSwKICAid2VpZ2h0IjogMwp9CiAgICAgICAgICAgICAgICApLmFkZFRvKG1hcF9mNGI2YTY4YWNmYTc0NTNkODlmMjgzNjcxZGJlNDcxMCk7CiAgICAgICAgICAgIAogICAgCiAgICAgICAgICAgIHZhciBwb3B1cF9mMmYyNGFjMThhMjY0OTI3OWQxNTc4YTQwODE3YjVmOSA9IEwucG9wdXAoe21heFdpZHRoOiAnMzAwJ30pOwoKICAgICAgICAgICAgCiAgICAgICAgICAgICAgICB2YXIgaHRtbF9jNDEyNjMzM2NlOGQ0ZTE2OTg4NDMyN2YxMmY1Y2FhMCA9ICQoJzxkaXYgaWQ9Imh0bWxfYzQxMjYzMzNjZThkNGUxNjk4ODQzMjdmMTJmNWNhYTAiIHN0eWxlPSJ3aWR0aDogMTAwLjAlOyBoZWlnaHQ6IDEwMC4wJTsiPk1vb2Q8L2Rpdj4nKVswXTsKICAgICAgICAgICAgICAgIHBvcHVwX2YyZjI0YWMxOGEyNjQ5Mjc5ZDE1NzhhNDA4MTdiNWY5LnNldENvbnRlbnQoaHRtbF9jNDEyNjMzM2NlOGQ0ZTE2OTg4NDMyN2YxMmY1Y2FhMCk7CiAgICAgICAgICAgIAoKICAgICAgICAgICAgY2lyY2xlX21hcmtlcl8wMWVlNGY0N2M5NDg0NzEwOGEzOWQxMzc2OTU2MzVjMC5iaW5kUG9wdXAocG9wdXBfZjJmMjRhYzE4YTI2NDkyNzlkMTU3OGE0MDgxN2I1ZjkpOwoKICAgICAgICAgICAgCiAgICAgICAgCiAgICAKICAgICAgICAgICAgdmFyIGNpcmNsZV9tYXJrZXJfMjM3OWZkMTg3Yzg0NGI5MGI4Mjc5ODZkYzFmY2Q1MWYgPSBMLmNpcmNsZU1hcmtlcigKICAgICAgICAgICAgICAgIFstMjcuNDI4NzUzNDYwMzAzMTY3LC00OC40NTkyODg3MTIyMzM1OTRdLAogICAgICAgICAgICAgICAgewogICJidWJibGluZ01vdXNlRXZlbnRzIjogdHJ1ZSwKICAiY29sb3IiOiAiYmx1ZSIsCiAgImRhc2hBcnJheSI6IG51bGwsCiAgImRhc2hPZmZzZXQiOiBudWxsLAogICJmaWxsIjogdHJ1ZSwKICAiZmlsbENvbG9yIjogIiMzMTg2Y2MiLAogICJmaWxsT3BhY2l0eSI6IDAuNywKICAiZmlsbFJ1bGUiOiAiZXZlbm9kZCIsCiAgImxpbmVDYXAiOiAicm91bmQiLAogICJsaW5lSm9pbiI6ICJyb3VuZCIsCiAgIm9wYWNpdHkiOiAxLjAsCiAgInJhZGl1cyI6IDUsCiAgInN0cm9rZSI6IHRydWUsCiAgIndlaWdodCI6IDMKfQogICAgICAgICAgICAgICAgKS5hZGRUbyhtYXBfZjRiNmE2OGFjZmE3NDUzZDg5ZjI4MzY3MWRiZTQ3MTApOwogICAgICAgICAgICAKICAgIAogICAgICAgICAgICB2YXIgcG9wdXBfMTQwZWMyMmQ5YTBlNDMyNTg3ZWJmN2Q2YmI5MzIyYWIgPSBMLnBvcHVwKHttYXhXaWR0aDogJzMwMCd9KTsKCiAgICAgICAgICAgIAogICAgICAgICAgICAgICAgdmFyIGh0bWxfNWNlYmM0ZDQ3YjgyNDU2YjkzZTkyNzJjY2Q3YzlmOGUgPSAkKCc8ZGl2IGlkPSJodG1sXzVjZWJjNGQ0N2I4MjQ1NmI5M2U5MjcyY2NkN2M5ZjhlIiBzdHlsZT0id2lkdGg6IDEwMC4wJTsgaGVpZ2h0OiAxMDAuMCU7Ij5Ww61jaW9zIGUgVmlydHVkZXM8L2Rpdj4nKVswXTsKICAgICAgICAgICAgICAgIHBvcHVwXzE0MGVjMjJkOWEwZTQzMjU4N2ViZjdkNmJiOTMyMmFiLnNldENvbnRlbnQoaHRtbF81Y2ViYzRkNDdiODI0NTZiOTNlOTI3MmNjZDdjOWY4ZSk7CiAgICAgICAgICAgIAoKICAgICAgICAgICAgY2lyY2xlX21hcmtlcl8yMzc5ZmQxODdjODQ0YjkwYjgyNzk4NmRjMWZjZDUxZi5iaW5kUG9wdXAocG9wdXBfMTQwZWMyMmQ5YTBlNDMyNTg3ZWJmN2Q2YmI5MzIyYWIpOwoKICAgICAgICAgICAgCiAgICAgICAgCiAgICAKICAgICAgICAgICAgdmFyIGNpcmNsZV9tYXJrZXJfZGFmYWQ4MTA3ZTlkNDk2Y2JlN2YyYmM0YmY5NWFhNjAgPSBMLmNpcmNsZU1hcmtlcigKICAgICAgICAgICAgICAgIFstMjcuNDI5MDYyMzE0OTk5Mjc1LC00OC40NjE4NTUxNTA3MTg3Nl0sCiAgICAgICAgICAgICAgICB7CiAgImJ1YmJsaW5nTW91c2VFdmVudHMiOiB0cnVlLAogICJjb2xvciI6ICJibHVlIiwKICAiZGFzaEFycmF5IjogbnVsbCwKICAiZGFzaE9mZnNldCI6IG51bGwsCiAgImZpbGwiOiB0cnVlLAogICJmaWxsQ29sb3IiOiAiIzMxODZjYyIsCiAgImZpbGxPcGFjaXR5IjogMC43LAogICJmaWxsUnVsZSI6ICJldmVub2RkIiwKICAibGluZUNhcCI6ICJyb3VuZCIsCiAgImxpbmVKb2luIjogInJvdW5kIiwKICAib3BhY2l0eSI6IDEuMCwKICAicmFkaXVzIjogNSwKICAic3Ryb2tlIjogdHJ1ZSwKICAid2VpZ2h0IjogMwp9CiAgICAgICAgICAgICAgICApLmFkZFRvKG1hcF9mNGI2YTY4YWNmYTc0NTNkODlmMjgzNjcxZGJlNDcxMCk7CiAgICAgICAgICAgIAogICAgCiAgICAgICAgICAgIHZhciBwb3B1cF81ZDJjOTBkOGFjYTY0YzUxOThlMzY4NjJlMmNkNzQ5YyA9IEwucG9wdXAoe21heFdpZHRoOiAnMzAwJ30pOwoKICAgICAgICAgICAgCiAgICAgICAgICAgICAgICB2YXIgaHRtbF9hYmFkY2UzZGE3NzY0Zjk5OWU4ZTVjODQxZjJhYzI3ZCA9ICQoJzxkaXYgaWQ9Imh0bWxfYWJhZGNlM2RhNzc2NGY5OTllOGU1Yzg0MWYyYWMyN2QiIHN0eWxlPSJ3aWR0aDogMTAwLjAlOyBoZWlnaHQ6IDEwMC4wJTsiPlByYWRvIFN1cGVybWVyY2FkbzwvZGl2PicpWzBdOwogICAgICAgICAgICAgICAgcG9wdXBfNWQyYzkwZDhhY2E2NGM1MTk4ZTM2ODYyZTJjZDc0OWMuc2V0Q29udGVudChodG1sX2FiYWRjZTNkYTc3NjRmOTk5ZThlNWM4NDFmMmFjMjdkKTsKICAgICAgICAgICAgCgogICAgICAgICAgICBjaXJjbGVfbWFya2VyX2RhZmFkODEwN2U5ZDQ5NmNiZTdmMmJjNGJmOTVhYTYwLmJpbmRQb3B1cChwb3B1cF81ZDJjOTBkOGFjYTY0YzUxOThlMzY4NjJlMmNkNzQ5Yyk7CgogICAgICAgICAgICAKICAgICAgICAKICAgIAogICAgICAgICAgICB2YXIgY2lyY2xlX21hcmtlcl9hOWYxZjliZDEzNjI0ZDcwYTkxMmU4YmI4Yjg3MjczZSA9IEwuY2lyY2xlTWFya2VyKAogICAgICAgICAgICAgICAgWy0yNy40MzQ2MzQ0MjgyNjM5NDQsLTQ4LjQ2MTIzNzAzMzQ2MjM1XSwKICAgICAgICAgICAgICAgIHsKICAiYnViYmxpbmdNb3VzZUV2ZW50cyI6IHRydWUsCiAgImNvbG9yIjogImJsdWUiLAogICJkYXNoQXJyYXkiOiBudWxsLAogICJkYXNoT2Zmc2V0IjogbnVsbCwKICAiZmlsbCI6IHRydWUsCiAgImZpbGxDb2xvciI6ICIjMzE4NmNjIiwKICAiZmlsbE9wYWNpdHkiOiAwLjcsCiAgImZpbGxSdWxlIjogImV2ZW5vZGQiLAogICJsaW5lQ2FwIjogInJvdW5kIiwKICAibGluZUpvaW4iOiAicm91bmQiLAogICJvcGFjaXR5IjogMS4wLAogICJyYWRpdXMiOiA1LAogICJzdHJva2UiOiB0cnVlLAogICJ3ZWlnaHQiOiAzCn0KICAgICAgICAgICAgICAgICkuYWRkVG8obWFwX2Y0YjZhNjhhY2ZhNzQ1M2Q4OWYyODM2NzFkYmU0NzEwKTsKICAgICAgICAgICAgCiAgICAKICAgICAgICAgICAgdmFyIHBvcHVwXzZhN2ZhZjk1NzgwNzRjMmI5NzBhZmM4Y2I5N2Q1NDg2ID0gTC5wb3B1cCh7bWF4V2lkdGg6ICczMDAnfSk7CgogICAgICAgICAgICAKICAgICAgICAgICAgICAgIHZhciBodG1sXzRjYjgyMDU2ODA0NDQ1OTlhZmEyOTJlYzU1MDQ3MTBiID0gJCgnPGRpdiBpZD0iaHRtbF80Y2I4MjA1NjgwNDQ0NTk5YWZhMjkyZWM1NTA0NzEwYiIgc3R5bGU9IndpZHRoOiAxMDAuMCU7IGhlaWdodDogMTAwLjAlOyI+UGFkYXJpYSBNYW5ndXR0aTwvZGl2PicpWzBdOwogICAgICAgICAgICAgICAgcG9wdXBfNmE3ZmFmOTU3ODA3NGMyYjk3MGFmYzhjYjk3ZDU0ODYuc2V0Q29udGVudChodG1sXzRjYjgyMDU2ODA0NDQ1OTlhZmEyOTJlYzU1MDQ3MTBiKTsKICAgICAgICAgICAgCgogICAgICAgICAgICBjaXJjbGVfbWFya2VyX2E5ZjFmOWJkMTM2MjRkNzBhOTEyZThiYjhiODcyNzNlLmJpbmRQb3B1cChwb3B1cF82YTdmYWY5NTc4MDc0YzJiOTcwYWZjOGNiOTdkNTQ4Nik7CgogICAgICAgICAgICAKICAgICAgICAKICAgIAogICAgICAgICAgICB2YXIgY2lyY2xlX21hcmtlcl84ZWI1YmQ1MzBlMWU0OTE1YjE1MzIzMzgzODM1MGMwMiA9IEwuY2lyY2xlTWFya2VyKAogICAgICAgICAgICAgICAgWy0yNy40Mjg3MDMxNzgyMDg5MiwtNDguNDU1MDYxNTk3NjA3NTQ2XSwKICAgICAgICAgICAgICAgIHsKICAiYnViYmxpbmdNb3VzZUV2ZW50cyI6IHRydWUsCiAgImNvbG9yIjogImJsdWUiLAogICJkYXNoQXJyYXkiOiBudWxsLAogICJkYXNoT2Zmc2V0IjogbnVsbCwKICAiZmlsbCI6IHRydWUsCiAgImZpbGxDb2xvciI6ICIjMzE4NmNjIiwKICAiZmlsbE9wYWNpdHkiOiAwLjcsCiAgImZpbGxSdWxlIjogImV2ZW5vZGQiLAogICJsaW5lQ2FwIjogInJvdW5kIiwKICAibGluZUpvaW4iOiAicm91bmQiLAogICJvcGFjaXR5IjogMS4wLAogICJyYWRpdXMiOiA1LAogICJzdHJva2UiOiB0cnVlLAogICJ3ZWlnaHQiOiAzCn0KICAgICAgICAgICAgICAgICkuYWRkVG8obWFwX2Y0YjZhNjhhY2ZhNzQ1M2Q4OWYyODM2NzFkYmU0NzEwKTsKICAgICAgICAgICAgCiAgICAKICAgICAgICAgICAgdmFyIHBvcHVwXzFkZjU0YzhhMGQyMTRkNTc4YzU2OWNkYWFmMzBiNTEzID0gTC5wb3B1cCh7bWF4V2lkdGg6ICczMDAnfSk7CgogICAgICAgICAgICAKICAgICAgICAgICAgICAgIHZhciBodG1sXzA2ZjYwYjlkYjEzOTQ1NTA5NjU5YzBjMmM0ZmQzMmMwID0gJCgnPGRpdiBpZD0iaHRtbF8wNmY2MGI5ZGIxMzk0NTUwOTY1OWMwYzJjNGZkMzJjMCIgc3R5bGU9IndpZHRoOiAxMDAuMCU7IGhlaWdodDogMTAwLjAlOyI+Rm9vZCBQYXJrIENhbmFzdmllaXJhczwvZGl2PicpWzBdOwogICAgICAgICAgICAgICAgcG9wdXBfMWRmNTRjOGEwZDIxNGQ1NzhjNTY5Y2RhYWYzMGI1MTMuc2V0Q29udGVudChodG1sXzA2ZjYwYjlkYjEzOTQ1NTA5NjU5YzBjMmM0ZmQzMmMwKTsKICAgICAgICAgICAgCgogICAgICAgICAgICBjaXJjbGVfbWFya2VyXzhlYjViZDUzMGUxZTQ5MTViMTUzMjMzODM4MzUwYzAyLmJpbmRQb3B1cChwb3B1cF8xZGY1NGM4YTBkMjE0ZDU3OGM1NjljZGFhZjMwYjUxMyk7CgogICAgICAgICAgICAKICAgICAgICAKICAgIAogICAgICAgICAgICB2YXIgY2lyY2xlX21hcmtlcl8wZjc2YzE1Y2YzNWQ0OWQ3ODQxODdiY2Y4NzExMjM5ZSA9IEwuY2lyY2xlTWFya2VyKAogICAgICAgICAgICAgICAgWy0yNy40Mjg4MDE2OTU3ODMwNCwtNDguNDYxNjgyNDEzMTQxNV0sCiAgICAgICAgICAgICAgICB7CiAgImJ1YmJsaW5nTW91c2VFdmVudHMiOiB0cnVlLAogICJjb2xvciI6ICJibHVlIiwKICAiZGFzaEFycmF5IjogbnVsbCwKICAiZGFzaE9mZnNldCI6IG51bGwsCiAgImZpbGwiOiB0cnVlLAogICJmaWxsQ29sb3IiOiAiIzMxODZjYyIsCiAgImZpbGxPcGFjaXR5IjogMC43LAogICJmaWxsUnVsZSI6ICJldmVub2RkIiwKICAibGluZUNhcCI6ICJyb3VuZCIsCiAgImxpbmVKb2luIjogInJvdW5kIiwKICAib3BhY2l0eSI6IDEuMCwKICAicmFkaXVzIjogNSwKICAic3Ryb2tlIjogdHJ1ZSwKICAid2VpZ2h0IjogMwp9CiAgICAgICAgICAgICAgICApLmFkZFRvKG1hcF9mNGI2YTY4YWNmYTc0NTNkODlmMjgzNjcxZGJlNDcxMCk7CiAgICAgICAgICAgIAogICAgCiAgICAgICAgICAgIHZhciBwb3B1cF9hZTFjMGUzYzMzNjY0NDZlYTk3OGYzMzZkMGYyMDVjNSA9IEwucG9wdXAoe21heFdpZHRoOiAnMzAwJ30pOwoKICAgICAgICAgICAgCiAgICAgICAgICAgICAgICB2YXIgaHRtbF8xZDQ3YmRjZDhiOGI0N2Y5YjdiNjZiYjExZmYyYTA3MCA9ICQoJzxkaXYgaWQ9Imh0bWxfMWQ0N2JkY2Q4YjhiNDdmOWI3YjY2YmIxMWZmMmEwNzAiIHN0eWxlPSJ3aWR0aDogMTAwLjAlOyBoZWlnaHQ6IDEwMC4wJTsiPk9maWNpbmEgZG8gU2Fib3I8L2Rpdj4nKVswXTsKICAgICAgICAgICAgICAgIHBvcHVwX2FlMWMwZTNjMzM2NjQ0NmVhOTc4ZjMzNmQwZjIwNWM1LnNldENvbnRlbnQoaHRtbF8xZDQ3YmRjZDhiOGI0N2Y5YjdiNjZiYjExZmYyYTA3MCk7CiAgICAgICAgICAgIAoKICAgICAgICAgICAgY2lyY2xlX21hcmtlcl8wZjc2YzE1Y2YzNWQ0OWQ3ODQxODdiY2Y4NzExMjM5ZS5iaW5kUG9wdXAocG9wdXBfYWUxYzBlM2MzMzY2NDQ2ZWE5NzhmMzM2ZDBmMjA1YzUpOwoKICAgICAgICAgICAgCiAgICAgICAgCiAgICAKICAgICAgICAgICAgdmFyIGNpcmNsZV9tYXJrZXJfYzAyMjdlMGQ4NTM0NDE0NjgyMzZhMWVjNmIzYzcwYTQgPSBMLmNpcmNsZU1hcmtlcigKICAgICAgICAgICAgICAgIFstMjcuNDI4NzI1MDI5OTA3MDY0LC00OC40NTc1MzEyMjAyMTgxN10sCiAgICAgICAgICAgICAgICB7CiAgImJ1YmJsaW5nTW91c2VFdmVudHMiOiB0cnVlLAogICJjb2xvciI6ICJibHVlIiwKICAiZGFzaEFycmF5IjogbnVsbCwKICAiZGFzaE9mZnNldCI6IG51bGwsCiAgImZpbGwiOiB0cnVlLAogICJmaWxsQ29sb3IiOiAiIzMxODZjYyIsCiAgImZpbGxPcGFjaXR5IjogMC43LAogICJmaWxsUnVsZSI6ICJldmVub2RkIiwKICAibGluZUNhcCI6ICJyb3VuZCIsCiAgImxpbmVKb2luIjogInJvdW5kIiwKICAib3BhY2l0eSI6IDEuMCwKICAicmFkaXVzIjogNSwKICAic3Ryb2tlIjogdHJ1ZSwKICAid2VpZ2h0IjogMwp9CiAgICAgICAgICAgICAgICApLmFkZFRvKG1hcF9mNGI2YTY4YWNmYTc0NTNkODlmMjgzNjcxZGJlNDcxMCk7CiAgICAgICAgICAgIAogICAgCiAgICAgICAgICAgIHZhciBwb3B1cF9mNGM3OGI2M2Y5ZjQ0MzhiYTk2YjliYjdkNzNjNTg3ZiA9IEwucG9wdXAoe21heFdpZHRoOiAnMzAwJ30pOwoKICAgICAgICAgICAgCiAgICAgICAgICAgICAgICB2YXIgaHRtbF9hYzc4ZjEwNDg5NDY0YTBjYWUzZjg1NzZlZDk4MzUyNCA9ICQoJzxkaXYgaWQ9Imh0bWxfYWM3OGYxMDQ4OTQ2NGEwY2FlM2Y4NTc2ZWQ5ODM1MjQiIHN0eWxlPSJ3aWR0aDogMTAwLjAlOyBoZWlnaHQ6IDEwMC4wJTsiPlJvY2thYmlsbHkgQmFyPC9kaXY+JylbMF07CiAgICAgICAgICAgICAgICBwb3B1cF9mNGM3OGI2M2Y5ZjQ0MzhiYTk2YjliYjdkNzNjNTg3Zi5zZXRDb250ZW50KGh0bWxfYWM3OGYxMDQ4OTQ2NGEwY2FlM2Y4NTc2ZWQ5ODM1MjQpOwogICAgICAgICAgICAKCiAgICAgICAgICAgIGNpcmNsZV9tYXJrZXJfYzAyMjdlMGQ4NTM0NDE0NjgyMzZhMWVjNmIzYzcwYTQuYmluZFBvcHVwKHBvcHVwX2Y0Yzc4YjYzZjlmNDQzOGJhOTZiOWJiN2Q3M2M1ODdmKTsKCiAgICAgICAgICAgIAogICAgICAgIAogICAgCiAgICAgICAgICAgIHZhciBjaXJjbGVfbWFya2VyXzVkMDYzNGMyNTA1ODQ1YmNhZjgzNDk0OTdiNjIzNjBhID0gTC5jaXJjbGVNYXJrZXIoCiAgICAgICAgICAgICAgICBbLTI3LjQyODY5NzIyMDY4MjY5NywtNDguNDU5MjkyODIwODgxMThdLAogICAgICAgICAgICAgICAgewogICJidWJibGluZ01vdXNlRXZlbnRzIjogdHJ1ZSwKICAiY29sb3IiOiAiYmx1ZSIsCiAgImRhc2hBcnJheSI6IG51bGwsCiAgImRhc2hPZmZzZXQiOiBudWxsLAogICJmaWxsIjogdHJ1ZSwKICAiZmlsbENvbG9yIjogIiMzMTg2Y2MiLAogICJmaWxsT3BhY2l0eSI6IDAuNywKICAiZmlsbFJ1bGUiOiAiZXZlbm9kZCIsCiAgImxpbmVDYXAiOiAicm91bmQiLAogICJsaW5lSm9pbiI6ICJyb3VuZCIsCiAgIm9wYWNpdHkiOiAxLjAsCiAgInJhZGl1cyI6IDUsCiAgInN0cm9rZSI6IHRydWUsCiAgIndlaWdodCI6IDMKfQogICAgICAgICAgICAgICAgKS5hZGRUbyhtYXBfZjRiNmE2OGFjZmE3NDUzZDg5ZjI4MzY3MWRiZTQ3MTApOwogICAgICAgICAgICAKICAgIAogICAgICAgICAgICB2YXIgcG9wdXBfN2IyMTI1OWNmMDNmNGFlOTliM2Q3MmJiMDg1NWIzNWEgPSBMLnBvcHVwKHttYXhXaWR0aDogJzMwMCd9KTsKCiAgICAgICAgICAgIAogICAgICAgICAgICAgICAgdmFyIGh0bWxfZTRhN2NjZTIyMzk0NGJhMTk1YjMzMzNhNGQ4MDQ2YzEgPSAkKCc8ZGl2IGlkPSJodG1sX2U0YTdjY2UyMjM5NDRiYTE5NWIzMzMzYTRkODA0NmMxIiBzdHlsZT0id2lkdGg6IDEwMC4wJTsgaGVpZ2h0OiAxMDAuMCU7Ij5WaWNpdXMgZSBWaXJ0dWRlcyBUYWJhY2FyaWEgZSBDYWZldGVyaWE8L2Rpdj4nKVswXTsKICAgICAgICAgICAgICAgIHBvcHVwXzdiMjEyNTljZjAzZjRhZTk5YjNkNzJiYjA4NTViMzVhLnNldENvbnRlbnQoaHRtbF9lNGE3Y2NlMjIzOTQ0YmExOTViMzMzM2E0ZDgwNDZjMSk7CiAgICAgICAgICAgIAoKICAgICAgICAgICAgY2lyY2xlX21hcmtlcl81ZDA2MzRjMjUwNTg0NWJjYWY4MzQ5NDk3YjYyMzYwYS5iaW5kUG9wdXAocG9wdXBfN2IyMTI1OWNmMDNmNGFlOTliM2Q3MmJiMDg1NWIzNWEpOwoKICAgICAgICAgICAgCiAgICAgICAgCiAgICAKICAgICAgICAgICAgdmFyIGNpcmNsZV9tYXJrZXJfODViMWFlNmYxNWU5NGUwMWE3ZGVlMTdhNzY3MWUwNmEgPSBMLmNpcmNsZU1hcmtlcigKICAgICAgICAgICAgICAgIFstMjcuNDI4ODU1Mzk2OTg3Mjc0LC00OC40NTk4NjM2ODY0NzM3NV0sCiAgICAgICAgICAgICAgICB7CiAgImJ1YmJsaW5nTW91c2VFdmVudHMiOiB0cnVlLAogICJjb2xvciI6ICJibHVlIiwKICAiZGFzaEFycmF5IjogbnVsbCwKICAiZGFzaE9mZnNldCI6IG51bGwsCiAgImZpbGwiOiB0cnVlLAogICJmaWxsQ29sb3IiOiAiIzMxODZjYyIsCiAgImZpbGxPcGFjaXR5IjogMC43LAogICJmaWxsUnVsZSI6ICJldmVub2RkIiwKICAibGluZUNhcCI6ICJyb3VuZCIsCiAgImxpbmVKb2luIjogInJvdW5kIiwKICAib3BhY2l0eSI6IDEuMCwKICAicmFkaXVzIjogNSwKICAic3Ryb2tlIjogdHJ1ZSwKICAid2VpZ2h0IjogMwp9CiAgICAgICAgICAgICAgICApLmFkZFRvKG1hcF9mNGI2YTY4YWNmYTc0NTNkODlmMjgzNjcxZGJlNDcxMCk7CiAgICAgICAgICAgIAogICAgCiAgICAgICAgICAgIHZhciBwb3B1cF9lMzhmZjJmN2JkMmQ0OThiYjljNmU3ZTY4NzVjYjFhOCA9IEwucG9wdXAoe21heFdpZHRoOiAnMzAwJ30pOwoKICAgICAgICAgICAgCiAgICAgICAgICAgICAgICB2YXIgaHRtbF84Yjg0ZDc0ODM1NmY0YzRjOTc1NmI2ZTkwMjI5YjUxNCA9ICQoJzxkaXYgaWQ9Imh0bWxfOGI4NGQ3NDgzNTZmNGM0Yzk3NTZiNmU5MDIyOWI1MTQiIHN0eWxlPSJ3aWR0aDogMTAwLjAlOyBoZWlnaHQ6IDEwMC4wJTsiPlNvcnZldGVyaWEgR2FicmllbGE8L2Rpdj4nKVswXTsKICAgICAgICAgICAgICAgIHBvcHVwX2UzOGZmMmY3YmQyZDQ5OGJiOWM2ZTdlNjg3NWNiMWE4LnNldENvbnRlbnQoaHRtbF84Yjg0ZDc0ODM1NmY0YzRjOTc1NmI2ZTkwMjI5YjUxNCk7CiAgICAgICAgICAgIAoKICAgICAgICAgICAgY2lyY2xlX21hcmtlcl84NWIxYWU2ZjE1ZTk0ZTAxYTdkZWUxN2E3NjcxZTA2YS5iaW5kUG9wdXAocG9wdXBfZTM4ZmYyZjdiZDJkNDk4YmI5YzZlN2U2ODc1Y2IxYTgpOwoKICAgICAgICAgICAgCiAgICAgICAgCiAgICAKICAgICAgICAgICAgdmFyIGNpcmNsZV9tYXJrZXJfYTJiY2Y0MzU2OGI4NGVlM2IxYjJiNGZiM2RkMmUzMDUgPSBMLmNpcmNsZU1hcmtlcigKICAgICAgICAgICAgICAgIFstMjcuNDI5ODIzODcxNDIyMzcsLTQ4LjQ1ODIyODI4NzMxNTA5XSwKICAgICAgICAgICAgICAgIHsKICAiYnViYmxpbmdNb3VzZUV2ZW50cyI6IHRydWUsCiAgImNvbG9yIjogImJsdWUiLAogICJkYXNoQXJyYXkiOiBudWxsLAogICJkYXNoT2Zmc2V0IjogbnVsbCwKICAiZmlsbCI6IHRydWUsCiAgImZpbGxDb2xvciI6ICIjMzE4NmNjIiwKICAiZmlsbE9wYWNpdHkiOiAwLjcsCiAgImZpbGxSdWxlIjogImV2ZW5vZGQiLAogICJsaW5lQ2FwIjogInJvdW5kIiwKICAibGluZUpvaW4iOiAicm91bmQiLAogICJvcGFjaXR5IjogMS4wLAogICJyYWRpdXMiOiA1LAogICJzdHJva2UiOiB0cnVlLAogICJ3ZWlnaHQiOiAzCn0KICAgICAgICAgICAgICAgICkuYWRkVG8obWFwX2Y0YjZhNjhhY2ZhNzQ1M2Q4OWYyODM2NzFkYmU0NzEwKTsKICAgICAgICAgICAgCiAgICAKICAgICAgICAgICAgdmFyIHBvcHVwX2U2MWE0MGE1ZjJhYzQ2OTc5MzA0YjM5MTE0ODg1M2RlID0gTC5wb3B1cCh7bWF4V2lkdGg6ICczMDAnfSk7CgogICAgICAgICAgICAKICAgICAgICAgICAgICAgIHZhciBodG1sX2M4MmNjZmFhMmQyYzRmODhiYzE2NDJkNjI5NDNjZmNiID0gJCgnPGRpdiBpZD0iaHRtbF9jODJjY2ZhYTJkMmM0Zjg4YmMxNjQyZDYyOTQzY2ZjYiIgc3R5bGU9IndpZHRoOiAxMDAuMCU7IGhlaWdodDogMTAwLjAlOyI+VGVyZXphJiMzOTtzIFJlc3RhdXJhbnRlIGUgUGl6emFyaWE8L2Rpdj4nKVswXTsKICAgICAgICAgICAgICAgIHBvcHVwX2U2MWE0MGE1ZjJhYzQ2OTc5MzA0YjM5MTE0ODg1M2RlLnNldENvbnRlbnQoaHRtbF9jODJjY2ZhYTJkMmM0Zjg4YmMxNjQyZDYyOTQzY2ZjYik7CiAgICAgICAgICAgIAoKICAgICAgICAgICAgY2lyY2xlX21hcmtlcl9hMmJjZjQzNTY4Yjg0ZWUzYjFiMmI0ZmIzZGQyZTMwNS5iaW5kUG9wdXAocG9wdXBfZTYxYTQwYTVmMmFjNDY5NzkzMDRiMzkxMTQ4ODUzZGUpOwoKICAgICAgICAgICAgCiAgICAgICAgCiAgICAKICAgICAgICAgICAgdmFyIGNpcmNsZV9tYXJrZXJfODcwZmMzY2YyYzAyNGQyMWFmYmEzZjkzNzhkNWViMTEgPSBMLmNpcmNsZU1hcmtlcigKICAgICAgICAgICAgICAgIFstMjcuNDI4MzY1NDEwNDk4NDUsLTQ4LjQ1OTE0NTU0ODUxMzg2XSwKICAgICAgICAgICAgICAgIHsKICAiYnViYmxpbmdNb3VzZUV2ZW50cyI6IHRydWUsCiAgImNvbG9yIjogImJsdWUiLAogICJkYXNoQXJyYXkiOiBudWxsLAogICJkYXNoT2Zmc2V0IjogbnVsbCwKICAiZmlsbCI6IHRydWUsCiAgImZpbGxDb2xvciI6ICIjMzE4NmNjIiwKICAiZmlsbE9wYWNpdHkiOiAwLjcsCiAgImZpbGxSdWxlIjogImV2ZW5vZGQiLAogICJsaW5lQ2FwIjogInJvdW5kIiwKICAibGluZUpvaW4iOiAicm91bmQiLAogICJvcGFjaXR5IjogMS4wLAogICJyYWRpdXMiOiA1LAogICJzdHJva2UiOiB0cnVlLAogICJ3ZWlnaHQiOiAzCn0KICAgICAgICAgICAgICAgICkuYWRkVG8obWFwX2Y0YjZhNjhhY2ZhNzQ1M2Q4OWYyODM2NzFkYmU0NzEwKTsKICAgICAgICAgICAgCiAgICAKICAgICAgICAgICAgdmFyIHBvcHVwXzAxYWZiNjlmZWYzNTRmN2FiN2EwZDI5N2UwYzU0ZGEyID0gTC5wb3B1cCh7bWF4V2lkdGg6ICczMDAnfSk7CgogICAgICAgICAgICAKICAgICAgICAgICAgICAgIHZhciBodG1sXzNhOThiMGRjNjZlYzQ5ZjNhZDUzYjU1Mzg4MWU4MDhjID0gJCgnPGRpdiBpZD0iaHRtbF8zYTk4YjBkYzY2ZWM0OWYzYWQ1M2I1NTM4ODFlODA4YyIgc3R5bGU9IndpZHRoOiAxMDAuMCU7IGhlaWdodDogMTAwLjAlOyI+RWwgVGFjbyBMb2NvPC9kaXY+JylbMF07CiAgICAgICAgICAgICAgICBwb3B1cF8wMWFmYjY5ZmVmMzU0ZjdhYjdhMGQyOTdlMGM1NGRhMi5zZXRDb250ZW50KGh0bWxfM2E5OGIwZGM2NmVjNDlmM2FkNTNiNTUzODgxZTgwOGMpOwogICAgICAgICAgICAKCiAgICAgICAgICAgIGNpcmNsZV9tYXJrZXJfODcwZmMzY2YyYzAyNGQyMWFmYmEzZjkzNzhkNWViMTEuYmluZFBvcHVwKHBvcHVwXzAxYWZiNjlmZWYzNTRmN2FiN2EwZDI5N2UwYzU0ZGEyKTsKCiAgICAgICAgICAgIAogICAgICAgIAogICAgCiAgICAgICAgICAgIHZhciBjaXJjbGVfbWFya2VyXzk0ZTU0Zjg3ZjZmNTQ5ZjVhODA4MTA2ZTRhOTVjYjRkID0gTC5jaXJjbGVNYXJrZXIoCiAgICAgICAgICAgICAgICBbLTI3LjQyODcxMTAzNDMwMzY2NCwtNDguNDU4NTQyMDg5NTM4NzVdLAogICAgICAgICAgICAgICAgewogICJidWJibGluZ01vdXNlRXZlbnRzIjogdHJ1ZSwKICAiY29sb3IiOiAiYmx1ZSIsCiAgImRhc2hBcnJheSI6IG51bGwsCiAgImRhc2hPZmZzZXQiOiBudWxsLAogICJmaWxsIjogdHJ1ZSwKICAiZmlsbENvbG9yIjogIiMzMTg2Y2MiLAogICJmaWxsT3BhY2l0eSI6IDAuNywKICAiZmlsbFJ1bGUiOiAiZXZlbm9kZCIsCiAgImxpbmVDYXAiOiAicm91bmQiLAogICJsaW5lSm9pbiI6ICJyb3VuZCIsCiAgIm9wYWNpdHkiOiAxLjAsCiAgInJhZGl1cyI6IDUsCiAgInN0cm9rZSI6IHRydWUsCiAgIndlaWdodCI6IDMKfQogICAgICAgICAgICAgICAgKS5hZGRUbyhtYXBfZjRiNmE2OGFjZmE3NDUzZDg5ZjI4MzY3MWRiZTQ3MTApOwogICAgICAgICAgICAKICAgIAogICAgICAgICAgICB2YXIgcG9wdXBfZDY1NTUzOWYyODM5NGFkMGJhMmFlN2MzZTU4Mzc5ZWQgPSBMLnBvcHVwKHttYXhXaWR0aDogJzMwMCd9KTsKCiAgICAgICAgICAgIAogICAgICAgICAgICAgICAgdmFyIGh0bWxfNTY5N2VhMTQ0MThmNGYyOGEyZmEyOGZlNjAyMDQ5ZGIgPSAkKCc8ZGl2IGlkPSJodG1sXzU2OTdlYTE0NDE4ZjRmMjhhMmZhMjhmZTYwMjA0OWRiIiBzdHlsZT0id2lkdGg6IDEwMC4wJTsgaGVpZ2h0OiAxMDAuMCU7Ij5adWNjYSBQaXp6YTwvZGl2PicpWzBdOwogICAgICAgICAgICAgICAgcG9wdXBfZDY1NTUzOWYyODM5NGFkMGJhMmFlN2MzZTU4Mzc5ZWQuc2V0Q29udGVudChodG1sXzU2OTdlYTE0NDE4ZjRmMjhhMmZhMjhmZTYwMjA0OWRiKTsKICAgICAgICAgICAgCgogICAgICAgICAgICBjaXJjbGVfbWFya2VyXzk0ZTU0Zjg3ZjZmNTQ5ZjVhODA4MTA2ZTRhOTVjYjRkLmJpbmRQb3B1cChwb3B1cF9kNjU1NTM5ZjI4Mzk0YWQwYmEyYWU3YzNlNTgzNzllZCk7CgogICAgICAgICAgICAKICAgICAgICAKICAgIAogICAgICAgICAgICB2YXIgY2lyY2xlX21hcmtlcl8wYmI3OTBkYjJjY2I0OTBhOGJkZmY4M2UxNDE1YTY1NCA9IEwuY2lyY2xlTWFya2VyKAogICAgICAgICAgICAgICAgWy0yNy40Mjg2MjQ2MDgxNTcyNDMsLTQ4LjQ1OTUxNjM1MDMwOTY1Nl0sCiAgICAgICAgICAgICAgICB7CiAgImJ1YmJsaW5nTW91c2VFdmVudHMiOiB0cnVlLAogICJjb2xvciI6ICJibHVlIiwKICAiZGFzaEFycmF5IjogbnVsbCwKICAiZGFzaE9mZnNldCI6IG51bGwsCiAgImZpbGwiOiB0cnVlLAogICJmaWxsQ29sb3IiOiAiIzMxODZjYyIsCiAgImZpbGxPcGFjaXR5IjogMC43LAogICJmaWxsUnVsZSI6ICJldmVub2RkIiwKICAibGluZUNhcCI6ICJyb3VuZCIsCiAgImxpbmVKb2luIjogInJvdW5kIiwKICAib3BhY2l0eSI6IDEuMCwKICAicmFkaXVzIjogNSwKICAic3Ryb2tlIjogdHJ1ZSwKICAid2VpZ2h0IjogMwp9CiAgICAgICAgICAgICAgICApLmFkZFRvKG1hcF9mNGI2YTY4YWNmYTc0NTNkODlmMjgzNjcxZGJlNDcxMCk7CiAgICAgICAgICAgIAogICAgCiAgICAgICAgICAgIHZhciBwb3B1cF8xZDFiZWZkNDkzNjA0NTU5YjczMDZjYWRkMTA1NjE5MiA9IEwucG9wdXAoe21heFdpZHRoOiAnMzAwJ30pOwoKICAgICAgICAgICAgCiAgICAgICAgICAgICAgICB2YXIgaHRtbF85OGFmMmEwODY1ZWY0NTc3YWU0MzU3Y2MyZGNjNDg2ZSA9ICQoJzxkaXYgaWQ9Imh0bWxfOThhZjJhMDg2NWVmNDU3N2FlNDM1N2NjMmRjYzQ4NmUiIHN0eWxlPSJ3aWR0aDogMTAwLjAlOyBoZWlnaHQ6IDEwMC4wJTsiPkNhbWFyYW8gZXhwcmVzczwvZGl2PicpWzBdOwogICAgICAgICAgICAgICAgcG9wdXBfMWQxYmVmZDQ5MzYwNDU1OWI3MzA2Y2FkZDEwNTYxOTIuc2V0Q29udGVudChodG1sXzk4YWYyYTA4NjVlZjQ1NzdhZTQzNTdjYzJkY2M0ODZlKTsKICAgICAgICAgICAgCgogICAgICAgICAgICBjaXJjbGVfbWFya2VyXzBiYjc5MGRiMmNjYjQ5MGE4YmRmZjgzZTE0MTVhNjU0LmJpbmRQb3B1cChwb3B1cF8xZDFiZWZkNDkzNjA0NTU5YjczMDZjYWRkMTA1NjE5Mik7CgogICAgICAgICAgICAKICAgICAgICAKICAgIAogICAgICAgICAgICB2YXIgY2lyY2xlX21hcmtlcl8zYTc2YjQ0MmMzNzM0MGQ4YjQzNDE1YTU3MDY2Y2MxOSA9IEwuY2lyY2xlTWFya2VyKAogICAgICAgICAgICAgICAgWy0yNy40MzI3NDYzODIzMTI2NDQsLTQ4LjQ1ODAzMjU3Nzk0OTc4XSwKICAgICAgICAgICAgICAgIHsKICAiYnViYmxpbmdNb3VzZUV2ZW50cyI6IHRydWUsCiAgImNvbG9yIjogImJsdWUiLAogICJkYXNoQXJyYXkiOiBudWxsLAogICJkYXNoT2Zmc2V0IjogbnVsbCwKICAiZmlsbCI6IHRydWUsCiAgImZpbGxDb2xvciI6ICIjMzE4NmNjIiwKICAiZmlsbE9wYWNpdHkiOiAwLjcsCiAgImZpbGxSdWxlIjogImV2ZW5vZGQiLAogICJsaW5lQ2FwIjogInJvdW5kIiwKICAibGluZUpvaW4iOiAicm91bmQiLAogICJvcGFjaXR5IjogMS4wLAogICJyYWRpdXMiOiA1LAogICJzdHJva2UiOiB0cnVlLAogICJ3ZWlnaHQiOiAzCn0KICAgICAgICAgICAgICAgICkuYWRkVG8obWFwX2Y0YjZhNjhhY2ZhNzQ1M2Q4OWYyODM2NzFkYmU0NzEwKTsKICAgICAgICAgICAgCiAgICAKICAgICAgICAgICAgdmFyIHBvcHVwXzM0MDU1NTVmMjVmNzRhODM4NjUzYjI0N2M5NzU3Mjc1ID0gTC5wb3B1cCh7bWF4V2lkdGg6ICczMDAnfSk7CgogICAgICAgICAgICAKICAgICAgICAgICAgICAgIHZhciBodG1sXzRlYjYzODczMzc4MjQxNTBhZDRlMzk4YjQ5YTdiM2IxID0gJCgnPGRpdiBpZD0iaHRtbF80ZWI2Mzg3MzM3ODI0MTUwYWQ0ZTM5OGI0OWE3YjNiMSIgc3R5bGU9IndpZHRoOiAxMDAuMCU7IGhlaWdodDogMTAwLjAlOyI+U3VwZXJtZXJjYWRvcyBJbXBlcmF0cml6PC9kaXY+JylbMF07CiAgICAgICAgICAgICAgICBwb3B1cF8zNDA1NTU1ZjI1Zjc0YTgzODY1M2IyNDdjOTc1NzI3NS5zZXRDb250ZW50KGh0bWxfNGViNjM4NzMzNzgyNDE1MGFkNGUzOThiNDlhN2IzYjEpOwogICAgICAgICAgICAKCiAgICAgICAgICAgIGNpcmNsZV9tYXJrZXJfM2E3NmI0NDJjMzczNDBkOGI0MzQxNWE1NzA2NmNjMTkuYmluZFBvcHVwKHBvcHVwXzM0MDU1NTVmMjVmNzRhODM4NjUzYjI0N2M5NzU3Mjc1KTsKCiAgICAgICAgICAgIAogICAgICAgIAogICAgCiAgICAgICAgICAgIHZhciBjaXJjbGVfbWFya2VyXzY4YjA3OWYyMDhmYjRiOGQ5ZjgxYTNiNWNhM2Y2OWJkID0gTC5jaXJjbGVNYXJrZXIoCiAgICAgICAgICAgICAgICBbLTI3LjQzMDQ2MzY1NTk5MjI4OCwtNDguNDYwNDA1NjcyNTU2NzNdLAogICAgICAgICAgICAgICAgewogICJidWJibGluZ01vdXNlRXZlbnRzIjogdHJ1ZSwKICAiY29sb3IiOiAiYmx1ZSIsCiAgImRhc2hBcnJheSI6IG51bGwsCiAgImRhc2hPZmZzZXQiOiBudWxsLAogICJmaWxsIjogdHJ1ZSwKICAiZmlsbENvbG9yIjogIiMzMTg2Y2MiLAogICJmaWxsT3BhY2l0eSI6IDAuNywKICAiZmlsbFJ1bGUiOiAiZXZlbm9kZCIsCiAgImxpbmVDYXAiOiAicm91bmQiLAogICJsaW5lSm9pbiI6ICJyb3VuZCIsCiAgIm9wYWNpdHkiOiAxLjAsCiAgInJhZGl1cyI6IDUsCiAgInN0cm9rZSI6IHRydWUsCiAgIndlaWdodCI6IDMKfQogICAgICAgICAgICAgICAgKS5hZGRUbyhtYXBfZjRiNmE2OGFjZmE3NDUzZDg5ZjI4MzY3MWRiZTQ3MTApOwogICAgICAgICAgICAKICAgIAogICAgICAgICAgICB2YXIgcG9wdXBfY2EyMzkwYTIwNGNkNDc3MjhkMzlhOTU1NTZkMWJmNTQgPSBMLnBvcHVwKHttYXhXaWR0aDogJzMwMCd9KTsKCiAgICAgICAgICAgIAogICAgICAgICAgICAgICAgdmFyIGh0bWxfYjhiNjA3OGM3OGUxNGNlNjhiMDEwZWZjYWU2ZjE5ZmMgPSAkKCc8ZGl2IGlkPSJodG1sX2I4YjYwNzhjNzhlMTRjZTY4YjAxMGVmY2FlNmYxOWZjIiBzdHlsZT0id2lkdGg6IDEwMC4wJTsgaGVpZ2h0OiAxMDAuMCU7Ij5WaWxsYSBkaSBSb21hPC9kaXY+JylbMF07CiAgICAgICAgICAgICAgICBwb3B1cF9jYTIzOTBhMjA0Y2Q0NzcyOGQzOWE5NTU1NmQxYmY1NC5zZXRDb250ZW50KGh0bWxfYjhiNjA3OGM3OGUxNGNlNjhiMDEwZWZjYWU2ZjE5ZmMpOwogICAgICAgICAgICAKCiAgICAgICAgICAgIGNpcmNsZV9tYXJrZXJfNjhiMDc5ZjIwOGZiNGI4ZDlmODFhM2I1Y2EzZjY5YmQuYmluZFBvcHVwKHBvcHVwX2NhMjM5MGEyMDRjZDQ3NzI4ZDM5YTk1NTU2ZDFiZjU0KTsKCiAgICAgICAgICAgIAogICAgICAgIAogICAgCiAgICAgICAgICAgIHZhciBjaXJjbGVfbWFya2VyX2M2YTdiZGYyYWY3OTQyMDk5MDAyNjQzNjUwY2IxZmQxID0gTC5jaXJjbGVNYXJrZXIoCiAgICAgICAgICAgICAgICBbLTI3LjQyODQzMSwtNDguNDU4MzQ2XSwKICAgICAgICAgICAgICAgIHsKICAiYnViYmxpbmdNb3VzZUV2ZW50cyI6IHRydWUsCiAgImNvbG9yIjogImJsdWUiLAogICJkYXNoQXJyYXkiOiBudWxsLAogICJkYXNoT2Zmc2V0IjogbnVsbCwKICAiZmlsbCI6IHRydWUsCiAgImZpbGxDb2xvciI6ICIjMzE4NmNjIiwKICAiZmlsbE9wYWNpdHkiOiAwLjcsCiAgImZpbGxSdWxlIjogImV2ZW5vZGQiLAogICJsaW5lQ2FwIjogInJvdW5kIiwKICAibGluZUpvaW4iOiAicm91bmQiLAogICJvcGFjaXR5IjogMS4wLAogICJyYWRpdXMiOiA1LAogICJzdHJva2UiOiB0cnVlLAogICJ3ZWlnaHQiOiAzCn0KICAgICAgICAgICAgICAgICkuYWRkVG8obWFwX2Y0YjZhNjhhY2ZhNzQ1M2Q4OWYyODM2NzFkYmU0NzEwKTsKICAgICAgICAgICAgCiAgICAKICAgICAgICAgICAgdmFyIHBvcHVwXzA4NTY0NTAxODYxYjQ2YTFiZjk3ZTdhN2JmNWJlMTZhID0gTC5wb3B1cCh7bWF4V2lkdGg6ICczMDAnfSk7CgogICAgICAgICAgICAKICAgICAgICAgICAgICAgIHZhciBodG1sXzM1ODY1ZTVhZDNiYjRhZGM5ZWRhNWU1OGZjNmFhYTJkID0gJCgnPGRpdiBpZD0iaHRtbF8zNTg2NWU1YWQzYmI0YWRjOWVkYTVlNThmYzZhYWEyZCIgc3R5bGU9IndpZHRoOiAxMDAuMCU7IGhlaWdodDogMTAwLjAlOyI+Tm9ydGggUHViPC9kaXY+JylbMF07CiAgICAgICAgICAgICAgICBwb3B1cF8wODU2NDUwMTg2MWI0NmExYmY5N2U3YTdiZjViZTE2YS5zZXRDb250ZW50KGh0bWxfMzU4NjVlNWFkM2JiNGFkYzllZGE1ZTU4ZmM2YWFhMmQpOwogICAgICAgICAgICAKCiAgICAgICAgICAgIGNpcmNsZV9tYXJrZXJfYzZhN2JkZjJhZjc5NDIwOTkwMDI2NDM2NTBjYjFmZDEuYmluZFBvcHVwKHBvcHVwXzA4NTY0NTAxODYxYjQ2YTFiZjk3ZTdhN2JmNWJlMTZhKTsKCiAgICAgICAgICAgIAogICAgICAgIAogICAgCiAgICAgICAgICAgIHZhciBjaXJjbGVfbWFya2VyX2JhMTVlOTdkYjVlMzQxNjliNmUyMjI0ZDliOWJjMThjID0gTC5jaXJjbGVNYXJrZXIoCiAgICAgICAgICAgICAgICBbLTI3LjQzMTIxMjkyMTcyNDk1NiwtNDguNDU4MDM3NDExNTI1NzJdLAogICAgICAgICAgICAgICAgewogICJidWJibGluZ01vdXNlRXZlbnRzIjogdHJ1ZSwKICAiY29sb3IiOiAiYmx1ZSIsCiAgImRhc2hBcnJheSI6IG51bGwsCiAgImRhc2hPZmZzZXQiOiBudWxsLAogICJmaWxsIjogdHJ1ZSwKICAiZmlsbENvbG9yIjogIiMzMTg2Y2MiLAogICJmaWxsT3BhY2l0eSI6IDAuNywKICAiZmlsbFJ1bGUiOiAiZXZlbm9kZCIsCiAgImxpbmVDYXAiOiAicm91bmQiLAogICJsaW5lSm9pbiI6ICJyb3VuZCIsCiAgIm9wYWNpdHkiOiAxLjAsCiAgInJhZGl1cyI6IDUsCiAgInN0cm9rZSI6IHRydWUsCiAgIndlaWdodCI6IDMKfQogICAgICAgICAgICAgICAgKS5hZGRUbyhtYXBfZjRiNmE2OGFjZmE3NDUzZDg5ZjI4MzY3MWRiZTQ3MTApOwogICAgICAgICAgICAKICAgIAogICAgICAgICAgICB2YXIgcG9wdXBfMzgwMTRiNGZjNTYxNDcxMTg1NzUyOGYxMGU2MGQ3YTUgPSBMLnBvcHVwKHttYXhXaWR0aDogJzMwMCd9KTsKCiAgICAgICAgICAgIAogICAgICAgICAgICAgICAgdmFyIGh0bWxfMTMxZGI2MDZmMzg2NDZiN2I0ZTUyMTgzYTYxNzEzZDcgPSAkKCc8ZGl2IGlkPSJodG1sXzEzMWRiNjA2ZjM4NjQ2YjdiNGU1MjE4M2E2MTcxM2Q3IiBzdHlsZT0id2lkdGg6IDEwMC4wJTsgaGVpZ2h0OiAxMDAuMCU7Ij5HZWxvbWVsIFNvcnZldGVyaWE8L2Rpdj4nKVswXTsKICAgICAgICAgICAgICAgIHBvcHVwXzM4MDE0YjRmYzU2MTQ3MTE4NTc1MjhmMTBlNjBkN2E1LnNldENvbnRlbnQoaHRtbF8xMzFkYjYwNmYzODY0NmI3YjRlNTIxODNhNjE3MTNkNyk7CiAgICAgICAgICAgIAoKICAgICAgICAgICAgY2lyY2xlX21hcmtlcl9iYTE1ZTk3ZGI1ZTM0MTY5YjZlMjIyNGQ5YjliYzE4Yy5iaW5kUG9wdXAocG9wdXBfMzgwMTRiNGZjNTYxNDcxMTg1NzUyOGYxMGU2MGQ3YTUpOwoKICAgICAgICAgICAgCiAgICAgICAgCiAgICAKICAgICAgICAgICAgdmFyIGNpcmNsZV9tYXJrZXJfZjFiZjEwYmM1NjRiNDhjOWIyMzBmYjM1YmE5OWQ3YmQgPSBMLmNpcmNsZU1hcmtlcigKICAgICAgICAgICAgICAgIFstMjcuNDI4NzMzNTcxNjM3MzEzLC00OC40NTg3MTcyNDc3MTI4Nl0sCiAgICAgICAgICAgICAgICB7CiAgImJ1YmJsaW5nTW91c2VFdmVudHMiOiB0cnVlLAogICJjb2xvciI6ICJibHVlIiwKICAiZGFzaEFycmF5IjogbnVsbCwKICAiZGFzaE9mZnNldCI6IG51bGwsCiAgImZpbGwiOiB0cnVlLAogICJmaWxsQ29sb3IiOiAiIzMxODZjYyIsCiAgImZpbGxPcGFjaXR5IjogMC43LAogICJmaWxsUnVsZSI6ICJldmVub2RkIiwKICAibGluZUNhcCI6ICJyb3VuZCIsCiAgImxpbmVKb2luIjogInJvdW5kIiwKICAib3BhY2l0eSI6IDEuMCwKICAicmFkaXVzIjogNSwKICAic3Ryb2tlIjogdHJ1ZSwKICAid2VpZ2h0IjogMwp9CiAgICAgICAgICAgICAgICApLmFkZFRvKG1hcF9mNGI2YTY4YWNmYTc0NTNkODlmMjgzNjcxZGJlNDcxMCk7CiAgICAgICAgICAgIAogICAgCiAgICAgICAgICAgIHZhciBwb3B1cF9kOTEyYmIzMGZkZTk0MmUxOGMzZjRkZjk4NDczZmFlYiA9IEwucG9wdXAoe21heFdpZHRoOiAnMzAwJ30pOwoKICAgICAgICAgICAgCiAgICAgICAgICAgICAgICB2YXIgaHRtbF9kYWMwMDVhNmM0ZTQ0MGQ4OWYxOGMyZjljNzE2Yzc2MiA9ICQoJzxkaXYgaWQ9Imh0bWxfZGFjMDA1YTZjNGU0NDBkODlmMThjMmY5YzcxNmM3NjIiIHN0eWxlPSJ3aWR0aDogMTAwLjAlOyBoZWlnaHQ6IDEwMC4wJTsiPkJhcnJhY8OjbyBEaXNjbzwvZGl2PicpWzBdOwogICAgICAgICAgICAgICAgcG9wdXBfZDkxMmJiMzBmZGU5NDJlMThjM2Y0ZGY5ODQ3M2ZhZWIuc2V0Q29udGVudChodG1sX2RhYzAwNWE2YzRlNDQwZDg5ZjE4YzJmOWM3MTZjNzYyKTsKICAgICAgICAgICAgCgogICAgICAgICAgICBjaXJjbGVfbWFya2VyX2YxYmYxMGJjNTY0YjQ4YzliMjMwZmIzNWJhOTlkN2JkLmJpbmRQb3B1cChwb3B1cF9kOTEyYmIzMGZkZTk0MmUxOGMzZjRkZjk4NDczZmFlYik7CgogICAgICAgICAgICAKICAgICAgICAKICAgIAogICAgICAgICAgICB2YXIgY2lyY2xlX21hcmtlcl81OGQyMWUxODc4NzU0NWNlOGQ0NTAzZjkzYzIzMTgzMCA9IEwuY2lyY2xlTWFya2VyKAogICAgICAgICAgICAgICAgWy0yNy40MzEwNTksLTQ4LjQ1OF0sCiAgICAgICAgICAgICAgICB7CiAgImJ1YmJsaW5nTW91c2VFdmVudHMiOiB0cnVlLAogICJjb2xvciI6ICJibHVlIiwKICAiZGFzaEFycmF5IjogbnVsbCwKICAiZGFzaE9mZnNldCI6IG51bGwsCiAgImZpbGwiOiB0cnVlLAogICJmaWxsQ29sb3IiOiAiIzMxODZjYyIsCiAgImZpbGxPcGFjaXR5IjogMC43LAogICJmaWxsUnVsZSI6ICJldmVub2RkIiwKICAibGluZUNhcCI6ICJyb3VuZCIsCiAgImxpbmVKb2luIjogInJvdW5kIiwKICAib3BhY2l0eSI6IDEuMCwKICAicmFkaXVzIjogNSwKICAic3Ryb2tlIjogdHJ1ZSwKICAid2VpZ2h0IjogMwp9CiAgICAgICAgICAgICAgICApLmFkZFRvKG1hcF9mNGI2YTY4YWNmYTc0NTNkODlmMjgzNjcxZGJlNDcxMCk7CiAgICAgICAgICAgIAogICAgCiAgICAgICAgICAgIHZhciBwb3B1cF8zMDVkMWM1NTEzOTQ0Yzk3OTk2NjgzZWYwM2U2NTQ0NSA9IEwucG9wdXAoe21heFdpZHRoOiAnMzAwJ30pOwoKICAgICAgICAgICAgCiAgICAgICAgICAgICAgICB2YXIgaHRtbF8xNTYzMTc0YzY5MjU0MjQ5OWNmZmNjNzI4NTc4MTdkOSA9ICQoJzxkaXYgaWQ9Imh0bWxfMTU2MzE3NGM2OTI1NDI0OTljZmZjYzcyODU3ODE3ZDkiIHN0eWxlPSJ3aWR0aDogMTAwLjAlOyBoZWlnaHQ6IDEwMC4wJTsiPlNvcnZldGUgTWFuaWE8L2Rpdj4nKVswXTsKICAgICAgICAgICAgICAgIHBvcHVwXzMwNWQxYzU1MTM5NDRjOTc5OTY2ODNlZjAzZTY1NDQ1LnNldENvbnRlbnQoaHRtbF8xNTYzMTc0YzY5MjU0MjQ5OWNmZmNjNzI4NTc4MTdkOSk7CiAgICAgICAgICAgIAoKICAgICAgICAgICAgY2lyY2xlX21hcmtlcl81OGQyMWUxODc4NzU0NWNlOGQ0NTAzZjkzYzIzMTgzMC5iaW5kUG9wdXAocG9wdXBfMzA1ZDFjNTUxMzk0NGM5Nzk5NjY4M2VmMDNlNjU0NDUpOwoKICAgICAgICAgICAgCiAgICAgICAgCiAgICAKICAgICAgICAgICAgdmFyIGNpcmNsZV9tYXJrZXJfNjZiMmJhNWUxMGMyNDE3MWEwZmE1Njc0MmI1YjI1NjAgPSBMLmNpcmNsZU1hcmtlcigKICAgICAgICAgICAgICAgIFstMjcuNDMxMTcxMTQ4MTMzNzY0LC00OC40NTc4NjYzNzM4MDY1MjVdLAogICAgICAgICAgICAgICAgewogICJidWJibGluZ01vdXNlRXZlbnRzIjogdHJ1ZSwKICAiY29sb3IiOiAiYmx1ZSIsCiAgImRhc2hBcnJheSI6IG51bGwsCiAgImRhc2hPZmZzZXQiOiBudWxsLAogICJmaWxsIjogdHJ1ZSwKICAiZmlsbENvbG9yIjogIiMzMTg2Y2MiLAogICJmaWxsT3BhY2l0eSI6IDAuNywKICAiZmlsbFJ1bGUiOiAiZXZlbm9kZCIsCiAgImxpbmVDYXAiOiAicm91bmQiLAogICJsaW5lSm9pbiI6ICJyb3VuZCIsCiAgIm9wYWNpdHkiOiAxLjAsCiAgInJhZGl1cyI6IDUsCiAgInN0cm9rZSI6IHRydWUsCiAgIndlaWdodCI6IDMKfQogICAgICAgICAgICAgICAgKS5hZGRUbyhtYXBfZjRiNmE2OGFjZmE3NDUzZDg5ZjI4MzY3MWRiZTQ3MTApOwogICAgICAgICAgICAKICAgIAogICAgICAgICAgICB2YXIgcG9wdXBfM2FiMjZkYTZlMThmNDc4MmFhMzQ3MzhhYzZjYzA2YWQgPSBMLnBvcHVwKHttYXhXaWR0aDogJzMwMCd9KTsKCiAgICAgICAgICAgIAogICAgICAgICAgICAgICAgdmFyIGh0bWxfZjJiNDE0ZWUyODczNGQwNThiMzI1ZTFiODJjMjI1ZmIgPSAkKCc8ZGl2IGlkPSJodG1sX2YyYjQxNGVlMjg3MzRkMDU4YjMyNWUxYjgyYzIyNWZiIiBzdHlsZT0id2lkdGg6IDEwMC4wJTsgaGVpZ2h0OiAxMDAuMCU7Ij5GcmFuZ2FyaWEgVG9henphPC9kaXY+JylbMF07CiAgICAgICAgICAgICAgICBwb3B1cF8zYWIyNmRhNmUxOGY0NzgyYWEzNDczOGFjNmNjMDZhZC5zZXRDb250ZW50KGh0bWxfZjJiNDE0ZWUyODczNGQwNThiMzI1ZTFiODJjMjI1ZmIpOwogICAgICAgICAgICAKCiAgICAgICAgICAgIGNpcmNsZV9tYXJrZXJfNjZiMmJhNWUxMGMyNDE3MWEwZmE1Njc0MmI1YjI1NjAuYmluZFBvcHVwKHBvcHVwXzNhYjI2ZGE2ZTE4ZjQ3ODJhYTM0NzM4YWM2Y2MwNmFkKTsKCiAgICAgICAgICAgIAogICAgICAgIAogICAgCiAgICAgICAgICAgIHZhciBjaXJjbGVfbWFya2VyX2MyMDQ5ZGUzYmIwNDRjNjBiMGMyNmM0NmFiYTgxN2I0ID0gTC5jaXJjbGVNYXJrZXIoCiAgICAgICAgICAgICAgICBbLTI3LjQzNDk2Nzk2Mjc4NzQxOCwtNDguNDYwNDk3MDM1NTA4ODldLAogICAgICAgICAgICAgICAgewogICJidWJibGluZ01vdXNlRXZlbnRzIjogdHJ1ZSwKICAiY29sb3IiOiAiYmx1ZSIsCiAgImRhc2hBcnJheSI6IG51bGwsCiAgImRhc2hPZmZzZXQiOiBudWxsLAogICJmaWxsIjogdHJ1ZSwKICAiZmlsbENvbG9yIjogIiMzMTg2Y2MiLAogICJmaWxsT3BhY2l0eSI6IDAuNywKICAiZmlsbFJ1bGUiOiAiZXZlbm9kZCIsCiAgImxpbmVDYXAiOiAicm91bmQiLAogICJsaW5lSm9pbiI6ICJyb3VuZCIsCiAgIm9wYWNpdHkiOiAxLjAsCiAgInJhZGl1cyI6IDUsCiAgInN0cm9rZSI6IHRydWUsCiAgIndlaWdodCI6IDMKfQogICAgICAgICAgICAgICAgKS5hZGRUbyhtYXBfZjRiNmE2OGFjZmE3NDUzZDg5ZjI4MzY3MWRiZTQ3MTApOwogICAgICAgICAgICAKICAgIAogICAgICAgICAgICB2YXIgcG9wdXBfOWVlNmNhMTdjNjQ0NDk3MmFkOTEwMThkY2MyMTAwNjcgPSBMLnBvcHVwKHttYXhXaWR0aDogJzMwMCd9KTsKCiAgICAgICAgICAgIAogICAgICAgICAgICAgICAgdmFyIGh0bWxfMjhmZWM4ZTA0M2Y5NDQ0YmFmNzBkNzIxNDc2YzdkNDIgPSAkKCc8ZGl2IGlkPSJodG1sXzI4ZmVjOGUwNDNmOTQ0NGJhZjcwZDcyMTQ3NmM3ZDQyIiBzdHlsZT0id2lkdGg6IDEwMC4wJTsgaGVpZ2h0OiAxMDAuMCU7Ij5NYWdpYSBEbyBRdWVpam88L2Rpdj4nKVswXTsKICAgICAgICAgICAgICAgIHBvcHVwXzllZTZjYTE3YzY0NDQ5NzJhZDkxMDE4ZGNjMjEwMDY3LnNldENvbnRlbnQoaHRtbF8yOGZlYzhlMDQzZjk0NDRiYWY3MGQ3MjE0NzZjN2Q0Mik7CiAgICAgICAgICAgIAoKICAgICAgICAgICAgY2lyY2xlX21hcmtlcl9jMjA0OWRlM2JiMDQ0YzYwYjBjMjZjNDZhYmE4MTdiNC5iaW5kUG9wdXAocG9wdXBfOWVlNmNhMTdjNjQ0NDk3MmFkOTEwMThkY2MyMTAwNjcpOwoKICAgICAgICAgICAgCiAgICAgICAgCiAgICAKICAgICAgICAgICAgdmFyIGNpcmNsZV9tYXJrZXJfOGEyZThlNDBkOTk0NDUxMGJiNmFlZTU1OWI0NDFlZjIgPSBMLmNpcmNsZU1hcmtlcigKICAgICAgICAgICAgICAgIFstMjcuNDI4MjA4Njk3OTkyMTksLTQ4LjQ1ODM2MDA0MjQyNzA3NF0sCiAgICAgICAgICAgICAgICB7CiAgImJ1YmJsaW5nTW91c2VFdmVudHMiOiB0cnVlLAogICJjb2xvciI6ICJibHVlIiwKICAiZGFzaEFycmF5IjogbnVsbCwKICAiZGFzaE9mZnNldCI6IG51bGwsCiAgImZpbGwiOiB0cnVlLAogICJmaWxsQ29sb3IiOiAiIzMxODZjYyIsCiAgImZpbGxPcGFjaXR5IjogMC43LAogICJmaWxsUnVsZSI6ICJldmVub2RkIiwKICAibGluZUNhcCI6ICJyb3VuZCIsCiAgImxpbmVKb2luIjogInJvdW5kIiwKICAib3BhY2l0eSI6IDEuMCwKICAicmFkaXVzIjogNSwKICAic3Ryb2tlIjogdHJ1ZSwKICAid2VpZ2h0IjogMwp9CiAgICAgICAgICAgICAgICApLmFkZFRvKG1hcF9mNGI2YTY4YWNmYTc0NTNkODlmMjgzNjcxZGJlNDcxMCk7CiAgICAgICAgICAgIAogICAgCiAgICAgICAgICAgIHZhciBwb3B1cF9lZWY0YjI0MGY4OTY0MGE2YTQ4MjU3YWI0ODYyYzY5YyA9IEwucG9wdXAoe21heFdpZHRoOiAnMzAwJ30pOwoKICAgICAgICAgICAgCiAgICAgICAgICAgICAgICB2YXIgaHRtbF9lYzA1NjIwZTYwNmQ0NDljOTAyNTAwNmUzZmRlZjE1MCA9ICQoJzxkaXYgaWQ9Imh0bWxfZWMwNTYyMGU2MDZkNDQ5YzkwMjUwMDZlM2ZkZWYxNTAiIHN0eWxlPSJ3aWR0aDogMTAwLjAlOyBoZWlnaHQ6IDEwMC4wJTsiPlBpZXIgMTAwLTcxIERldmFzc2EgQnkgUGxheWJveTwvZGl2PicpWzBdOwogICAgICAgICAgICAgICAgcG9wdXBfZWVmNGIyNDBmODk2NDBhNmE0ODI1N2FiNDg2MmM2OWMuc2V0Q29udGVudChodG1sX2VjMDU2MjBlNjA2ZDQ0OWM5MDI1MDA2ZTNmZGVmMTUwKTsKICAgICAgICAgICAgCgogICAgICAgICAgICBjaXJjbGVfbWFya2VyXzhhMmU4ZTQwZDk5NDQ1MTBiYjZhZWU1NTliNDQxZWYyLmJpbmRQb3B1cChwb3B1cF9lZWY0YjI0MGY4OTY0MGE2YTQ4MjU3YWI0ODYyYzY5Yyk7CgogICAgICAgICAgICAKICAgICAgICAKICAgIAogICAgICAgICAgICB2YXIgY2lyY2xlX21hcmtlcl83MTFmYmI0YzZmMjY0ZjRkOTZjZTk4YTQ1OTAyMDEwOCA9IEwuY2lyY2xlTWFya2VyKAogICAgICAgICAgICAgICAgWy0yNy40Mjg2NDU0MDk2MTUzNjcsLTQ4LjQ2MDM4NDA4ODAzMzc1XSwKICAgICAgICAgICAgICAgIHsKICAiYnViYmxpbmdNb3VzZUV2ZW50cyI6IHRydWUsCiAgImNvbG9yIjogImJsdWUiLAogICJkYXNoQXJyYXkiOiBudWxsLAogICJkYXNoT2Zmc2V0IjogbnVsbCwKICAiZmlsbCI6IHRydWUsCiAgImZpbGxDb2xvciI6ICIjMzE4NmNjIiwKICAiZmlsbE9wYWNpdHkiOiAwLjcsCiAgImZpbGxSdWxlIjogImV2ZW5vZGQiLAogICJsaW5lQ2FwIjogInJvdW5kIiwKICAibGluZUpvaW4iOiAicm91bmQiLAogICJvcGFjaXR5IjogMS4wLAogICJyYWRpdXMiOiA1LAogICJzdHJva2UiOiB0cnVlLAogICJ3ZWlnaHQiOiAzCn0KICAgICAgICAgICAgICAgICkuYWRkVG8obWFwX2Y0YjZhNjhhY2ZhNzQ1M2Q4OWYyODM2NzFkYmU0NzEwKTsKICAgICAgICAgICAgCiAgICAKICAgICAgICAgICAgdmFyIHBvcHVwXzAyYzAyZjkyZWMwZDQ4N2RhZDk3MmVlMzE1MjhhYWMzID0gTC5wb3B1cCh7bWF4V2lkdGg6ICczMDAnfSk7CgogICAgICAgICAgICAKICAgICAgICAgICAgICAgIHZhciBodG1sX2Y4MmM0NmEyN2YwYTQ2ODU5Nzc4MjY2NDVhZTVhOTZjID0gJCgnPGRpdiBpZD0iaHRtbF9mODJjNDZhMjdmMGE0Njg1OTc3ODI2NjQ1YWU1YTk2YyIgc3R5bGU9IndpZHRoOiAxMDAuMCU7IGhlaWdodDogMTAwLjAlOyI+UmVzdGF1cmFudGUgRXNwZXRpbmhvIGRlIE91cm8gQ2FuYXN2aWVpcmFzPC9kaXY+JylbMF07CiAgICAgICAgICAgICAgICBwb3B1cF8wMmMwMmY5MmVjMGQ0ODdkYWQ5NzJlZTMxNTI4YWFjMy5zZXRDb250ZW50KGh0bWxfZjgyYzQ2YTI3ZjBhNDY4NTk3NzgyNjY0NWFlNWE5NmMpOwogICAgICAgICAgICAKCiAgICAgICAgICAgIGNpcmNsZV9tYXJrZXJfNzExZmJiNGM2ZjI2NGY0ZDk2Y2U5OGE0NTkwMjAxMDguYmluZFBvcHVwKHBvcHVwXzAyYzAyZjkyZWMwZDQ4N2RhZDk3MmVlMzE1MjhhYWMzKTsKCiAgICAgICAgICAgIAogICAgICAgIAogICAgCiAgICAgICAgICAgIHZhciBjaXJjbGVfbWFya2VyXzdmNWNjYjY1YzQzNTQwMWQ5MWY5OWMwOTVmYzcxM2QxID0gTC5jaXJjbGVNYXJrZXIoCiAgICAgICAgICAgICAgICBbLTI3LjQzMTI5Mzk3ODAwMzE4MywtNDguNDU4MzAxNDk1ODM4MDddLAogICAgICAgICAgICAgICAgewogICJidWJibGluZ01vdXNlRXZlbnRzIjogdHJ1ZSwKICAiY29sb3IiOiAiYmx1ZSIsCiAgImRhc2hBcnJheSI6IG51bGwsCiAgImRhc2hPZmZzZXQiOiBudWxsLAogICJmaWxsIjogdHJ1ZSwKICAiZmlsbENvbG9yIjogIiMzMTg2Y2MiLAogICJmaWxsT3BhY2l0eSI6IDAuNywKICAiZmlsbFJ1bGUiOiAiZXZlbm9kZCIsCiAgImxpbmVDYXAiOiAicm91bmQiLAogICJsaW5lSm9pbiI6ICJyb3VuZCIsCiAgIm9wYWNpdHkiOiAxLjAsCiAgInJhZGl1cyI6IDUsCiAgInN0cm9rZSI6IHRydWUsCiAgIndlaWdodCI6IDMKfQogICAgICAgICAgICAgICAgKS5hZGRUbyhtYXBfZjRiNmE2OGFjZmE3NDUzZDg5ZjI4MzY3MWRiZTQ3MTApOwogICAgICAgICAgICAKICAgIAogICAgICAgICAgICB2YXIgcG9wdXBfYjBiZmQ4ZGE4ZjQ4NDQzOTlhNGI0M2YzZjU1OWJjMmEgPSBMLnBvcHVwKHttYXhXaWR0aDogJzMwMCd9KTsKCiAgICAgICAgICAgIAogICAgICAgICAgICAgICAgdmFyIGh0bWxfOWU4YWJlZjE4YzdhNGVhZWIyYWUyYzhkMGM0YWFiYjkgPSAkKCc8ZGl2IGlkPSJodG1sXzllOGFiZWYxOGM3YTRlYWViMmFlMmM4ZDBjNGFhYmI5IiBzdHlsZT0id2lkdGg6IDEwMC4wJTsgaGVpZ2h0OiAxMDAuMCU7Ij5BbmfDtGxvPC9kaXY+JylbMF07CiAgICAgICAgICAgICAgICBwb3B1cF9iMGJmZDhkYThmNDg0NDM5OWE0YjQzZjNmNTU5YmMyYS5zZXRDb250ZW50KGh0bWxfOWU4YWJlZjE4YzdhNGVhZWIyYWUyYzhkMGM0YWFiYjkpOwogICAgICAgICAgICAKCiAgICAgICAgICAgIGNpcmNsZV9tYXJrZXJfN2Y1Y2NiNjVjNDM1NDAxZDkxZjk5YzA5NWZjNzEzZDEuYmluZFBvcHVwKHBvcHVwX2IwYmZkOGRhOGY0ODQ0Mzk5YTRiNDNmM2Y1NTliYzJhKTsKCiAgICAgICAgICAgIAogICAgICAgIAogICAgCiAgICAgICAgICAgIHZhciBjaXJjbGVfbWFya2VyX2ZiYTFhODFkMTI0YjQ1ZjJhNmNhYTRhMmYzMDE4MmRhID0gTC5jaXJjbGVNYXJrZXIoCiAgICAgICAgICAgICAgICBbLTI3LjQyODc0OTQ0ODA5OTUzNCwtNDguNDU5NDcwNzIyNzk0OTldLAogICAgICAgICAgICAgICAgewogICJidWJibGluZ01vdXNlRXZlbnRzIjogdHJ1ZSwKICAiY29sb3IiOiAiYmx1ZSIsCiAgImRhc2hBcnJheSI6IG51bGwsCiAgImRhc2hPZmZzZXQiOiBudWxsLAogICJmaWxsIjogdHJ1ZSwKICAiZmlsbENvbG9yIjogIiMzMTg2Y2MiLAogICJmaWxsT3BhY2l0eSI6IDAuNywKICAiZmlsbFJ1bGUiOiAiZXZlbm9kZCIsCiAgImxpbmVDYXAiOiAicm91bmQiLAogICJsaW5lSm9pbiI6ICJyb3VuZCIsCiAgIm9wYWNpdHkiOiAxLjAsCiAgInJhZGl1cyI6IDUsCiAgInN0cm9rZSI6IHRydWUsCiAgIndlaWdodCI6IDMKfQogICAgICAgICAgICAgICAgKS5hZGRUbyhtYXBfZjRiNmE2OGFjZmE3NDUzZDg5ZjI4MzY3MWRiZTQ3MTApOwogICAgICAgICAgICAKICAgIAogICAgICAgICAgICB2YXIgcG9wdXBfNTU0ZWNjNmUzZmZmNDBiYmJhZjZkNGUyMDVjMDE5MDggPSBMLnBvcHVwKHttYXhXaWR0aDogJzMwMCd9KTsKCiAgICAgICAgICAgIAogICAgICAgICAgICAgICAgdmFyIGh0bWxfY2E4OTM0NDU3OTlmNGMzODgyNzE3Y2I0NGYwYjAzMmMgPSAkKCc8ZGl2IGlkPSJodG1sX2NhODkzNDQ1Nzk5ZjRjMzg4MjcxN2NiNDRmMGIwMzJjIiBzdHlsZT0id2lkdGg6IDEwMC4wJTsgaGVpZ2h0OiAxMDAuMCU7Ij5DYW1hcsOjbyBkYSBJbGhhPC9kaXY+JylbMF07CiAgICAgICAgICAgICAgICBwb3B1cF81NTRlY2M2ZTNmZmY0MGJiYmFmNmQ0ZTIwNWMwMTkwOC5zZXRDb250ZW50KGh0bWxfY2E4OTM0NDU3OTlmNGMzODgyNzE3Y2I0NGYwYjAzMmMpOwogICAgICAgICAgICAKCiAgICAgICAgICAgIGNpcmNsZV9tYXJrZXJfZmJhMWE4MWQxMjRiNDVmMmE2Y2FhNGEyZjMwMTgyZGEuYmluZFBvcHVwKHBvcHVwXzU1NGVjYzZlM2ZmZjQwYmJiYWY2ZDRlMjA1YzAxOTA4KTsKCiAgICAgICAgICAgIAogICAgICAgIAogICAgCiAgICAgICAgICAgIHZhciBjaXJjbGVfbWFya2VyXzA5OTI5MTdjYjJjODQ3NzI5YmM5MjcxMmMzODM5YjZiID0gTC5jaXJjbGVNYXJrZXIoCiAgICAgICAgICAgICAgICBbLTI3LjQzMDEwMjU2MzUyMTk3NCwtNDguNDYwNTY1MzQyNTkwOTU0XSwKICAgICAgICAgICAgICAgIHsKICAiYnViYmxpbmdNb3VzZUV2ZW50cyI6IHRydWUsCiAgImNvbG9yIjogImJsdWUiLAogICJkYXNoQXJyYXkiOiBudWxsLAogICJkYXNoT2Zmc2V0IjogbnVsbCwKICAiZmlsbCI6IHRydWUsCiAgImZpbGxDb2xvciI6ICIjMzE4NmNjIiwKICAiZmlsbE9wYWNpdHkiOiAwLjcsCiAgImZpbGxSdWxlIjogImV2ZW5vZGQiLAogICJsaW5lQ2FwIjogInJvdW5kIiwKICAibGluZUpvaW4iOiAicm91bmQiLAogICJvcGFjaXR5IjogMS4wLAogICJyYWRpdXMiOiA1LAogICJzdHJva2UiOiB0cnVlLAogICJ3ZWlnaHQiOiAzCn0KICAgICAgICAgICAgICAgICkuYWRkVG8obWFwX2Y0YjZhNjhhY2ZhNzQ1M2Q4OWYyODM2NzFkYmU0NzEwKTsKICAgICAgICAgICAgCiAgICAKICAgICAgICAgICAgdmFyIHBvcHVwXzIwMjdlZWRlN2MxYzQ5ZmM4MjhlZjMyOTM1MjI3Njg1ID0gTC5wb3B1cCh7bWF4V2lkdGg6ICczMDAnfSk7CgogICAgICAgICAgICAKICAgICAgICAgICAgICAgIHZhciBodG1sXzVhOTY2ZmE2MTZiYTQ1YzQ4MGMwODllMDY0Y2Y4ODIzID0gJCgnPGRpdiBpZD0iaHRtbF81YTk2NmZhNjE2YmE0NWM0ODBjMDg5ZTA2NGNmODgyMyIgc3R5bGU9IndpZHRoOiAxMDAuMCU7IGhlaWdodDogMTAwLjAlOyI+UmVzdGF1cmFudGUgVG9jYSBkZSBDYW5hczwvZGl2PicpWzBdOwogICAgICAgICAgICAgICAgcG9wdXBfMjAyN2VlZGU3YzFjNDlmYzgyOGVmMzI5MzUyMjc2ODUuc2V0Q29udGVudChodG1sXzVhOTY2ZmE2MTZiYTQ1YzQ4MGMwODllMDY0Y2Y4ODIzKTsKICAgICAgICAgICAgCgogICAgICAgICAgICBjaXJjbGVfbWFya2VyXzA5OTI5MTdjYjJjODQ3NzI5YmM5MjcxMmMzODM5YjZiLmJpbmRQb3B1cChwb3B1cF8yMDI3ZWVkZTdjMWM0OWZjODI4ZWYzMjkzNTIyNzY4NSk7CgogICAgICAgICAgICAKICAgICAgICAKICAgIAogICAgICAgICAgICB2YXIgY2lyY2xlX21hcmtlcl8zYjI2ZTBjMTMxNjk0M2I4ODAwNDQ0OGRiYzY1MTIxNSA9IEwuY2lyY2xlTWFya2VyKAogICAgICAgICAgICAgICAgWy0yNy40MzIyMjQ4MTYzMTg5MjUsLTQ4LjQ1ODI0NzU1OTgwNjEwNF0sCiAgICAgICAgICAgICAgICB7CiAgImJ1YmJsaW5nTW91c2VFdmVudHMiOiB0cnVlLAogICJjb2xvciI6ICJibHVlIiwKICAiZGFzaEFycmF5IjogbnVsbCwKICAiZGFzaE9mZnNldCI6IG51bGwsCiAgImZpbGwiOiB0cnVlLAogICJmaWxsQ29sb3IiOiAiIzMxODZjYyIsCiAgImZpbGxPcGFjaXR5IjogMC43LAogICJmaWxsUnVsZSI6ICJldmVub2RkIiwKICAibGluZUNhcCI6ICJyb3VuZCIsCiAgImxpbmVKb2luIjogInJvdW5kIiwKICAib3BhY2l0eSI6IDEuMCwKICAicmFkaXVzIjogNSwKICAic3Ryb2tlIjogdHJ1ZSwKICAid2VpZ2h0IjogMwp9CiAgICAgICAgICAgICAgICApLmFkZFRvKG1hcF9mNGI2YTY4YWNmYTc0NTNkODlmMjgzNjcxZGJlNDcxMCk7CiAgICAgICAgICAgIAogICAgCiAgICAgICAgICAgIHZhciBwb3B1cF81YWQ4ZmVhZDhiYjI0NGI4OGJiNzllNTU2OWQwMTFkNSA9IEwucG9wdXAoe21heFdpZHRoOiAnMzAwJ30pOwoKICAgICAgICAgICAgCiAgICAgICAgICAgICAgICB2YXIgaHRtbF8xMjMxOTE5ZTBlYTc0ZTllYjVkMzZiNzcwZWQxMjI5NiA9ICQoJzxkaXYgaWQ9Imh0bWxfMTIzMTkxOWUwZWE3NGU5ZWI1ZDM2Yjc3MGVkMTIyOTYiIHN0eWxlPSJ3aWR0aDogMTAwLjAlOyBoZWlnaHQ6IDEwMC4wJTsiPkxvdMOpcmljYSBHYWR1PC9kaXY+JylbMF07CiAgICAgICAgICAgICAgICBwb3B1cF81YWQ4ZmVhZDhiYjI0NGI4OGJiNzllNTU2OWQwMTFkNS5zZXRDb250ZW50KGh0bWxfMTIzMTkxOWUwZWE3NGU5ZWI1ZDM2Yjc3MGVkMTIyOTYpOwogICAgICAgICAgICAKCiAgICAgICAgICAgIGNpcmNsZV9tYXJrZXJfM2IyNmUwYzEzMTY5NDNiODgwMDQ0NDhkYmM2NTEyMTUuYmluZFBvcHVwKHBvcHVwXzVhZDhmZWFkOGJiMjQ0Yjg4YmI3OWU1NTY5ZDAxMWQ1KTsKCiAgICAgICAgICAgIAogICAgICAgIAogICAgCiAgICAgICAgICAgIHZhciBjaXJjbGVfbWFya2VyX2QwMzNlZjUzZjc1OTQxMGY5OGNkNDc3YzZiN2I5YmM2ID0gTC5jaXJjbGVNYXJrZXIoCiAgICAgICAgICAgICAgICBbLTI3LjQyODA4Mzc0MTM0ODUxMiwtNDguNDU3Mzk4OTEwNDY0OThdLAogICAgICAgICAgICAgICAgewogICJidWJibGluZ01vdXNlRXZlbnRzIjogdHJ1ZSwKICAiY29sb3IiOiAiYmx1ZSIsCiAgImRhc2hBcnJheSI6IG51bGwsCiAgImRhc2hPZmZzZXQiOiBudWxsLAogICJmaWxsIjogdHJ1ZSwKICAiZmlsbENvbG9yIjogIiMzMTg2Y2MiLAogICJmaWxsT3BhY2l0eSI6IDAuNywKICAiZmlsbFJ1bGUiOiAiZXZlbm9kZCIsCiAgImxpbmVDYXAiOiAicm91bmQiLAogICJsaW5lSm9pbiI6ICJyb3VuZCIsCiAgIm9wYWNpdHkiOiAxLjAsCiAgInJhZGl1cyI6IDUsCiAgInN0cm9rZSI6IHRydWUsCiAgIndlaWdodCI6IDMKfQogICAgICAgICAgICAgICAgKS5hZGRUbyhtYXBfZjRiNmE2OGFjZmE3NDUzZDg5ZjI4MzY3MWRiZTQ3MTApOwogICAgICAgICAgICAKICAgIAogICAgICAgICAgICB2YXIgcG9wdXBfZWUzN2IwMWQ1YmExNDYyZDk5NzExMTUzMGIwMzk0YTggPSBMLnBvcHVwKHttYXhXaWR0aDogJzMwMCd9KTsKCiAgICAgICAgICAgIAogICAgICAgICAgICAgICAgdmFyIGh0bWxfNzE5ZWRhZDQ4YWJkNDdhYzgzOWE2ZTY1ODQyNjVlNDQgPSAkKCc8ZGl2IGlkPSJodG1sXzcxOWVkYWQ0OGFiZDQ3YWM4MzlhNmU2NTg0MjY1ZTQ0IiBzdHlsZT0id2lkdGg6IDEwMC4wJTsgaGVpZ2h0OiAxMDAuMCU7Ij5QYXN0ZWwgRG9nPC9kaXY+JylbMF07CiAgICAgICAgICAgICAgICBwb3B1cF9lZTM3YjAxZDViYTE0NjJkOTk3MTExNTMwYjAzOTRhOC5zZXRDb250ZW50KGh0bWxfNzE5ZWRhZDQ4YWJkNDdhYzgzOWE2ZTY1ODQyNjVlNDQpOwogICAgICAgICAgICAKCiAgICAgICAgICAgIGNpcmNsZV9tYXJrZXJfZDAzM2VmNTNmNzU5NDEwZjk4Y2Q0NzdjNmI3YjliYzYuYmluZFBvcHVwKHBvcHVwX2VlMzdiMDFkNWJhMTQ2MmQ5OTcxMTE1MzBiMDM5NGE4KTsKCiAgICAgICAgICAgIAogICAgICAgIAogICAgCiAgICAgICAgICAgIHZhciBjaXJjbGVfbWFya2VyXzllNjBmMzVlODEzZTRkYzk4YmEyODQ4YWQ5ZWI1MWYwID0gTC5jaXJjbGVNYXJrZXIoCiAgICAgICAgICAgICAgICBbLTI3LjQyODcwOTY2ODAzOTY4LC00OC40NTYyMDMwMjM1ODI3NjZdLAogICAgICAgICAgICAgICAgewogICJidWJibGluZ01vdXNlRXZlbnRzIjogdHJ1ZSwKICAiY29sb3IiOiAiYmx1ZSIsCiAgImRhc2hBcnJheSI6IG51bGwsCiAgImRhc2hPZmZzZXQiOiBudWxsLAogICJmaWxsIjogdHJ1ZSwKICAiZmlsbENvbG9yIjogIiMzMTg2Y2MiLAogICJmaWxsT3BhY2l0eSI6IDAuNywKICAiZmlsbFJ1bGUiOiAiZXZlbm9kZCIsCiAgImxpbmVDYXAiOiAicm91bmQiLAogICJsaW5lSm9pbiI6ICJyb3VuZCIsCiAgIm9wYWNpdHkiOiAxLjAsCiAgInJhZGl1cyI6IDUsCiAgInN0cm9rZSI6IHRydWUsCiAgIndlaWdodCI6IDMKfQogICAgICAgICAgICAgICAgKS5hZGRUbyhtYXBfZjRiNmE2OGFjZmE3NDUzZDg5ZjI4MzY3MWRiZTQ3MTApOwogICAgICAgICAgICAKICAgIAogICAgICAgICAgICB2YXIgcG9wdXBfZDg2MTY3ODUwMWVkNGJjMTk0ODc4YWJhZWQyY2RjMTcgPSBMLnBvcHVwKHttYXhXaWR0aDogJzMwMCd9KTsKCiAgICAgICAgICAgIAogICAgICAgICAgICAgICAgdmFyIGh0bWxfNWNjMjI1ZDZmMzk5NDU3NDlmOThlMWQwZjcwMWIyZWMgPSAkKCc8ZGl2IGlkPSJodG1sXzVjYzIyNWQ2ZjM5OTQ1NzQ5Zjk4ZTFkMGY3MDFiMmVjIiBzdHlsZT0id2lkdGg6IDEwMC4wJTsgaGVpZ2h0OiAxMDAuMCU7Ij5QYW5pZmljYWRvcmEgTXVuZG8gZG9zIFBhZXM8L2Rpdj4nKVswXTsKICAgICAgICAgICAgICAgIHBvcHVwX2Q4NjE2Nzg1MDFlZDRiYzE5NDg3OGFiYWVkMmNkYzE3LnNldENvbnRlbnQoaHRtbF81Y2MyMjVkNmYzOTk0NTc0OWY5OGUxZDBmNzAxYjJlYyk7CiAgICAgICAgICAgIAoKICAgICAgICAgICAgY2lyY2xlX21hcmtlcl85ZTYwZjM1ZTgxM2U0ZGM5OGJhMjg0OGFkOWViNTFmMC5iaW5kUG9wdXAocG9wdXBfZDg2MTY3ODUwMWVkNGJjMTk0ODc4YWJhZWQyY2RjMTcpOwoKICAgICAgICAgICAgCiAgICAgICAgCiAgICAKICAgICAgICAgICAgdmFyIGNpcmNsZV9tYXJrZXJfM2FkYTkyNWI3MGE3NGNkODkxMDIzZTJlNWE4NDdkNGYgPSBMLmNpcmNsZU1hcmtlcigKICAgICAgICAgICAgICAgIFstMjcuNDI5ODk4NDQ1OTIxNTI3LC00OC40NTc5NzA0ODM2ODgxNl0sCiAgICAgICAgICAgICAgICB7CiAgImJ1YmJsaW5nTW91c2VFdmVudHMiOiB0cnVlLAogICJjb2xvciI6ICJibHVlIiwKICAiZGFzaEFycmF5IjogbnVsbCwKICAiZGFzaE9mZnNldCI6IG51bGwsCiAgImZpbGwiOiB0cnVlLAogICJmaWxsQ29sb3IiOiAiIzMxODZjYyIsCiAgImZpbGxPcGFjaXR5IjogMC43LAogICJmaWxsUnVsZSI6ICJldmVub2RkIiwKICAibGluZUNhcCI6ICJyb3VuZCIsCiAgImxpbmVKb2luIjogInJvdW5kIiwKICAib3BhY2l0eSI6IDEuMCwKICAicmFkaXVzIjogNSwKICAic3Ryb2tlIjogdHJ1ZSwKICAid2VpZ2h0IjogMwp9CiAgICAgICAgICAgICAgICApLmFkZFRvKG1hcF9mNGI2YTY4YWNmYTc0NTNkODlmMjgzNjcxZGJlNDcxMCk7CiAgICAgICAgICAgIAogICAgCiAgICAgICAgICAgIHZhciBwb3B1cF8xMWNkMmUwNjUyODA0N2Y3YWIwMDkwYmE3OWQ0ZTAwNCA9IEwucG9wdXAoe21heFdpZHRoOiAnMzAwJ30pOwoKICAgICAgICAgICAgCiAgICAgICAgICAgICAgICB2YXIgaHRtbF8wNDljNWYzNDMyMzE0NmI5OGMwNTEwMjliODI0YWU2ZSA9ICQoJzxkaXYgaWQ9Imh0bWxfMDQ5YzVmMzQzMjMxNDZiOThjMDUxMDI5YjgyNGFlNmUiIHN0eWxlPSJ3aWR0aDogMTAwLjAlOyBoZWlnaHQ6IDEwMC4wJTsiPk1hZ2lhIFN1cGVybWVyY2Fkb3M8L2Rpdj4nKVswXTsKICAgICAgICAgICAgICAgIHBvcHVwXzExY2QyZTA2NTI4MDQ3ZjdhYjAwOTBiYTc5ZDRlMDA0LnNldENvbnRlbnQoaHRtbF8wNDljNWYzNDMyMzE0NmI5OGMwNTEwMjliODI0YWU2ZSk7CiAgICAgICAgICAgIAoKICAgICAgICAgICAgY2lyY2xlX21hcmtlcl8zYWRhOTI1YjcwYTc0Y2Q4OTEwMjNlMmU1YTg0N2Q0Zi5iaW5kUG9wdXAocG9wdXBfMTFjZDJlMDY1MjgwNDdmN2FiMDA5MGJhNzlkNGUwMDQpOwoKICAgICAgICAgICAgCiAgICAgICAgCiAgICAKICAgICAgICAgICAgdmFyIGNpcmNsZV9tYXJrZXJfZDQxMDcxYThlZjQxNDJkODgwYjk3MGJlZWQ0YTM4MTYgPSBMLmNpcmNsZU1hcmtlcigKICAgICAgICAgICAgICAgIFstMjcuNDM5Mzg5LC00OC40NjQ5OTVdLAogICAgICAgICAgICAgICAgewogICJidWJibGluZ01vdXNlRXZlbnRzIjogdHJ1ZSwKICAiY29sb3IiOiAiYmx1ZSIsCiAgImRhc2hBcnJheSI6IG51bGwsCiAgImRhc2hPZmZzZXQiOiBudWxsLAogICJmaWxsIjogdHJ1ZSwKICAiZmlsbENvbG9yIjogIiMzMTg2Y2MiLAogICJmaWxsT3BhY2l0eSI6IDAuNywKICAiZmlsbFJ1bGUiOiAiZXZlbm9kZCIsCiAgImxpbmVDYXAiOiAicm91bmQiLAogICJsaW5lSm9pbiI6ICJyb3VuZCIsCiAgIm9wYWNpdHkiOiAxLjAsCiAgInJhZGl1cyI6IDUsCiAgInN0cm9rZSI6IHRydWUsCiAgIndlaWdodCI6IDMKfQogICAgICAgICAgICAgICAgKS5hZGRUbyhtYXBfZjRiNmE2OGFjZmE3NDUzZDg5ZjI4MzY3MWRiZTQ3MTApOwogICAgICAgICAgICAKICAgIAogICAgICAgICAgICB2YXIgcG9wdXBfNTU0YWJjZmNjYmE4NDJkYjg0ZjJjZjQ5MGY4NWQ5MTMgPSBMLnBvcHVwKHttYXhXaWR0aDogJzMwMCd9KTsKCiAgICAgICAgICAgIAogICAgICAgICAgICAgICAgdmFyIGh0bWxfMTgwMmU3M2I1OTE5NGE3NGIxMGFkMGFiNjM4NWY0MmUgPSAkKCc8ZGl2IGlkPSJodG1sXzE4MDJlNzNiNTkxOTRhNzRiMTBhZDBhYjYzODVmNDJlIiBzdHlsZT0id2lkdGg6IDEwMC4wJTsgaGVpZ2h0OiAxMDAuMCU7Ij5CZWx0csOjbyBMYW5jaGVzPC9kaXY+JylbMF07CiAgICAgICAgICAgICAgICBwb3B1cF81NTRhYmNmY2NiYTg0MmRiODRmMmNmNDkwZjg1ZDkxMy5zZXRDb250ZW50KGh0bWxfMTgwMmU3M2I1OTE5NGE3NGIxMGFkMGFiNjM4NWY0MmUpOwogICAgICAgICAgICAKCiAgICAgICAgICAgIGNpcmNsZV9tYXJrZXJfZDQxMDcxYThlZjQxNDJkODgwYjk3MGJlZWQ0YTM4MTYuYmluZFBvcHVwKHBvcHVwXzU1NGFiY2ZjY2JhODQyZGI4NGYyY2Y0OTBmODVkOTEzKTsKCiAgICAgICAgICAgIAogICAgICAgIAogICAgCiAgICAgICAgICAgIHZhciBjaXJjbGVfbWFya2VyXzI1ZGRkNGU4MjQxMDRkZTFhZjNkNDI2ZjJkY2ZmOWJiID0gTC5jaXJjbGVNYXJrZXIoCiAgICAgICAgICAgICAgICBbLTI3LjQyODgwNTkwODIzMzQxLC00OC40NTk0NjgyNjM5NDE1NF0sCiAgICAgICAgICAgICAgICB7CiAgImJ1YmJsaW5nTW91c2VFdmVudHMiOiB0cnVlLAogICJjb2xvciI6ICJibHVlIiwKICAiZGFzaEFycmF5IjogbnVsbCwKICAiZGFzaE9mZnNldCI6IG51bGwsCiAgImZpbGwiOiB0cnVlLAogICJmaWxsQ29sb3IiOiAiIzMxODZjYyIsCiAgImZpbGxPcGFjaXR5IjogMC43LAogICJmaWxsUnVsZSI6ICJldmVub2RkIiwKICAibGluZUNhcCI6ICJyb3VuZCIsCiAgImxpbmVKb2luIjogInJvdW5kIiwKICAib3BhY2l0eSI6IDEuMCwKICAicmFkaXVzIjogNSwKICAic3Ryb2tlIjogdHJ1ZSwKICAid2VpZ2h0IjogMwp9CiAgICAgICAgICAgICAgICApLmFkZFRvKG1hcF9mNGI2YTY4YWNmYTc0NTNkODlmMjgzNjcxZGJlNDcxMCk7CiAgICAgICAgICAgIAogICAgCiAgICAgICAgICAgIHZhciBwb3B1cF83MDAzNGE3MTEyMDA0YWNhOWYwZTZhM2Y5NDNlNjFlMyA9IEwucG9wdXAoe21heFdpZHRoOiAnMzAwJ30pOwoKICAgICAgICAgICAgCiAgICAgICAgICAgICAgICB2YXIgaHRtbF85OTYwNWE3NGZiYjM0NzE4YjE5M2I5Mjg5NWQ2ODM0NCA9ICQoJzxkaXYgaWQ9Imh0bWxfOTk2MDVhNzRmYmIzNDcxOGIxOTNiOTI4OTVkNjgzNDQiIHN0eWxlPSJ3aWR0aDogMTAwLjAlOyBoZWlnaHQ6IDEwMC4wJTsiPkJvYiYjMzk7czwvZGl2PicpWzBdOwogICAgICAgICAgICAgICAgcG9wdXBfNzAwMzRhNzExMjAwNGFjYTlmMGU2YTNmOTQzZTYxZTMuc2V0Q29udGVudChodG1sXzk5NjA1YTc0ZmJiMzQ3MThiMTkzYjkyODk1ZDY4MzQ0KTsKICAgICAgICAgICAgCgogICAgICAgICAgICBjaXJjbGVfbWFya2VyXzI1ZGRkNGU4MjQxMDRkZTFhZjNkNDI2ZjJkY2ZmOWJiLmJpbmRQb3B1cChwb3B1cF83MDAzNGE3MTEyMDA0YWNhOWYwZTZhM2Y5NDNlNjFlMyk7CgogICAgICAgICAgICAKICAgICAgICAKICAgIAogICAgICAgICAgICB2YXIgY2lyY2xlX21hcmtlcl9jMzA4NTM0YTc3Mjk0MzZlYTMwODIxMDljMTI3YWU5YiA9IEwuY2lyY2xlTWFya2VyKAogICAgICAgICAgICAgICAgWy0yNy40MjkxMTI1MzIwNzc5OTgsLTQ4LjQ1OTE5MDE1NjE2MTk2XSwKICAgICAgICAgICAgICAgIHsKICAiYnViYmxpbmdNb3VzZUV2ZW50cyI6IHRydWUsCiAgImNvbG9yIjogImJsdWUiLAogICJkYXNoQXJyYXkiOiBudWxsLAogICJkYXNoT2Zmc2V0IjogbnVsbCwKICAiZmlsbCI6IHRydWUsCiAgImZpbGxDb2xvciI6ICIjMzE4NmNjIiwKICAiZmlsbE9wYWNpdHkiOiAwLjcsCiAgImZpbGxSdWxlIjogImV2ZW5vZGQiLAogICJsaW5lQ2FwIjogInJvdW5kIiwKICAibGluZUpvaW4iOiAicm91bmQiLAogICJvcGFjaXR5IjogMS4wLAogICJyYWRpdXMiOiA1LAogICJzdHJva2UiOiB0cnVlLAogICJ3ZWlnaHQiOiAzCn0KICAgICAgICAgICAgICAgICkuYWRkVG8obWFwX2Y0YjZhNjhhY2ZhNzQ1M2Q4OWYyODM2NzFkYmU0NzEwKTsKICAgICAgICAgICAgCiAgICAKICAgICAgICAgICAgdmFyIHBvcHVwXzQxMDMzY2NlZmM0MDQwN2Q4MjVlNTdiOGM1NzQ0Njk0ID0gTC5wb3B1cCh7bWF4V2lkdGg6ICczMDAnfSk7CgogICAgICAgICAgICAKICAgICAgICAgICAgICAgIHZhciBodG1sXzUyYzIyNmY0MGYzYTRlMmJiYjI4MzllMzEzOTg3MDhmID0gJCgnPGRpdiBpZD0iaHRtbF81MmMyMjZmNDBmM2E0ZTJiYmIyODM5ZTMxMzk4NzA4ZiIgc3R5bGU9IndpZHRoOiAxMDAuMCU7IGhlaWdodDogMTAwLjAlOyI+UmFmYSBCdXJndWVyPC9kaXY+JylbMF07CiAgICAgICAgICAgICAgICBwb3B1cF80MTAzM2NjZWZjNDA0MDdkODI1ZTU3YjhjNTc0NDY5NC5zZXRDb250ZW50KGh0bWxfNTJjMjI2ZjQwZjNhNGUyYmJiMjgzOWUzMTM5ODcwOGYpOwogICAgICAgICAgICAKCiAgICAgICAgICAgIGNpcmNsZV9tYXJrZXJfYzMwODUzNGE3NzI5NDM2ZWEzMDgyMTA5YzEyN2FlOWIuYmluZFBvcHVwKHBvcHVwXzQxMDMzY2NlZmM0MDQwN2Q4MjVlNTdiOGM1NzQ0Njk0KTsKCiAgICAgICAgICAgIAogICAgICAgIAogICAgCiAgICAgICAgICAgIHZhciBjaXJjbGVfbWFya2VyXzE2YjEyMzRkYWNkNzRiOWQ5YzFlMmZiZmRhYTk4MzdlID0gTC5jaXJjbGVNYXJrZXIoCiAgICAgICAgICAgICAgICBbLTI3LjQzMzY3NjA4OTQ1NzY2LC00OC40NjczODY3MTkwODcwOTVdLAogICAgICAgICAgICAgICAgewogICJidWJibGluZ01vdXNlRXZlbnRzIjogdHJ1ZSwKICAiY29sb3IiOiAiYmx1ZSIsCiAgImRhc2hBcnJheSI6IG51bGwsCiAgImRhc2hPZmZzZXQiOiBudWxsLAogICJmaWxsIjogdHJ1ZSwKICAiZmlsbENvbG9yIjogIiMzMTg2Y2MiLAogICJmaWxsT3BhY2l0eSI6IDAuNywKICAiZmlsbFJ1bGUiOiAiZXZlbm9kZCIsCiAgImxpbmVDYXAiOiAicm91bmQiLAogICJsaW5lSm9pbiI6ICJyb3VuZCIsCiAgIm9wYWNpdHkiOiAxLjAsCiAgInJhZGl1cyI6IDUsCiAgInN0cm9rZSI6IHRydWUsCiAgIndlaWdodCI6IDMKfQogICAgICAgICAgICAgICAgKS5hZGRUbyhtYXBfZjRiNmE2OGFjZmE3NDUzZDg5ZjI4MzY3MWRiZTQ3MTApOwogICAgICAgICAgICAKICAgIAogICAgICAgICAgICB2YXIgcG9wdXBfNzUzNjQ4MTA1Mzk5NDZkNmI2Njg4NjdmMjM2MTg4MDYgPSBMLnBvcHVwKHttYXhXaWR0aDogJzMwMCd9KTsKCiAgICAgICAgICAgIAogICAgICAgICAgICAgICAgdmFyIGh0bWxfMDg2NGQ2MGZjMDNiNDUyMGE3MDUxOThjNTU2ZjU1NjEgPSAkKCc8ZGl2IGlkPSJodG1sXzA4NjRkNjBmYzAzYjQ1MjBhNzA1MTk4YzU1NmY1NTYxIiBzdHlsZT0id2lkdGg6IDEwMC4wJTsgaGVpZ2h0OiAxMDAuMCU7Ij5SZXN0YXVyYW50ZSBkbyBWSUtBPC9kaXY+JylbMF07CiAgICAgICAgICAgICAgICBwb3B1cF83NTM2NDgxMDUzOTk0NmQ2YjY2ODg2N2YyMzYxODgwNi5zZXRDb250ZW50KGh0bWxfMDg2NGQ2MGZjMDNiNDUyMGE3MDUxOThjNTU2ZjU1NjEpOwogICAgICAgICAgICAKCiAgICAgICAgICAgIGNpcmNsZV9tYXJrZXJfMTZiMTIzNGRhY2Q3NGI5ZDljMWUyZmJmZGFhOTgzN2UuYmluZFBvcHVwKHBvcHVwXzc1MzY0ODEwNTM5OTQ2ZDZiNjY4ODY3ZjIzNjE4ODA2KTsKCiAgICAgICAgICAgIAogICAgICAgIAogICAgCiAgICAgICAgICAgIHZhciBjaXJjbGVfbWFya2VyX2MwM2VkNDFiNGI5MzQyYmFiZWI2Yjg5ZTJlMzQ3MWQzID0gTC5jaXJjbGVNYXJrZXIoCiAgICAgICAgICAgICAgICBbLTI3LjQxOTIwODcxNDMxMjk0LC00OC40MzExMDc4NDc1NDE2NF0sCiAgICAgICAgICAgICAgICB7CiAgImJ1YmJsaW5nTW91c2VFdmVudHMiOiB0cnVlLAogICJjb2xvciI6ICJibHVlIiwKICAiZGFzaEFycmF5IjogbnVsbCwKICAiZGFzaE9mZnNldCI6IG51bGwsCiAgImZpbGwiOiB0cnVlLAogICJmaWxsQ29sb3IiOiAiIzMxODZjYyIsCiAgImZpbGxPcGFjaXR5IjogMC43LAogICJmaWxsUnVsZSI6ICJldmVub2RkIiwKICAibGluZUNhcCI6ICJyb3VuZCIsCiAgImxpbmVKb2luIjogInJvdW5kIiwKICAib3BhY2l0eSI6IDEuMCwKICAicmFkaXVzIjogNSwKICAic3Ryb2tlIjogdHJ1ZSwKICAid2VpZ2h0IjogMwp9CiAgICAgICAgICAgICAgICApLmFkZFRvKG1hcF9mNGI2YTY4YWNmYTc0NTNkODlmMjgzNjcxZGJlNDcxMCk7CiAgICAgICAgICAgIAogICAgCiAgICAgICAgICAgIHZhciBwb3B1cF9lYzM2ZWQ5NzhkZDk0YjE4OWE3MjhjNDg2OGZjZDFiMCA9IEwucG9wdXAoe21heFdpZHRoOiAnMzAwJ30pOwoKICAgICAgICAgICAgCiAgICAgICAgICAgICAgICB2YXIgaHRtbF9kZDkwODA3OGUwYjU0YjFmOWEzODUwNTgwYmZhMjAyYyA9ICQoJzxkaXYgaWQ9Imh0bWxfZGQ5MDgwNzhlMGI1NGIxZjlhMzg1MDU4MGJmYTIwMmMiIHN0eWxlPSJ3aWR0aDogMTAwLjAlOyBoZWlnaHQ6IDEwMC4wJTsiPklsIENhcmF2YWdnaW88L2Rpdj4nKVswXTsKICAgICAgICAgICAgICAgIHBvcHVwX2VjMzZlZDk3OGRkOTRiMTg5YTcyOGM0ODY4ZmNkMWIwLnNldENvbnRlbnQoaHRtbF9kZDkwODA3OGUwYjU0YjFmOWEzODUwNTgwYmZhMjAyYyk7CiAgICAgICAgICAgIAoKICAgICAgICAgICAgY2lyY2xlX21hcmtlcl9jMDNlZDQxYjRiOTM0MmJhYmViNmI4OWUyZTM0NzFkMy5iaW5kUG9wdXAocG9wdXBfZWMzNmVkOTc4ZGQ5NGIxODlhNzI4YzQ4NjhmY2QxYjApOwoKICAgICAgICAgICAgCiAgICAgICAgCiAgICAKICAgICAgICAgICAgdmFyIGNpcmNsZV9tYXJrZXJfYjFkYWY2NDc3NjFkNDk1Y2IxYjRkM2M1NTYyYjE1NGUgPSBMLmNpcmNsZU1hcmtlcigKICAgICAgICAgICAgICAgIFstMjcuNDIxMzgwMTA2NTEwNzM1LC00OC40MzI5MTQyMzc2OTg5MjRdLAogICAgICAgICAgICAgICAgewogICJidWJibGluZ01vdXNlRXZlbnRzIjogdHJ1ZSwKICAiY29sb3IiOiAiYmx1ZSIsCiAgImRhc2hBcnJheSI6IG51bGwsCiAgImRhc2hPZmZzZXQiOiBudWxsLAogICJmaWxsIjogdHJ1ZSwKICAiZmlsbENvbG9yIjogIiMzMTg2Y2MiLAogICJmaWxsT3BhY2l0eSI6IDAuNywKICAiZmlsbFJ1bGUiOiAiZXZlbm9kZCIsCiAgImxpbmVDYXAiOiAicm91bmQiLAogICJsaW5lSm9pbiI6ICJyb3VuZCIsCiAgIm9wYWNpdHkiOiAxLjAsCiAgInJhZGl1cyI6IDUsCiAgInN0cm9rZSI6IHRydWUsCiAgIndlaWdodCI6IDMKfQogICAgICAgICAgICAgICAgKS5hZGRUbyhtYXBfZjRiNmE2OGFjZmE3NDUzZDg5ZjI4MzY3MWRiZTQ3MTApOwogICAgICAgICAgICAKICAgIAogICAgICAgICAgICB2YXIgcG9wdXBfM2NiMmE4ZmE1M2NiNDQ0Y2FjMjY3NDJkYjlmMmQyMTcgPSBMLnBvcHVwKHttYXhXaWR0aDogJzMwMCd9KTsKCiAgICAgICAgICAgIAogICAgICAgICAgICAgICAgdmFyIGh0bWxfZDdhNDQwYWM2NWY3NGE3MThhMzkzZTE2YTEwMmNmMTUgPSAkKCc8ZGl2IGlkPSJodG1sX2Q3YTQ0MGFjNjVmNzRhNzE4YTM5M2UxNmExMDJjZjE1IiBzdHlsZT0id2lkdGg6IDEwMC4wJTsgaGVpZ2h0OiAxMDAuMCU7Ij5TdXBlcm1lcmNhZG8gRm9ydGU8L2Rpdj4nKVswXTsKICAgICAgICAgICAgICAgIHBvcHVwXzNjYjJhOGZhNTNjYjQ0NGNhYzI2NzQyZGI5ZjJkMjE3LnNldENvbnRlbnQoaHRtbF9kN2E0NDBhYzY1Zjc0YTcxOGEzOTNlMTZhMTAyY2YxNSk7CiAgICAgICAgICAgIAoKICAgICAgICAgICAgY2lyY2xlX21hcmtlcl9iMWRhZjY0Nzc2MWQ0OTVjYjFiNGQzYzU1NjJiMTU0ZS5iaW5kUG9wdXAocG9wdXBfM2NiMmE4ZmE1M2NiNDQ0Y2FjMjY3NDJkYjlmMmQyMTcpOwoKICAgICAgICAgICAgCiAgICAgICAgCiAgICAKICAgICAgICAgICAgdmFyIGNpcmNsZV9tYXJrZXJfNjQxZDBiZGM1OTYwNDU5NjlmZjAxODU1OTRiODg5NjEgPSBMLmNpcmNsZU1hcmtlcigKICAgICAgICAgICAgICAgIFstMjcuNDE4NDgxMjIyMDM1NzMsLTQ4LjQzMDczMjIwNzQ2NTFdLAogICAgICAgICAgICAgICAgewogICJidWJibGluZ01vdXNlRXZlbnRzIjogdHJ1ZSwKICAiY29sb3IiOiAiYmx1ZSIsCiAgImRhc2hBcnJheSI6IG51bGwsCiAgImRhc2hPZmZzZXQiOiBudWxsLAogICJmaWxsIjogdHJ1ZSwKICAiZmlsbENvbG9yIjogIiMzMTg2Y2MiLAogICJmaWxsT3BhY2l0eSI6IDAuNywKICAiZmlsbFJ1bGUiOiAiZXZlbm9kZCIsCiAgImxpbmVDYXAiOiAicm91bmQiLAogICJsaW5lSm9pbiI6ICJyb3VuZCIsCiAgIm9wYWNpdHkiOiAxLjAsCiAgInJhZGl1cyI6IDUsCiAgInN0cm9rZSI6IHRydWUsCiAgIndlaWdodCI6IDMKfQogICAgICAgICAgICAgICAgKS5hZGRUbyhtYXBfZjRiNmE2OGFjZmE3NDUzZDg5ZjI4MzY3MWRiZTQ3MTApOwogICAgICAgICAgICAKICAgIAogICAgICAgICAgICB2YXIgcG9wdXBfZWNjMzM1Mjg1MWQxNDE1OGJmODEyZTkyMzIwNTJkY2EgPSBMLnBvcHVwKHttYXhXaWR0aDogJzMwMCd9KTsKCiAgICAgICAgICAgIAogICAgICAgICAgICAgICAgdmFyIGh0bWxfN2FhYzYwMGIyZTAxNGYzN2JkYjVlZTU5NTVmZGY5YTEgPSAkKCc8ZGl2IGlkPSJodG1sXzdhYWM2MDBiMmUwMTRmMzdiZGI1ZWU1OTU1ZmRmOWExIiBzdHlsZT0id2lkdGg6IDEwMC4wJTsgaGVpZ2h0OiAxMDAuMCU7Ij5QYXJjZWwgRGl2ZSBDZW50ZXI8L2Rpdj4nKVswXTsKICAgICAgICAgICAgICAgIHBvcHVwX2VjYzMzNTI4NTFkMTQxNThiZjgxMmU5MjMyMDUyZGNhLnNldENvbnRlbnQoaHRtbF83YWFjNjAwYjJlMDE0ZjM3YmRiNWVlNTk1NWZkZjlhMSk7CiAgICAgICAgICAgIAoKICAgICAgICAgICAgY2lyY2xlX21hcmtlcl82NDFkMGJkYzU5NjA0NTk2OWZmMDE4NTU5NGI4ODk2MS5iaW5kUG9wdXAocG9wdXBfZWNjMzM1Mjg1MWQxNDE1OGJmODEyZTkyMzIwNTJkY2EpOwoKICAgICAgICAgICAgCiAgICAgICAgCiAgICAKICAgICAgICAgICAgdmFyIGNpcmNsZV9tYXJrZXJfNzg2NzdjOTNlZjk3NDFkNGE4NWQ1OGE4MTEwZGJlZjEgPSBMLmNpcmNsZU1hcmtlcigKICAgICAgICAgICAgICAgIFstMjcuNDI1MjYxNDI2ODU3NzY2LC00OC40Mzg2Mzg4MDAxNTU3ODZdLAogICAgICAgICAgICAgICAgewogICJidWJibGluZ01vdXNlRXZlbnRzIjogdHJ1ZSwKICAiY29sb3IiOiAiYmx1ZSIsCiAgImRhc2hBcnJheSI6IG51bGwsCiAgImRhc2hPZmZzZXQiOiBudWxsLAogICJmaWxsIjogdHJ1ZSwKICAiZmlsbENvbG9yIjogIiMzMTg2Y2MiLAogICJmaWxsT3BhY2l0eSI6IDAuNywKICAiZmlsbFJ1bGUiOiAiZXZlbm9kZCIsCiAgImxpbmVDYXAiOiAicm91bmQiLAogICJsaW5lSm9pbiI6ICJyb3VuZCIsCiAgIm9wYWNpdHkiOiAxLjAsCiAgInJhZGl1cyI6IDUsCiAgInN0cm9rZSI6IHRydWUsCiAgIndlaWdodCI6IDMKfQogICAgICAgICAgICAgICAgKS5hZGRUbyhtYXBfZjRiNmE2OGFjZmE3NDUzZDg5ZjI4MzY3MWRiZTQ3MTApOwogICAgICAgICAgICAKICAgIAogICAgICAgICAgICB2YXIgcG9wdXBfMzYxN2ZlMmVlNDE3NDdiMmJiMmQzNjI0MTViNjJiMWUgPSBMLnBvcHVwKHttYXhXaWR0aDogJzMwMCd9KTsKCiAgICAgICAgICAgIAogICAgICAgICAgICAgICAgdmFyIGh0bWxfM2EyYWI1OTJiN2EyNDFhYTk2ODE1MTE4NDgxZDE0NjUgPSAkKCc8ZGl2IGlkPSJodG1sXzNhMmFiNTkyYjdhMjQxYWE5NjgxNTExODQ4MWQxNDY1IiBzdHlsZT0id2lkdGg6IDEwMC4wJTsgaGVpZ2h0OiAxMDAuMCU7Ij5HYXR0byBCaWFuY288L2Rpdj4nKVswXTsKICAgICAgICAgICAgICAgIHBvcHVwXzM2MTdmZTJlZTQxNzQ3YjJiYjJkMzYyNDE1YjYyYjFlLnNldENvbnRlbnQoaHRtbF8zYTJhYjU5MmI3YTI0MWFhOTY4MTUxMTg0ODFkMTQ2NSk7CiAgICAgICAgICAgIAoKICAgICAgICAgICAgY2lyY2xlX21hcmtlcl83ODY3N2M5M2VmOTc0MWQ0YTg1ZDU4YTgxMTBkYmVmMS5iaW5kUG9wdXAocG9wdXBfMzYxN2ZlMmVlNDE3NDdiMmJiMmQzNjI0MTViNjJiMWUpOwoKICAgICAgICAgICAgCiAgICAgICAgCiAgICAKICAgICAgICAgICAgdmFyIGNpcmNsZV9tYXJrZXJfZmZlNmY4ZGQwYzlhNGRjMWI5OWYyZmVkYzBmNTFiODAgPSBMLmNpcmNsZU1hcmtlcigKICAgICAgICAgICAgICAgIFstMjcuNDI0OTkwMzQ5NjM4ODU4LC00OC40NDAxNTAxNzU3ODg3NF0sCiAgICAgICAgICAgICAgICB7CiAgImJ1YmJsaW5nTW91c2VFdmVudHMiOiB0cnVlLAogICJjb2xvciI6ICJibHVlIiwKICAiZGFzaEFycmF5IjogbnVsbCwKICAiZGFzaE9mZnNldCI6IG51bGwsCiAgImZpbGwiOiB0cnVlLAogICJmaWxsQ29sb3IiOiAiIzMxODZjYyIsCiAgImZpbGxPcGFjaXR5IjogMC43LAogICJmaWxsUnVsZSI6ICJldmVub2RkIiwKICAibGluZUNhcCI6ICJyb3VuZCIsCiAgImxpbmVKb2luIjogInJvdW5kIiwKICAib3BhY2l0eSI6IDEuMCwKICAicmFkaXVzIjogNSwKICAic3Ryb2tlIjogdHJ1ZSwKICAid2VpZ2h0IjogMwp9CiAgICAgICAgICAgICAgICApLmFkZFRvKG1hcF9mNGI2YTY4YWNmYTc0NTNkODlmMjgzNjcxZGJlNDcxMCk7CiAgICAgICAgICAgIAogICAgCiAgICAgICAgICAgIHZhciBwb3B1cF83NzhiM2U0MzMwYWQ0NWFhYmZmNGYyNTRmNDc4MmU3ZCA9IEwucG9wdXAoe21heFdpZHRoOiAnMzAwJ30pOwoKICAgICAgICAgICAgCiAgICAgICAgICAgICAgICB2YXIgaHRtbF9mMzYwZjE5NTE1YzU0ZmQ4OTZkZWVhODZiNzQ1Mzk2OCA9ICQoJzxkaXYgaWQ9Imh0bWxfZjM2MGYxOTUxNWM1NGZkODk2ZGVlYTg2Yjc0NTM5NjgiIHN0eWxlPSJ3aWR0aDogMTAwLjAlOyBoZWlnaHQ6IDEwMC4wJTsiPkRhbmRlIEFncm9wZWN1w6FyaWE8L2Rpdj4nKVswXTsKICAgICAgICAgICAgICAgIHBvcHVwXzc3OGIzZTQzMzBhZDQ1YWFiZmY0ZjI1NGY0NzgyZTdkLnNldENvbnRlbnQoaHRtbF9mMzYwZjE5NTE1YzU0ZmQ4OTZkZWVhODZiNzQ1Mzk2OCk7CiAgICAgICAgICAgIAoKICAgICAgICAgICAgY2lyY2xlX21hcmtlcl9mZmU2ZjhkZDBjOWE0ZGMxYjk5ZjJmZWRjMGY1MWI4MC5iaW5kUG9wdXAocG9wdXBfNzc4YjNlNDMzMGFkNDVhYWJmZjRmMjU0ZjQ3ODJlN2QpOwoKICAgICAgICAgICAgCiAgICAgICAgCiAgICAKICAgICAgICAgICAgdmFyIGNpcmNsZV9tYXJrZXJfNjkwYzk3YzM5MmU2NDRlMGIwNDI4MWRmY2NlNTU0NDAgPSBMLmNpcmNsZU1hcmtlcigKICAgICAgICAgICAgICAgIFstMjcuNDE4MDMzOTA0OTM4MDE3LC00OC40Mjg0NDU5Njg3NjIzNzVdLAogICAgICAgICAgICAgICAgewogICJidWJibGluZ01vdXNlRXZlbnRzIjogdHJ1ZSwKICAiY29sb3IiOiAiYmx1ZSIsCiAgImRhc2hBcnJheSI6IG51bGwsCiAgImRhc2hPZmZzZXQiOiBudWxsLAogICJmaWxsIjogdHJ1ZSwKICAiZmlsbENvbG9yIjogIiMzMTg2Y2MiLAogICJmaWxsT3BhY2l0eSI6IDAuNywKICAiZmlsbFJ1bGUiOiAiZXZlbm9kZCIsCiAgImxpbmVDYXAiOiAicm91bmQiLAogICJsaW5lSm9pbiI6ICJyb3VuZCIsCiAgIm9wYWNpdHkiOiAxLjAsCiAgInJhZGl1cyI6IDUsCiAgInN0cm9rZSI6IHRydWUsCiAgIndlaWdodCI6IDMKfQogICAgICAgICAgICAgICAgKS5hZGRUbyhtYXBfZjRiNmE2OGFjZmE3NDUzZDg5ZjI4MzY3MWRiZTQ3MTApOwogICAgICAgICAgICAKICAgIAogICAgICAgICAgICB2YXIgcG9wdXBfZDgyOWI0MTRhNGYxNGZhNzg3YWYwYTEyZTIzNjhkNDggPSBMLnBvcHVwKHttYXhXaWR0aDogJzMwMCd9KTsKCiAgICAgICAgICAgIAogICAgICAgICAgICAgICAgdmFyIGh0bWxfNWQyYWI3MDc3YTljNDI0NmExNzA2ZDc0YzNlNTY5NTYgPSAkKCc8ZGl2IGlkPSJodG1sXzVkMmFiNzA3N2E5YzQyNDZhMTcwNmQ3NGMzZTU2OTU2IiBzdHlsZT0id2lkdGg6IDEwMC4wJTsgaGVpZ2h0OiAxMDAuMCU7Ij5Tb3VsbWFraSBlIEJCUSBUcnVja3M8L2Rpdj4nKVswXTsKICAgICAgICAgICAgICAgIHBvcHVwX2Q4MjliNDE0YTRmMTRmYTc4N2FmMGExMmUyMzY4ZDQ4LnNldENvbnRlbnQoaHRtbF81ZDJhYjcwNzdhOWM0MjQ2YTE3MDZkNzRjM2U1Njk1Nik7CiAgICAgICAgICAgIAoKICAgICAgICAgICAgY2lyY2xlX21hcmtlcl82OTBjOTdjMzkyZTY0NGUwYjA0MjgxZGZjY2U1NTQ0MC5iaW5kUG9wdXAocG9wdXBfZDgyOWI0MTRhNGYxNGZhNzg3YWYwYTEyZTIzNjhkNDgpOwoKICAgICAgICAgICAgCiAgICAgICAgCiAgICAKICAgICAgICAgICAgdmFyIGNpcmNsZV9tYXJrZXJfOTY1Y2ZkYjgzNjY0NDU0ZGIzNTkyY2MzNjQ1NDJjZjMgPSBMLmNpcmNsZU1hcmtlcigKICAgICAgICAgICAgICAgIFstMjcuNDE4OTQ0NDQyMjk0ODg3LC00OC40Mjc0NzA3MzA1ODIxNF0sCiAgICAgICAgICAgICAgICB7CiAgImJ1YmJsaW5nTW91c2VFdmVudHMiOiB0cnVlLAogICJjb2xvciI6ICJibHVlIiwKICAiZGFzaEFycmF5IjogbnVsbCwKICAiZGFzaE9mZnNldCI6IG51bGwsCiAgImZpbGwiOiB0cnVlLAogICJmaWxsQ29sb3IiOiAiIzMxODZjYyIsCiAgImZpbGxPcGFjaXR5IjogMC43LAogICJmaWxsUnVsZSI6ICJldmVub2RkIiwKICAibGluZUNhcCI6ICJyb3VuZCIsCiAgImxpbmVKb2luIjogInJvdW5kIiwKICAib3BhY2l0eSI6IDEuMCwKICAicmFkaXVzIjogNSwKICAic3Ryb2tlIjogdHJ1ZSwKICAid2VpZ2h0IjogMwp9CiAgICAgICAgICAgICAgICApLmFkZFRvKG1hcF9mNGI2YTY4YWNmYTc0NTNkODlmMjgzNjcxZGJlNDcxMCk7CiAgICAgICAgICAgIAogICAgCiAgICAgICAgICAgIHZhciBwb3B1cF84OWYyYWVlMTk1OGE0ZjExYjU5MzU5OTk3MDk3MGFjYyA9IEwucG9wdXAoe21heFdpZHRoOiAnMzAwJ30pOwoKICAgICAgICAgICAgCiAgICAgICAgICAgICAgICB2YXIgaHRtbF82MWMzNzU4MGQxYTk0ZDAzOGFhNWFlODk4ODg5NzE3OCA9ICQoJzxkaXYgaWQ9Imh0bWxfNjFjMzc1ODBkMWE5NGQwMzhhYTVhZTg5ODg4OTcxNzgiIHN0eWxlPSJ3aWR0aDogMTAwLjAlOyBoZWlnaHQ6IDEwMC4wJTsiPk1lcmNhZG8gZG8gU3VsPC9kaXY+JylbMF07CiAgICAgICAgICAgICAgICBwb3B1cF84OWYyYWVlMTk1OGE0ZjExYjU5MzU5OTk3MDk3MGFjYy5zZXRDb250ZW50KGh0bWxfNjFjMzc1ODBkMWE5NGQwMzhhYTVhZTg5ODg4OTcxNzgpOwogICAgICAgICAgICAKCiAgICAgICAgICAgIGNpcmNsZV9tYXJrZXJfOTY1Y2ZkYjgzNjY0NDU0ZGIzNTkyY2MzNjQ1NDJjZjMuYmluZFBvcHVwKHBvcHVwXzg5ZjJhZWUxOTU4YTRmMTFiNTkzNTk5OTcwOTcwYWNjKTsKCiAgICAgICAgICAgIAogICAgICAgIAogICAgCiAgICAgICAgICAgIHZhciBjaXJjbGVfbWFya2VyXzg2NmM4YjM2MzMxMDRkZGJiOGZhM2FlZDEwYjVmNmM2ID0gTC5jaXJjbGVNYXJrZXIoCiAgICAgICAgICAgICAgICBbLTI3LjQxNzg3OTIzMDU4NTQ1LC00OC40MjY5NTM4NjEzNTg3MV0sCiAgICAgICAgICAgICAgICB7CiAgImJ1YmJsaW5nTW91c2VFdmVudHMiOiB0cnVlLAogICJjb2xvciI6ICJibHVlIiwKICAiZGFzaEFycmF5IjogbnVsbCwKICAiZGFzaE9mZnNldCI6IG51bGwsCiAgImZpbGwiOiB0cnVlLAogICJmaWxsQ29sb3IiOiAiIzMxODZjYyIsCiAgImZpbGxPcGFjaXR5IjogMC43LAogICJmaWxsUnVsZSI6ICJldmVub2RkIiwKICAibGluZUNhcCI6ICJyb3VuZCIsCiAgImxpbmVKb2luIjogInJvdW5kIiwKICAib3BhY2l0eSI6IDEuMCwKICAicmFkaXVzIjogNSwKICAic3Ryb2tlIjogdHJ1ZSwKICAid2VpZ2h0IjogMwp9CiAgICAgICAgICAgICAgICApLmFkZFRvKG1hcF9mNGI2YTY4YWNmYTc0NTNkODlmMjgzNjcxZGJlNDcxMCk7CiAgICAgICAgICAgIAogICAgCiAgICAgICAgICAgIHZhciBwb3B1cF8wYzQzYzMxYTlhMzc0ZWQ0OTE0YzM4ZjAxNGViZWY3ZSA9IEwucG9wdXAoe21heFdpZHRoOiAnMzAwJ30pOwoKICAgICAgICAgICAgCiAgICAgICAgICAgICAgICB2YXIgaHRtbF81MWU3MzZiMWYwMzE0M2ZjODVkYzE3MjRmMzNiZTdkZSA9ICQoJzxkaXYgaWQ9Imh0bWxfNTFlNzM2YjFmMDMxNDNmYzg1ZGMxNzI0ZjMzYmU3ZGUiIHN0eWxlPSJ3aWR0aDogMTAwLjAlOyBoZWlnaHQ6IDEwMC4wJTsiPkZyYW5jaGlzIE1laWEgTHVhczwvZGl2PicpWzBdOwogICAgICAgICAgICAgICAgcG9wdXBfMGM0M2MzMWE5YTM3NGVkNDkxNGMzOGYwMTRlYmVmN2Uuc2V0Q29udGVudChodG1sXzUxZTczNmIxZjAzMTQzZmM4NWRjMTcyNGYzM2JlN2RlKTsKICAgICAgICAgICAgCgogICAgICAgICAgICBjaXJjbGVfbWFya2VyXzg2NmM4YjM2MzMxMDRkZGJiOGZhM2FlZDEwYjVmNmM2LmJpbmRQb3B1cChwb3B1cF8wYzQzYzMxYTlhMzc0ZWQ0OTE0YzM4ZjAxNGViZWY3ZSk7CgogICAgICAgICAgICAKICAgICAgICAKICAgIAogICAgICAgICAgICB2YXIgY2lyY2xlX21hcmtlcl9kYmU1Mjk1NGIxNDc0YTI5YmI5MGIxNDQ0OGQ1MmY5MCA9IEwuY2lyY2xlTWFya2VyKAogICAgICAgICAgICAgICAgWy0yNy40MTQ4NDgzNTIzODE4OTUsLTQ4LjQyNTM2NTQxOTMyNDkxXSwKICAgICAgICAgICAgICAgIHsKICAiYnViYmxpbmdNb3VzZUV2ZW50cyI6IHRydWUsCiAgImNvbG9yIjogImJsdWUiLAogICJkYXNoQXJyYXkiOiBudWxsLAogICJkYXNoT2Zmc2V0IjogbnVsbCwKICAiZmlsbCI6IHRydWUsCiAgImZpbGxDb2xvciI6ICIjMzE4NmNjIiwKICAiZmlsbE9wYWNpdHkiOiAwLjcsCiAgImZpbGxSdWxlIjogImV2ZW5vZGQiLAogICJsaW5lQ2FwIjogInJvdW5kIiwKICAibGluZUpvaW4iOiAicm91bmQiLAogICJvcGFjaXR5IjogMS4wLAogICJyYWRpdXMiOiA1LAogICJzdHJva2UiOiB0cnVlLAogICJ3ZWlnaHQiOiAzCn0KICAgICAgICAgICAgICAgICkuYWRkVG8obWFwX2Y0YjZhNjhhY2ZhNzQ1M2Q4OWYyODM2NzFkYmU0NzEwKTsKICAgICAgICAgICAgCiAgICAKICAgICAgICAgICAgdmFyIHBvcHVwX2M5YWYyMzU2OTMwMzQxMDVhOWM5YzYyODYyNDZlOWIwID0gTC5wb3B1cCh7bWF4V2lkdGg6ICczMDAnfSk7CgogICAgICAgICAgICAKICAgICAgICAgICAgICAgIHZhciBodG1sXzk2MDk1MDE1N2E0NTRhOWU4YTJkZDc4NzRiODZlYzIxID0gJCgnPGRpdiBpZD0iaHRtbF85NjA5NTAxNTdhNDU0YTllOGEyZGQ3ODc0Yjg2ZWMyMSIgc3R5bGU9IndpZHRoOiAxMDAuMCU7IGhlaWdodDogMTAwLjAlOyI+QWNhZGVtaWEgQmlvIEZvcm1hPC9kaXY+JylbMF07CiAgICAgICAgICAgICAgICBwb3B1cF9jOWFmMjM1NjkzMDM0MTA1YTljOWM2Mjg2MjQ2ZTliMC5zZXRDb250ZW50KGh0bWxfOTYwOTUwMTU3YTQ1NGE5ZThhMmRkNzg3NGI4NmVjMjEpOwogICAgICAgICAgICAKCiAgICAgICAgICAgIGNpcmNsZV9tYXJrZXJfZGJlNTI5NTRiMTQ3NGEyOWJiOTBiMTQ0NDhkNTJmOTAuYmluZFBvcHVwKHBvcHVwX2M5YWYyMzU2OTMwMzQxMDVhOWM5YzYyODYyNDZlOWIwKTsKCiAgICAgICAgICAgIAogICAgICAgIAo8L3NjcmlwdD4= onload=\"this.contentDocument.open();this.contentDocument.write(atob(this.getAttribute('data-html')));this.contentDocument.close();\" allowfullscreen webkitallowfullscreen mozallowfullscreen></iframe></div></div>"
      ],
      "text/plain": [
       "<folium.folium.Map at 0x7f6fc3d72160>"
      ]
     },
     "execution_count": 27,
     "metadata": {},
     "output_type": "execute_result"
    }
   ],
   "source": [
    "flpvenues_map = folium.Map(location=[latitude, longitude], zoom_start=13)\n",
    "\n",
    "\n",
    "for lat, lng, name, categories in zip(nearby_venues['lat'], nearby_venues['lng'],  nearby_venues['name'], nearby_venues['categories']):\n",
    "    label = '{}'.format(name)\n",
    "    label = folium.Popup(label, parse_html=True)\n",
    "    folium.CircleMarker(\n",
    "        [lat, lng],\n",
    "        radius=5,\n",
    "        popup=label,\n",
    "        color='blue',\n",
    "        fill=True,\n",
    "        fill_color='#3186cc',\n",
    "        fill_opacity=0.7,\n",
    "        parse_html=False).add_to(flpn_map)  \n",
    "    \n",
    "flpn_map"
   ]
  },
  {
   "cell_type": "markdown",
   "metadata": {},
   "source": [
    "Now we can see better how the values are distributed. Since some of those places got an elevated number of houses and apartment buildings, it is normal to don't have space for better distribution. But it is important to understand what categories are enough in a place and scarce in others. \n",
    "It's necessary to make another distribution of the categories of venues to understand this data better. "
   ]
  },
  {
   "cell_type": "code",
   "execution_count": 28,
   "metadata": {},
   "outputs": [
    {
     "data": {
      "text/plain": [
       "array(['Food Truck', 'Pharmacy', 'Beach Bar', 'Supermarket',\n",
       "       'Gym / Fitness Center', 'Japanese Restaurant',\n",
       "       'Seafood Restaurant', 'Gym', 'Burger Joint', 'Ice Cream Shop',\n",
       "       'Creperie', 'Bakery', 'Grocery Store', 'Water Park', 'Dive Bar',\n",
       "       'Beer Garden', 'Snack Place', 'Steakhouse', 'Restaurant',\n",
       "       'Sandwich Place', 'Pizza Place', 'Pet Store',\n",
       "       'Brazilian Restaurant', 'Fish & Chips Shop', 'Coffee Shop',\n",
       "       'Athletics & Sports', 'Liquor Store', 'General Entertainment',\n",
       "       'Café', 'Lounge', 'Clothing Store', 'Sushi Restaurant',\n",
       "       'Frozen Yogurt Shop', 'Playground', 'Farmers Market',\n",
       "       'Comfort Food Restaurant', 'Southern Brazilian Restaurant',\n",
       "       'Shoe Store', 'Nightclub', 'Food Court', 'Smoke Shop',\n",
       "       'Italian Restaurant', 'Mexican Restaurant', 'Brewery',\n",
       "       'Fried Chicken Joint', 'Cheese Shop', 'Lottery Retailer',\n",
       "       'Fast Food Restaurant', 'Buffet', 'Pool', 'Market'], dtype=object)"
      ]
     },
     "execution_count": 28,
     "metadata": {},
     "output_type": "execute_result"
    }
   ],
   "source": [
    "nearby_venues['categories'].unique()"
   ]
  },
  {
   "cell_type": "markdown",
   "metadata": {},
   "source": [
    "Looking again to those different kinds of venues, seems reasonable to make this new class: Bar/Restaurant, Pharmacy, Entertainment, Fitness, Bakery, Nightlife, Store, Cafe/Snacks, Market, Pet, Laundry, Lottery.\n",
    "<br>\n",
    "<br>\n",
    "It's important to say that Lottery places in Brazil are multiple: you can also pay bills and even got money (like an ATM).\n",
    "<br>\n",
    "<br>\n",
    "Using myself as \"domain expert\", I could sort all this categories in classes."
   ]
  },
  {
   "cell_type": "code",
   "execution_count": 29,
   "metadata": {},
   "outputs": [],
   "source": [
    "Bar_Restaurant = ['Southern Brazilian Restaurant', 'Beach Bar', 'Seafood Restaurant', 'Japanese Restaurant', 'Burger Joint', \n",
    "                  'Dive Bar', 'Beer Garden', 'Steakhouse', 'Restaurant', 'Pizza Place', 'Bistro', 'Brazilian Restaurant', \n",
    "                  'Sushi Restaurant','Food Truck', 'Pastelaria', 'Food Court', 'Italian Restaurant', 'Mexican Restaurant',\n",
    "                  'Brewery', 'Argentinian Restaurant', 'Fast Food Restaurant', 'Buffet', 'BBQ Joint', 'Fish & Chips Shop', 'Liquor Store',\n",
    "                  'Comfort Food Restaurant', 'Fried Chicken Joint'\n",
    "                 ]\n",
    "Pharmacy = ['Pharmacy']\n",
    "Entertainment = ['General Entertainment', 'Water Park','Pool', 'Video Store', 'Playground']\n",
    "Fitness = ['Gym / Fitness Center', 'Gym', 'Athletics & Sports']\n",
    "Bakery = ['Bakery']\n",
    "Nightlife = ['Nightclub', 'Lounge']\n",
    "Store = [\"Clothing Store\", \"Men's Store\", \"Shoe Store\", \"Smoke Shop\", \"Convenience Store\"]\n",
    "Cafe_Snacks = ['Ice Cream Shop', 'Creperie', 'Snack Place', 'Sandwich Place', 'Café', 'Frozen Yogurt Shop'\n",
    "              'Juice Bar', 'Coffee Shop']\n",
    "Market = ['Grocery Store', 'Supermarket', 'Market', 'Farmers Market','Cheese Shop']\n",
    "Pet = ['Pet Store']\n",
    "Lottery = ['Lottery Retailer']"
   ]
  },
  {
   "cell_type": "code",
   "execution_count": 30,
   "metadata": {},
   "outputs": [],
   "source": [
    "def classify(row):\n",
    "        \n",
    "    if row['categories'] in Bar_Restaurant :\n",
    "                     return 'Bar/Restaurant'\n",
    "    if row['categories'] in Pharmacy :\n",
    "                     return 'Pharmacy'\n",
    "    if row['categories'] in Entertainment:\n",
    "                     return 'Entertainment'\n",
    "    if row['categories'] in Fitness:\n",
    "                     return 'Fitness'\n",
    "    if row['categories'] in Bakery:\n",
    "                     return 'Bakery'\n",
    "    if row['categories'] in Nightlife:\n",
    "                     return 'Nightlife'\n",
    "    if row['categories'] in Store:\n",
    "                     return 'Store'\n",
    "    if row['categories'] in Cafe_Snacks:\n",
    "                     return 'Café/Snacks'\n",
    "    if row['categories'] in Market:\n",
    "                     return 'Market'\n",
    "    if row['categories'] in Pet:\n",
    "                     return 'Pet'\n",
    "    if row['categories'] in Lottery:\n",
    "                     return 'Lottery'\n",
    "    else: \n",
    "                     return 'Other'"
   ]
  },
  {
   "cell_type": "code",
   "execution_count": 31,
   "metadata": {},
   "outputs": [
    {
     "data": {
      "text/html": [
       "<div>\n",
       "<style scoped>\n",
       "    .dataframe tbody tr th:only-of-type {\n",
       "        vertical-align: middle;\n",
       "    }\n",
       "\n",
       "    .dataframe tbody tr th {\n",
       "        vertical-align: top;\n",
       "    }\n",
       "\n",
       "    .dataframe thead th {\n",
       "        text-align: right;\n",
       "    }\n",
       "</style>\n",
       "<table border=\"1\" class=\"dataframe\">\n",
       "  <thead>\n",
       "    <tr style=\"text-align: right;\">\n",
       "      <th></th>\n",
       "      <th>Neighborhood</th>\n",
       "      <th>name</th>\n",
       "      <th>categories</th>\n",
       "      <th>lat</th>\n",
       "      <th>lng</th>\n",
       "      <th>venue class</th>\n",
       "    </tr>\n",
       "  </thead>\n",
       "  <tbody>\n",
       "    <tr>\n",
       "      <th>6</th>\n",
       "      <td>Jurerê Leste</td>\n",
       "      <td>Vila Gastronômica Jurerê Food Park</td>\n",
       "      <td>Food Truck</td>\n",
       "      <td>-27.441925</td>\n",
       "      <td>-48.486719</td>\n",
       "      <td>Bar/Restaurant</td>\n",
       "    </tr>\n",
       "    <tr>\n",
       "      <th>17</th>\n",
       "      <td>Jurerê Leste</td>\n",
       "      <td>PanVel Farmácias</td>\n",
       "      <td>Pharmacy</td>\n",
       "      <td>-27.441183</td>\n",
       "      <td>-48.486775</td>\n",
       "      <td>Pharmacy</td>\n",
       "    </tr>\n",
       "    <tr>\n",
       "      <th>19</th>\n",
       "      <td>Jurerê Leste</td>\n",
       "      <td>Acqua Plage</td>\n",
       "      <td>Beach Bar</td>\n",
       "      <td>-27.437981</td>\n",
       "      <td>-48.493860</td>\n",
       "      <td>Bar/Restaurant</td>\n",
       "    </tr>\n",
       "    <tr>\n",
       "      <th>26</th>\n",
       "      <td>Jurerê Leste</td>\n",
       "      <td>Supermercados Imperatriz</td>\n",
       "      <td>Supermarket</td>\n",
       "      <td>-27.445511</td>\n",
       "      <td>-48.487486</td>\n",
       "      <td>Market</td>\n",
       "    </tr>\n",
       "    <tr>\n",
       "      <th>28</th>\n",
       "      <td>Jurerê Leste</td>\n",
       "      <td>Academia André Nascimento</td>\n",
       "      <td>Gym / Fitness Center</td>\n",
       "      <td>-27.443115</td>\n",
       "      <td>-48.486860</td>\n",
       "      <td>Fitness</td>\n",
       "    </tr>\n",
       "    <tr>\n",
       "      <th>...</th>\n",
       "      <td>...</td>\n",
       "      <td>...</td>\n",
       "      <td>...</td>\n",
       "      <td>...</td>\n",
       "      <td>...</td>\n",
       "      <td>...</td>\n",
       "    </tr>\n",
       "    <tr>\n",
       "      <th>28</th>\n",
       "      <td>Cachoeira do Bom Jesus</td>\n",
       "      <td>Dande Agropecuária</td>\n",
       "      <td>Pet Store</td>\n",
       "      <td>-27.424990</td>\n",
       "      <td>-48.440150</td>\n",
       "      <td>Pet</td>\n",
       "    </tr>\n",
       "    <tr>\n",
       "      <th>29</th>\n",
       "      <td>Cachoeira do Bom Jesus</td>\n",
       "      <td>Soulmaki e BBQ Trucks</td>\n",
       "      <td>Food Truck</td>\n",
       "      <td>-27.418034</td>\n",
       "      <td>-48.428446</td>\n",
       "      <td>Bar/Restaurant</td>\n",
       "    </tr>\n",
       "    <tr>\n",
       "      <th>30</th>\n",
       "      <td>Cachoeira do Bom Jesus</td>\n",
       "      <td>Mercado do Sul</td>\n",
       "      <td>Market</td>\n",
       "      <td>-27.418944</td>\n",
       "      <td>-48.427471</td>\n",
       "      <td>Market</td>\n",
       "    </tr>\n",
       "    <tr>\n",
       "      <th>31</th>\n",
       "      <td>Cachoeira do Bom Jesus</td>\n",
       "      <td>Franchis Meia Luas</td>\n",
       "      <td>Bakery</td>\n",
       "      <td>-27.417879</td>\n",
       "      <td>-48.426954</td>\n",
       "      <td>Bakery</td>\n",
       "    </tr>\n",
       "    <tr>\n",
       "      <th>6</th>\n",
       "      <td>Ponta das Canas</td>\n",
       "      <td>Academia Bio Forma</td>\n",
       "      <td>Gym / Fitness Center</td>\n",
       "      <td>-27.414848</td>\n",
       "      <td>-48.425365</td>\n",
       "      <td>Fitness</td>\n",
       "    </tr>\n",
       "  </tbody>\n",
       "</table>\n",
       "<p>121 rows × 6 columns</p>\n",
       "</div>"
      ],
      "text/plain": [
       "              Neighborhood                                name  \\\n",
       "6             Jurerê Leste  Vila Gastronômica Jurerê Food Park   \n",
       "17            Jurerê Leste                    PanVel Farmácias   \n",
       "19            Jurerê Leste                         Acqua Plage   \n",
       "26            Jurerê Leste            Supermercados Imperatriz   \n",
       "28            Jurerê Leste           Academia André Nascimento   \n",
       "..                     ...                                 ...   \n",
       "28  Cachoeira do Bom Jesus                  Dande Agropecuária   \n",
       "29  Cachoeira do Bom Jesus               Soulmaki e BBQ Trucks   \n",
       "30  Cachoeira do Bom Jesus                      Mercado do Sul   \n",
       "31  Cachoeira do Bom Jesus                  Franchis Meia Luas   \n",
       "6          Ponta das Canas                  Academia Bio Forma   \n",
       "\n",
       "              categories        lat        lng     venue class  \n",
       "6             Food Truck -27.441925 -48.486719  Bar/Restaurant  \n",
       "17              Pharmacy -27.441183 -48.486775        Pharmacy  \n",
       "19             Beach Bar -27.437981 -48.493860  Bar/Restaurant  \n",
       "26           Supermarket -27.445511 -48.487486          Market  \n",
       "28  Gym / Fitness Center -27.443115 -48.486860         Fitness  \n",
       "..                   ...        ...        ...             ...  \n",
       "28             Pet Store -27.424990 -48.440150             Pet  \n",
       "29            Food Truck -27.418034 -48.428446  Bar/Restaurant  \n",
       "30                Market -27.418944 -48.427471          Market  \n",
       "31                Bakery -27.417879 -48.426954          Bakery  \n",
       "6   Gym / Fitness Center -27.414848 -48.425365         Fitness  \n",
       "\n",
       "[121 rows x 6 columns]"
      ]
     },
     "execution_count": 31,
     "metadata": {},
     "output_type": "execute_result"
    }
   ],
   "source": [
    "nearby_venues['venue class']=nearby_venues.apply(classify, axis=1)\n",
    "nearby_venues"
   ]
  },
  {
   "cell_type": "markdown",
   "metadata": {},
   "source": [
    "The dataframe deserves some clean and organization again!"
   ]
  },
  {
   "cell_type": "code",
   "execution_count": 32,
   "metadata": {},
   "outputs": [
    {
     "data": {
      "text/html": [
       "<div>\n",
       "<style scoped>\n",
       "    .dataframe tbody tr th:only-of-type {\n",
       "        vertical-align: middle;\n",
       "    }\n",
       "\n",
       "    .dataframe tbody tr th {\n",
       "        vertical-align: top;\n",
       "    }\n",
       "\n",
       "    .dataframe thead th {\n",
       "        text-align: right;\n",
       "    }\n",
       "</style>\n",
       "<table border=\"1\" class=\"dataframe\">\n",
       "  <thead>\n",
       "    <tr style=\"text-align: right;\">\n",
       "      <th></th>\n",
       "      <th>venue class</th>\n",
       "      <th>Neighborhood</th>\n",
       "      <th>name</th>\n",
       "      <th>categories</th>\n",
       "      <th>lat</th>\n",
       "      <th>lng</th>\n",
       "    </tr>\n",
       "  </thead>\n",
       "  <tbody>\n",
       "    <tr>\n",
       "      <th>0</th>\n",
       "      <td>Bar/Restaurant</td>\n",
       "      <td>Jurerê Leste</td>\n",
       "      <td>Vila Gastronômica Jurerê Food Park</td>\n",
       "      <td>Food Truck</td>\n",
       "      <td>-27.441925</td>\n",
       "      <td>-48.486719</td>\n",
       "    </tr>\n",
       "    <tr>\n",
       "      <th>1</th>\n",
       "      <td>Pharmacy</td>\n",
       "      <td>Jurerê Leste</td>\n",
       "      <td>PanVel Farmácias</td>\n",
       "      <td>Pharmacy</td>\n",
       "      <td>-27.441183</td>\n",
       "      <td>-48.486775</td>\n",
       "    </tr>\n",
       "    <tr>\n",
       "      <th>2</th>\n",
       "      <td>Bar/Restaurant</td>\n",
       "      <td>Jurerê Leste</td>\n",
       "      <td>Acqua Plage</td>\n",
       "      <td>Beach Bar</td>\n",
       "      <td>-27.437981</td>\n",
       "      <td>-48.493860</td>\n",
       "    </tr>\n",
       "    <tr>\n",
       "      <th>3</th>\n",
       "      <td>Market</td>\n",
       "      <td>Jurerê Leste</td>\n",
       "      <td>Supermercados Imperatriz</td>\n",
       "      <td>Supermarket</td>\n",
       "      <td>-27.445511</td>\n",
       "      <td>-48.487486</td>\n",
       "    </tr>\n",
       "    <tr>\n",
       "      <th>4</th>\n",
       "      <td>Fitness</td>\n",
       "      <td>Jurerê Leste</td>\n",
       "      <td>Academia André Nascimento</td>\n",
       "      <td>Gym / Fitness Center</td>\n",
       "      <td>-27.443115</td>\n",
       "      <td>-48.486860</td>\n",
       "    </tr>\n",
       "    <tr>\n",
       "      <th>...</th>\n",
       "      <td>...</td>\n",
       "      <td>...</td>\n",
       "      <td>...</td>\n",
       "      <td>...</td>\n",
       "      <td>...</td>\n",
       "      <td>...</td>\n",
       "    </tr>\n",
       "    <tr>\n",
       "      <th>116</th>\n",
       "      <td>Pet</td>\n",
       "      <td>Cachoeira do Bom Jesus</td>\n",
       "      <td>Dande Agropecuária</td>\n",
       "      <td>Pet Store</td>\n",
       "      <td>-27.424990</td>\n",
       "      <td>-48.440150</td>\n",
       "    </tr>\n",
       "    <tr>\n",
       "      <th>117</th>\n",
       "      <td>Bar/Restaurant</td>\n",
       "      <td>Cachoeira do Bom Jesus</td>\n",
       "      <td>Soulmaki e BBQ Trucks</td>\n",
       "      <td>Food Truck</td>\n",
       "      <td>-27.418034</td>\n",
       "      <td>-48.428446</td>\n",
       "    </tr>\n",
       "    <tr>\n",
       "      <th>118</th>\n",
       "      <td>Market</td>\n",
       "      <td>Cachoeira do Bom Jesus</td>\n",
       "      <td>Mercado do Sul</td>\n",
       "      <td>Market</td>\n",
       "      <td>-27.418944</td>\n",
       "      <td>-48.427471</td>\n",
       "    </tr>\n",
       "    <tr>\n",
       "      <th>119</th>\n",
       "      <td>Bakery</td>\n",
       "      <td>Cachoeira do Bom Jesus</td>\n",
       "      <td>Franchis Meia Luas</td>\n",
       "      <td>Bakery</td>\n",
       "      <td>-27.417879</td>\n",
       "      <td>-48.426954</td>\n",
       "    </tr>\n",
       "    <tr>\n",
       "      <th>120</th>\n",
       "      <td>Fitness</td>\n",
       "      <td>Ponta das Canas</td>\n",
       "      <td>Academia Bio Forma</td>\n",
       "      <td>Gym / Fitness Center</td>\n",
       "      <td>-27.414848</td>\n",
       "      <td>-48.425365</td>\n",
       "    </tr>\n",
       "  </tbody>\n",
       "</table>\n",
       "<p>121 rows × 6 columns</p>\n",
       "</div>"
      ],
      "text/plain": [
       "        venue class            Neighborhood  \\\n",
       "0    Bar/Restaurant            Jurerê Leste   \n",
       "1          Pharmacy            Jurerê Leste   \n",
       "2    Bar/Restaurant            Jurerê Leste   \n",
       "3            Market            Jurerê Leste   \n",
       "4           Fitness            Jurerê Leste   \n",
       "..              ...                     ...   \n",
       "116             Pet  Cachoeira do Bom Jesus   \n",
       "117  Bar/Restaurant  Cachoeira do Bom Jesus   \n",
       "118          Market  Cachoeira do Bom Jesus   \n",
       "119          Bakery  Cachoeira do Bom Jesus   \n",
       "120         Fitness         Ponta das Canas   \n",
       "\n",
       "                                   name            categories        lat  \\\n",
       "0    Vila Gastronômica Jurerê Food Park            Food Truck -27.441925   \n",
       "1                      PanVel Farmácias              Pharmacy -27.441183   \n",
       "2                           Acqua Plage             Beach Bar -27.437981   \n",
       "3              Supermercados Imperatriz           Supermarket -27.445511   \n",
       "4             Academia André Nascimento  Gym / Fitness Center -27.443115   \n",
       "..                                  ...                   ...        ...   \n",
       "116                  Dande Agropecuária             Pet Store -27.424990   \n",
       "117               Soulmaki e BBQ Trucks            Food Truck -27.418034   \n",
       "118                      Mercado do Sul                Market -27.418944   \n",
       "119                  Franchis Meia Luas                Bakery -27.417879   \n",
       "120                  Academia Bio Forma  Gym / Fitness Center -27.414848   \n",
       "\n",
       "           lng  \n",
       "0   -48.486719  \n",
       "1   -48.486775  \n",
       "2   -48.493860  \n",
       "3   -48.487486  \n",
       "4   -48.486860  \n",
       "..         ...  \n",
       "116 -48.440150  \n",
       "117 -48.428446  \n",
       "118 -48.427471  \n",
       "119 -48.426954  \n",
       "120 -48.425365  \n",
       "\n",
       "[121 rows x 6 columns]"
      ]
     },
     "execution_count": 32,
     "metadata": {},
     "output_type": "execute_result"
    }
   ],
   "source": [
    "fixed_columns = [nearby_venues.columns[-1]] + list(nearby_venues.columns[:-1])\n",
    "nearby_venues = nearby_venues[fixed_columns]\n",
    "nearby_venues.reset_index(drop=True, inplace=True)\n",
    "nearby_venues"
   ]
  },
  {
   "cell_type": "markdown",
   "metadata": {},
   "source": [
    "# Analysis\n"
   ]
  },
  {
   "cell_type": "markdown",
   "metadata": {},
   "source": [
    "This is the moment the proper analysis will begin. "
   ]
  },
  {
   "cell_type": "code",
   "execution_count": 33,
   "metadata": {},
   "outputs": [],
   "source": [
    "%matplotlib inline \n",
    "\n",
    "import matplotlib as mpl\n",
    "import matplotlib.pyplot as plt"
   ]
  },
  {
   "cell_type": "code",
   "execution_count": 34,
   "metadata": {},
   "outputs": [
    {
     "data": {
      "text/html": [
       "<div>\n",
       "<style scoped>\n",
       "    .dataframe tbody tr th:only-of-type {\n",
       "        vertical-align: middle;\n",
       "    }\n",
       "\n",
       "    .dataframe tbody tr th {\n",
       "        vertical-align: top;\n",
       "    }\n",
       "\n",
       "    .dataframe thead th {\n",
       "        text-align: right;\n",
       "    }\n",
       "</style>\n",
       "<table border=\"1\" class=\"dataframe\">\n",
       "  <thead>\n",
       "    <tr style=\"text-align: right;\">\n",
       "      <th></th>\n",
       "      <th>Venues</th>\n",
       "      <th>Neighborhood</th>\n",
       "    </tr>\n",
       "  </thead>\n",
       "  <tbody>\n",
       "    <tr>\n",
       "      <th>0</th>\n",
       "      <td>Bar/Restaurant</td>\n",
       "      <td>Jurerê Leste</td>\n",
       "    </tr>\n",
       "    <tr>\n",
       "      <th>1</th>\n",
       "      <td>Pharmacy</td>\n",
       "      <td>Jurerê Leste</td>\n",
       "    </tr>\n",
       "    <tr>\n",
       "      <th>2</th>\n",
       "      <td>Bar/Restaurant</td>\n",
       "      <td>Jurerê Leste</td>\n",
       "    </tr>\n",
       "    <tr>\n",
       "      <th>3</th>\n",
       "      <td>Market</td>\n",
       "      <td>Jurerê Leste</td>\n",
       "    </tr>\n",
       "    <tr>\n",
       "      <th>4</th>\n",
       "      <td>Fitness</td>\n",
       "      <td>Jurerê Leste</td>\n",
       "    </tr>\n",
       "    <tr>\n",
       "      <th>...</th>\n",
       "      <td>...</td>\n",
       "      <td>...</td>\n",
       "    </tr>\n",
       "    <tr>\n",
       "      <th>116</th>\n",
       "      <td>Pet</td>\n",
       "      <td>Cachoeira do Bom Jesus</td>\n",
       "    </tr>\n",
       "    <tr>\n",
       "      <th>117</th>\n",
       "      <td>Bar/Restaurant</td>\n",
       "      <td>Cachoeira do Bom Jesus</td>\n",
       "    </tr>\n",
       "    <tr>\n",
       "      <th>118</th>\n",
       "      <td>Market</td>\n",
       "      <td>Cachoeira do Bom Jesus</td>\n",
       "    </tr>\n",
       "    <tr>\n",
       "      <th>119</th>\n",
       "      <td>Bakery</td>\n",
       "      <td>Cachoeira do Bom Jesus</td>\n",
       "    </tr>\n",
       "    <tr>\n",
       "      <th>120</th>\n",
       "      <td>Fitness</td>\n",
       "      <td>Ponta das Canas</td>\n",
       "    </tr>\n",
       "  </tbody>\n",
       "</table>\n",
       "<p>121 rows × 2 columns</p>\n",
       "</div>"
      ],
      "text/plain": [
       "             Venues            Neighborhood\n",
       "0    Bar/Restaurant            Jurerê Leste\n",
       "1          Pharmacy            Jurerê Leste\n",
       "2    Bar/Restaurant            Jurerê Leste\n",
       "3            Market            Jurerê Leste\n",
       "4           Fitness            Jurerê Leste\n",
       "..              ...                     ...\n",
       "116             Pet  Cachoeira do Bom Jesus\n",
       "117  Bar/Restaurant  Cachoeira do Bom Jesus\n",
       "118          Market  Cachoeira do Bom Jesus\n",
       "119          Bakery  Cachoeira do Bom Jesus\n",
       "120         Fitness         Ponta das Canas\n",
       "\n",
       "[121 rows x 2 columns]"
      ]
     },
     "execution_count": 34,
     "metadata": {},
     "output_type": "execute_result"
    }
   ],
   "source": [
    "venuesanalysis = pd.DataFrame(columns= ['Venues', 'Neighborhood'])\n",
    "venuesanalysis['Venues'] = nearby_venues['venue class']\n",
    "venuesanalysis['Neighborhood'] = nearby_venues['Neighborhood']\n",
    "venuesanalysis"
   ]
  },
  {
   "cell_type": "markdown",
   "metadata": {},
   "source": [
    "I'll create another dataframe, just to manipulate this data safetely"
   ]
  },
  {
   "cell_type": "code",
   "execution_count": 35,
   "metadata": {},
   "outputs": [
    {
     "data": {
      "text/html": [
       "<div>\n",
       "<style scoped>\n",
       "    .dataframe tbody tr th:only-of-type {\n",
       "        vertical-align: middle;\n",
       "    }\n",
       "\n",
       "    .dataframe tbody tr th {\n",
       "        vertical-align: top;\n",
       "    }\n",
       "\n",
       "    .dataframe thead th {\n",
       "        text-align: right;\n",
       "    }\n",
       "</style>\n",
       "<table border=\"1\" class=\"dataframe\">\n",
       "  <thead>\n",
       "    <tr style=\"text-align: right;\">\n",
       "      <th></th>\n",
       "      <th></th>\n",
       "      <th>Total</th>\n",
       "    </tr>\n",
       "    <tr>\n",
       "      <th>Venues</th>\n",
       "      <th>Neighborhood</th>\n",
       "      <th></th>\n",
       "    </tr>\n",
       "  </thead>\n",
       "  <tbody>\n",
       "    <tr>\n",
       "      <th rowspan=\"4\" valign=\"top\">Bakery</th>\n",
       "      <th>Cachoeira do Bom Jesus</th>\n",
       "      <td>1</td>\n",
       "    </tr>\n",
       "    <tr>\n",
       "      <th>Canasvieiras</th>\n",
       "      <td>3</td>\n",
       "    </tr>\n",
       "    <tr>\n",
       "      <th>Jurerê Leste</th>\n",
       "      <td>3</td>\n",
       "    </tr>\n",
       "    <tr>\n",
       "      <th>Jurerê Oeste</th>\n",
       "      <td>3</td>\n",
       "    </tr>\n",
       "    <tr>\n",
       "      <th rowspan=\"4\" valign=\"top\">Bar/Restaurant</th>\n",
       "      <th>Cachoeira do Bom Jesus</th>\n",
       "      <td>3</td>\n",
       "    </tr>\n",
       "    <tr>\n",
       "      <th>Canasvieiras</th>\n",
       "      <td>27</td>\n",
       "    </tr>\n",
       "    <tr>\n",
       "      <th>Jurerê Leste</th>\n",
       "      <td>15</td>\n",
       "    </tr>\n",
       "    <tr>\n",
       "      <th>Jurerê Oeste</th>\n",
       "      <td>17</td>\n",
       "    </tr>\n",
       "    <tr>\n",
       "      <th rowspan=\"3\" valign=\"top\">Café/Snacks</th>\n",
       "      <th>Canasvieiras</th>\n",
       "      <td>7</td>\n",
       "    </tr>\n",
       "    <tr>\n",
       "      <th>Jurerê Leste</th>\n",
       "      <td>6</td>\n",
       "    </tr>\n",
       "    <tr>\n",
       "      <th>Jurerê Oeste</th>\n",
       "      <td>5</td>\n",
       "    </tr>\n",
       "    <tr>\n",
       "      <th rowspan=\"3\" valign=\"top\">Entertainment</th>\n",
       "      <th>Cachoeira do Bom Jesus</th>\n",
       "      <td>1</td>\n",
       "    </tr>\n",
       "    <tr>\n",
       "      <th>Jurerê Leste</th>\n",
       "      <td>1</td>\n",
       "    </tr>\n",
       "    <tr>\n",
       "      <th>Jurerê Oeste</th>\n",
       "      <td>2</td>\n",
       "    </tr>\n",
       "    <tr>\n",
       "      <th rowspan=\"3\" valign=\"top\">Fitness</th>\n",
       "      <th>Jurerê Leste</th>\n",
       "      <td>4</td>\n",
       "    </tr>\n",
       "    <tr>\n",
       "      <th>Jurerê Oeste</th>\n",
       "      <td>2</td>\n",
       "    </tr>\n",
       "    <tr>\n",
       "      <th>Ponta das Canas</th>\n",
       "      <td>1</td>\n",
       "    </tr>\n",
       "    <tr>\n",
       "      <th>Lottery</th>\n",
       "      <th>Canasvieiras</th>\n",
       "      <td>1</td>\n",
       "    </tr>\n",
       "    <tr>\n",
       "      <th rowspan=\"3\" valign=\"top\">Market</th>\n",
       "      <th>Cachoeira do Bom Jesus</th>\n",
       "      <td>2</td>\n",
       "    </tr>\n",
       "    <tr>\n",
       "      <th>Canasvieiras</th>\n",
       "      <td>5</td>\n",
       "    </tr>\n",
       "    <tr>\n",
       "      <th>Jurerê Leste</th>\n",
       "      <td>2</td>\n",
       "    </tr>\n",
       "    <tr>\n",
       "      <th rowspan=\"2\" valign=\"top\">Nightlife</th>\n",
       "      <th>Canasvieiras</th>\n",
       "      <td>1</td>\n",
       "    </tr>\n",
       "    <tr>\n",
       "      <th>Jurerê Oeste</th>\n",
       "      <td>1</td>\n",
       "    </tr>\n",
       "    <tr>\n",
       "      <th>Other</th>\n",
       "      <th>Jurerê Oeste</th>\n",
       "      <td>1</td>\n",
       "    </tr>\n",
       "    <tr>\n",
       "      <th rowspan=\"2\" valign=\"top\">Pet</th>\n",
       "      <th>Cachoeira do Bom Jesus</th>\n",
       "      <td>1</td>\n",
       "    </tr>\n",
       "    <tr>\n",
       "      <th>Jurerê Leste</th>\n",
       "      <td>1</td>\n",
       "    </tr>\n",
       "    <tr>\n",
       "      <th rowspan=\"2\" valign=\"top\">Pharmacy</th>\n",
       "      <th>Canasvieiras</th>\n",
       "      <td>1</td>\n",
       "    </tr>\n",
       "    <tr>\n",
       "      <th>Jurerê Leste</th>\n",
       "      <td>1</td>\n",
       "    </tr>\n",
       "    <tr>\n",
       "      <th rowspan=\"2\" valign=\"top\">Store</th>\n",
       "      <th>Canasvieiras</th>\n",
       "      <td>2</td>\n",
       "    </tr>\n",
       "    <tr>\n",
       "      <th>Jurerê Oeste</th>\n",
       "      <td>1</td>\n",
       "    </tr>\n",
       "  </tbody>\n",
       "</table>\n",
       "</div>"
      ],
      "text/plain": [
       "                                       Total\n",
       "Venues         Neighborhood                 \n",
       "Bakery         Cachoeira do Bom Jesus      1\n",
       "               Canasvieiras                3\n",
       "               Jurerê Leste                3\n",
       "               Jurerê Oeste                3\n",
       "Bar/Restaurant Cachoeira do Bom Jesus      3\n",
       "               Canasvieiras               27\n",
       "               Jurerê Leste               15\n",
       "               Jurerê Oeste               17\n",
       "Café/Snacks    Canasvieiras                7\n",
       "               Jurerê Leste                6\n",
       "               Jurerê Oeste                5\n",
       "Entertainment  Cachoeira do Bom Jesus      1\n",
       "               Jurerê Leste                1\n",
       "               Jurerê Oeste                2\n",
       "Fitness        Jurerê Leste                4\n",
       "               Jurerê Oeste                2\n",
       "               Ponta das Canas             1\n",
       "Lottery        Canasvieiras                1\n",
       "Market         Cachoeira do Bom Jesus      2\n",
       "               Canasvieiras                5\n",
       "               Jurerê Leste                2\n",
       "Nightlife      Canasvieiras                1\n",
       "               Jurerê Oeste                1\n",
       "Other          Jurerê Oeste                1\n",
       "Pet            Cachoeira do Bom Jesus      1\n",
       "               Jurerê Leste                1\n",
       "Pharmacy       Canasvieiras                1\n",
       "               Jurerê Leste                1\n",
       "Store          Canasvieiras                2\n",
       "               Jurerê Oeste                1"
      ]
     },
     "execution_count": 35,
     "metadata": {},
     "output_type": "execute_result"
    }
   ],
   "source": [
    "venuesnumb = pd.DataFrame(venuesanalysis.pivot_table(index = ['Venues', 'Neighborhood'], aggfunc ='size'))\n",
    "venuesnumb.rename(columns={0: 'Total' }, inplace=True)\n",
    "venuesnumb"
   ]
  },
  {
   "cell_type": "markdown",
   "metadata": {},
   "source": [
    "First of all, let's see it in a simple bar chart"
   ]
  },
  {
   "cell_type": "code",
   "execution_count": 36,
   "metadata": {},
   "outputs": [
    {
     "data": {
      "text/plain": [
       "<function matplotlib.pyplot.show(close=None, block=None)>"
      ]
     },
     "execution_count": 36,
     "metadata": {},
     "output_type": "execute_result"
    },
    {
     "data": {
      "image/png": "[encoded data removed]",
      "text/plain": [
       "<Figure size 288x720 with 1 Axes>"
      ]
     },
     "metadata": {
      "needs_background": "light"
     },
     "output_type": "display_data"
    }
   ],
   "source": [
    "venuesnumb.plot(kind='barh', figsize=(4, 10))\n",
    "plt.xlabel('Total Venues')\n",
    "plt.ylabel('Number')\n",
    "plt.show"
   ]
  },
  {
   "cell_type": "markdown",
   "metadata": {},
   "source": [
    "As expected, in a place that are a destination, we got a lot of restaurants/bars. \n"
   ]
  },
  {
   "cell_type": "markdown",
   "metadata": {},
   "source": [
    "Let's try anothe way:"
   ]
  },
  {
   "cell_type": "code",
   "execution_count": 37,
   "metadata": {},
   "outputs": [
    {
     "data": {
      "text/html": [
       "<div>\n",
       "<style scoped>\n",
       "    .dataframe tbody tr th:only-of-type {\n",
       "        vertical-align: middle;\n",
       "    }\n",
       "\n",
       "    .dataframe tbody tr th {\n",
       "        vertical-align: top;\n",
       "    }\n",
       "\n",
       "    .dataframe thead th {\n",
       "        text-align: right;\n",
       "    }\n",
       "</style>\n",
       "<table border=\"1\" class=\"dataframe\">\n",
       "  <thead>\n",
       "    <tr style=\"text-align: right;\">\n",
       "      <th></th>\n",
       "      <th>venue class</th>\n",
       "      <th>Neighborhood</th>\n",
       "      <th>Count</th>\n",
       "    </tr>\n",
       "  </thead>\n",
       "  <tbody>\n",
       "    <tr>\n",
       "      <th>0</th>\n",
       "      <td>Bakery</td>\n",
       "      <td>Cachoeira do Bom Jesus</td>\n",
       "      <td>1</td>\n",
       "    </tr>\n",
       "    <tr>\n",
       "      <th>1</th>\n",
       "      <td>Bakery</td>\n",
       "      <td>Canasvieiras</td>\n",
       "      <td>3</td>\n",
       "    </tr>\n",
       "    <tr>\n",
       "      <th>2</th>\n",
       "      <td>Bakery</td>\n",
       "      <td>Jurerê Leste</td>\n",
       "      <td>3</td>\n",
       "    </tr>\n",
       "    <tr>\n",
       "      <th>3</th>\n",
       "      <td>Bakery</td>\n",
       "      <td>Jurerê Oeste</td>\n",
       "      <td>3</td>\n",
       "    </tr>\n",
       "    <tr>\n",
       "      <th>4</th>\n",
       "      <td>Bar/Restaurant</td>\n",
       "      <td>Cachoeira do Bom Jesus</td>\n",
       "      <td>3</td>\n",
       "    </tr>\n",
       "    <tr>\n",
       "      <th>5</th>\n",
       "      <td>Bar/Restaurant</td>\n",
       "      <td>Canasvieiras</td>\n",
       "      <td>27</td>\n",
       "    </tr>\n",
       "    <tr>\n",
       "      <th>6</th>\n",
       "      <td>Bar/Restaurant</td>\n",
       "      <td>Jurerê Leste</td>\n",
       "      <td>15</td>\n",
       "    </tr>\n",
       "    <tr>\n",
       "      <th>7</th>\n",
       "      <td>Bar/Restaurant</td>\n",
       "      <td>Jurerê Oeste</td>\n",
       "      <td>17</td>\n",
       "    </tr>\n",
       "    <tr>\n",
       "      <th>8</th>\n",
       "      <td>Café/Snacks</td>\n",
       "      <td>Canasvieiras</td>\n",
       "      <td>7</td>\n",
       "    </tr>\n",
       "    <tr>\n",
       "      <th>9</th>\n",
       "      <td>Café/Snacks</td>\n",
       "      <td>Jurerê Leste</td>\n",
       "      <td>6</td>\n",
       "    </tr>\n",
       "    <tr>\n",
       "      <th>10</th>\n",
       "      <td>Café/Snacks</td>\n",
       "      <td>Jurerê Oeste</td>\n",
       "      <td>5</td>\n",
       "    </tr>\n",
       "    <tr>\n",
       "      <th>11</th>\n",
       "      <td>Entertainment</td>\n",
       "      <td>Cachoeira do Bom Jesus</td>\n",
       "      <td>1</td>\n",
       "    </tr>\n",
       "    <tr>\n",
       "      <th>12</th>\n",
       "      <td>Entertainment</td>\n",
       "      <td>Jurerê Leste</td>\n",
       "      <td>1</td>\n",
       "    </tr>\n",
       "    <tr>\n",
       "      <th>13</th>\n",
       "      <td>Entertainment</td>\n",
       "      <td>Jurerê Oeste</td>\n",
       "      <td>2</td>\n",
       "    </tr>\n",
       "    <tr>\n",
       "      <th>14</th>\n",
       "      <td>Fitness</td>\n",
       "      <td>Jurerê Leste</td>\n",
       "      <td>4</td>\n",
       "    </tr>\n",
       "    <tr>\n",
       "      <th>15</th>\n",
       "      <td>Fitness</td>\n",
       "      <td>Jurerê Oeste</td>\n",
       "      <td>2</td>\n",
       "    </tr>\n",
       "    <tr>\n",
       "      <th>16</th>\n",
       "      <td>Fitness</td>\n",
       "      <td>Ponta das Canas</td>\n",
       "      <td>1</td>\n",
       "    </tr>\n",
       "    <tr>\n",
       "      <th>17</th>\n",
       "      <td>Lottery</td>\n",
       "      <td>Canasvieiras</td>\n",
       "      <td>1</td>\n",
       "    </tr>\n",
       "    <tr>\n",
       "      <th>18</th>\n",
       "      <td>Market</td>\n",
       "      <td>Cachoeira do Bom Jesus</td>\n",
       "      <td>2</td>\n",
       "    </tr>\n",
       "    <tr>\n",
       "      <th>19</th>\n",
       "      <td>Market</td>\n",
       "      <td>Canasvieiras</td>\n",
       "      <td>5</td>\n",
       "    </tr>\n",
       "    <tr>\n",
       "      <th>20</th>\n",
       "      <td>Market</td>\n",
       "      <td>Jurerê Leste</td>\n",
       "      <td>2</td>\n",
       "    </tr>\n",
       "    <tr>\n",
       "      <th>21</th>\n",
       "      <td>Nightlife</td>\n",
       "      <td>Canasvieiras</td>\n",
       "      <td>1</td>\n",
       "    </tr>\n",
       "    <tr>\n",
       "      <th>22</th>\n",
       "      <td>Nightlife</td>\n",
       "      <td>Jurerê Oeste</td>\n",
       "      <td>1</td>\n",
       "    </tr>\n",
       "    <tr>\n",
       "      <th>23</th>\n",
       "      <td>Other</td>\n",
       "      <td>Jurerê Oeste</td>\n",
       "      <td>1</td>\n",
       "    </tr>\n",
       "    <tr>\n",
       "      <th>24</th>\n",
       "      <td>Pet</td>\n",
       "      <td>Cachoeira do Bom Jesus</td>\n",
       "      <td>1</td>\n",
       "    </tr>\n",
       "    <tr>\n",
       "      <th>25</th>\n",
       "      <td>Pet</td>\n",
       "      <td>Jurerê Leste</td>\n",
       "      <td>1</td>\n",
       "    </tr>\n",
       "    <tr>\n",
       "      <th>26</th>\n",
       "      <td>Pharmacy</td>\n",
       "      <td>Canasvieiras</td>\n",
       "      <td>1</td>\n",
       "    </tr>\n",
       "    <tr>\n",
       "      <th>27</th>\n",
       "      <td>Pharmacy</td>\n",
       "      <td>Jurerê Leste</td>\n",
       "      <td>1</td>\n",
       "    </tr>\n",
       "    <tr>\n",
       "      <th>28</th>\n",
       "      <td>Store</td>\n",
       "      <td>Canasvieiras</td>\n",
       "      <td>2</td>\n",
       "    </tr>\n",
       "    <tr>\n",
       "      <th>29</th>\n",
       "      <td>Store</td>\n",
       "      <td>Jurerê Oeste</td>\n",
       "      <td>1</td>\n",
       "    </tr>\n",
       "  </tbody>\n",
       "</table>\n",
       "</div>"
      ],
      "text/plain": [
       "       venue class            Neighborhood  Count\n",
       "0           Bakery  Cachoeira do Bom Jesus      1\n",
       "1           Bakery            Canasvieiras      3\n",
       "2           Bakery            Jurerê Leste      3\n",
       "3           Bakery            Jurerê Oeste      3\n",
       "4   Bar/Restaurant  Cachoeira do Bom Jesus      3\n",
       "5   Bar/Restaurant            Canasvieiras     27\n",
       "6   Bar/Restaurant            Jurerê Leste     15\n",
       "7   Bar/Restaurant            Jurerê Oeste     17\n",
       "8      Café/Snacks            Canasvieiras      7\n",
       "9      Café/Snacks            Jurerê Leste      6\n",
       "10     Café/Snacks            Jurerê Oeste      5\n",
       "11   Entertainment  Cachoeira do Bom Jesus      1\n",
       "12   Entertainment            Jurerê Leste      1\n",
       "13   Entertainment            Jurerê Oeste      2\n",
       "14         Fitness            Jurerê Leste      4\n",
       "15         Fitness            Jurerê Oeste      2\n",
       "16         Fitness         Ponta das Canas      1\n",
       "17         Lottery            Canasvieiras      1\n",
       "18          Market  Cachoeira do Bom Jesus      2\n",
       "19          Market            Canasvieiras      5\n",
       "20          Market            Jurerê Leste      2\n",
       "21       Nightlife            Canasvieiras      1\n",
       "22       Nightlife            Jurerê Oeste      1\n",
       "23           Other            Jurerê Oeste      1\n",
       "24             Pet  Cachoeira do Bom Jesus      1\n",
       "25             Pet            Jurerê Leste      1\n",
       "26        Pharmacy            Canasvieiras      1\n",
       "27        Pharmacy            Jurerê Leste      1\n",
       "28           Store            Canasvieiras      2\n",
       "29           Store            Jurerê Oeste      1"
      ]
     },
     "execution_count": 37,
     "metadata": {},
     "output_type": "execute_result"
    }
   ],
   "source": [
    "venuesdet = nearby_venues.groupby(['venue class', 'Neighborhood']).size().reset_index(name='Count')\n",
    "venuesdet"
   ]
  },
  {
   "cell_type": "markdown",
   "metadata": {},
   "source": [
    "Now, I'll analyse each neighborhood individually"
   ]
  },
  {
   "cell_type": "code",
   "execution_count": 38,
   "metadata": {},
   "outputs": [
    {
     "data": {
      "text/html": [
       "<div>\n",
       "<style scoped>\n",
       "    .dataframe tbody tr th:only-of-type {\n",
       "        vertical-align: middle;\n",
       "    }\n",
       "\n",
       "    .dataframe tbody tr th {\n",
       "        vertical-align: top;\n",
       "    }\n",
       "\n",
       "    .dataframe thead th {\n",
       "        text-align: right;\n",
       "    }\n",
       "</style>\n",
       "<table border=\"1\" class=\"dataframe\">\n",
       "  <thead>\n",
       "    <tr style=\"text-align: right;\">\n",
       "      <th></th>\n",
       "      <th></th>\n",
       "      <th>Total</th>\n",
       "    </tr>\n",
       "    <tr>\n",
       "      <th>Neighborhood</th>\n",
       "      <th>Venues</th>\n",
       "      <th></th>\n",
       "    </tr>\n",
       "  </thead>\n",
       "  <tbody>\n",
       "    <tr>\n",
       "      <th rowspan=\"5\" valign=\"top\">Cachoeira do Bom Jesus</th>\n",
       "      <th>Bakery</th>\n",
       "      <td>1</td>\n",
       "    </tr>\n",
       "    <tr>\n",
       "      <th>Bar/Restaurant</th>\n",
       "      <td>3</td>\n",
       "    </tr>\n",
       "    <tr>\n",
       "      <th>Entertainment</th>\n",
       "      <td>1</td>\n",
       "    </tr>\n",
       "    <tr>\n",
       "      <th>Market</th>\n",
       "      <td>2</td>\n",
       "    </tr>\n",
       "    <tr>\n",
       "      <th>Pet</th>\n",
       "      <td>1</td>\n",
       "    </tr>\n",
       "    <tr>\n",
       "      <th rowspan=\"8\" valign=\"top\">Canasvieiras</th>\n",
       "      <th>Bakery</th>\n",
       "      <td>3</td>\n",
       "    </tr>\n",
       "    <tr>\n",
       "      <th>Bar/Restaurant</th>\n",
       "      <td>27</td>\n",
       "    </tr>\n",
       "    <tr>\n",
       "      <th>Café/Snacks</th>\n",
       "      <td>7</td>\n",
       "    </tr>\n",
       "    <tr>\n",
       "      <th>Lottery</th>\n",
       "      <td>1</td>\n",
       "    </tr>\n",
       "    <tr>\n",
       "      <th>Market</th>\n",
       "      <td>5</td>\n",
       "    </tr>\n",
       "    <tr>\n",
       "      <th>Nightlife</th>\n",
       "      <td>1</td>\n",
       "    </tr>\n",
       "    <tr>\n",
       "      <th>Pharmacy</th>\n",
       "      <td>1</td>\n",
       "    </tr>\n",
       "    <tr>\n",
       "      <th>Store</th>\n",
       "      <td>2</td>\n",
       "    </tr>\n",
       "    <tr>\n",
       "      <th rowspan=\"8\" valign=\"top\">Jurerê Leste</th>\n",
       "      <th>Bakery</th>\n",
       "      <td>3</td>\n",
       "    </tr>\n",
       "    <tr>\n",
       "      <th>Bar/Restaurant</th>\n",
       "      <td>15</td>\n",
       "    </tr>\n",
       "    <tr>\n",
       "      <th>Café/Snacks</th>\n",
       "      <td>6</td>\n",
       "    </tr>\n",
       "    <tr>\n",
       "      <th>Entertainment</th>\n",
       "      <td>1</td>\n",
       "    </tr>\n",
       "    <tr>\n",
       "      <th>Fitness</th>\n",
       "      <td>4</td>\n",
       "    </tr>\n",
       "    <tr>\n",
       "      <th>Market</th>\n",
       "      <td>2</td>\n",
       "    </tr>\n",
       "    <tr>\n",
       "      <th>Pet</th>\n",
       "      <td>1</td>\n",
       "    </tr>\n",
       "    <tr>\n",
       "      <th>Pharmacy</th>\n",
       "      <td>1</td>\n",
       "    </tr>\n",
       "    <tr>\n",
       "      <th rowspan=\"8\" valign=\"top\">Jurerê Oeste</th>\n",
       "      <th>Bakery</th>\n",
       "      <td>3</td>\n",
       "    </tr>\n",
       "    <tr>\n",
       "      <th>Bar/Restaurant</th>\n",
       "      <td>17</td>\n",
       "    </tr>\n",
       "    <tr>\n",
       "      <th>Café/Snacks</th>\n",
       "      <td>5</td>\n",
       "    </tr>\n",
       "    <tr>\n",
       "      <th>Entertainment</th>\n",
       "      <td>2</td>\n",
       "    </tr>\n",
       "    <tr>\n",
       "      <th>Fitness</th>\n",
       "      <td>2</td>\n",
       "    </tr>\n",
       "    <tr>\n",
       "      <th>Nightlife</th>\n",
       "      <td>1</td>\n",
       "    </tr>\n",
       "    <tr>\n",
       "      <th>Other</th>\n",
       "      <td>1</td>\n",
       "    </tr>\n",
       "    <tr>\n",
       "      <th>Store</th>\n",
       "      <td>1</td>\n",
       "    </tr>\n",
       "    <tr>\n",
       "      <th>Ponta das Canas</th>\n",
       "      <th>Fitness</th>\n",
       "      <td>1</td>\n",
       "    </tr>\n",
       "  </tbody>\n",
       "</table>\n",
       "</div>"
      ],
      "text/plain": [
       "                                       Total\n",
       "Neighborhood           Venues               \n",
       "Cachoeira do Bom Jesus Bakery              1\n",
       "                       Bar/Restaurant      3\n",
       "                       Entertainment       1\n",
       "                       Market              2\n",
       "                       Pet                 1\n",
       "Canasvieiras           Bakery              3\n",
       "                       Bar/Restaurant     27\n",
       "                       Café/Snacks         7\n",
       "                       Lottery             1\n",
       "                       Market              5\n",
       "                       Nightlife           1\n",
       "                       Pharmacy            1\n",
       "                       Store               2\n",
       "Jurerê Leste           Bakery              3\n",
       "                       Bar/Restaurant     15\n",
       "                       Café/Snacks         6\n",
       "                       Entertainment       1\n",
       "                       Fitness             4\n",
       "                       Market              2\n",
       "                       Pet                 1\n",
       "                       Pharmacy            1\n",
       "Jurerê Oeste           Bakery              3\n",
       "                       Bar/Restaurant     17\n",
       "                       Café/Snacks         5\n",
       "                       Entertainment       2\n",
       "                       Fitness             2\n",
       "                       Nightlife           1\n",
       "                       Other               1\n",
       "                       Store               1\n",
       "Ponta das Canas        Fitness             1"
      ]
     },
     "execution_count": 38,
     "metadata": {},
     "output_type": "execute_result"
    }
   ],
   "source": [
    "venuesnumb2 = pd.DataFrame(venuesanalysis.pivot_table(index = ['Neighborhood', 'Venues'], aggfunc ='size'))\n",
    "venuesnumb2.rename(columns={0: 'Total' }, inplace=True)\n",
    "venuesnumb2"
   ]
  },
  {
   "cell_type": "code",
   "execution_count": 39,
   "metadata": {},
   "outputs": [],
   "source": [
    "jurereleste = pd.DataFrame(venuesnumb2.loc['Jurerê Leste'])\n",
    "jurereoeste = pd.DataFrame(venuesnumb2.loc['Jurerê Oeste'])\n",
    "canasvieiras = pd.DataFrame(venuesnumb2.loc['Canasvieiras'])\n",
    "cachoeiradobomjesus = pd.DataFrame(venuesnumb2.loc['Cachoeira do Bom Jesus'])\n",
    "pontadascanas = pd.DataFrame(venuesnumb2.loc['Ponta das Canas'])\n",
    "\n",
    "jurereleste.reset_index(inplace=True)\n",
    "jurereoeste.reset_index(inplace=True)\n",
    "canasvieiras.reset_index(inplace=True)\n",
    "cachoeiradobomjesus.reset_index(inplace=True)\n",
    "pontadascanas.reset_index(inplace=True)\n"
   ]
  },
  {
   "cell_type": "markdown",
   "metadata": {},
   "source": [
    "But we know that some of those neighborhood don't have all the venues classes. So, I'll normalize everything."
   ]
  },
  {
   "cell_type": "code",
   "execution_count": 40,
   "metadata": {},
   "outputs": [
    {
     "name": "stdout",
     "output_type": "stream",
     "text": [
      "The value Bakery is ok\n",
      "The value Bar/Restaurant is ok\n",
      "The value Café/Snacks is ok\n",
      "The value Entertainment is ok\n",
      "The value Fitness is ok\n",
      "Ops! We don't have Lottery\n",
      "The value Market is ok\n",
      "Ops! We don't have Nightlife\n",
      "Ops! We don't have Other\n",
      "The value Pet is ok\n",
      "The value Pharmacy is ok\n",
      "Ops! We don't have Store\n"
     ]
    }
   ],
   "source": [
    "def complete(dataframename):\n",
    "    x = 0\n",
    "    venueclasses = ['Bakery', 'Bar/Restaurant', 'Café/Snacks', 'Entertainment','Fitness', \n",
    "                    'Lottery', 'Market', 'Nightlife', 'Other', 'Pet', 'Pharmacy', 'Store']\n",
    "    \n",
    "    while(x < 12):\n",
    "        if venueclasses[x] in list(dataframename['Venues']):\n",
    "                    print('The value {} is ok'.format(venueclasses[x]))\n",
    "        else:\n",
    "                print(\"Ops! We don't have {}\".format(venueclasses[x]))    \n",
    "        x+=1 \n",
    "\n",
    "complete(jurereleste)"
   ]
  },
  {
   "cell_type": "code",
   "execution_count": 41,
   "metadata": {},
   "outputs": [],
   "source": [
    "jurereleste = jurereleste.append({'Venues':'Lottery', 'Total':0}, ignore_index=True)\n",
    "jurereleste = jurereleste.append({'Venues':'Nightlife', 'Total':0}, ignore_index=True)\n",
    "jurereleste = jurereleste.append({'Venues':'Store', 'Total':0}, ignore_index=True)"
   ]
  },
  {
   "cell_type": "code",
   "execution_count": 42,
   "metadata": {},
   "outputs": [
    {
     "data": {
      "text/html": [
       "<div>\n",
       "<style scoped>\n",
       "    .dataframe tbody tr th:only-of-type {\n",
       "        vertical-align: middle;\n",
       "    }\n",
       "\n",
       "    .dataframe tbody tr th {\n",
       "        vertical-align: top;\n",
       "    }\n",
       "\n",
       "    .dataframe thead th {\n",
       "        text-align: right;\n",
       "    }\n",
       "</style>\n",
       "<table border=\"1\" class=\"dataframe\">\n",
       "  <thead>\n",
       "    <tr style=\"text-align: right;\">\n",
       "      <th></th>\n",
       "      <th>Venues</th>\n",
       "      <th>Total</th>\n",
       "    </tr>\n",
       "  </thead>\n",
       "  <tbody>\n",
       "    <tr>\n",
       "      <th>0</th>\n",
       "      <td>Bakery</td>\n",
       "      <td>3</td>\n",
       "    </tr>\n",
       "    <tr>\n",
       "      <th>1</th>\n",
       "      <td>Bar/Restaurant</td>\n",
       "      <td>15</td>\n",
       "    </tr>\n",
       "    <tr>\n",
       "      <th>2</th>\n",
       "      <td>Café/Snacks</td>\n",
       "      <td>6</td>\n",
       "    </tr>\n",
       "    <tr>\n",
       "      <th>3</th>\n",
       "      <td>Entertainment</td>\n",
       "      <td>1</td>\n",
       "    </tr>\n",
       "    <tr>\n",
       "      <th>4</th>\n",
       "      <td>Fitness</td>\n",
       "      <td>4</td>\n",
       "    </tr>\n",
       "    <tr>\n",
       "      <th>5</th>\n",
       "      <td>Market</td>\n",
       "      <td>2</td>\n",
       "    </tr>\n",
       "    <tr>\n",
       "      <th>6</th>\n",
       "      <td>Pet</td>\n",
       "      <td>1</td>\n",
       "    </tr>\n",
       "    <tr>\n",
       "      <th>7</th>\n",
       "      <td>Pharmacy</td>\n",
       "      <td>1</td>\n",
       "    </tr>\n",
       "    <tr>\n",
       "      <th>8</th>\n",
       "      <td>Lottery</td>\n",
       "      <td>0</td>\n",
       "    </tr>\n",
       "    <tr>\n",
       "      <th>9</th>\n",
       "      <td>Nightlife</td>\n",
       "      <td>0</td>\n",
       "    </tr>\n",
       "    <tr>\n",
       "      <th>10</th>\n",
       "      <td>Store</td>\n",
       "      <td>0</td>\n",
       "    </tr>\n",
       "  </tbody>\n",
       "</table>\n",
       "</div>"
      ],
      "text/plain": [
       "            Venues  Total\n",
       "0           Bakery      3\n",
       "1   Bar/Restaurant     15\n",
       "2      Café/Snacks      6\n",
       "3    Entertainment      1\n",
       "4          Fitness      4\n",
       "5           Market      2\n",
       "6              Pet      1\n",
       "7         Pharmacy      1\n",
       "8          Lottery      0\n",
       "9        Nightlife      0\n",
       "10           Store      0"
      ]
     },
     "execution_count": 42,
     "metadata": {},
     "output_type": "execute_result"
    }
   ],
   "source": [
    "jurereleste"
   ]
  },
  {
   "cell_type": "code",
   "execution_count": 43,
   "metadata": {},
   "outputs": [
    {
     "name": "stdout",
     "output_type": "stream",
     "text": [
      "The value Bakery is ok\n",
      "The value Bar/Restaurant is ok\n",
      "The value Café/Snacks is ok\n",
      "The value Entertainment is ok\n",
      "The value Fitness is ok\n",
      "Ops! We don't have Lottery\n",
      "Ops! We don't have Market\n",
      "The value Nightlife is ok\n",
      "The value Other is ok\n",
      "Ops! We don't have Pet\n",
      "Ops! We don't have Pharmacy\n",
      "The value Store is ok\n"
     ]
    }
   ],
   "source": [
    "complete(jurereoeste)"
   ]
  },
  {
   "cell_type": "code",
   "execution_count": 44,
   "metadata": {},
   "outputs": [
    {
     "data": {
      "text/html": [
       "<div>\n",
       "<style scoped>\n",
       "    .dataframe tbody tr th:only-of-type {\n",
       "        vertical-align: middle;\n",
       "    }\n",
       "\n",
       "    .dataframe tbody tr th {\n",
       "        vertical-align: top;\n",
       "    }\n",
       "\n",
       "    .dataframe thead th {\n",
       "        text-align: right;\n",
       "    }\n",
       "</style>\n",
       "<table border=\"1\" class=\"dataframe\">\n",
       "  <thead>\n",
       "    <tr style=\"text-align: right;\">\n",
       "      <th></th>\n",
       "      <th>Venues</th>\n",
       "      <th>Total</th>\n",
       "    </tr>\n",
       "  </thead>\n",
       "  <tbody>\n",
       "    <tr>\n",
       "      <th>0</th>\n",
       "      <td>Bakery</td>\n",
       "      <td>3</td>\n",
       "    </tr>\n",
       "    <tr>\n",
       "      <th>1</th>\n",
       "      <td>Bar/Restaurant</td>\n",
       "      <td>17</td>\n",
       "    </tr>\n",
       "    <tr>\n",
       "      <th>2</th>\n",
       "      <td>Café/Snacks</td>\n",
       "      <td>5</td>\n",
       "    </tr>\n",
       "    <tr>\n",
       "      <th>3</th>\n",
       "      <td>Entertainment</td>\n",
       "      <td>2</td>\n",
       "    </tr>\n",
       "    <tr>\n",
       "      <th>4</th>\n",
       "      <td>Fitness</td>\n",
       "      <td>2</td>\n",
       "    </tr>\n",
       "    <tr>\n",
       "      <th>5</th>\n",
       "      <td>Nightlife</td>\n",
       "      <td>1</td>\n",
       "    </tr>\n",
       "    <tr>\n",
       "      <th>6</th>\n",
       "      <td>Other</td>\n",
       "      <td>1</td>\n",
       "    </tr>\n",
       "    <tr>\n",
       "      <th>7</th>\n",
       "      <td>Store</td>\n",
       "      <td>1</td>\n",
       "    </tr>\n",
       "    <tr>\n",
       "      <th>8</th>\n",
       "      <td>Lottery</td>\n",
       "      <td>0</td>\n",
       "    </tr>\n",
       "    <tr>\n",
       "      <th>9</th>\n",
       "      <td>Market</td>\n",
       "      <td>0</td>\n",
       "    </tr>\n",
       "    <tr>\n",
       "      <th>10</th>\n",
       "      <td>Pet</td>\n",
       "      <td>0</td>\n",
       "    </tr>\n",
       "    <tr>\n",
       "      <th>11</th>\n",
       "      <td>Pharmacy</td>\n",
       "      <td>0</td>\n",
       "    </tr>\n",
       "  </tbody>\n",
       "</table>\n",
       "</div>"
      ],
      "text/plain": [
       "            Venues  Total\n",
       "0           Bakery      3\n",
       "1   Bar/Restaurant     17\n",
       "2      Café/Snacks      5\n",
       "3    Entertainment      2\n",
       "4          Fitness      2\n",
       "5        Nightlife      1\n",
       "6            Other      1\n",
       "7            Store      1\n",
       "8          Lottery      0\n",
       "9           Market      0\n",
       "10             Pet      0\n",
       "11        Pharmacy      0"
      ]
     },
     "execution_count": 44,
     "metadata": {},
     "output_type": "execute_result"
    }
   ],
   "source": [
    "jurereoeste = jurereoeste.append({'Venues':'Lottery', 'Total':0}, ignore_index=True)\n",
    "jurereoeste = jurereoeste.append({'Venues':'Market', 'Total':0}, ignore_index=True)\n",
    "jurereoeste = jurereoeste.append({'Venues':'Pet', 'Total':0}, ignore_index=True)\n",
    "jurereoeste = jurereoeste.append({'Venues':'Pharmacy', 'Total':0}, ignore_index=True)\n",
    "jurereoeste"
   ]
  },
  {
   "cell_type": "code",
   "execution_count": 45,
   "metadata": {},
   "outputs": [
    {
     "name": "stdout",
     "output_type": "stream",
     "text": [
      "The value Bakery is ok\n",
      "The value Bar/Restaurant is ok\n",
      "The value Café/Snacks is ok\n",
      "Ops! We don't have Entertainment\n",
      "Ops! We don't have Fitness\n",
      "The value Lottery is ok\n",
      "The value Market is ok\n",
      "The value Nightlife is ok\n",
      "Ops! We don't have Other\n",
      "Ops! We don't have Pet\n",
      "The value Pharmacy is ok\n",
      "The value Store is ok\n"
     ]
    }
   ],
   "source": [
    "complete(canasvieiras)"
   ]
  },
  {
   "cell_type": "code",
   "execution_count": 46,
   "metadata": {},
   "outputs": [
    {
     "data": {
      "text/html": [
       "<div>\n",
       "<style scoped>\n",
       "    .dataframe tbody tr th:only-of-type {\n",
       "        vertical-align: middle;\n",
       "    }\n",
       "\n",
       "    .dataframe tbody tr th {\n",
       "        vertical-align: top;\n",
       "    }\n",
       "\n",
       "    .dataframe thead th {\n",
       "        text-align: right;\n",
       "    }\n",
       "</style>\n",
       "<table border=\"1\" class=\"dataframe\">\n",
       "  <thead>\n",
       "    <tr style=\"text-align: right;\">\n",
       "      <th></th>\n",
       "      <th>Venues</th>\n",
       "      <th>Total</th>\n",
       "    </tr>\n",
       "  </thead>\n",
       "  <tbody>\n",
       "    <tr>\n",
       "      <th>0</th>\n",
       "      <td>Bakery</td>\n",
       "      <td>3</td>\n",
       "    </tr>\n",
       "    <tr>\n",
       "      <th>1</th>\n",
       "      <td>Bar/Restaurant</td>\n",
       "      <td>27</td>\n",
       "    </tr>\n",
       "    <tr>\n",
       "      <th>2</th>\n",
       "      <td>Café/Snacks</td>\n",
       "      <td>7</td>\n",
       "    </tr>\n",
       "    <tr>\n",
       "      <th>3</th>\n",
       "      <td>Lottery</td>\n",
       "      <td>1</td>\n",
       "    </tr>\n",
       "    <tr>\n",
       "      <th>4</th>\n",
       "      <td>Market</td>\n",
       "      <td>5</td>\n",
       "    </tr>\n",
       "    <tr>\n",
       "      <th>5</th>\n",
       "      <td>Nightlife</td>\n",
       "      <td>1</td>\n",
       "    </tr>\n",
       "    <tr>\n",
       "      <th>6</th>\n",
       "      <td>Pharmacy</td>\n",
       "      <td>1</td>\n",
       "    </tr>\n",
       "    <tr>\n",
       "      <th>7</th>\n",
       "      <td>Store</td>\n",
       "      <td>2</td>\n",
       "    </tr>\n",
       "    <tr>\n",
       "      <th>8</th>\n",
       "      <td>Entertainment</td>\n",
       "      <td>0</td>\n",
       "    </tr>\n",
       "    <tr>\n",
       "      <th>9</th>\n",
       "      <td>Fitness</td>\n",
       "      <td>0</td>\n",
       "    </tr>\n",
       "    <tr>\n",
       "      <th>10</th>\n",
       "      <td>Other</td>\n",
       "      <td>0</td>\n",
       "    </tr>\n",
       "    <tr>\n",
       "      <th>11</th>\n",
       "      <td>Pet</td>\n",
       "      <td>0</td>\n",
       "    </tr>\n",
       "  </tbody>\n",
       "</table>\n",
       "</div>"
      ],
      "text/plain": [
       "            Venues  Total\n",
       "0           Bakery      3\n",
       "1   Bar/Restaurant     27\n",
       "2      Café/Snacks      7\n",
       "3          Lottery      1\n",
       "4           Market      5\n",
       "5        Nightlife      1\n",
       "6         Pharmacy      1\n",
       "7            Store      2\n",
       "8    Entertainment      0\n",
       "9          Fitness      0\n",
       "10           Other      0\n",
       "11             Pet      0"
      ]
     },
     "execution_count": 46,
     "metadata": {},
     "output_type": "execute_result"
    }
   ],
   "source": [
    "canasvieiras=canasvieiras.append({'Venues':'Entertainment', 'Total':0}, ignore_index=True)\n",
    "canasvieiras=canasvieiras.append({'Venues':'Fitness', 'Total':0}, ignore_index=True)\n",
    "canasvieiras=canasvieiras.append({'Venues':'Other', 'Total':0}, ignore_index=True)\n",
    "canasvieiras=canasvieiras.append({'Venues':'Pet', 'Total':0}, ignore_index=True)\n",
    "canasvieiras"
   ]
  },
  {
   "cell_type": "code",
   "execution_count": 47,
   "metadata": {},
   "outputs": [
    {
     "name": "stdout",
     "output_type": "stream",
     "text": [
      "The value Bakery is ok\n",
      "The value Bar/Restaurant is ok\n",
      "Ops! We don't have Café/Snacks\n",
      "The value Entertainment is ok\n",
      "Ops! We don't have Fitness\n",
      "Ops! We don't have Lottery\n",
      "The value Market is ok\n",
      "Ops! We don't have Nightlife\n",
      "Ops! We don't have Other\n",
      "The value Pet is ok\n",
      "Ops! We don't have Pharmacy\n",
      "Ops! We don't have Store\n"
     ]
    }
   ],
   "source": [
    "complete(cachoeiradobomjesus)"
   ]
  },
  {
   "cell_type": "code",
   "execution_count": 48,
   "metadata": {},
   "outputs": [
    {
     "data": {
      "text/html": [
       "<div>\n",
       "<style scoped>\n",
       "    .dataframe tbody tr th:only-of-type {\n",
       "        vertical-align: middle;\n",
       "    }\n",
       "\n",
       "    .dataframe tbody tr th {\n",
       "        vertical-align: top;\n",
       "    }\n",
       "\n",
       "    .dataframe thead th {\n",
       "        text-align: right;\n",
       "    }\n",
       "</style>\n",
       "<table border=\"1\" class=\"dataframe\">\n",
       "  <thead>\n",
       "    <tr style=\"text-align: right;\">\n",
       "      <th></th>\n",
       "      <th>Venues</th>\n",
       "      <th>Total</th>\n",
       "    </tr>\n",
       "  </thead>\n",
       "  <tbody>\n",
       "    <tr>\n",
       "      <th>0</th>\n",
       "      <td>Bakery</td>\n",
       "      <td>1</td>\n",
       "    </tr>\n",
       "    <tr>\n",
       "      <th>1</th>\n",
       "      <td>Bar/Restaurant</td>\n",
       "      <td>3</td>\n",
       "    </tr>\n",
       "    <tr>\n",
       "      <th>2</th>\n",
       "      <td>Entertainment</td>\n",
       "      <td>1</td>\n",
       "    </tr>\n",
       "    <tr>\n",
       "      <th>3</th>\n",
       "      <td>Market</td>\n",
       "      <td>2</td>\n",
       "    </tr>\n",
       "    <tr>\n",
       "      <th>4</th>\n",
       "      <td>Pet</td>\n",
       "      <td>1</td>\n",
       "    </tr>\n",
       "    <tr>\n",
       "      <th>5</th>\n",
       "      <td>Café/Snacks</td>\n",
       "      <td>0</td>\n",
       "    </tr>\n",
       "    <tr>\n",
       "      <th>6</th>\n",
       "      <td>Fitness</td>\n",
       "      <td>0</td>\n",
       "    </tr>\n",
       "    <tr>\n",
       "      <th>7</th>\n",
       "      <td>Lottery</td>\n",
       "      <td>0</td>\n",
       "    </tr>\n",
       "    <tr>\n",
       "      <th>8</th>\n",
       "      <td>Nightlife</td>\n",
       "      <td>0</td>\n",
       "    </tr>\n",
       "    <tr>\n",
       "      <th>9</th>\n",
       "      <td>Other</td>\n",
       "      <td>0</td>\n",
       "    </tr>\n",
       "    <tr>\n",
       "      <th>10</th>\n",
       "      <td>Pharmacy</td>\n",
       "      <td>0</td>\n",
       "    </tr>\n",
       "    <tr>\n",
       "      <th>11</th>\n",
       "      <td>Store</td>\n",
       "      <td>0</td>\n",
       "    </tr>\n",
       "  </tbody>\n",
       "</table>\n",
       "</div>"
      ],
      "text/plain": [
       "            Venues  Total\n",
       "0           Bakery      1\n",
       "1   Bar/Restaurant      3\n",
       "2    Entertainment      1\n",
       "3           Market      2\n",
       "4              Pet      1\n",
       "5      Café/Snacks      0\n",
       "6          Fitness      0\n",
       "7          Lottery      0\n",
       "8        Nightlife      0\n",
       "9            Other      0\n",
       "10        Pharmacy      0\n",
       "11           Store      0"
      ]
     },
     "execution_count": 48,
     "metadata": {},
     "output_type": "execute_result"
    }
   ],
   "source": [
    "cachoeiradobomjesus=cachoeiradobomjesus.append({'Venues':'Café/Snacks', 'Total':0}, ignore_index=True)\n",
    "cachoeiradobomjesus=cachoeiradobomjesus.append({'Venues':'Fitness', 'Total':0}, ignore_index=True)\n",
    "cachoeiradobomjesus=cachoeiradobomjesus.append({'Venues':'Lottery', 'Total':0}, ignore_index=True)\n",
    "cachoeiradobomjesus=cachoeiradobomjesus.append({'Venues':'Nightlife', 'Total':0}, ignore_index=True)\n",
    "cachoeiradobomjesus=cachoeiradobomjesus.append({'Venues':'Other', 'Total':0}, ignore_index=True)\n",
    "cachoeiradobomjesus=cachoeiradobomjesus.append({'Venues':'Pharmacy', 'Total':0}, ignore_index=True)\n",
    "cachoeiradobomjesus=cachoeiradobomjesus.append({'Venues':'Store', 'Total':0}, ignore_index=True)\n",
    "cachoeiradobomjesus"
   ]
  },
  {
   "cell_type": "code",
   "execution_count": 49,
   "metadata": {},
   "outputs": [
    {
     "name": "stdout",
     "output_type": "stream",
     "text": [
      "Ops! We don't have Bakery\n",
      "Ops! We don't have Bar/Restaurant\n",
      "Ops! We don't have Café/Snacks\n",
      "Ops! We don't have Entertainment\n",
      "The value Fitness is ok\n",
      "Ops! We don't have Lottery\n",
      "Ops! We don't have Market\n",
      "Ops! We don't have Nightlife\n",
      "Ops! We don't have Other\n",
      "Ops! We don't have Pet\n",
      "Ops! We don't have Pharmacy\n",
      "Ops! We don't have Store\n"
     ]
    }
   ],
   "source": [
    "complete(pontadascanas)"
   ]
  },
  {
   "cell_type": "code",
   "execution_count": 50,
   "metadata": {},
   "outputs": [
    {
     "data": {
      "text/html": [
       "<div>\n",
       "<style scoped>\n",
       "    .dataframe tbody tr th:only-of-type {\n",
       "        vertical-align: middle;\n",
       "    }\n",
       "\n",
       "    .dataframe tbody tr th {\n",
       "        vertical-align: top;\n",
       "    }\n",
       "\n",
       "    .dataframe thead th {\n",
       "        text-align: right;\n",
       "    }\n",
       "</style>\n",
       "<table border=\"1\" class=\"dataframe\">\n",
       "  <thead>\n",
       "    <tr style=\"text-align: right;\">\n",
       "      <th></th>\n",
       "      <th>Venues</th>\n",
       "      <th>Total</th>\n",
       "    </tr>\n",
       "  </thead>\n",
       "  <tbody>\n",
       "    <tr>\n",
       "      <th>0</th>\n",
       "      <td>Fitness</td>\n",
       "      <td>1</td>\n",
       "    </tr>\n",
       "    <tr>\n",
       "      <th>1</th>\n",
       "      <td>Bakery</td>\n",
       "      <td>0</td>\n",
       "    </tr>\n",
       "    <tr>\n",
       "      <th>2</th>\n",
       "      <td>Bar/Restaurant</td>\n",
       "      <td>0</td>\n",
       "    </tr>\n",
       "    <tr>\n",
       "      <th>3</th>\n",
       "      <td>Café/Snacks</td>\n",
       "      <td>0</td>\n",
       "    </tr>\n",
       "    <tr>\n",
       "      <th>4</th>\n",
       "      <td>Entertainment</td>\n",
       "      <td>0</td>\n",
       "    </tr>\n",
       "    <tr>\n",
       "      <th>5</th>\n",
       "      <td>Lottery</td>\n",
       "      <td>0</td>\n",
       "    </tr>\n",
       "    <tr>\n",
       "      <th>6</th>\n",
       "      <td>Market</td>\n",
       "      <td>0</td>\n",
       "    </tr>\n",
       "    <tr>\n",
       "      <th>7</th>\n",
       "      <td>Nightlife</td>\n",
       "      <td>0</td>\n",
       "    </tr>\n",
       "    <tr>\n",
       "      <th>8</th>\n",
       "      <td>Other</td>\n",
       "      <td>0</td>\n",
       "    </tr>\n",
       "    <tr>\n",
       "      <th>9</th>\n",
       "      <td>Pet</td>\n",
       "      <td>0</td>\n",
       "    </tr>\n",
       "    <tr>\n",
       "      <th>10</th>\n",
       "      <td>Pharmacy</td>\n",
       "      <td>0</td>\n",
       "    </tr>\n",
       "    <tr>\n",
       "      <th>11</th>\n",
       "      <td>Store</td>\n",
       "      <td>0</td>\n",
       "    </tr>\n",
       "  </tbody>\n",
       "</table>\n",
       "</div>"
      ],
      "text/plain": [
       "            Venues  Total\n",
       "0          Fitness      1\n",
       "1           Bakery      0\n",
       "2   Bar/Restaurant      0\n",
       "3      Café/Snacks      0\n",
       "4    Entertainment      0\n",
       "5          Lottery      0\n",
       "6           Market      0\n",
       "7        Nightlife      0\n",
       "8            Other      0\n",
       "9              Pet      0\n",
       "10        Pharmacy      0\n",
       "11           Store      0"
      ]
     },
     "execution_count": 50,
     "metadata": {},
     "output_type": "execute_result"
    }
   ],
   "source": [
    "pontadascanas=pontadascanas.append({'Venues':'Bakery', 'Total':0}, ignore_index=True)\n",
    "pontadascanas=pontadascanas.append({'Venues':'Bar/Restaurant', 'Total':0}, ignore_index=True)\n",
    "pontadascanas=pontadascanas.append({'Venues':'Café/Snacks', 'Total':0}, ignore_index=True)\n",
    "pontadascanas=pontadascanas.append({'Venues':'Entertainment', 'Total':0}, ignore_index=True)\n",
    "pontadascanas=pontadascanas.append({'Venues':'Lottery', 'Total':0}, ignore_index=True)\n",
    "pontadascanas=pontadascanas.append({'Venues':'Market', 'Total':0}, ignore_index=True)\n",
    "pontadascanas=pontadascanas.append({'Venues':'Nightlife', 'Total':0}, ignore_index=True)\n",
    "pontadascanas=pontadascanas.append({'Venues':'Other', 'Total':0}, ignore_index=True)\n",
    "pontadascanas=pontadascanas.append({'Venues':'Pet', 'Total':0}, ignore_index=True)\n",
    "pontadascanas=pontadascanas.append({'Venues':'Pharmacy', 'Total':0}, ignore_index=True)\n",
    "pontadascanas=pontadascanas.append({'Venues':'Store', 'Total':0}, ignore_index=True)\n",
    "pontadascanas"
   ]
  },
  {
   "cell_type": "markdown",
   "metadata": {},
   "source": [
    "Now you're probably thinking: \"She could have done another funtion to append all those categories!\"\n",
    "Well, I'm a \"recent programer\", so it is not so easy to me...that's why I decided to just add everything manually."
   ]
  },
  {
   "cell_type": "markdown",
   "metadata": {},
   "source": [
    "But now this data \"speaks\": we can see in numbers how dificult can be live in a place with not so much options"
   ]
  },
  {
   "cell_type": "markdown",
   "metadata": {},
   "source": [
    "With all data normalized, we can see it again in plots"
   ]
  },
  {
   "cell_type": "markdown",
   "metadata": {},
   "source": [
    "# Looking closely the neighborhoods"
   ]
  },
  {
   "cell_type": "markdown",
   "metadata": {},
   "source": [
    "## Jurerê Leste"
   ]
  },
  {
   "cell_type": "code",
   "execution_count": 51,
   "metadata": {},
   "outputs": [
    {
     "data": {
      "image/png": "[encoded data removed]",
      "text/plain": [
       "<Figure size 720x432 with 1 Axes>"
      ]
     },
     "metadata": {
      "needs_background": "light"
     },
     "output_type": "display_data"
    }
   ],
   "source": [
    "jurerelestex = jurereleste.set_index('Venues')\n",
    "jurerelestex.plot(kind='bar', figsize=(10,6))\n",
    "plt.xlabel('Categories of Venues')\n",
    "plt.ylabel('Total')\n",
    "plt.title('Number of venues in Jurerê Leste')\n",
    "plt.show()"
   ]
  },
  {
   "cell_type": "markdown",
   "metadata": {},
   "source": [
    "Jurerê Leste is known as \"Traditional Jurerê\" - with lots of homes, this is a place to relax.\n",
    "The next neighborhood, Jurerê Oeste, is known as a \"chic place\", full with rich homes and some nightclubs.\n",
    "But still being a tourist destination, the restaurants are the trend."
   ]
  },
  {
   "cell_type": "markdown",
   "metadata": {},
   "source": [
    "## Jurerê Oeste"
   ]
  },
  {
   "cell_type": "code",
   "execution_count": 52,
   "metadata": {},
   "outputs": [
    {
     "data": {
      "image/png": "[encoded data removed]",
      "text/plain": [
       "<Figure size 720x432 with 1 Axes>"
      ]
     },
     "metadata": {
      "needs_background": "light"
     },
     "output_type": "display_data"
    }
   ],
   "source": [
    "jurereoestex = jurereoeste.set_index('Venues')\n",
    "jurereoestex.plot(kind='bar', figsize=(10,6), color='red'\n",
    "                 )\n",
    "plt.xlabel('Categories of Venues')\n",
    "plt.ylabel('Total')\n",
    "plt.title('Number of venues in Jurerê Oeste')\n",
    "plt.show()"
   ]
  },
  {
   "cell_type": "markdown",
   "metadata": {},
   "source": [
    "Seems the same? But is not!\n",
    "Jurerê Oeste, the chic and rich neighbor, shows almost the same number of restaurants (again, tourist destination!), but you can see the rich nightlife and some stores. Almost the same, but with a clear biases showed by the kinds of venues."
   ]
  },
  {
   "cell_type": "markdown",
   "metadata": {},
   "source": [
    "## Comparing Jurerê Leste and Jurerê Oeste\n"
   ]
  },
  {
   "cell_type": "code",
   "execution_count": 53,
   "metadata": {},
   "outputs": [
    {
     "data": {
      "text/plain": [
       "<matplotlib.legend.Legend at 0x7f6fc0f0aeb8>"
      ]
     },
     "execution_count": 53,
     "metadata": {},
     "output_type": "execute_result"
    },
    {
     "data": {
      "image/png": "[encoded data removed]",
      "text/plain": [
       "<Figure size 1008x576 with 1 Axes>"
      ]
     },
     "metadata": {
      "needs_background": "light"
     },
     "output_type": "display_data"
    }
   ],
   "source": [
    "#Jurere Leste\n",
    "ax0 = jurereleste.plot(kind='scatter',\n",
    "                       x='Venues',\n",
    "                       y='Total',\n",
    "                       figsize=(14,8),\n",
    "                       alpha=0.7,\n",
    "                       color='blue',\n",
    "                       s=jurereleste['Total']*100\n",
    "                        )\n",
    "\n",
    "#Jurerê Oeste\n",
    "ax1 = jurereoeste.plot(kind='scatter',\n",
    "                       x='Venues',\n",
    "                       y='Total',\n",
    "                       figsize=(14,8),\n",
    "                       alpha=0.7,\n",
    "                       color='red',\n",
    "                       s=jurereoeste['Total']*100,\n",
    "                       ax = ax0\n",
    "                        )\n",
    "ax0.set_title('Comparing Jurerê Leste and Jurerê Oeste')\n",
    "ax0.legend(['Jurerê Leste', 'Jurerê Oeste'], loc='upper right', fontsize='x-large')"
   ]
  },
  {
   "cell_type": "markdown",
   "metadata": {},
   "source": [
    "Comparing the two neighborhoods side by side, you can understand the influence of each bias (glamour or housing), but also the influence of the idea of a tourist destination.\n",
    "With almost the same quantities of restaurants and cafés, we can see also some of the services needed that can be verified in one, but not in the other.\n",
    "The prior completion of the analysis shows a special need for laundry and lottery. \n",
    "Even Jurerê Leste showing a lack of markets or pharmacies is natural that people who live in one neighborhood move a few kilometers to see their needs achieved."
   ]
  },
  {
   "cell_type": "markdown",
   "metadata": {},
   "source": [
    "## Canasvieiras"
   ]
  },
  {
   "cell_type": "code",
   "execution_count": 54,
   "metadata": {},
   "outputs": [
    {
     "data": {
      "image/png": "[encoded data removed]",
      "text/plain": [
       "<Figure size 720x432 with 1 Axes>"
      ]
     },
     "metadata": {
      "needs_background": "light"
     },
     "output_type": "display_data"
    }
   ],
   "source": [
    "canasvieirasx = canasvieiras.set_index('Venues')\n",
    "canasvieirasx.plot(kind='bar', figsize=(10,6), color='green'\n",
    "                 )\n",
    "plt.xlabel('Categories of Venues')\n",
    "plt.ylabel('Total')\n",
    "plt.title('Number of venues in Canasvieiras')\n",
    "plt.show()"
   ]
  },
  {
   "cell_type": "markdown",
   "metadata": {},
   "source": [
    "Canasvieiras is known as one of the most popular tourist destinations - especially for Argentinian and Uruguayan tourists.\n",
    "This place, with apparently more options, shows the same pattern: a lot of restaurants, but with some lack of other options.\n",
    "The proximity with Cachoeira Do Bom Jesus can be, for both places, a good complement."
   ]
  },
  {
   "cell_type": "markdown",
   "metadata": {},
   "source": [
    "## Cachoeira do Bom Jesus"
   ]
  },
  {
   "cell_type": "code",
   "execution_count": 55,
   "metadata": {},
   "outputs": [
    {
     "data": {
      "image/png": "[encoded data removed]",
      "text/plain": [
       "<Figure size 720x432 with 1 Axes>"
      ]
     },
     "metadata": {
      "needs_background": "light"
     },
     "output_type": "display_data"
    }
   ],
   "source": [
    "cachoeiradobomjesusx = cachoeiradobomjesus.set_index('Venues')\n",
    "cachoeiradobomjesusx.plot(kind='bar', figsize=(10,6), color='orange'\n",
    "                 )\n",
    "plt.xlabel('Categories of Venues')\n",
    "plt.ylabel('Total')\n",
    "plt.title('Number of venues in Cachoeira do Bom Jesus')\n",
    "plt.show()"
   ]
  },
  {
   "cell_type": "markdown",
   "metadata": {},
   "source": [
    "Cachoeira do Bom Jesus is known by almost two avenues with business and lots of houses. This, as we could imagine, reflects in a lack of different businesses.\n",
    "Again, is the restaurants the \"star\" of the neighborhood. A technological park (\"Sapiens Park\") with more than 2 thousand workers affects also the crowds of restaurants: as everyone needs a place for lunch, is natural that business people decide to open restaurants."
   ]
  },
  {
   "cell_type": "markdown",
   "metadata": {},
   "source": [
    "## Comparing Canasvieiras and Cachoeira do Bom Jesus"
   ]
  },
  {
   "cell_type": "code",
   "execution_count": 56,
   "metadata": {},
   "outputs": [
    {
     "data": {
      "text/plain": [
       "<matplotlib.legend.Legend at 0x7f6fc0df2438>"
      ]
     },
     "execution_count": 56,
     "metadata": {},
     "output_type": "execute_result"
    },
    {
     "data": {
      "image/png": "[encoded data removed]",
      "text/plain": [
       "<Figure size 1008x576 with 1 Axes>"
      ]
     },
     "metadata": {
      "needs_background": "light"
     },
     "output_type": "display_data"
    }
   ],
   "source": [
    "#Canasvieiras\n",
    "ax0 = canasvieiras.plot(kind='scatter',\n",
    "                       x='Venues',\n",
    "                       y='Total',\n",
    "                       figsize=(14,8),\n",
    "                       alpha=0.7,\n",
    "                       color='green',\n",
    "                       s=canasvieiras['Total']*100\n",
    "                        )\n",
    "\n",
    "#Cachoeira do Bom Jesus\n",
    "ax1 = cachoeiradobomjesus.plot(kind='scatter',\n",
    "                       x='Venues',\n",
    "                       y='Total',\n",
    "                       figsize=(14,8),\n",
    "                       alpha=0.7,\n",
    "                       color='orange',\n",
    "                       s=cachoeiradobomjesus['Total']*100,\n",
    "                       ax = ax0\n",
    "                        )\n",
    "ax0.set_title('Comparing Canasvieiras and Cachoeira do Bom Jesus')\n",
    "ax0.legend(['Canasvieiras', 'Cachoeira do Bom Jesus'], loc='upper right', fontsize='x-large')"
   ]
  },
  {
   "cell_type": "markdown",
   "metadata": {},
   "source": [
    "Canasvieiras being a more \"central\" neighborhood shows more options. Cachoeira do Bom Jesus, the next neighborhood, have fewer options but, as the comparison with JurerêLeste-Jurerê Oeste, can take some advantages of the proximity. \n",
    "By the way, the proximity is one of the factors that complement both neighborhoods: only three kinds of venues are shared between them. "
   ]
  },
  {
   "cell_type": "markdown",
   "metadata": {},
   "source": [
    "## Ponta das Canas"
   ]
  },
  {
   "cell_type": "code",
   "execution_count": 57,
   "metadata": {},
   "outputs": [
    {
     "data": {
      "image/png": "[encoded data removed]",
      "text/plain": [
       "<Figure size 720x432 with 1 Axes>"
      ]
     },
     "metadata": {
      "needs_background": "light"
     },
     "output_type": "display_data"
    }
   ],
   "source": [
    "pontadascanasx = pontadascanas.set_index('Venues')\n",
    "pontadascanasx.plot(kind='bar', figsize=(10,6), color='purple'\n",
    "                 )\n",
    "plt.xlabel('Categories of Venues')\n",
    "plt.ylabel('Total')\n",
    "plt.title('Number of venues in Ponta das Canas')\n",
    "plt.show()"
   ]
  },
  {
   "cell_type": "markdown",
   "metadata": {},
   "source": [
    "Ponta das Canas shows only one kind of venue: fitness.\n",
    "As a continuity of the neighborhood of Cachoeira Do Bom Jesus, Ponta das Canas don't have a huge portion of territory, which could explain the lack of venues. "
   ]
  },
  {
   "cell_type": "markdown",
   "metadata": {},
   "source": [
    "## Comparing Ponta das Canas with Cachoeira do Bom Jesus"
   ]
  },
  {
   "cell_type": "code",
   "execution_count": 58,
   "metadata": {},
   "outputs": [
    {
     "data": {
      "text/plain": [
       "<matplotlib.legend.Legend at 0x7f6fc0a6ec50>"
      ]
     },
     "execution_count": 58,
     "metadata": {},
     "output_type": "execute_result"
    },
    {
     "data": {
      "image/png": "[encoded data removed]",
      "text/plain": [
       "<Figure size 1008x576 with 1 Axes>"
      ]
     },
     "metadata": {
      "needs_background": "light"
     },
     "output_type": "display_data"
    }
   ],
   "source": [
    "#Ponta das Canas\n",
    "ax0 = pontadascanas.plot(kind='scatter',\n",
    "                       x='Venues',\n",
    "                       y='Total',\n",
    "                       figsize=(14,8),\n",
    "                       alpha=0.7,\n",
    "                       color='purple',\n",
    "                       s=pontadascanas['Total']*100\n",
    "                        )\n",
    "\n",
    "#Cachoeira do Bom Jesus\n",
    "ax1 = cachoeiradobomjesus.plot(kind='scatter',\n",
    "                       x='Venues',\n",
    "                       y='Total',\n",
    "                       figsize=(14,8),\n",
    "                       alpha=0.7,\n",
    "                       color='orange',\n",
    "                       s=cachoeiradobomjesus['Total']*100,\n",
    "                       ax = ax0\n",
    "                        )\n",
    "ax0.set_title('Comparing Ponta das Canas and Cachoeira do Bom Jesus')\n",
    "ax0.legend(['Ponta das Canas', 'Cachoeira do Bom Jesus'], loc='upper right', fontsize='x-large')"
   ]
  },
  {
   "cell_type": "markdown",
   "metadata": {},
   "source": [
    "Both residential and small neighborhoods, Ponta das Canas and Cachoeira Do Bom Jesus present a lack of businesses. It could show a dependency of Canasvieiras for some needs."
   ]
  },
  {
   "cell_type": "markdown",
   "metadata": {},
   "source": [
    "## Comparing all neighborhoods"
   ]
  },
  {
   "cell_type": "code",
   "execution_count": 66,
   "metadata": {},
   "outputs": [
    {
     "data": {
      "text/plain": [
       "<matplotlib.legend.Legend at 0x7f6fc0d43668>"
      ]
     },
     "execution_count": 66,
     "metadata": {},
     "output_type": "execute_result"
    },
    {
     "data": {
      "image/png": "[encoded data removed]",
      "text/plain": [
       "<Figure size 1008x576 with 1 Axes>"
      ]
     },
     "metadata": {
      "needs_background": "light"
     },
     "output_type": "display_data"
    }
   ],
   "source": [
    "#Jurere Leste\n",
    "ax0 = jurereleste.plot(kind='scatter',\n",
    "                       x='Venues',\n",
    "                       y='Total',\n",
    "                       figsize=(14,8),\n",
    "                       alpha=0.7,\n",
    "                       color='blue',\n",
    "                       s=jurereleste['Total']*100\n",
    "                        )\n",
    "\n",
    "#Jurerê Oeste\n",
    "ax1 = jurereoeste.plot(kind='scatter',\n",
    "                       x='Venues',\n",
    "                       y='Total',\n",
    "                       figsize=(14,8),\n",
    "                       alpha=0.7,\n",
    "                       color='red',\n",
    "                       s=jurereoeste['Total']*100,\n",
    "                       ax = ax0\n",
    "                        )\n",
    "\n",
    "#Canasvieiras\n",
    "ax2 = canasvieiras.plot(kind='scatter',\n",
    "                       x='Venues',\n",
    "                       y='Total',\n",
    "                       figsize=(14,8),\n",
    "                       alpha=0.7,\n",
    "                       color='green',\n",
    "                       s=canasvieiras['Total']*100,\n",
    "                       ax = ax0\n",
    "                        )\n",
    "\n",
    "#Cachoeira do Bom Jesus\n",
    "ax3 = cachoeiradobomjesus.plot(kind='scatter',\n",
    "                       x='Venues',\n",
    "                       y='Total',\n",
    "                       figsize=(14,8),\n",
    "                       alpha=0.7,\n",
    "                       color='orange',\n",
    "                       s=cachoeiradobomjesus['Total']*100,\n",
    "                       ax = ax0\n",
    "                        )\n",
    "#Ponta das Canas\n",
    "ax4 = pontadascanas.plot(kind='scatter',\n",
    "                       x='Venues',\n",
    "                       y='Total',\n",
    "                       figsize=(14,8),\n",
    "                       alpha=0.7,\n",
    "                       color='purple',\n",
    "                       s=pontadascanas['Total']*100,\n",
    "                       ax = ax0\n",
    "                        )\n",
    "\n",
    "ax0.set_title('Comparing All Neighborhoods')\n",
    "ax0.legend(['Jurerê Leste', 'Jurerê Oeste', 'Canasvieiras', 'Cachoeira do Bom Jesus', 'Ponta das Canas'], loc='upper right', fontsize='x-large')"
   ]
  },
  {
   "cell_type": "markdown",
   "metadata": {},
   "source": [
    "Even with a clear tendency to restaurants in practically all neighbors, is right to say that some of the other services could be difficult to find in a short distance.\n",
    "Some of them seem even unique in all areas. This shows a decisive necessity of new business, especially for those who actually live in these neighborhoods."
   ]
  },
  {
   "cell_type": "markdown",
   "metadata": {},
   "source": [
    "# Conclusion"
   ]
  },
  {
   "cell_type": "markdown",
   "metadata": {},
   "source": [
    "## About the business opportunities and needs in Florianópolis - North Shore"
   ]
  },
  {
   "cell_type": "markdown",
   "metadata": {},
   "source": [
    "Based on the analyzed data, we can conclude:\n",
    "\n",
    "1. Ponta das Canas, even being a very small neighborhood, needs many more businesses. We could only find a gym. Basic needs as markets, grocery store, pharmacies, and bakeries can be a good option in this neighborhood.\n",
    "\n",
    "2. Enough with restaurants and bars! We know that restaurants in a place that are a tourist destination (and also have big technology companies nearby) is an obvious choice - but that is saturated already.\n",
    "\n",
    "3. Bakeries are in a good number in the neighborhoods. But since Cachoeira do Bom Jesus just have one and Ponta das Canas have none, could be a great opportunity to open a bakery in Ponta das Canas. It would be accessible also to people who live in Cachoeira do Bom Jesus.\n",
    "\n",
    "4. The category \"Café/Snacks\" is highly represented in Jurerê (both Leste and Oeste) and Canasvieiras. Even knowing that the distance from Canasvieiras to Cachoeira do Bom Jesus and Ponta das Canas are not so big, a coffee shop in those neighborhoods can represent an interesting business project.\n",
    "\n",
    "5. The options of entertainment are poor, especially if you are thinking about a family, but the beautiful beaches are the big stars of those neighborhoods, so can be risky to invest in this kind of venue. \n",
    "\n",
    "6. Gyms and fitness centers are accessible in Jurerê Leste and Oeste, as in Ponta das Canas. Canasvieiras and Cachoeira do Bom Jesus are served for their neighbors, but a fitness center in the \"central\" part of Canasvieiras can be a good match!\n",
    "\n",
    "7. As we already told, lotteries in Brazil represent more than just gamble. His meaning for the community, that can do easily some bank action in the lottery spaces, represents that they are very utile. Since we have just one lottery in Canasvieiras, this can be one of the best business opportunities.\n",
    "\n",
    "8. The region of Jurerê Leste and Jurerê Oeste just have two businesses in the \"market\" category. It's approximately 2,58 km² (27.750.257,61 ft²) with just two markets. It's a good opportunity.\n",
    "\n",
    "9. Nightclubs and lounge spaces are closing in the wintertime. We have only two options: one in Canasvieiras and one in Jurerê Oeste. Since this can be a risky business to open all year, it would need more data to understand if it is a good opportunity.\n",
    "\n",
    "10. Pet shops are also scarce: with one in Cachoeira do Bom Jesus and another in Jurerê Leste, we can imagine that this \"central points\" could be a good place to meet the demand. But is still a good opportunity for more research and plan a new business.\n",
    "\n",
    "11. Pharmacies are one of those businesses that everyone someday will need to reach. In Brazil, only pharmacies can sell medicine. So, having just two (one in Canasvieiras and one in Jurerê Leste) show a lack. It can be a good business opportunity - even needing a pharmacist to open one.\n",
    "\n",
    "12. Stores can fill the necessities of everyone and make life easier for anyone who lives in the North Shore of Florianópolis. But we only could find three (two in Canasvieiras and one in Jurerê Oeste). Just this topic can be the origin of another big analysis, but shows a need for new stores and also a great business opportunity."
   ]
  },
  {
   "cell_type": "markdown",
   "metadata": {},
   "source": [
    "## About the study"
   ]
  },
  {
   "cell_type": "markdown",
   "metadata": {},
   "source": [
    "The choice in the methodology field was right. The data could assist with ideas for new business, even the analysis was not profound. But Foursquare data does not seem trustworthy. \n",
    "Analyzing the data, was clear the uncertainty about the accuracy of the information. Living in one of those neighborhoods, I could remember more business than Foursquare could give me. \n",
    "It's not a bad idea to see the Foursquare data (since they are available for free). \n",
    "If I was hired for this analysis, I would try other APIs and resources to give me more information. "
   ]
  }
 ],
 "metadata": {
  "kernelspec": {
   "display_name": "Python",
   "language": "python",
   "name": "conda-env-python-py"
  },
  "language_info": {
   "codemirror_mode": {
    "name": "ipython",
    "version": 3
   },
   "file_extension": ".py",
   "mimetype": "text/x-python",
   "name": "python",
   "nbconvert_exporter": "python",
   "pygments_lexer": "ipython3",
   "version": "3.6.11"
  }
 },
 "nbformat": 4,
 "nbformat_minor": 4
}
